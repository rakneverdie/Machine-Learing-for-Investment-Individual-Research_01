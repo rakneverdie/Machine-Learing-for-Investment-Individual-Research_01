{
 "cells": [
  {
   "cell_type": "code",
   "execution_count": 6,
   "id": "83f33a29",
   "metadata": {},
   "outputs": [],
   "source": [
    "#LSTM for Long/Short Trading Individual asset tuning and Portfolio Merton Dynamic Portfolio & Tangent Portfolio\n",
    "#PC Spec  | CPU: Ryzen9600x , GPU: 4070ti Super | from this setting Process about 1 Hours \n",
    "\n",
    "\n",
    "from __future__ import annotations\n",
    "import os\n",
    "from typing import Dict, List, Optional, Tuple\n",
    "import numpy as np\n",
    "import pandas as pd\n",
    "import torch\n",
    "import torch.nn as nn\n",
    "from sklearn.preprocessing import MinMaxScaler\n",
    "from tvDatafeed import TvDatafeed, Interval\n",
    "import plotly.graph_objects as go\n",
    "from plotly.subplots import make_subplots\n",
    "import optuna\n",
    "from optuna.samplers import TPESampler\n",
    "from optuna.pruners import MedianPruner\n",
    "from dataclasses import dataclass\n",
    "import cvxpy as cp\n",
    "\n",
    "\n",
    "def rsi(series: pd.Series, period: int = 14) -> pd.Series:\n",
    "    delta = series.diff()\n",
    "    gain = delta.clip(lower=0).ewm(alpha=1 / period, adjust=False).mean()\n",
    "    loss = (-delta.clip(upper=0)).ewm(alpha=1 / period, adjust=False).mean()\n",
    "    rs = gain / (loss + 1e-12)\n",
    "    out = 100 - (100 / (1 + rs))\n",
    "    return out.fillna(50.0)\n",
    "\n",
    "\n",
    "def max_drawdown_from_equity(equity: pd.Series) -> float:\n",
    "    roll_max = equity.cummax()\n",
    "    dd = equity / roll_max - 1.0\n",
    "    return float(dd.min())  # negative value\n",
    "\n"
   ]
  },
  {
   "cell_type": "code",
   "execution_count": 7,
   "id": "e3b0b932",
   "metadata": {},
   "outputs": [],
   "source": [
    "class LSTMModel(nn.Module):\n",
    "    def __init__(self, input_size=2, hidden_layer_size=50, output_size=1, layers=1, dropout=0.0):\n",
    "        super().__init__()\n",
    "        self.lstm = nn.LSTM(\n",
    "            input_size,\n",
    "            hidden_layer_size,\n",
    "            num_layers=layers,\n",
    "            batch_first=True,\n",
    "            dropout=dropout if layers > 1 else 0.0,\n",
    "        )\n",
    "        self.fc = nn.Linear(hidden_layer_size, output_size)\n",
    "\n",
    "    def forward(self, x):\n",
    "        out, _ = self.lstm(x)  # (B, T, H)\n",
    "        y = self.fc(out[:, -1, :])  # (B, 1)\n",
    "        return y"
   ]
  },
  {
   "cell_type": "code",
   "execution_count": 8,
   "id": "088599cd",
   "metadata": {},
   "outputs": [],
   "source": [
    "class LSTMRSITradingModel:\n",
    "    def __init__(self,tickers: List[str],start_date: str,end_date: str,*,initial_balance: float = 1_000_000.0,sequence_length: int = 38,hidden_layer_size: int = 492,learning_rate: float = 0.0021,epochs: int = 10,lstm_layers: int = 1,\n",
    "        dropout: float = 0.0,tx_cost_bps: float = 10.0,long_threshold: float = 0.0,short_threshold: float = 0.0,train_frac: float = 0.7,seed: int = 42,tv_username: Optional[str] = None,tv_password: Optional[str] = None,\n",
    "        interval: Interval = Interval.in_4_hour,n_bars: int = 300,):\n",
    "\n",
    "        self.tickers = tickers\n",
    "        self.start_date = start_date\n",
    "        self.end_date = end_date\n",
    "        self.sequence_length = sequence_length\n",
    "        self.hidden_layer_size = hidden_layer_size\n",
    "        self.learning_rate = learning_rate\n",
    "        self.epochs = epochs\n",
    "        self.lstm_layers = lstm_layers\n",
    "        self.dropout = dropout\n",
    "        self.tx_cost_bps = tx_cost_bps\n",
    "        self.long_threshold = long_threshold\n",
    "        self.short_threshold = short_threshold\n",
    "        self.train_frac = train_frac\n",
    "        self.initial_balance = float(initial_balance)\n",
    "        self.tv_username = tv_username or os.getenv(\"TV_Username\")    #Replace Username Tradingview(TV)\n",
    "        self.tv_password = tv_password or os.getenv(\"TV_password\")    #Replace Password Tradingview(TV)\n",
    "        self.interval = interval\n",
    "        self.n_bars = n_bars\n",
    "        self.cash_balance = float(initial_balance)\n",
    "        self.shares_held = 0.0\n",
    "        self.portfolio_values: Dict[str, List[float]] = {t: [] for t in tickers}\n",
    "        self.portfolio_value: List[float] = []\n",
    "        self.best_params_by_asset: Dict[str, dict] = {}\n",
    "        self.best_metrics_by_asset: Dict[str, dict] = {}\n",
    "\n",
    "        self.asset_info = {\n",
    "            \"XAUUSD\": {\"stock_name\": \"Gold Spot\", \"broker\": \"OANDA\"},\n",
    "            \"XAGUSD\": {\"stock_name\": \"Silver Spot\", \"broker\": \"OANDA\"},\n",
    "            \"ZW1!\": {\"stock_name\": \"Wheat Futures\", \"broker\": \"CBOT\"},\n",
    "            \"TLI\": {\"stock_name\": \"TLI\", \"broker\": \"SET\"},\n",
    "            \"GULF\": {\"stock_name\": \"GULF\", \"broker\": \"SET\"},\n",
    "            \"KCE\": {\"stock_name\": \"KCE\", \"broker\": \"SET\"},\n",
    "            \"PTTEP\": {\"stock_name\": \"PTTEP\", \"broker\": \"SET\"},\n",
    "            \"TIPH\": {\"stock_name\": \"TIPH\", \"broker\": \"SET\"},\n",
    "            \"CPAXT\": {\"stock_name\": \"CPAXT\", \"broker\": \"SET\"},\n",
    "            \"MTI\": {\"stock_name\": \"MTI\", \"broker\": \"SET\"},\n",
    "            \"UKOIL\": {\"stock_name\": \"Brent Spot\", \"broker\": \"FXCM\"},\n",
    "            \"AOT\": {\"stock_name\": \"AOT\", \"broker\": \"SET\"},\n",
    "            \"BRN1!\": {\"stock_name\": \"Brent Futures\", \"broker\": \"ICEEUR\"},\n",
    "            \"S501!\": {\"stock_name\": \"SET50 Futures\", \"broker\": \"TFEX\"},\n",
    "        }\n",
    "\n",
    "        np.random.seed(seed)\n",
    "        torch.manual_seed(seed)\n",
    "\n",
    "        self.device = torch.device(\"cuda\" if torch.cuda.is_available() else \"cpu\")\n",
    "        print(f\"Using {'GPU' if torch.cuda.is_available() else 'CPU'}\")\n",
    "\n",
    "       \n",
    "        self.model = LSTMModel(input_size=2,hidden_layer_size=self.hidden_layer_size,output_size=1,layers=self.lstm_layers,dropout=self.dropout,).to(self.device)\n",
    "        self.criterion = nn.MSELoss()\n",
    "        self.optimizer = torch.optim.Adam(self.model.parameters(), lr=self.learning_rate)\n",
    "        self.scaler = MinMaxScaler()\n",
    "        self.data: Dict[str, pd.DataFrame] = {}\n",
    "        self.predictions: np.ndarray = np.array([])\n",
    "        self.actual_prices: np.ndarray = np.array([])\n",
    "        self.px_t_oos: np.ndarray = np.array([])\n",
    "        self.signals: np.ndarray = np.array([])\n",
    "        self.t_oos_index: Optional[pd.Index] = None\n",
    "        self.sig_colors = {1: \"#2E7D32\", 0: \"#9E9E9E\", -1: \"#C62828\"}\n",
    "        self.sig_markers = {1: \"triangle-up\", 0: \"circle\", -1: \"triangle-down\"}\n",
    "        self.line_colors = {\"actual\": \"#1565C0\", \"pred\": \"#FB8C00\", \"equity\": \"#6A1B9A\"}\n",
    "\n",
    "    def current_params(self) -> Dict[str, float]:\n",
    "        return {\n",
    "            \"sequence_length\": self.sequence_length,\n",
    "            \"hidden_layer_size\": self.hidden_layer_size,\n",
    "            \"lstm_layers\": self.lstm_layers,\n",
    "            \"dropout\": self.dropout,\n",
    "            \"learning_rate\": self.learning_rate,\n",
    "            \"epochs\": self.epochs,\n",
    "            \"tx_cost_bps\": self.tx_cost_bps,\n",
    "            \"long_threshold\": self.long_threshold,\n",
    "            \"short_threshold\": self.short_threshold,\n",
    "            \"train_frac\": self.train_frac,\n",
    "        }\n",
    "\n",
    "    def fetch_data(self) -> Dict[str, pd.DataFrame]:\n",
    "        print(f\"Fetching data for {self.tickers} using tvDatafeed...\")\n",
    "        try:\n",
    "            if self.tv_username and self.tv_password:\n",
    "                tv = TvDatafeed(username=self.tv_username, password=self.tv_password)\n",
    "            else:\n",
    "                tv = TvDatafeed()\n",
    "        except Exception as e:\n",
    "            raise RuntimeError(f\"Failed to init TvDatafeed: {e}\")\n",
    "\n",
    "        self.data = {}\n",
    "        for ticker in self.tickers:\n",
    "            info = self.asset_info.get(ticker, {\"stock_name\": ticker, \"broker\": \"OANDA\"})\n",
    "            exchange = info[\"broker\"]\n",
    "            try:\n",
    "                print(f\"Fetching {ticker} ({info['stock_name']}) from {exchange} ...\")\n",
    "                df = tv.get_hist(\n",
    "                    symbol=ticker,\n",
    "                    exchange=exchange,\n",
    "                    interval=self.interval,\n",
    "                    n_bars=self.n_bars,\n",
    "                )\n",
    "            except Exception as e:\n",
    "                print(f\"Error {ticker}@{exchange}: {e}\")\n",
    "                df = None\n",
    "\n",
    "            if df is not None and not df.empty:\n",
    "                if not pd.api.types.is_datetime64_any_dtype(df.index):\n",
    "                    df.index = pd.to_datetime(df.index)\n",
    "                df = df.sort_index()\n",
    "                df = df.loc[self.start_date:self.end_date]\n",
    "                self.data[ticker] = df\n",
    "                print(f\"OK: {ticker}, rows={len(df)}\")\n",
    "            else:\n",
    "                print(f\"No data: {ticker}@{exchange}\")\n",
    "        return self.data\n",
    "\n",
    "    def prepare_data(self, asset: str):\n",
    "        df = self.data[asset].copy()\n",
    "        px = df[\"close\"].astype(float)\n",
    "        feat_rsi = rsi(px, 14)\n",
    "        feats = pd.concat([px.rename(\"px\"), feat_rsi.rename(\"rsi\")], axis=1).dropna()\n",
    "\n",
    "\n",
    "        split_idx = int(len(feats) * self.train_frac)\n",
    "        if split_idx <= self.sequence_length + 1:\n",
    "            raise ValueError(f\"Not enough data for training split on {asset}\")\n",
    "\n",
    "        self.scaler = MinMaxScaler()\n",
    "        self.scaler.fit(feats.iloc[:split_idx, :])\n",
    "        feats_sc = pd.DataFrame(self.scaler.transform(feats), index=feats.index, columns=feats.columns)\n",
    "\n",
    "        X, y, y_times = [], [], []\n",
    "        L = self.sequence_length  \n",
    "        for i in range(L, len(feats_sc) - 1):\n",
    "            X.append(feats_sc.iloc[i - L : i, :].values)\n",
    "            y.append(feats_sc.iloc[i + 1, 0])  \n",
    "            y_times.append(feats.index[i + 1])\n",
    "\n",
    "        X = np.asarray(X, dtype=np.float32)\n",
    "        y = np.asarray(y, dtype=np.float32)\n",
    "        y_times = pd.Index(y_times)\n",
    "\n",
    "\n",
    "        n_train = max(1, split_idx - L - 1)\n",
    "        self.X_train = torch.tensor(X[:n_train]).to(self.device)\n",
    "        self.y_train = torch.tensor(y[:n_train]).to(self.device)\n",
    "        self.X_test = torch.tensor(X[n_train:]).to(self.device)\n",
    "        self.y_test = torch.tensor(y[n_train:]).to(self.device)\n",
    "        self.t_oos_index = y_times[n_train:]\n",
    "        px_arr = feats[\"px\"].values\n",
    "        self.px_t_oos = px_arr[L:-1][n_train:]\n",
    "\n",
    "    def train_model(self):\n",
    "        print(\n",
    "            f\"[train] seq={self.sequence_length} | hidden={self.hidden_layer_size} | \"\n",
    "            f\"layers={self.lstm_layers} | dropout={self.dropout:.2f} | \"\n",
    "            f\"lr={self.learning_rate:.6f} | epochs={self.epochs} | \"\n",
    "            f\"thr=[long {self.long_threshold:.4f}, short {self.short_threshold:.4f}]\"\n",
    "        )\n",
    "        self.model.train()\n",
    "        log_every = max(10, self.epochs // 12)\n",
    "        for epoch in range(self.epochs):\n",
    "            self.optimizer.zero_grad()\n",
    "            yhat = self.model(self.X_train).squeeze(-1)\n",
    "            loss = self.criterion(yhat, self.y_train)\n",
    "            loss.backward()\n",
    "            self.optimizer.step()\n",
    "            if (epoch + 1) % log_every == 0 or epoch == self.epochs - 1:\n",
    "                print(f\"Epoch {epoch+1}/{self.epochs}  TrainLoss: {loss.item():.8f}\")\n",
    "\n",
    "    def make_predictions(self):\n",
    "        self.model.eval()\n",
    "        with torch.no_grad():\n",
    "            pred_sc = self.model(self.X_test).cpu().numpy()  # (N,1)\n",
    "            true_sc = self.y_test.cpu().numpy().reshape(-1, 1)  # (N,1)\n",
    "            zeros = np.zeros_like(pred_sc)\n",
    "            self.predictions = self.scaler.inverse_transform(np.hstack([pred_sc, zeros]))[:, 0]\n",
    "            self.actual_prices = self.scaler.inverse_transform(np.hstack([true_sc, zeros]))[:, 0]\n",
    "\n",
    "    def generate_signals(self):\n",
    "        exp_ret = (self.predictions - self.px_t_oos) / np.maximum(self.px_t_oos, 1e-12)\n",
    "        tc = self.tx_cost_bps / 1e4\n",
    "        sig = np.zeros_like(exp_ret)\n",
    "        sig[exp_ret > (self.long_threshold + tc)] = -1\n",
    "        sig[exp_ret < -(self.short_threshold + tc)] = 1\n",
    "        for i in range(1, len(sig)):\n",
    "            if sig[i] == 0:\n",
    "                sig[i] = sig[i - 1]\n",
    "        self.signals = sig.astype(int)\n",
    "        return self.signals\n",
    "    \n",
    "    def simulate_trading(self, tx_cost_bps: float = 10.0, allow_short=False):\n",
    "        cash = float(self.initial_balance)\n",
    "        qty = 0.0\n",
    "        tc_bps = self.tx_cost_bps if tx_cost_bps is None else float(tx_cost_bps)\n",
    "        tc = tc_bps / 1e4\n",
    "        pv = []\n",
    "\n",
    "        for i in range(len(self.signals)):\n",
    "            px_fill = float(self.actual_prices[i])\n",
    "            sig = int(self.signals[i])\n",
    "\n",
    "            if not allow_short:\n",
    "                if sig == 1 and qty == 0.0:\n",
    "                    qty = cash / (px_fill * (1 + tc))\n",
    "                    cash -= qty * px_fill * (1 + tc)\n",
    "                elif sig <= 0 and qty > 0.0:\n",
    "                    cash += qty * px_fill * (1 - tc)\n",
    "                    qty = 0.0\n",
    "            else:\n",
    "                if sig == 1:\n",
    "                    if qty < 0: \n",
    "                        cash -= (-qty) * px_fill * (1 + tc)\n",
    "                        qty = 0.0\n",
    "                    if qty == 0.0:\n",
    "                        qty = cash / (px_fill * (1 + tc))\n",
    "                        cash -= qty * px_fill * (1 + tc)\n",
    "                elif sig == -1:\n",
    "                    if qty > 0: \n",
    "                        cash += qty * px_fill * (1 - tc)\n",
    "                        qty = 0.0\n",
    "                    if qty == 0.0:\n",
    "                        qty = -(cash / (px_fill * (1 + tc)))\n",
    "                        cash += (-qty) * px_fill * (1 - tc)\n",
    "                else:\n",
    "                    if qty > 0:\n",
    "                        cash += qty * px_fill * (1 - tc)\n",
    "                        qty = 0.0\n",
    "                    elif qty < 0:\n",
    "                        cash -= qty * px_fill * (1 + tc) \n",
    "                        qty = 0.0\n",
    "\n",
    "            pv.append(cash + qty * px_fill)\n",
    "\n",
    "        self.portfolio_value = pv\n",
    "        return pv\n",
    "\n",
    "    def calculate_performance(self, allow_short: bool = True, exec_next_bar: bool = True) -> Dict[str, float]:\n",
    "        prices = np.asarray(self.actual_prices, dtype=float)\n",
    "        signals = np.asarray(self.signals, dtype=int)\n",
    "        n = min(len(prices), len(signals))\n",
    "        if n == 0:\n",
    "            return {\n",
    "                \"Final Portfolio Value (Cash)\": float(self.initial_balance),\n",
    "                \"Total Profit (Cash)\": 0.0,\n",
    "                \"Total Profit (Percentage)\": 0.0,\n",
    "                \"Win Rate\": 0.0,\n",
    "                \"Average Profit (Percentage)\": 0.0,\n",
    "                \"Average Loss (Percentage)\": 0.0,\n",
    "                \"Max Drawdown (Percentage)\": 0.0,\n",
    "                \"Sigma (Period % stdev)\": 0.0,\n",
    "                \"Num Trades\": 0,\n",
    "            }\n",
    "\n",
    "        tc = (getattr(self, \"tx_cost_bps\", 0.0) or 0.0) / 1e4\n",
    "\n",
    "        def fill_idx(i: int) -> int:\n",
    "            return min(i + 1, n - 1) if exec_next_bar else i\n",
    "\n",
    "        cash = float(self.initial_balance)\n",
    "        qty = 0.0\n",
    "        pos = 0 \n",
    "        entry_cash = None\n",
    "        trades_pnl = []\n",
    "        pv = []\n",
    "\n",
    "        for i in range(n):\n",
    "            want = int(np.sign(signals[i]))  # normalize data to {-1,0,1}\n",
    "            if not allow_short and want == -1:\n",
    "                want = 0\n",
    "\n",
    "            if pos == 0 and want != 0:\n",
    "                k = fill_idx(i)\n",
    "                px = prices[k]\n",
    "                entry_cash = cash\n",
    "                if want == 1:\n",
    "                    qty = cash / (px * (1 + tc))\n",
    "                    cash -= qty * px * (1 + tc)\n",
    "                    pos = 1\n",
    "                else:\n",
    "                    qty = -cash / (px * (1 + tc))\n",
    "                    cash += (-qty) * px * (1 - tc)\n",
    "                    pos = -1\n",
    "\n",
    "            elif pos == 1 and want != 1:\n",
    "                k = fill_idx(i)\n",
    "                px = prices[k]\n",
    "                cash += qty * px * (1 - tc)\n",
    "                pnl = cash - (entry_cash if entry_cash is not None else cash)\n",
    "                trades_pnl.append(pnl)\n",
    "                qty = 0.0\n",
    "                pos = 0\n",
    "                entry_cash = None\n",
    "                if want == -1:\n",
    "                    entry_cash = cash\n",
    "                    qty = -cash / (px * (1 + tc))\n",
    "                    cash += (-qty) * px * (1 - tc)\n",
    "                    pos = -1\n",
    "\n",
    "            elif pos == -1 and want != -1:\n",
    "                k = fill_idx(i)\n",
    "                px = prices[k]\n",
    "                cash += qty * px * (1 + tc)\n",
    "                pnl = cash - (entry_cash if entry_cash is not None else cash)\n",
    "                trades_pnl.append(pnl)\n",
    "                qty = 0.0\n",
    "                pos = 0\n",
    "                entry_cash = None\n",
    "                if want == 1:\n",
    "                    entry_cash = cash\n",
    "                    qty = cash / (px * (1 + tc))\n",
    "                    cash -= qty * px * (1 + tc)\n",
    "                    pos = 1\n",
    "\n",
    "            pv.append(cash + qty * prices[i])\n",
    "\n",
    "        if pos != 0:\n",
    "            px = prices[-1]\n",
    "            if pos == 1:\n",
    "                cash += qty * px * (1 - tc)\n",
    "            else:\n",
    "                cash += qty * px * (1 + tc)\n",
    "            pnl = cash - (entry_cash if entry_cash is not None else cash)\n",
    "            trades_pnl.append(pnl)\n",
    "            qty = 0.0\n",
    "            pos = 0\n",
    "            pv[-1] = cash\n",
    "\n",
    "        self.portfolio_value = pv\n",
    "        pv_s = pd.Series(pv, dtype=float)\n",
    "        ret = pv_s.pct_change().dropna()\n",
    "        if ret.empty:\n",
    "            final_value = float(pv_s.iloc[-1])\n",
    "            return {\n",
    "                \"Final Portfolio Value (Cash)\": final_value,\n",
    "                \"Total Profit (Cash)\": final_value - self.initial_balance,\n",
    "                \"Total Profit (Percentage)\": (final_value / self.initial_balance - 1.0) * 100.0,\n",
    "                \"Win Rate\": 0.0,\n",
    "                \"Average Profit (Percentage)\": 0.0,\n",
    "                \"Average Loss (Percentage)\": 0.0,\n",
    "                \"Max Drawdown (Percentage)\": 0.0,\n",
    "                \"Sigma (Period % stdev)\": 0.0,\n",
    "                \"Num Trades\": 0,\n",
    "            }\n",
    "\n",
    "        cum = (1 + ret).cumprod()\n",
    "        mdd_pct = max_drawdown_from_equity(cum) * 100.0\n",
    "        final_value = float(pv_s.iloc[-1])\n",
    "        total_profit_cash = final_value - self.initial_balance\n",
    "        total_profit_pct = (final_value / self.initial_balance - 1.0) * 100.0\n",
    "        sigma_pct = float(ret.std() * 100.0)\n",
    "        tr = np.asarray(trades_pnl, dtype=float)\n",
    "        num_trades = int(len(tr))\n",
    "        win_rate = float((tr > 0).mean()) if num_trades else 0.0\n",
    "        avg_profit_cash = float(tr[tr > 0].mean()) if (tr > 0).any() else 0.0\n",
    "        avg_loss_cash = float(tr[tr < 0].mean()) if (tr < 0).any() else 0.0\n",
    "        avg_profit_pct = (avg_profit_cash / self.initial_balance) * 100.0 if avg_profit_cash else 0.0\n",
    "        avg_loss_pct = (avg_loss_cash / self.initial_balance) * 100.0 if avg_loss_cash else 0.0\n",
    "\n",
    "        return {\n",
    "            \"Final Portfolio Value (Cash)\": final_value,\n",
    "            \"Total Profit (Cash)\": total_profit_cash,\n",
    "            \"Total Profit (Percentage)\": total_profit_pct,\n",
    "            \"Win Rate\": win_rate,\n",
    "            \"Average Profit (Percentage)\": avg_profit_pct,\n",
    "            \"Average Loss (Percentage)\": avg_loss_pct,\n",
    "            \"Max Drawdown (Percentage)\": mdd_pct,\n",
    "            \"Sigma (Period % stdev)\": sigma_pct,\n",
    "            \"Num Trades\": num_trades,\n",
    "        }\n",
    "\n",
    "    def plot_results(self, asset: str, style: str = \"markers\"):\n",
    "        n = min(len(self.actual_prices), len(self.predictions), len(self.signals))\n",
    "        if n == 0:\n",
    "            print(\"Nothing to plot.\")\n",
    "            return\n",
    "        ap = np.asarray(self.actual_prices[:n])\n",
    "        pp = np.asarray(self.predictions[:n])\n",
    "        ss = np.asarray(self.signals[:n], dtype=int)\n",
    "        eq = np.asarray(self.portfolio_value[:n]) if hasattr(self, \"portfolio_value\") and len(self.portfolio_value) else None\n",
    "        x = list(range(n)) if self.t_oos_index is None or len(self.t_oos_index) < n else self.t_oos_index[:n]\n",
    "\n",
    "        fig = make_subplots(\n",
    "            rows=2,\n",
    "            cols=1,\n",
    "            shared_xaxes=True,\n",
    "            vertical_spacing=0.08,\n",
    "            row_heights=[0.7, 0.3],\n",
    "            subplot_titles=(f\"{asset} — Prediction & Signals (OOS)\", \"Equity Curve\"),\n",
    "        )\n",
    "\n",
    "        if style == \"segments\":\n",
    "            for s in (-1, 0, 1):\n",
    "                y = np.where(ss == s, ap, None)\n",
    "                fig.add_trace(\n",
    "                    go.Scatter(\n",
    "                        x=x,\n",
    "                        y=y,\n",
    "                        mode=\"lines\",\n",
    "                        name=f\"Price ({'Short' if s == -1 else 'Neutral' if s == 0 else 'Long'})\",\n",
    "                        line=dict(width=2, color=self.sig_colors[s]),\n",
    "                        hovertemplate=\"%{x|%Y-%m-%d %H:%M}<br>Price %{y:.4f}<extra></extra>\",\n",
    "                    ),\n",
    "                    row=1,\n",
    "                    col=1,\n",
    "                )\n",
    "            fig.add_trace(\n",
    "                go.Scatter(\n",
    "                    x=x,\n",
    "                    y=pp,\n",
    "                    mode=\"lines\",\n",
    "                    name=\"Predicted (t+1)\",\n",
    "                    line=dict(width=1.2, dash=\"dot\", color=self.line_colors[\"pred\"]),\n",
    "                    hovertemplate=\"%{x|%Y-%m-%d %H:%M}<br>Pred %{y:.4f}<extra></extra>\",\n",
    "                ),\n",
    "                row=1,\n",
    "                col=1,\n",
    "            )\n",
    "        else:\n",
    "            fig.add_trace(\n",
    "                go.Scatter(\n",
    "                    x=x,\n",
    "                    y=ap,\n",
    "                    mode=\"lines\",\n",
    "                    name=\"Actual (t+1)\",\n",
    "                    line=dict(width=1.6, color=self.line_colors[\"actual\"]),\n",
    "                    hovertemplate=\"%{x|%Y-%m-%d %H:%M}<br>Price %{y:.4f}<extra></extra>\",\n",
    "                ),\n",
    "                row=1,\n",
    "                col=1,\n",
    "            )\n",
    "            fig.add_trace(\n",
    "                go.Scatter(\n",
    "                    x=x,\n",
    "                    y=pp,\n",
    "                    mode=\"lines\",\n",
    "                    name=\"Predicted (t+1)\",\n",
    "                    line=dict(width=1.2, color=self.line_colors[\"pred\"]),\n",
    "                    hovertemplate=\"%{x|%Y-%m-%d %H:%M}<br>Pred %{y:.4f}<extra></extra>\",\n",
    "                ),\n",
    "                row=1,\n",
    "                col=1,\n",
    "            )\n",
    "            for s in (-1, 0, 1):\n",
    "                idx = np.where(ss == s)[0]\n",
    "                if idx.size:\n",
    "                    fig.add_trace(\n",
    "                        go.Scatter(\n",
    "                            x=[x[i] for i in idx],\n",
    "                            y=ap[idx],\n",
    "                            mode=\"markers\",\n",
    "                            marker=dict(size=9 if s != 0 else 7, symbol=self.sig_markers[s], color=self.sig_colors[s]),\n",
    "                            name={-1: \"Short/Exit\", 0: \"Hold Prev\", 1: \"Long/Enter\"}[s],\n",
    "                            hovertemplate=\"%{x|%Y-%m-%d %H:%M}<br>Price %{y:.4f}<extra></extra>\",\n",
    "                        ),\n",
    "                        row=1,\n",
    "                        col=1,\n",
    "                    )\n",
    "\n",
    "        if eq is not None and len(eq):\n",
    "            fig.add_trace(\n",
    "                go.Scatter(\n",
    "                    x=x,\n",
    "                    y=eq,\n",
    "                    mode=\"lines\",\n",
    "                    name=\"Equity\",\n",
    "                    line=dict(width=1.8, color=self.line_colors[\"equity\"]),\n",
    "                    hovertemplate=\"%{x|%Y-%m-%d %H:%M}<br>Equity %{y:,.2f}<extra></extra>\",\n",
    "                ),\n",
    "                row=2,\n",
    "                col=1,\n",
    "            )\n",
    "\n",
    "        fig.update_layout(\n",
    "            template=\"plotly_white\",\n",
    "            legend=dict(orientation=\"h\", yanchor=\"bottom\", y=1.02, xanchor=\"left\", x=0),\n",
    "            margin=dict(l=50, r=50, t=60, b=60),\n",
    "            hovermode=\"x unified\",\n",
    "        )\n",
    "        fig.update_xaxes(showspikes=True, spikemode=\"across\", spikesnap=\"cursor\")\n",
    "        fig.update_yaxes(showgrid=True, gridcolor=\"rgba(0,0,0,0.08)\")\n",
    "        fig.update_xaxes(rangeslider=dict(visible=False), row=2, col=1)\n",
    "        fig.show()\n",
    "\n",
    "    def plot_portfolio_values(self):\n",
    "        if not self.portfolio_values:\n",
    "            print(\"No portfolio values.\")\n",
    "            return\n",
    "        \n",
    "        non_empty = [pv for pv in self.portfolio_values.values() if isinstance(pv, list) and len(pv) > 0]\n",
    "        if not non_empty:\n",
    "            print(\"No portfolio values to plot.\")\n",
    "            return\n",
    "        max_len = max(len(p) for p in non_empty)\n",
    "\n",
    "        fig = go.Figure()\n",
    "        mat = []\n",
    "        for ticker, pv in self.portfolio_values.items():\n",
    "            arr = pv if isinstance(pv, list) else []\n",
    "            arr = list(arr)\n",
    "            if len(arr) < max_len:\n",
    "                arr = arr + [None] * (max_len - len(arr))\n",
    "            mat.append(arr)\n",
    "            fig.add_trace(\n",
    "                go.Scatter(y=arr, mode=\"lines\", name=ticker,)\n",
    "            )\n",
    "\n",
    "        mat_np = np.array([[np.nan if v is None else v for v in row] for row in mat], dtype=float)\n",
    "        avg = np.nanmean(mat_np, axis=0)\n",
    "        fig.add_trace(\n",
    "            go.Scatter(\n",
    "                y=avg,\n",
    "                mode=\"lines\",\n",
    "                name=\"Expected Portfolio\",\n",
    "                line=dict(width=2, dash=\"dot\"),\n",
    "            )\n",
    "        )\n",
    "\n",
    "        fig.update_layout(\n",
    "            title=\"Portfolio Value by Ticker\",\n",
    "            template=\"plotly_white\",\n",
    "            hovermode=\"x unified\",\n",
    "            legend=dict(orientation=\"h\", yanchor=\"bottom\", y=1.02, xanchor=\"left\", x=0),\n",
    "            margin=dict(l=50, r=50, t=60, b=60),\n",
    "        )\n",
    "        fig.update_xaxes(rangeslider=dict(visible=False))\n",
    "        fig.update_yaxes(showgrid=True, gridcolor=\"rgba(0,0,0,0.08)\")\n",
    "        fig.show()\n",
    "\n",
    "    def show_metrics_table_plotly(self, all_performance: Dict[str, Dict[str, float]]):\n",
    "        if not all_performance:\n",
    "            print(\"No performance data.\")\n",
    "            return\n",
    "\n",
    "        cols = [\n",
    "            \"Asset\",\n",
    "            \"Final Portfolio Value (Cash)\",\n",
    "            \"Total Profit (Cash)\",\n",
    "            \"Total Profit (Percentage)\",\n",
    "            \"Win Rate\",\n",
    "            \"Average Profit (Percentage)\",\n",
    "            \"Average Loss (Percentage)\",\n",
    "            \"Max Drawdown (Percentage)\",\n",
    "            \"Sigma (Period % stdev)\",\n",
    "            \"Num Trades\",\n",
    "        ]\n",
    "        rows = []\n",
    "        for asset, m in all_performance.items():\n",
    "            if not isinstance(m, dict):\n",
    "                continue\n",
    "            final_val = float(m.get(\"Final Portfolio Value (Cash)\", 0.0))\n",
    "            tot_cash = float(m.get(\"Total Profit (Cash)\", 0.0))\n",
    "            tot_pct = float(m.get(\"Total Profit (Percentage)\", 0.0))\n",
    "            win_rate = float(m.get(\"Win Rate\", 0.0)) * 100.0  # fraction -> %\n",
    "            avg_prof = float(m.get(\"Average Profit (Percentage)\", 0.0))\n",
    "            avg_loss = float(m.get(\"Average Loss (Percentage)\", 0.0))\n",
    "            mdd_pct = float(m.get(\"Max Drawdown (Percentage)\", 0.0))\n",
    "            sigma_pct = float(m.get(\"Sigma (Period % stdev)\", 0.0))\n",
    "            num_trades = int(m.get(\"Num Trades\", 0))\n",
    "            rows.append(\n",
    "                [\n",
    "                    asset,\n",
    "                    f\"{final_val:,.2f}\",\n",
    "                    f\"{tot_cash:,.2f}\",\n",
    "                    f\"{tot_pct:.2f}%\",\n",
    "                    f\"{win_rate:.2f}%\",\n",
    "                    f\"{avg_prof:.2f}%\",\n",
    "                    f\"{avg_loss:.2f}%\",\n",
    "                    f\"{mdd_pct:.2f}%\",\n",
    "                    f\"{sigma_pct:.2f}%\",\n",
    "                    f\"{num_trades}\",\n",
    "                ]\n",
    "            )\n",
    "\n",
    "        fig = go.Figure(\n",
    "            data=[\n",
    "                go.Table(\n",
    "                    header=dict(values=cols, fill_color=\"#F5F5F5\", align=\"left\"),\n",
    "                    cells=dict(values=list(zip(*rows)), align=\"left\"),\n",
    "                )\n",
    "            ]\n",
    "        )\n",
    "        fig.update_layout(title=\"Performance Summary\", template=\"plotly_white\", margin=dict(l=50, r=50, t=60, b=60))\n",
    "        fig.show()\n",
    "\n",
    "    def scatter_return_sigma_with_tangent(\n",
    "        self,\n",
    "        all_performance: Dict[str, Dict[str, float]],\n",
    "        x_key: str = \"Sigma (Period % stdev)\",\n",
    "        y_key: str = \"Total Profit (Percentage)\",\n",
    "        degree: int = 2,\n",
    "        tangent_at: str | float = \"best\",\n",
    "        *,\n",
    "        eq_tan: Optional[pd.Series] = None,\n",
    "        eq_dyn: Optional[pd.Series] = None,\n",
    "        eq_labels: tuple[str, str] = (\"Tangent\", \"MDP/HJB\"),\n",
    "    ):\n",
    "        \"\"\"Scatter Return (Y) vs Sigma (X) + poly fit + tangent line + optional portfolio points.\"\"\"\n",
    "        if not all_performance:\n",
    "            print(\"No performance data.\")\n",
    "            return\n",
    "\n",
    "        def _point_from_equity(eq: pd.Series) -> Optional[tuple[float, float]]:\n",
    "            if eq is None or len(eq) < 3:\n",
    "                return None\n",
    "            eq = eq.dropna()\n",
    "            if eq.empty:\n",
    "                return None\n",
    "            ret = eq.pct_change().dropna()\n",
    "            if ret.empty:\n",
    "                return None\n",
    "            sigma_pct = float(ret.std() * 100.0)\n",
    "            total_pct = (float(eq.iloc[-1]) / float(eq.iloc[0]) - 1.0) * 100.0\n",
    "            return sigma_pct, total_pct\n",
    "\n",
    "\n",
    "        xs, ys, names = [], [], []\n",
    "        for asset, m in all_performance.items():\n",
    "            if not isinstance(m, dict):\n",
    "                continue\n",
    "            x = float(m.get(x_key, np.nan))\n",
    "            y = float(m.get(y_key, np.nan))\n",
    "            if np.isfinite(x) and np.isfinite(y):\n",
    "                xs.append(x); ys.append(y); names.append(asset)\n",
    "\n",
    "\n",
    "        if len(xs) < 2:\n",
    "            fig = go.Figure()\n",
    "            fig.add_trace(go.Scatter(x=xs, y=ys, mode=\"markers\",\n",
    "                                    marker=dict(size=10, color=ys, colorscale=\"Viridis\"),\n",
    "                                    text=names, name=\"Assets\",\n",
    "                                    hovertemplate=\"%{text}<br>σ=%{x:.2f}%%<br>Return %{y:.2f}%%<extra></extra>\"))\n",
    "            fig.update_layout(title=f\"Return vs {x_key} (not enough points for tangent)\",\n",
    "                            xaxis_title=x_key, yaxis_title=y_key,\n",
    "                            template=\"plotly_white\", margin=dict(l=50, r=50, t=60, b=60))\n",
    "            fig.show()\n",
    "            return\n",
    "\n",
    "        degree = min(degree, len(xs) - 1)\n",
    "        coeffs = np.polyfit(xs, ys, deg=degree)\n",
    "        xgrid = np.linspace(min(xs), max(xs), 200)\n",
    "        yfit = np.polyval(coeffs, xgrid)\n",
    "\n",
    "        if tangent_at == \"best\":\n",
    "            i0 = int(np.argmax(ys))\n",
    "            x0, y0 = xs[i0], ys[i0]\n",
    "        else:\n",
    "            try:\n",
    "                x0 = float(tangent_at)\n",
    "            except Exception:\n",
    "                x0 = float(np.median(xs))\n",
    "            x0 = max(min(x0, max(xs)), min(xs))\n",
    "            y0 = float(np.polyval(coeffs, x0))\n",
    "\n",
    "        dcoeffs = np.polyder(coeffs)\n",
    "        slope = float(np.polyval(dcoeffs, x0))\n",
    "        ytan = y0 + slope * (xgrid - x0)\n",
    "\n",
    "        order = np.argsort(xgrid)\n",
    "        x_sorted = xgrid[order]\n",
    "        yfit_sorted = yfit[order]\n",
    "        ytan_sorted = ytan[order]\n",
    "\n",
    "        fig = go.Figure()\n",
    "        fig.add_trace(go.Scatter(\n",
    "            x=xs, y=ys, mode=\"markers\",\n",
    "            marker=dict(size=10, color=ys, colorscale=\"Viridis\"),\n",
    "            text=[f\"{n}<br>σ={x:.2f}%<br>Ret={y:.2f}%\" for n, x, y in zip(names, xs, ys)],\n",
    "            name=\"Assets\", hovertemplate=\"%{text}<extra></extra>\"\n",
    "        ))\n",
    "        fig.add_trace(go.Scatter(x=x_sorted, y=yfit_sorted, mode=\"lines\", name=f\"Poly fit (deg={degree})\"))\n",
    "        fig.add_trace(go.Scatter(x=x_sorted, y=ytan_sorted, mode=\"lines\",\n",
    "                                name=f\"Tangent at σ={x0:.2f}% (slope={slope:.2f})\",\n",
    "                                line=dict(dash=\"dash\")))\n",
    "        fig.add_trace(go.Scatter(x=[x0], y=[y0], mode=\"markers\",\n",
    "                                name=\"Tangent point\",\n",
    "                                marker=dict(size=12, symbol=\"x\", color=\"#8E24AA\")))\n",
    "\n",
    "        # ---- overlay the two portfolio points (from equity curves)\n",
    "        pt_tan = _point_from_equity(eq_tan) if eq_tan is not None else None\n",
    "        pt_dyn = _point_from_equity(eq_dyn) if eq_dyn is not None else None\n",
    "\n",
    "        if pt_tan:\n",
    "            fig.add_trace(go.Scatter(\n",
    "                x=[pt_tan[0]], y=[pt_tan[1]], mode=\"markers+text\",\n",
    "                name=eq_labels[0], text=[eq_labels[0]], textposition=\"top center\",\n",
    "                marker=dict(size=16, symbol=\"star\", line=dict(width=1))\n",
    "            ))\n",
    "        if pt_dyn:\n",
    "            fig.add_trace(go.Scatter(\n",
    "                x=[pt_dyn[0]], y=[pt_dyn[1]], mode=\"markers+text\",\n",
    "                name=eq_labels[1], text=[eq_labels[1]], textposition=\"bottom center\",\n",
    "                marker=dict(size=14, symbol=\"diamond\", line=dict(width=1))\n",
    "            ))\n",
    "\n",
    "        x_all = xs + ([pt_tan[0]] if pt_tan else []) + ([pt_dyn[0]] if pt_dyn else [])\n",
    "        x_min = min(x_all) if x_all else min(xs)\n",
    "        x_max = max(x_all) if x_all else max(xs)\n",
    "        fig.update_xaxes(range=[max(0, x_min * 0.9), x_max * 1.1])\n",
    "\n",
    "        fig.update_layout(\n",
    "            title=\"Return vs Sigma (Period % stdev) with Tangent Line\",\n",
    "            xaxis_title=\"Sigma (Period % stdev)\",\n",
    "            yaxis_title=\"Total Profit (Percentage)\",\n",
    "            template=\"plotly_white\",\n",
    "            legend=dict(orientation=\"h\", y=1.06, x=0),\n",
    "            margin=dict(l=50, r=50, t=60, b=60),\n",
    "        )\n",
    "        fig.show()\n",
    "\n",
    "\n",
    "    def tune_hyperparameters(\n",
    "        self,\n",
    "        asset: str,\n",
    "        n_trials: int = 30,\n",
    "        timeout: Optional[int] = None,\n",
    "        val_frac: float = 0.3,\n",
    "        risk_aversion: float = 3,\n",
    "        seed: int = 1234,\n",
    "    ):\n",
    "        \n",
    "        #Objectivefunction = TotalProfit% - risk_aversion * |MaxDD%|\n",
    " \n",
    "        df = self.data.get(asset)\n",
    "        if df is None or df.empty:\n",
    "            raise ValueError(f\"No data for {asset}. Run fetch_data() first.\")\n",
    "\n",
    "        px = df[\"close\"].astype(float)\n",
    "        feat_rsi = rsi(px, 14)\n",
    "        feats = pd.concat([px.rename(\"px\"), feat_rsi.rename(\"rsi\")], axis=1).dropna()\n",
    "\n",
    "        outer_split = int(len(feats) * self.train_frac)\n",
    "        if outer_split <= self.sequence_length + 2:\n",
    "            raise ValueError(\"Not enough data for outer split.\")\n",
    "\n",
    "        base_scaler = MinMaxScaler().fit(feats.iloc[:outer_split, :])\n",
    "\n",
    "        def build_sequences(feats_scaled: pd.DataFrame, L: int):\n",
    "            X, y, y_times = [], [], []\n",
    "            for i in range(L, len(feats_scaled) - 1):\n",
    "                X.append(feats_scaled.iloc[i - L : i, :].values)\n",
    "                y.append(feats_scaled.iloc[i + 1, 0])\n",
    "                y_times.append(feats_scaled.index[i + 1])\n",
    "            return (\n",
    "                np.asarray(X, dtype=np.float32),\n",
    "                np.asarray(y, dtype=np.float32),\n",
    "                pd.Index(y_times),\n",
    "            )\n",
    "\n",
    "        tc = self.tx_cost_bps / 1e4\n",
    "\n",
    "        def eval_trading(pred_px, true_px, px_t, long_thr, short_thr):\n",
    "            exp_ret = (pred_px - px_t) / np.maximum(px_t, 1e-12)\n",
    "            sig = np.zeros_like(exp_ret, dtype=int)\n",
    "            sig[exp_ret > (long_thr + tc)] = 1\n",
    "            sig[exp_ret < -(short_thr + tc)] = -1\n",
    "            for i in range(1, len(sig)):\n",
    "                if sig[i] == 0:\n",
    "                    sig[i] = sig[i - 1]\n",
    "\n",
    "            cash, qty = float(self.initial_balance), 0.0\n",
    "            pv = []\n",
    "            for i in range(len(sig)):\n",
    "                px_fill = float(true_px[i])\n",
    "                if sig[i] == 1 and qty == 0.0:\n",
    "                    qty = cash / (px_fill * (1 + tc))\n",
    "                    cash -= qty * px_fill * (1 + tc)\n",
    "                elif sig[i] <= 0 and qty > 0.0:\n",
    "                    cash += qty * px_fill * (1 - tc)\n",
    "                    qty = 0.0\n",
    "                pv.append(cash + qty * px_fill)\n",
    "\n",
    "            pv = pd.Series(pv, dtype=float)\n",
    "            ret = pv.pct_change().dropna()\n",
    "            if ret.empty:\n",
    "                return -1e9, {\"Total Profit %\": 0.0, \"MaxDD %\": 0.0, \"WinRate\": 0.0}\n",
    "            total_pct = (pv.iloc[-1] / self.initial_balance - 1.0) * 100.0\n",
    "            cum = (1 + ret).cumprod()\n",
    "            mdd_pct = max_drawdown_from_equity(cum) * 100.0\n",
    "            winrate = float((ret > 0).mean())\n",
    "            obj = total_pct - risk_aversion * abs(mdd_pct)\n",
    "            return obj, {\"Total Profit %\": total_pct, \"MaxDD %\": mdd_pct, \"WinRate\": winrate}\n",
    "\n",
    "        def objective(trial: optuna.trial.Trial):\n",
    "            L_low, L_high = self._sequence_bounds(len(feats), cap=100)\n",
    "            L = trial.suggest_int(\"sequence_length\", L_low, L_high, step=4)\n",
    "            hidden = trial.suggest_int(\"hidden_layer_size\", 1, 500, step=8)\n",
    "            layers = trial.suggest_int(\"lstm_layers\", 1, 3)\n",
    "            dropout = trial.suggest_float(\"dropout\", 0.0, 0.6)\n",
    "            lr = trial.suggest_float(\"learning_rate\", 1e-5, 5e-2, log=True)\n",
    "            epochs = trial.suggest_int(\"epochs\", 10, 10000, step=10)\n",
    "            long_thr = trial.suggest_float(\"long_threshold\", 0.0, 0.003)\n",
    "            short_thr = trial.suggest_float(\"short_threshold\", 0.0, 0.003)\n",
    "\n",
    "            feats_sc = pd.DataFrame(base_scaler.transform(feats), index=feats.index, columns=feats.columns)\n",
    "            X_all, y_all, _ = build_sequences(feats_sc, L)\n",
    "            n_train_outer = max(1, outer_split - L - 1)\n",
    "            if n_train_outer < 30:\n",
    "                raise optuna.TrialPruned()\n",
    "\n",
    "            n_valid = max(1, int(n_train_outer * val_frac))\n",
    "            n_tr = n_train_outer - n_valid\n",
    "\n",
    "            X_tr = torch.tensor(X_all[:n_tr]).to(self.device)\n",
    "            y_tr = torch.tensor(y_all[:n_tr]).to(self.device)\n",
    "            X_val = torch.tensor(X_all[n_tr:n_train_outer]).to(self.device)\n",
    "            y_val = torch.tensor(y_all[n_tr:n_train_outer]).to(self.device)\n",
    "\n",
    "            px_arr = feats[\"px\"].values\n",
    "            px_t_all = px_arr[L:-1]\n",
    "            px_t_val = px_t_all[n_tr:n_train_outer]\n",
    "\n",
    "            torch.manual_seed(seed)\n",
    "            model = LSTMModel(input_size=2, hidden_layer_size=hidden, output_size=1, layers=layers, dropout=dropout).to(\n",
    "                self.device\n",
    "            )\n",
    "            optimizer = torch.optim.Adam(model.parameters(), lr=lr)\n",
    "            loss_fn = nn.MSELoss()\n",
    "            best_val = float(\"inf\")\n",
    "            best_state = None\n",
    "            patience, patience_left = 25, 25\n",
    "\n",
    "            for ep in range(epochs):\n",
    "                model.train()\n",
    "                optimizer.zero_grad()\n",
    "                pred = model(X_tr).squeeze(-1)\n",
    "                loss = loss_fn(pred, y_tr)\n",
    "                loss.backward()\n",
    "                optimizer.step()\n",
    "\n",
    "                model.eval()\n",
    "                with torch.no_grad():\n",
    "                    val_pred = model(X_val).squeeze(-1)\n",
    "                    val_loss = loss_fn(val_pred, y_val).item()\n",
    "                    if val_loss + 1e-9 < best_val:\n",
    "                        best_val = val_loss\n",
    "                        best_state = {k: v.detach().clone() for k, v in model.state_dict().items()}\n",
    "                        patience_left = patience\n",
    "                    else:\n",
    "                        patience_left -= 1\n",
    "                        if patience_left <= 0:\n",
    "                            break\n",
    "\n",
    "            if best_state is not None:\n",
    "                model.load_state_dict(best_state)\n",
    "\n",
    "            with torch.no_grad():\n",
    "                pred_sc = model(X_val).detach().cpu().numpy().reshape(-1, 1)\n",
    "                zeros = np.zeros_like(pred_sc)\n",
    "                pred_px = base_scaler.inverse_transform(np.hstack([pred_sc, zeros]))[:, 0]\n",
    "                true_sc = y_val.detach().cpu().numpy().reshape(-1, 1)\n",
    "                true_px = base_scaler.inverse_transform(np.hstack([true_sc, zeros]))[:, 0]\n",
    "\n",
    "            obj, metrics = eval_trading(pred_px, true_px, px_t_val, long_thr, short_thr)\n",
    "            trial.set_user_attr(\"metrics\", metrics)\n",
    "            return obj\n",
    "\n",
    "        sampler = TPESampler(seed=seed)\n",
    "        pruner = MedianPruner(n_startup_trials=10, n_warmup_steps=0)\n",
    "        study = optuna.create_study(direction=\"maximize\", sampler=sampler, pruner=pruner)\n",
    "        study.optimize(objective, n_trials=n_trials, timeout=timeout, show_progress_bar=False)\n",
    "\n",
    "        print(\"\\n=== Best Trial ===\")\n",
    "        print(\"Value (objective):\", study.best_value)\n",
    "        for k, v in study.best_params.items():\n",
    "            print(f\"{k}: {v}\")\n",
    "        print(\"Metrics (val):\", study.best_trial.user_attrs.get(\"metrics\"))\n",
    "\n",
    "        bp = dict(study.best_params)\n",
    "        self.best_params_by_asset[asset] = bp\n",
    "        self.best_metrics_by_asset[asset] = study.best_trial.user_attrs.get(\"metrics\", {})\n",
    "\n",
    "        self.sequence_length = bp[\"sequence_length\"]\n",
    "        self.hidden_layer_size = bp[\"hidden_layer_size\"]\n",
    "        self.lstm_layers = bp[\"lstm_layers\"]\n",
    "        self.dropout = bp[\"dropout\"]\n",
    "        self.learning_rate = bp[\"learning_rate\"]\n",
    "        self.epochs = bp[\"epochs\"]\n",
    "        self.long_threshold = bp[\"long_threshold\"]\n",
    "        self.short_threshold = bp[\"short_threshold\"]\n",
    "\n",
    "        self.model = LSTMModel(\n",
    "            input_size=2,\n",
    "            hidden_layer_size=self.hidden_layer_size,\n",
    "            output_size=1,\n",
    "            layers=self.lstm_layers,\n",
    "            dropout=self.dropout,\n",
    "        ).to(self.device)\n",
    "        self.optimizer = torch.optim.Adam(self.model.parameters(), lr=self.learning_rate)\n",
    "        return study\n",
    "\n",
    "    def _sequence_bounds(self, feats_len: int, min_train_samples: int = 80, cap: int = 512) -> Tuple[int, int]:\n",
    "        outer_split = int(feats_len * self.train_frac)\n",
    "        max_L = outer_split - max(min_train_samples, 60)\n",
    "        max_L = max(21, min(max_L, cap))\n",
    "        return 21, max_L\n",
    "\n",
    "    def apply_params(self, params: dict):\n",
    "        self.sequence_length = params[\"sequence_length\"]\n",
    "        self.hidden_layer_size = params[\"hidden_layer_size\"]\n",
    "        self.lstm_layers = params[\"lstm_layers\"]\n",
    "        self.dropout = params[\"dropout\"]\n",
    "        self.learning_rate = params[\"learning_rate\"]\n",
    "        self.epochs = params[\"epochs\"]\n",
    "        self.long_threshold = params[\"long_threshold\"]\n",
    "        self.short_threshold = params[\"short_threshold\"]\n",
    "\n",
    "\n",
    "        self.model = LSTMModel(\n",
    "            input_size=2,\n",
    "            hidden_layer_size=self.hidden_layer_size,\n",
    "            output_size=1,\n",
    "            layers=self.lstm_layers,\n",
    "            dropout=self.dropout,\n",
    "        ).to(self.device)\n",
    "        self.optimizer = torch.optim.Adam(self.model.parameters(), lr=self.learning_rate)\n",
    "\n",
    "    def run(self, tune_each_asset: bool = False, n_trials_each: int = 30, val_frac: float = 0.2, risk_aversion: float = 4):\n",
    "        if not self.data:\n",
    "            self.fetch_data()\n",
    "\n",
    "        all_perf: Dict[str, Dict[str, float]] = {}\n",
    "\n",
    "        for asset in self.tickers:\n",
    "            if asset not in self.data or self.data[asset].empty:\n",
    "                print(f\"Skip {asset}: no data.\")\n",
    "                continue\n",
    "\n",
    "            print(f\"\\nProcessing {asset} ...\")\n",
    "    \n",
    "            self.model.apply(self._reset_weights)\n",
    "\n",
    "            if tune_each_asset:\n",
    "                try:\n",
    "                    if asset not in self.best_params_by_asset:\n",
    "                        study = self.tune_hyperparameters(asset=asset, n_trials=n_trials_each, val_frac=val_frac, risk_aversion=risk_aversion)\n",
    "                        self.best_params_by_asset[asset] = dict(study.best_params)\n",
    "                        self.best_metrics_by_asset[asset] = study.best_trial.user_attrs.get(\"metrics\", {})\n",
    "                    self.apply_params(self.best_params_by_asset[asset])\n",
    "                    print(\"[params for\", asset, \"]\", self.best_params_by_asset[asset])\n",
    "                except Exception as e:\n",
    "                    print(f\"[WARN] tuning {asset} failed: {e}\")\n",
    "\n",
    "            self.prepare_data(asset)\n",
    "            self.train_model()\n",
    "            self.make_predictions()\n",
    "            self.generate_signals()\n",
    "            pv = self.simulate_trading(allow_short=True)\n",
    "            self.portfolio_values[asset] = pv\n",
    "            perf = self.calculate_performance(allow_short=True, exec_next_bar=True)\n",
    "            all_perf[asset] = perf\n",
    "            self.plot_results(asset, style=\"segments\")\n",
    "        self.plot_portfolio_values()\n",
    "        self.show_metrics_table_plotly(all_perf)\n",
    "        self.scatter_return_sigma_with_tangent(\n",
    "            all_performance=all_perf,\n",
    "            x_key=\"Sigma (Period % stdev)\",\n",
    "            y_key=\"Total Profit (Percentage)\",\n",
    "            degree=2,\n",
    "            tangent_at=\"best\",\n",
    "        )\n",
    "\n",
    "    @staticmethod\n",
    "    def _reset_weights(m):\n",
    "        if isinstance(m, (nn.Linear, nn.LSTM)):\n",
    "            m.reset_parameters()\n"
   ]
  },
  {
   "cell_type": "code",
   "execution_count": 9,
   "id": "8af2ec5c",
   "metadata": {},
   "outputs": [],
   "source": [
    "@dataclass\n",
    "class PortfolioAnalytics:\n",
    "    rf_per_period: float = 0.0\n",
    "    ann_factor: float = 252.0\n",
    "    ridge: float = 1e-8\n",
    "\n",
    "    @staticmethod\n",
    "    def stack_close_from_tvdata(data: Dict[str, pd.DataFrame], col: str = \"close\") -> pd.DataFrame:\n",
    "        \"\"\"Stack 'close' (or col) from {symbol: DataFrame} into one price frame.\"\"\"\n",
    "        frames: List[pd.Series] = []\n",
    "        for k, df in data.items():\n",
    "            if df is None or df.empty or col not in df.columns:\n",
    "                continue\n",
    "            s = df[col].astype(float).rename(k)\n",
    "            frames.append(s)\n",
    "        if not frames:\n",
    "            raise ValueError(\"No non-empty frames found in data.\")\n",
    "        px = pd.concat(frames, axis=1).sort_index()\n",
    "        return px\n",
    "\n",
    "    @staticmethod\n",
    "    def returns(prices: pd.DataFrame, kind: str = \"simple\") -> pd.DataFrame:\n",
    "        \"\"\"Compute returns (simple or log).\"\"\"\n",
    "        if kind == \"log\":\n",
    "            R = np.log(prices).diff()\n",
    "        elif kind == \"simple\":\n",
    "            R = prices.pct_change()\n",
    "        else:\n",
    "            raise ValueError(\"returns(kind): choose 'simple' or 'log'\")\n",
    "        return R.dropna(how=\"any\")\n",
    "\n",
    "    def build_prices_and_returns(\n",
    "        self,\n",
    "        data_dict: Dict[str, pd.DataFrame],\n",
    "        col: str = \"close\",\n",
    "        kind: str = \"simple\",\n",
    "    ) -> Tuple[pd.DataFrame, pd.DataFrame]:\n",
    "        \"\"\"Return (prices, returns).\"\"\"\n",
    "        px = self.stack_close_from_tvdata(data_dict, col=col)\n",
    "        R = self.returns(px, kind=kind)\n",
    "        return px, R\n",
    "\n",
    "    def stats(self, R: pd.DataFrame) -> Dict[str, object]:\n",
    "        \"\"\"Per-period & annualized stats.\"\"\"\n",
    "        R = R.dropna(how=\"any\")\n",
    "        mu = R.mean().values                 \n",
    "        cov = R.cov().values       \n",
    "        ann = self.ann_factor\n",
    "        asset_mu_ann = R.mean() * ann\n",
    "        asset_sig_ann = R.std() * np.sqrt(ann)\n",
    "        cov_ann = cov * ann              \n",
    "        return {\n",
    "            \"mu\": mu,\n",
    "            \"cov\": cov,\n",
    "            \"mu_ann\": asset_mu_ann,\n",
    "            \"sigma_ann\": asset_sig_ann,\n",
    "            \"cov_ann\": cov_ann,\n",
    "            \"assets\": list(R.columns),\n",
    "        }\n",
    "\n",
    "    #Tangent Part\n",
    "    @staticmethod\n",
    "    def _tangent_weights_closed_form(\n",
    "        mu: np.ndarray,\n",
    "        cov: np.ndarray,\n",
    "        rf_per_period: float = 0.0,\n",
    "        long_only: bool = False,\n",
    "    ) -> np.ndarray:\n",
    "        \"\"\"Unconstrained (or long-only projected) tangent weights.\"\"\"\n",
    "        Sigma = cov.copy()\n",
    "        mu_ex = (mu - rf_per_period).reshape(-1, )\n",
    "        inv = np.linalg.pinv(Sigma)\n",
    "        w = inv @ mu_ex\n",
    "        if long_only:\n",
    "            w = np.clip(w, 0.0, None)\n",
    "        s = w.sum()\n",
    "        return (w / s) if abs(s) > 0 else np.ones_like(w) / w.size\n",
    "\n",
    "    def equity_from_static_weights(\n",
    "        self,\n",
    "        returns_df: pd.DataFrame,\n",
    "        w: np.ndarray,\n",
    "        initial_value: float = 1.0,\n",
    "    ) -> pd.Series:\n",
    "        \"\"\"Equity given constant weights w (rebalanced each period).\"\"\"\n",
    "        R = returns_df.dropna()\n",
    "        w = np.asarray(w, float).reshape(-1, 1)\n",
    "        if R.shape[1] != w.size:\n",
    "            raise ValueError(\"Weight dimension mismatch.\")\n",
    "        port_ret = (R @ w).iloc[:, 0]\n",
    "        eq = initial_value * (1.0 + port_ret).cumprod()\n",
    "        return eq\n",
    "\n",
    "    # -------------------- Deterministic frontier / tangent ------------------\n",
    "    @staticmethod\n",
    "    def _bounds_from_sign_policy(\n",
    "        names: List[str],\n",
    "        sign_policy: Optional[Dict[str, str]],\n",
    "        per_asset_upper: float = 1.0,\n",
    "    ) -> Tuple[np.ndarray, np.ndarray]:\n",
    "        \"\"\"\n",
    "        sign_policy[symbol] in {'long', 'short', 'free'} -> bounds for w_i.\n",
    "        Default: 'free' in [-U, +U].\n",
    "        \"\"\"\n",
    "        n = len(names)\n",
    "        lb = np.full(n, -per_asset_upper, dtype=float)\n",
    "        ub = np.full(n,  per_asset_upper, dtype=float)\n",
    "        if sign_policy is None:\n",
    "            return lb, ub\n",
    "        for i, k in enumerate(names):\n",
    "            tag = sign_policy.get(k, \"free\")\n",
    "            if tag == \"long\":\n",
    "                lb[i] = 0.0\n",
    "            elif tag == \"short\":\n",
    "                ub[i] = 0.0\n",
    "        return lb, ub\n",
    "\n",
    "    #find feasible for understand the optimum\n",
    "    def _feasible_return_range_cvxpy(self,mu: np.ndarray,lb: np.ndarray,ub: np.ndarray,l1_cap: Optional[float],) -> Tuple[float, float]:\n",
    "            \n",
    "            n = mu.size\n",
    "            w = cp.Variable(n)\n",
    "            cons = [cp.sum(w) == 1, w >= lb, w <= ub]\n",
    "            if l1_cap is not None:\n",
    "                cons.append(cp.norm1(w) <= l1_cap)\n",
    "\n",
    "            prob_max = cp.Problem(cp.Maximize(mu @ w), cons)\n",
    "            prob_min = cp.Problem(cp.Minimize(mu @ w), cons)\n",
    "\n",
    "            solved = False\n",
    "            for solver in (\"OSQP\", \"ECOS\", \"SCS\"):\n",
    "                try:\n",
    "                    prob_max.solve(solver=getattr(cp, solver), verbose=False)\n",
    "                    prob_min.solve(solver=getattr(cp, solver), verbose=False)\n",
    "                    if (w.value is not None and\n",
    "                        prob_max.status in (\"optimal\", \"optimal_inaccurate\") and\n",
    "                        prob_min.status in (\"optimal\", \"optimal_inaccurate\")):\n",
    "                        solved = True\n",
    "                        break\n",
    "                except Exception:\n",
    "                    continue\n",
    "\n",
    "            if not solved:\n",
    "                raise ValueError(\"Return range infeasible or no working solver available.\")\n",
    "\n",
    "            return float(prob_min.value), float(prob_max.value)\n",
    "\n",
    "    def _frontier_cvxpy(self,mu: np.ndarray,cov: np.ndarray,r_targets: np.ndarray,lb: np.ndarray,ub: np.ndarray,l1_cap: Optional[float],) -> List[Tuple[float, float, np.ndarray]]:\n",
    "        \n",
    "        n = mu.size\n",
    "        Sigma = cov + self.ridge * np.eye(n)\n",
    "        out: List[Tuple[float, float, np.ndarray]] = []\n",
    "\n",
    "        for r in r_targets:\n",
    "            w = cp.Variable(n)\n",
    "            cons = [cp.sum(w) == 1, (mu @ w) == r, w >= lb, w <= ub]\n",
    "            if l1_cap is not None:\n",
    "                cons.append(cp.norm1(w) <= l1_cap)\n",
    "            obj = cp.Minimize(cp.quad_form(w, Sigma))\n",
    "            prob = cp.Problem(obj, cons)\n",
    "\n",
    "            solved = False\n",
    "            for solver in (\"OSQP\", \"ECOS\", \"SCS\"):\n",
    "                try:\n",
    "                    prob.solve(solver=getattr(cp, solver), eps_abs=1e-8, eps_rel=1e-8, verbose=False)\n",
    "                    if w.value is not None and prob.status in (\"optimal\", \"optimal_inaccurate\"):\n",
    "                        solved = True\n",
    "                        break\n",
    "                except Exception:\n",
    "                    continue\n",
    "\n",
    "            if not solved:\n",
    "               \n",
    "                continue\n",
    "\n",
    "            wv = np.asarray(w.value, float).ravel()\n",
    "            var = float(wv @ Sigma @ wv)\n",
    "            mu_p = float(mu @ wv)\n",
    "            out.append((np.sqrt(var), mu_p, wv))\n",
    "\n",
    "        if not out:\n",
    "            raise ValueError(\"No feasible frontier points found with available solvers.\")\n",
    "        out = sorted(out, key=lambda t: t[0])\n",
    "        return out\n",
    "\n",
    "    def compute_frontier_and_tangent(self,R: pd.DataFrame,sign_policy: Optional[Dict[str, str]] = None,leverage_cap: Optional[float] = None,per_asset_upper: float = 1.0,n_frontier: int = 120,) -> Dict[str, object]:\n",
    "        \n",
    "        R = R.dropna(how=\"any\")\n",
    "        names = list(R.columns)\n",
    "        mu_vec = R.mean().values   \n",
    "        cov = R.cov().values          \n",
    "        lb, ub = self._bounds_from_sign_policy(names, sign_policy, per_asset_upper)\n",
    "\n",
    "        rmin, rmax = self._feasible_return_range_cvxpy(mu_vec, lb, ub, leverage_cap)\n",
    "        r_targets = np.linspace(rmin, rmax, n_frontier)\n",
    "        frontier = self._frontier_cvxpy(mu_vec, cov, r_targets, lb, ub, leverage_cap)\n",
    "\n",
    "        ann = self.ann_factor\n",
    "        rf_ann = self.rf_per_period * ann\n",
    "        sig_f = np.array([s for s, m, w in frontier]) * np.sqrt(ann)\n",
    "        mu_f =  np.array([m for s, m, w in frontier]) * ann\n",
    "        W_f  =  [w for s, m, w in frontier]\n",
    "\n",
    "        \n",
    "        sharpe = (mu_f - rf_ann) / (sig_f + 1e-12)\n",
    "        i_tan = int(np.argmax(sharpe))\n",
    "        tan = {\n",
    "            \"sigma\": float(sig_f[i_tan]),\n",
    "            \"mu\":    float(mu_f[i_tan]),\n",
    "            \"w\":     W_f[i_tan],\n",
    "            \"sharpe\": float(sharpe[i_tan]),\n",
    "        }\n",
    "        return {\"frontier_sigma\": sig_f, \"frontier_mu\": mu_f, \"frontier_weights\": W_f, \"tangent\": tan, \"assets\": names}\n",
    "\n",
    "    def tangent_weights(\n",
    "        self,\n",
    "        mu: np.ndarray,\n",
    "        cov: np.ndarray,\n",
    "        rf_per_period: Optional[float] = None,\n",
    "        *,\n",
    "        sign_policy: Optional[Dict[str, str]] = None,\n",
    "        leverage_cap: Optional[float] = None,\n",
    "        per_asset_upper: float = 1.0,\n",
    "        long_only_fallback: bool = False,\n",
    "        R_for_constraints: Optional[pd.DataFrame] = None,\n",
    "        n_frontier: int = 150,\n",
    "    ) -> np.ndarray:\n",
    "        \"\"\"\n",
    "        Tangent weights. If constraints provided, compute via bounded frontier;\n",
    "        else use closed-form (optionally projected long-only).\n",
    "        \"\"\"\n",
    "        rf_pp = self.rf_per_period if rf_per_period is None else rf_per_period\n",
    "        if sign_policy is None and leverage_cap is None and R_for_constraints is None:\n",
    "            return self._tangent_weights_closed_form(mu, cov, rf_per_period=rf_pp, long_only=long_only_fallback)\n",
    "        if R_for_constraints is None:\n",
    "            raise ValueError(\"Provide R_for_constraints when using constrained tangent.\")\n",
    "        res = self.compute_frontier_and_tangent(\n",
    "            R=R_for_constraints,\n",
    "            sign_policy=sign_policy,\n",
    "            leverage_cap=leverage_cap,\n",
    "            per_asset_upper=per_asset_upper,\n",
    "            n_frontier=n_frontier,\n",
    "        )\n",
    "        return np.asarray(res[\"tangent\"][\"w\"], float)\n",
    "\n",
    "    #Merton Part for Hamilton jacobi bellman\n",
    "    def emwa(self,returns_df: pd.DataFrame,lam: float = 0.94,) -> Tuple[pd.DataFrame, List[np.ndarray], List[str]]:\n",
    "        \"\"\"Exponentially weighted μ_t and Σ_t.\"\"\"\n",
    "        R = returns_df.dropna(how=\"any\")\n",
    "        assets = list(R.columns)\n",
    "        n = len(assets)\n",
    "        mu_t = np.zeros((n, 1))\n",
    "        M_t = np.eye(n) * 1e-8\n",
    "\n",
    "        mu_series: List[np.ndarray] = []\n",
    "        cov_series: List[np.ndarray] = []\n",
    "\n",
    "        for _, r in R.iterrows():\n",
    "            rv = r.values.reshape(-1, 1)\n",
    "            mu_t = lam * mu_t + (1.0 - lam) * rv\n",
    "            M_t  = lam * M_t  + (1.0 - lam) * (rv @ rv.T)\n",
    "            cov_t = M_t - (mu_t @ mu_t.T)\n",
    "            cov_t = cov_t + self.ridge * np.eye(n)\n",
    "            mu_series.append(mu_t.flatten())\n",
    "            cov_series.append(cov_t.copy())\n",
    "\n",
    "        mu_s_df = pd.DataFrame(mu_series, index=R.index, columns=assets)\n",
    "        return mu_s_df, cov_series, assets\n",
    "\n",
    "    def hjb_dynamic(\n",
    "        self,\n",
    "        returns_df: pd.DataFrame,\n",
    "        lam: float = 0.94,\n",
    "        rf: Optional[float] = None,\n",
    "        gamma_mode: str = \"fixed\",        # 'fixed' or 'implied_equal'\n",
    "        gamma_value: float = 3.0,\n",
    "        beta_gamma: float = 0.2,\n",
    "        leverage_cap: Optional[float] = None,\n",
    "        long_only: bool = False,\n",
    "        initial_value: float = 1.0,\n",
    "    ) -> Dict[str, object]:\n",
    "        \"\"\"Simple dynamic allocation w_t = (1/γ_t) Σ_t^{-1} (μ_t - rf).\"\"\"\n",
    "        rf_pp = self.rf_per_period if rf is None else rf\n",
    "        mu_s_df, cov_s, assets = self.emwa(returns_df, lam=lam)\n",
    "        n = len(assets)\n",
    "\n",
    "        # gamma_t series\n",
    "        if gamma_mode == \"fixed\":\n",
    "            gamma_ts = pd.Series([gamma_value] * len(mu_s_df), index=mu_s_df.index, name=\"gamma\")\n",
    "        elif gamma_mode == \"implied_equal\":\n",
    "            w_eq = np.ones((n, 1)) / n\n",
    "            g_s = None\n",
    "            g_vals: List[float] = []\n",
    "            for t in range(len(mu_s_df)):\n",
    "                mu_t = mu_s_df.iloc[t].values.reshape(-1, 1)\n",
    "                b_t = mu_t - rf_pp\n",
    "                cov_t = cov_s[t]\n",
    "                num = float(w_eq.T @ b_t)\n",
    "                den = float(w_eq.T @ cov_t @ w_eq)\n",
    "                g = np.nan if den <= 0 else num / max(den, 1e-12)\n",
    "                g_s = g if (g_s is None or np.isnan(g_s)) else beta_gamma * g + (1 - beta_gamma) * g_s\n",
    "                g_vals.append(float(g_s))\n",
    "            gamma_ts = pd.Series(g_vals, index=mu_s_df.index, name=\"gamma\")\n",
    "        else:\n",
    "            raise ValueError(\"gamma_mode must be 'fixed' or 'implied_equal'.\")\n",
    "\n",
    "\n",
    "        W: List[np.ndarray] = []\n",
    "        for t in range(len(mu_s_df)):\n",
    "            mu_t = mu_s_df.iloc[t].values.reshape(-1, 1)\n",
    "            b_t = mu_t - rf_pp\n",
    "            cov_t = cov_s[t]\n",
    "            try:\n",
    "                inv = np.linalg.inv(cov_t)\n",
    "            except np.linalg.LinAlgError:\n",
    "                inv = np.linalg.pinv(cov_t)\n",
    "            g_t = max(float(gamma_ts.iloc[t]), 1e-12)\n",
    "            w_t = (1.0 / g_t) * (inv @ b_t)\n",
    "\n",
    "            # constraints\n",
    "            w_t = w_t.flatten()\n",
    "            if long_only:\n",
    "                w_t = np.clip(w_t, 0.0, None)\n",
    "            if leverage_cap is not None:\n",
    "                lev = float(np.sum(np.abs(w_t)))\n",
    "                if lev > leverage_cap and lev > 0:\n",
    "                    w_t = w_t * (leverage_cap / lev)\n",
    "            s = w_t.sum()\n",
    "            if abs(s) > 0:\n",
    "                w_t = w_t / s\n",
    "            W.append(w_t)\n",
    "\n",
    "        W_df = pd.DataFrame(W, index=mu_s_df.index, columns=assets)\n",
    "\n",
    "        # equity from lagged weights (rebalance at t using w_{t-1})\n",
    "        R = returns_df.loc[W_df.index].dropna(how=\"any\")\n",
    "        port_ret = (R * W_df.shift(1)).sum(axis=1).dropna()\n",
    "        equity = initial_value * (1.0 + port_ret).cumprod()\n",
    "\n",
    "        return {\"weights\": W_df, \"equity\": equity, \"gamma\": gamma_ts, \"mus\": mu_s_df, \"covs\": cov_s}\n",
    "    \n",
    "    @staticmethod\n",
    "    def ann_mu_sigma_portfolio(eq: pd.Series, ann_factor: float)-> Tuple[float, float]:\n",
    "        eq =eq.dropna()\n",
    "        if len(eq) < 3:\n",
    "            return 0.0, 0.0\n",
    "        ret = eq.pct_change().dropna()\n",
    "        if ret.empty:\n",
    "            return 0.0, 0.0\n",
    "        mu_ann = float(ret.mean() * ann_factor)\n",
    "        sig_ann = float(ret.std() *  np.sqrt(ann_factor))\n",
    "        return mu_ann, sig_ann\n",
    "    \n",
    "\n",
    "    #Plotting Part\n",
    "    #draw the feasible region\n",
    "    def _interior_from_frontier(self, frontier_weights: List[np.ndarray], k_between: int = 6) -> List[np.ndarray]:\n",
    "        mixes: List[np.ndarray] = []\n",
    "        for i in range(len(frontier_weights) - 1):\n",
    "            w1, w2 = frontier_weights[i], frontier_weights[i + 1]\n",
    "            for t in np.linspace(0.1, 0.9, k_between):\n",
    "                mixes.append((1.0 - t) * w1 + t * w2)\n",
    "        return mixes\n",
    "\n",
    "    def plot_mpt_mdp_deterministic(\n",
    "        self,\n",
    "        R: pd.DataFrame,\n",
    "        eq_tan: Optional[pd.Series],\n",
    "        eq_dyn: pd.Series,\n",
    "        sign_policy: Optional[Dict[str, str]] = None,\n",
    "        leverage_cap: Optional[float] = None,\n",
    "        per_asset_upper: float = 1.0,\n",
    "        n_frontier: int = 120,\n",
    "        interior_density: int = 6,\n",
    "        rf_per_period: Optional[float] = None,\n",
    "        ann_factor: Optional[float] = None,\n",
    "    ) -> Dict[str, object]:\n",
    "        \"\"\"Plot assets, bounded efficient frontier, CML (via tangent), and MDP point.\"\"\"\n",
    "        rf_pp = self.rf_per_period if rf_per_period is None else rf_per_period\n",
    "        ann = self.ann_factor if ann_factor is None else ann_factor\n",
    "        rf_ann = rf_pp * ann\n",
    "\n",
    "        R = R.dropna(how=\"any\")\n",
    "        names = list(R.columns)\n",
    "        mu_vec = R.mean().values\n",
    "        cov = R.cov().values\n",
    "\n",
    "\n",
    "        res = self.compute_frontier_and_tangent(\n",
    "            R=R,\n",
    "            sign_policy=sign_policy,\n",
    "            leverage_cap=leverage_cap,\n",
    "            per_asset_upper=per_asset_upper,\n",
    "            n_frontier=n_frontier,\n",
    "        )\n",
    "        sig_f = res[\"frontier_sigma\"]\n",
    "        mu_f = res[\"frontier_mu\"]\n",
    "        W_f = res[\"frontier_weights\"]\n",
    "        tan = res[\"tangent\"]\n",
    "        tan_sigma, tan_mu = tan[\"sigma\"], tan[\"mu\"]\n",
    "\n",
    "\n",
    "        W_in = self._interior_from_frontier(W_f, k_between=interior_density)\n",
    "        if W_in:\n",
    "            Sigma = cov + self.ridge * np.eye(len(mu_vec))\n",
    "            sig_in = []\n",
    "            mu_in = []\n",
    "            for w in W_in:\n",
    "                mu_p = float(mu_vec @ w) * ann\n",
    "                sig_p = float(np.sqrt(w @ Sigma @ w)) * np.sqrt(ann)\n",
    "                mu_in.append(mu_p); sig_in.append(sig_p)\n",
    "            sig_in = np.array(sig_in); mu_in = np.array(mu_in)\n",
    "        else:\n",
    "            sig_in = np.array([]); mu_in = np.array([])\n",
    "\n",
    "\n",
    "        asset_mu = (R.mean() * ann)\n",
    "        asset_sigma = (R.std() * np.sqrt(ann))\n",
    "\n",
    "\n",
    "        dyn_ret = eq_dyn.pct_change().dropna()\n",
    "        mdp_mu = float(dyn_ret.mean() * ann) if not dyn_ret.empty else 0.0\n",
    "        mdp_sigma = float(dyn_ret.std() * np.sqrt(ann)) if not dyn_ret.empty else 0.0\n",
    "\n",
    "        xmax = max([tan_sigma, mdp_sigma, (sig_in.max() if sig_in.size else 0.0), sig_f.max()]) * 1.05\n",
    "        cml_x = np.linspace(0.0, xmax, 200)\n",
    "        tan_sharpe = (tan_mu - rf_ann) / (tan_sigma + 1e-12)\n",
    "        cml_y = rf_ann + tan_sharpe * cml_x\n",
    "\n",
    "        # ---- Plotly\n",
    "        fig = go.Figure()\n",
    "        if sig_in.size:\n",
    "            fig.add_trace(go.Scatter(x=sig_in, y=mu_in, mode=\"markers\",\n",
    "                                     name=\"Feasible Region (det.)\",\n",
    "                                     opacity=0.25, marker=dict(size=5)))\n",
    "        fig.add_trace(go.Scatter(x=sig_f, y=mu_f, mode=\"lines\",\n",
    "                                 name=\"Efficient Frontier (bounded)\",\n",
    "                                 line=dict(width=3)))\n",
    "        fig.add_trace(go.Scatter(x=cml_x, y=cml_y, mode=\"lines\",\n",
    "                                 name=f\"CML (Sharpe {tan_sharpe:.2f})\",\n",
    "                                 line=dict(width=2, dash=\"dash\")))\n",
    "        fig.add_trace(go.Scatter(x=[tan_sigma], y=[tan_mu], mode=\"markers+text\",\n",
    "                                 name=\"Tangent\", text=[\"Tangent\"],\n",
    "                                 textposition=\"top center\",\n",
    "                                 marker=dict(size=14, symbol=\"star\")))\n",
    "        fig.add_trace(go.Scatter(x=[mdp_sigma], y=[mdp_mu], mode=\"markers+text\",\n",
    "                                 name=\"MDP/HJB\", text=[\"MDP/HJB\"],\n",
    "                                 textposition=\"bottom center\",\n",
    "                                 marker=dict(size=12, symbol=\"diamond\")))\n",
    "        fig.add_trace(go.Scatter(x=asset_sigma.values, y=asset_mu.values, mode=\"markers\",\n",
    "                                 name=\"Assets\", text=names,\n",
    "                                 hovertemplate=\"%{text}<br>σ=%{x:.2f}, μ=%{y:.2f}<extra></extra>\",\n",
    "                                 marker=dict(size=9)))\n",
    "\n",
    "        fig.update_layout(\n",
    "            title=\"MPT vs MDP — Deterministic Feasible Region & Frontier\",\n",
    "            xaxis_title=\"Volatility σ (annualized)\",\n",
    "            yaxis_title=\"Mean Return μ (annualized)\",\n",
    "            template=\"plotly_white\",\n",
    "            legend=dict(orientation=\"h\", y=1.06, x=0),\n",
    "            margin=dict(l=60, r=40, t=70, b=60),\n",
    "        )\n",
    "        fig.show()\n",
    "\n",
    "        return {\"figure\": fig, \"frontier_sigma\": sig_f, \"frontier_mu\": mu_f,\n",
    "                \"frontier_weights\": W_f, \"tangent\": tan}\n"
   ]
  },
  {
   "cell_type": "code",
   "execution_count": 10,
   "id": "6f678acf",
   "metadata": {},
   "outputs": [
    {
     "name": "stderr",
     "output_type": "stream",
     "text": [
      "WARNING:tvDatafeed.main:you are using nologin method, data you access may be limited\n"
     ]
    },
    {
     "name": "stdout",
     "output_type": "stream",
     "text": [
      "Using GPU\n",
      "Fetching data for ['XAUUSD', 'XAGUSD', 'ZW1!', 'AOT', 'BRN1!', 'S501!'] using tvDatafeed...\n",
      "Fetching XAUUSD (Gold Spot) from OANDA ...\n",
      "OK: XAUUSD, rows=237\n",
      "Fetching XAGUSD (Silver Spot) from OANDA ...\n",
      "OK: XAGUSD, rows=237\n",
      "Fetching ZW1! (Wheat Futures) from CBOT ...\n",
      "OK: ZW1!, rows=249\n",
      "Fetching AOT (AOT) from SET ...\n",
      "OK: AOT, rows=281\n",
      "Fetching BRN1! (Brent Futures) from ICEEUR ...\n",
      "OK: BRN1!, rows=238\n",
      "Fetching S501! (SET50 Futures) from TFEX ...\n"
     ]
    },
    {
     "name": "stderr",
     "output_type": "stream",
     "text": [
      "C:\\Users\\offen\\AppData\\Local\\Temp\\ipykernel_10876\\1198141927.py:27: FutureWarning: The default fill_method='pad' in DataFrame.pct_change is deprecated and will be removed in a future version. Either fill in any non-leading NA values prior to calling pct_change or specify 'fill_method=None' to not fill NA values.\n",
      "  R = prices.pct_change()\n",
      "C:\\Users\\offen\\AppData\\Local\\Temp\\ipykernel_10876\\1198141927.py:298: DeprecationWarning: Conversion of an array with ndim > 0 to a scalar is deprecated, and will error in future. Ensure you extract a single element from your array before performing this operation. (Deprecated NumPy 1.25.)\n",
      "  num = float(w_eq.T @ b_t)\n",
      "C:\\Users\\offen\\AppData\\Local\\Temp\\ipykernel_10876\\1198141927.py:299: DeprecationWarning: Conversion of an array with ndim > 0 to a scalar is deprecated, and will error in future. Ensure you extract a single element from your array before performing this operation. (Deprecated NumPy 1.25.)\n",
      "  den = float(w_eq.T @ cov_t @ w_eq)\n",
      "[I 2025-08-26 11:07:26,839] A new study created in memory with name: no-name-18d8ea9d-2cdb-4c0e-bcc8-93d750146202\n"
     ]
    },
    {
     "name": "stdout",
     "output_type": "stream",
     "text": [
      "OK: S501!, rows=281\n",
      "Tangent weights: {'XAUUSD': np.float64(0.0), 'XAGUSD': np.float64(0.337440855573462), 'ZW1!': np.float64(0.0), 'AOT': np.float64(0.2931207495162222), 'BRN1!': np.float64(0.0), 'S501!': np.float64(0.36943839491031594)}\n",
      "Final equity (tangent): 1182886.2018608358\n",
      "Final equity (dynamic): 1169349.6188215152\n",
      "[before tuning] {'sequence_length': 38, 'hidden_layer_size': 492, 'lstm_layers': 1, 'dropout': 0.0, 'learning_rate': 0.0021, 'epochs': 3000, 'tx_cost_bps': 10.0, 'long_threshold': 0.0, 'short_threshold': 0.0, 'train_frac': 0.7}\n"
     ]
    },
    {
     "name": "stderr",
     "output_type": "stream",
     "text": [
      "c:\\Users\\offen\\AppData\\Local\\Programs\\Python\\Python312\\Lib\\site-packages\\optuna\\distributions.py:708: UserWarning: The distribution is specified by [1, 500] and step=8, but the range is not divisible by `step`. It will be replaced by [1, 497].\n",
      "  warnings.warn(\n",
      "[I 2025-08-26 11:07:27,347] Trial 0 finished with value: 0.4285059022784532 and parameters: {'sequence_length': 33, 'hidden_layer_size': 313, 'lstm_layers': 2, 'dropout': 0.4712151502282615, 'learning_rate': 0.007675507817190953, 'epochs': 2730, 'long_threshold': 0.0008293927654292901, 'short_threshold': 0.002405616532605058}. Best is trial 0 with value: 0.4285059022784532.\n",
      "c:\\Users\\offen\\AppData\\Local\\Programs\\Python\\Python312\\Lib\\site-packages\\optuna\\distributions.py:708: UserWarning: The distribution is specified by [1, 500] and step=8, but the range is not divisible by `step`. It will be replaced by [1, 497].\n",
      "  warnings.warn(\n",
      "[I 2025-08-26 11:07:27,800] Trial 1 finished with value: -5.197748333539698 and parameters: {'sequence_length': 85, 'hidden_layer_size': 441, 'lstm_layers': 2, 'dropout': 0.3005970753140752, 'learning_rate': 0.0033737189167564853, 'epochs': 7130, 'long_threshold': 0.0011107522643711849, 'short_threshold': 0.0016835885581968748}. Best is trial 0 with value: 0.4285059022784532.\n",
      "c:\\Users\\offen\\AppData\\Local\\Programs\\Python\\Python312\\Lib\\site-packages\\optuna\\distributions.py:708: UserWarning: The distribution is specified by [1, 500] and step=8, but the range is not divisible by `step`. It will be replaced by [1, 497].\n",
      "  warnings.warn(\n",
      "[I 2025-08-26 11:07:27,871] Trial 2 finished with value: 0.8295729538294383 and parameters: {'sequence_length': 53, 'hidden_layer_size': 1, 'lstm_layers': 3, 'dropout': 0.5295847143816699, 'learning_rate': 0.0002237187115484708, 'epochs': 6160, 'long_threshold': 0.00022614372492892965, 'short_threshold': 0.0011064720180059236}. Best is trial 2 with value: 0.8295729538294383.\n",
      "c:\\Users\\offen\\AppData\\Local\\Programs\\Python\\Python312\\Lib\\site-packages\\optuna\\distributions.py:708: UserWarning: The distribution is specified by [1, 500] and step=8, but the range is not divisible by `step`. It will be replaced by [1, 497].\n",
      "  warnings.warn(\n",
      "[I 2025-08-26 11:07:28,470] Trial 3 finished with value: 0.0 and parameters: {'sequence_length': 81, 'hidden_layer_size': 329, 'lstm_layers': 2, 'dropout': 0.47323808576444726, 'learning_rate': 0.0001485823805383844, 'epochs': 5690, 'long_threshold': 0.0026073821686836774, 'short_threshold': 0.0013085202716870382}. Best is trial 2 with value: 0.8295729538294383.\n",
      "c:\\Users\\offen\\AppData\\Local\\Programs\\Python\\Python312\\Lib\\site-packages\\optuna\\distributions.py:708: UserWarning: The distribution is specified by [1, 500] and step=8, but the range is not divisible by `step`. It will be replaced by [1, 497].\n",
      "  warnings.warn(\n",
      "[I 2025-08-26 11:07:28,806] Trial 4 finished with value: 0.0 and parameters: {'sequence_length': 73, 'hidden_layer_size': 73, 'lstm_layers': 3, 'dropout': 0.4227487849137435, 'learning_rate': 6.446224643080463e-05, 'epochs': 9250, 'long_threshold': 0.00132642226621253, 'short_threshold': 0.0027279478769174177}. Best is trial 2 with value: 0.8295729538294383.\n",
      "c:\\Users\\offen\\AppData\\Local\\Programs\\Python\\Python312\\Lib\\site-packages\\optuna\\distributions.py:708: UserWarning: The distribution is specified by [1, 500] and step=8, but the range is not divisible by `step`. It will be replaced by [1, 497].\n",
      "  warnings.warn(\n",
      "[I 2025-08-26 11:07:28,889] Trial 5 finished with value: -0.2973643678084059 and parameters: {'sequence_length': 25, 'hidden_layer_size': 89, 'lstm_layers': 1, 'dropout': 0.4049285661493981, 'learning_rate': 0.0015830667410321512, 'epochs': 5340, 'long_threshold': 0.00012997218808441047, 'short_threshold': 0.0016842992401901937}. Best is trial 2 with value: 0.8295729538294383.\n",
      "c:\\Users\\offen\\AppData\\Local\\Programs\\Python\\Python312\\Lib\\site-packages\\optuna\\distributions.py:708: UserWarning: The distribution is specified by [1, 500] and step=8, but the range is not divisible by `step`. It will be replaced by [1, 497].\n",
      "  warnings.warn(\n",
      "[I 2025-08-26 11:07:29,042] Trial 6 finished with value: 0.0 and parameters: {'sequence_length': 41, 'hidden_layer_size': 249, 'lstm_layers': 1, 'dropout': 0.36431622373109074, 'learning_rate': 0.0012399730859723546, 'epochs': 70, 'long_threshold': 0.0018523251264128912, 'short_threshold': 0.002736368659299463}. Best is trial 2 with value: 0.8295729538294383.\n",
      "c:\\Users\\offen\\AppData\\Local\\Programs\\Python\\Python312\\Lib\\site-packages\\optuna\\distributions.py:708: UserWarning: The distribution is specified by [1, 500] and step=8, but the range is not divisible by `step`. It will be replaced by [1, 497].\n",
      "  warnings.warn(\n",
      "[I 2025-08-26 11:07:29,895] Trial 7 finished with value: -0.4995004995004271 and parameters: {'sequence_length': 73, 'hidden_layer_size': 497, 'lstm_layers': 3, 'dropout': 0.47517848117498385, 'learning_rate': 0.00011353630204166286, 'epochs': 6250, 'long_threshold': 0.0014342813870120237, 'short_threshold': 0.0005870255359976947}. Best is trial 2 with value: 0.8295729538294383.\n",
      "c:\\Users\\offen\\AppData\\Local\\Programs\\Python\\Python312\\Lib\\site-packages\\optuna\\distributions.py:708: UserWarning: The distribution is specified by [1, 500] and step=8, but the range is not divisible by `step`. It will be replaced by [1, 497].\n",
      "  warnings.warn(\n",
      "[I 2025-08-26 11:07:32,050] Trial 8 finished with value: 0.0 and parameters: {'sequence_length': 45, 'hidden_layer_size': 25, 'lstm_layers': 2, 'dropout': 0.5892028449131727, 'learning_rate': 2.873825085223262e-05, 'epochs': 1200, 'long_threshold': 0.0022155691684300404, 'short_threshold': 0.001761910900391954}. Best is trial 2 with value: 0.8295729538294383.\n",
      "c:\\Users\\offen\\AppData\\Local\\Programs\\Python\\Python312\\Lib\\site-packages\\optuna\\distributions.py:708: UserWarning: The distribution is specified by [1, 500] and step=8, but the range is not divisible by `step`. It will be replaced by [1, 497].\n",
      "  warnings.warn(\n",
      "[I 2025-08-26 11:07:32,227] Trial 9 finished with value: 0.0 and parameters: {'sequence_length': 53, 'hidden_layer_size': 49, 'lstm_layers': 1, 'dropout': 0.5399791169020052, 'learning_rate': 0.00034798364713040314, 'epochs': 5360, 'long_threshold': 1.8625549761388193e-05, 'short_threshold': 0.0009019251173109034}. Best is trial 2 with value: 0.8295729538294383.\n"
     ]
    },
    {
     "name": "stdout",
     "output_type": "stream",
     "text": [
      "\n",
      "=== Best Trial ===\n",
      "Value (objective): 0.8295729538294383\n",
      "sequence_length: 53\n",
      "hidden_layer_size: 1\n",
      "lstm_layers: 3\n",
      "dropout: 0.5295847143816699\n",
      "learning_rate: 0.0002237187115484708\n",
      "epochs: 6160\n",
      "long_threshold: 0.00022614372492892965\n",
      "short_threshold: 0.0011064720180059236\n",
      "Metrics (val): {'Total Profit %': np.float64(1.22917335342978), 'MaxDD %': -0.09990009990008542, 'WinRate': 0.19047619047619047}\n",
      "[after tuning] {'sequence_length': 53, 'hidden_layer_size': 1, 'lstm_layers': 3, 'dropout': 0.5295847143816699, 'learning_rate': 0.0002237187115484708, 'epochs': 6160, 'tx_cost_bps': 10.0, 'long_threshold': 0.00022614372492892965, 'short_threshold': 0.0011064720180059236, 'train_frac': 0.7}\n",
      "\n",
      "Processing XAUUSD ...\n",
      "[params for XAUUSD ] {'sequence_length': 53, 'hidden_layer_size': 1, 'lstm_layers': 3, 'dropout': 0.5295847143816699, 'learning_rate': 0.0002237187115484708, 'epochs': 6160, 'long_threshold': 0.00022614372492892965, 'short_threshold': 0.0011064720180059236}\n",
      "[train] seq=53 | hidden=1 | layers=3 | dropout=0.53 | lr=0.000224 | epochs=6160 | thr=[long 0.0002, short 0.0011]\n",
      "Epoch 513/6160  TrainLoss: 0.47810113\n",
      "Epoch 1026/6160  TrainLoss: 0.16710512\n",
      "Epoch 1539/6160  TrainLoss: 0.06155353\n",
      "Epoch 2052/6160  TrainLoss: 0.03959506\n",
      "Epoch 2565/6160  TrainLoss: 0.03657201\n",
      "Epoch 3078/6160  TrainLoss: 0.03793631\n",
      "Epoch 3591/6160  TrainLoss: 0.03706355\n",
      "Epoch 4104/6160  TrainLoss: 0.03681369\n",
      "Epoch 4617/6160  TrainLoss: 0.03720151\n",
      "Epoch 5130/6160  TrainLoss: 0.03639151\n",
      "Epoch 5643/6160  TrainLoss: 0.03641344\n",
      "Epoch 6156/6160  TrainLoss: 0.03708003\n",
      "Epoch 6160/6160  TrainLoss: 0.03780104\n"
     ]
    },
    {
     "data": {
      "application/vnd.plotly.v1+json": {
       "config": {
        "plotlyServerURL": "https://plot.ly"
       },
       "data": [
        {
         "hovertemplate": "%{x|%Y-%m-%d %H:%M}<br>Price %{y:.4f}<extra></extra>",
         "line": {
          "color": "#C62828",
          "width": 2
         },
         "mode": "lines",
         "name": "Price (Short)",
         "type": "scatter",
         "x": [
          "2025-07-25T00:00:00",
          "2025-07-25T04:00:00",
          "2025-07-25T08:00:00",
          "2025-07-25T12:00:00",
          "2025-07-25T16:00:00",
          "2025-07-25T20:00:00",
          "2025-07-26T00:00:00",
          "2025-07-28T04:00:00",
          "2025-07-28T08:00:00",
          "2025-07-28T12:00:00",
          "2025-07-28T16:00:00",
          "2025-07-28T20:00:00",
          "2025-07-29T00:00:00",
          "2025-07-29T04:00:00",
          "2025-07-29T08:00:00",
          "2025-07-29T12:00:00",
          "2025-07-29T16:00:00",
          "2025-07-29T20:00:00",
          "2025-07-30T00:00:00",
          "2025-07-30T04:00:00",
          "2025-07-30T08:00:00",
          "2025-07-30T12:00:00",
          "2025-07-30T16:00:00",
          "2025-07-30T20:00:00",
          "2025-07-31T00:00:00",
          "2025-07-31T04:00:00",
          "2025-07-31T08:00:00",
          "2025-07-31T12:00:00",
          "2025-07-31T16:00:00",
          "2025-07-31T20:00:00",
          "2025-08-01T00:00:00",
          "2025-08-01T04:00:00",
          "2025-08-01T08:00:00",
          "2025-08-01T12:00:00",
          "2025-08-01T16:00:00",
          "2025-08-01T20:00:00",
          "2025-08-02T00:00:00",
          "2025-08-04T04:00:00",
          "2025-08-04T08:00:00",
          "2025-08-04T12:00:00",
          "2025-08-04T16:00:00",
          "2025-08-04T20:00:00",
          "2025-08-05T00:00:00",
          "2025-08-05T04:00:00",
          "2025-08-05T08:00:00",
          "2025-08-05T12:00:00",
          "2025-08-05T16:00:00",
          "2025-08-05T20:00:00",
          "2025-08-06T00:00:00",
          "2025-08-06T04:00:00",
          "2025-08-06T08:00:00",
          "2025-08-06T12:00:00",
          "2025-08-06T16:00:00",
          "2025-08-06T20:00:00",
          "2025-08-07T00:00:00",
          "2025-08-07T04:00:00",
          "2025-08-07T08:00:00",
          "2025-08-07T12:00:00",
          "2025-08-07T16:00:00",
          "2025-08-07T20:00:00",
          "2025-08-08T00:00:00",
          "2025-08-08T04:00:00",
          "2025-08-08T08:00:00",
          "2025-08-08T12:00:00",
          "2025-08-08T16:00:00",
          "2025-08-08T20:00:00",
          "2025-08-09T00:00:00",
          "2025-08-11T04:00:00",
          "2025-08-11T08:00:00",
          "2025-08-11T12:00:00",
          "2025-08-11T16:00:00",
          "2025-08-11T20:00:00"
         ],
         "xaxis": "x",
         "y": [
          null,
          null,
          null,
          null,
          null,
          3329.93994140625,
          3337.070068359375,
          3333.419921875,
          3339.72509765625,
          3336.14501953125,
          3328.4599609375,
          3312.264892578125,
          3314.449951171875,
          3311.705078125,
          3316.534912109375,
          3326.434814453125,
          3323.35009765625,
          3323.280029296875,
          3326.670166015625,
          3330.30517578125,
          3327.18994140625,
          3332.28515625,
          3313.3798828125,
          3298.1748046875,
          3275.2900390625,
          3286.47509765625,
          3298.14990234375,
          3309.9150390625,
          3307.68505859375,
          3295.14013671875,
          3290.1201171875,
          3290.264892578125,
          3292.18994140625,
          3294.360107421875,
          3341.260009765625,
          3347.39990234375,
          3362.89501953125,
          null,
          null,
          null,
          null,
          null,
          null,
          null,
          null,
          null,
          null,
          null,
          null,
          null,
          null,
          null,
          null,
          null,
          null,
          null,
          null,
          null,
          null,
          null,
          null,
          null,
          null,
          null,
          null,
          null,
          null,
          null,
          null,
          null,
          null,
          null
         ],
         "yaxis": "y"
        },
        {
         "hovertemplate": "%{x|%Y-%m-%d %H:%M}<br>Price %{y:.4f}<extra></extra>",
         "line": {
          "color": "#9E9E9E",
          "width": 2
         },
         "mode": "lines",
         "name": "Price (Neutral)",
         "type": "scatter",
         "x": [
          "2025-07-25T00:00:00",
          "2025-07-25T04:00:00",
          "2025-07-25T08:00:00",
          "2025-07-25T12:00:00",
          "2025-07-25T16:00:00",
          "2025-07-25T20:00:00",
          "2025-07-26T00:00:00",
          "2025-07-28T04:00:00",
          "2025-07-28T08:00:00",
          "2025-07-28T12:00:00",
          "2025-07-28T16:00:00",
          "2025-07-28T20:00:00",
          "2025-07-29T00:00:00",
          "2025-07-29T04:00:00",
          "2025-07-29T08:00:00",
          "2025-07-29T12:00:00",
          "2025-07-29T16:00:00",
          "2025-07-29T20:00:00",
          "2025-07-30T00:00:00",
          "2025-07-30T04:00:00",
          "2025-07-30T08:00:00",
          "2025-07-30T12:00:00",
          "2025-07-30T16:00:00",
          "2025-07-30T20:00:00",
          "2025-07-31T00:00:00",
          "2025-07-31T04:00:00",
          "2025-07-31T08:00:00",
          "2025-07-31T12:00:00",
          "2025-07-31T16:00:00",
          "2025-07-31T20:00:00",
          "2025-08-01T00:00:00",
          "2025-08-01T04:00:00",
          "2025-08-01T08:00:00",
          "2025-08-01T12:00:00",
          "2025-08-01T16:00:00",
          "2025-08-01T20:00:00",
          "2025-08-02T00:00:00",
          "2025-08-04T04:00:00",
          "2025-08-04T08:00:00",
          "2025-08-04T12:00:00",
          "2025-08-04T16:00:00",
          "2025-08-04T20:00:00",
          "2025-08-05T00:00:00",
          "2025-08-05T04:00:00",
          "2025-08-05T08:00:00",
          "2025-08-05T12:00:00",
          "2025-08-05T16:00:00",
          "2025-08-05T20:00:00",
          "2025-08-06T00:00:00",
          "2025-08-06T04:00:00",
          "2025-08-06T08:00:00",
          "2025-08-06T12:00:00",
          "2025-08-06T16:00:00",
          "2025-08-06T20:00:00",
          "2025-08-07T00:00:00",
          "2025-08-07T04:00:00",
          "2025-08-07T08:00:00",
          "2025-08-07T12:00:00",
          "2025-08-07T16:00:00",
          "2025-08-07T20:00:00",
          "2025-08-08T00:00:00",
          "2025-08-08T04:00:00",
          "2025-08-08T08:00:00",
          "2025-08-08T12:00:00",
          "2025-08-08T16:00:00",
          "2025-08-08T20:00:00",
          "2025-08-09T00:00:00",
          "2025-08-11T04:00:00",
          "2025-08-11T08:00:00",
          "2025-08-11T12:00:00",
          "2025-08-11T16:00:00",
          "2025-08-11T20:00:00"
         ],
         "xaxis": "x",
         "y": [
          null,
          null,
          null,
          null,
          null,
          null,
          null,
          null,
          null,
          null,
          null,
          null,
          null,
          null,
          null,
          null,
          null,
          null,
          null,
          null,
          null,
          null,
          null,
          null,
          null,
          null,
          null,
          null,
          null,
          null,
          null,
          null,
          null,
          null,
          null,
          null,
          null,
          null,
          null,
          null,
          null,
          null,
          null,
          null,
          null,
          null,
          null,
          null,
          null,
          null,
          null,
          null,
          null,
          null,
          null,
          null,
          null,
          null,
          null,
          null,
          null,
          null,
          null,
          null,
          null,
          null,
          null,
          null,
          null,
          null,
          null,
          null
         ],
         "yaxis": "y"
        },
        {
         "hovertemplate": "%{x|%Y-%m-%d %H:%M}<br>Price %{y:.4f}<extra></extra>",
         "line": {
          "color": "#2E7D32",
          "width": 2
         },
         "mode": "lines",
         "name": "Price (Long)",
         "type": "scatter",
         "x": [
          "2025-07-25T00:00:00",
          "2025-07-25T04:00:00",
          "2025-07-25T08:00:00",
          "2025-07-25T12:00:00",
          "2025-07-25T16:00:00",
          "2025-07-25T20:00:00",
          "2025-07-26T00:00:00",
          "2025-07-28T04:00:00",
          "2025-07-28T08:00:00",
          "2025-07-28T12:00:00",
          "2025-07-28T16:00:00",
          "2025-07-28T20:00:00",
          "2025-07-29T00:00:00",
          "2025-07-29T04:00:00",
          "2025-07-29T08:00:00",
          "2025-07-29T12:00:00",
          "2025-07-29T16:00:00",
          "2025-07-29T20:00:00",
          "2025-07-30T00:00:00",
          "2025-07-30T04:00:00",
          "2025-07-30T08:00:00",
          "2025-07-30T12:00:00",
          "2025-07-30T16:00:00",
          "2025-07-30T20:00:00",
          "2025-07-31T00:00:00",
          "2025-07-31T04:00:00",
          "2025-07-31T08:00:00",
          "2025-07-31T12:00:00",
          "2025-07-31T16:00:00",
          "2025-07-31T20:00:00",
          "2025-08-01T00:00:00",
          "2025-08-01T04:00:00",
          "2025-08-01T08:00:00",
          "2025-08-01T12:00:00",
          "2025-08-01T16:00:00",
          "2025-08-01T20:00:00",
          "2025-08-02T00:00:00",
          "2025-08-04T04:00:00",
          "2025-08-04T08:00:00",
          "2025-08-04T12:00:00",
          "2025-08-04T16:00:00",
          "2025-08-04T20:00:00",
          "2025-08-05T00:00:00",
          "2025-08-05T04:00:00",
          "2025-08-05T08:00:00",
          "2025-08-05T12:00:00",
          "2025-08-05T16:00:00",
          "2025-08-05T20:00:00",
          "2025-08-06T00:00:00",
          "2025-08-06T04:00:00",
          "2025-08-06T08:00:00",
          "2025-08-06T12:00:00",
          "2025-08-06T16:00:00",
          "2025-08-06T20:00:00",
          "2025-08-07T00:00:00",
          "2025-08-07T04:00:00",
          "2025-08-07T08:00:00",
          "2025-08-07T12:00:00",
          "2025-08-07T16:00:00",
          "2025-08-07T20:00:00",
          "2025-08-08T00:00:00",
          "2025-08-08T04:00:00",
          "2025-08-08T08:00:00",
          "2025-08-08T12:00:00",
          "2025-08-08T16:00:00",
          "2025-08-08T20:00:00",
          "2025-08-09T00:00:00",
          "2025-08-11T04:00:00",
          "2025-08-11T08:00:00",
          "2025-08-11T12:00:00",
          "2025-08-11T16:00:00",
          "2025-08-11T20:00:00"
         ],
         "xaxis": "x",
         "y": [
          3368.7099609375,
          3372.255126953125,
          3360.9599609375,
          3345.55517578125,
          3340.88525390625,
          null,
          null,
          null,
          null,
          null,
          null,
          null,
          null,
          null,
          null,
          null,
          null,
          null,
          null,
          null,
          null,
          null,
          null,
          null,
          null,
          null,
          null,
          null,
          null,
          null,
          null,
          null,
          null,
          null,
          null,
          null,
          null,
          3352.26513671875,
          3358.999755859375,
          3358.60498046875,
          3367.81494140625,
          3370.969970703125,
          3373.635009765625,
          3379.875,
          3371.27001953125,
          3366.130126953125,
          3366.219970703125,
          3382.10986328125,
          3380.960205078125,
          3383.505126953125,
          3372.56005859375,
          3365.204833984375,
          3367.614990234375,
          3376.1748046875,
          3369.269775390625,
          3372.385009765625,
          3377.739990234375,
          3378.510009765625,
          3380.73486328125,
          3388.900146484375,
          3396.47998046875,
          3388.802001953125,
          3394.474853515625,
          3394.455078125,
          3391.614990234375,
          3397.56982421875,
          3397.76513671875,
          3381.739990234375,
          3375.974853515625,
          3362.010009765625,
          3356.91015625,
          3344.2099609375
         ],
         "yaxis": "y"
        },
        {
         "hovertemplate": "%{x|%Y-%m-%d %H:%M}<br>Pred %{y:.4f}<extra></extra>",
         "line": {
          "color": "#FB8C00",
          "dash": "dot",
          "width": 1.2
         },
         "mode": "lines",
         "name": "Predicted (t+1)",
         "type": "scatter",
         "x": [
          "2025-07-25T00:00:00",
          "2025-07-25T04:00:00",
          "2025-07-25T08:00:00",
          "2025-07-25T12:00:00",
          "2025-07-25T16:00:00",
          "2025-07-25T20:00:00",
          "2025-07-26T00:00:00",
          "2025-07-28T04:00:00",
          "2025-07-28T08:00:00",
          "2025-07-28T12:00:00",
          "2025-07-28T16:00:00",
          "2025-07-28T20:00:00",
          "2025-07-29T00:00:00",
          "2025-07-29T04:00:00",
          "2025-07-29T08:00:00",
          "2025-07-29T12:00:00",
          "2025-07-29T16:00:00",
          "2025-07-29T20:00:00",
          "2025-07-30T00:00:00",
          "2025-07-30T04:00:00",
          "2025-07-30T08:00:00",
          "2025-07-30T12:00:00",
          "2025-07-30T16:00:00",
          "2025-07-30T20:00:00",
          "2025-07-31T00:00:00",
          "2025-07-31T04:00:00",
          "2025-07-31T08:00:00",
          "2025-07-31T12:00:00",
          "2025-07-31T16:00:00",
          "2025-07-31T20:00:00",
          "2025-08-01T00:00:00",
          "2025-08-01T04:00:00",
          "2025-08-01T08:00:00",
          "2025-08-01T12:00:00",
          "2025-08-01T16:00:00",
          "2025-08-01T20:00:00",
          "2025-08-02T00:00:00",
          "2025-08-04T04:00:00",
          "2025-08-04T08:00:00",
          "2025-08-04T12:00:00",
          "2025-08-04T16:00:00",
          "2025-08-04T20:00:00",
          "2025-08-05T00:00:00",
          "2025-08-05T04:00:00",
          "2025-08-05T08:00:00",
          "2025-08-05T12:00:00",
          "2025-08-05T16:00:00",
          "2025-08-05T20:00:00",
          "2025-08-06T00:00:00",
          "2025-08-06T04:00:00",
          "2025-08-06T08:00:00",
          "2025-08-06T12:00:00",
          "2025-08-06T16:00:00",
          "2025-08-06T20:00:00",
          "2025-08-07T00:00:00",
          "2025-08-07T04:00:00",
          "2025-08-07T08:00:00",
          "2025-08-07T12:00:00",
          "2025-08-07T16:00:00",
          "2025-08-07T20:00:00",
          "2025-08-08T00:00:00",
          "2025-08-08T04:00:00",
          "2025-08-08T08:00:00",
          "2025-08-08T12:00:00",
          "2025-08-08T16:00:00",
          "2025-08-08T20:00:00",
          "2025-08-09T00:00:00",
          "2025-08-11T04:00:00",
          "2025-08-11T08:00:00",
          "2025-08-11T12:00:00",
          "2025-08-11T16:00:00",
          "2025-08-11T20:00:00"
         ],
         "xaxis": "x",
         "y": [
          3346.308349609375,
          3346.2333984375,
          3346.181640625,
          3346.14990234375,
          3346.114013671875,
          3346.057373046875,
          3345.992919921875,
          3345.918701171875,
          3345.861328125,
          3345.814697265625,
          3345.787841796875,
          3345.767578125,
          3345.74072265625,
          3345.69140625,
          3345.644287109375,
          3345.6015625,
          3345.574462890625,
          3345.574462890625,
          3345.5810546875,
          3345.589111328125,
          3345.602294921875,
          3345.623046875,
          3345.639404296875,
          3345.66064453125,
          3345.652099609375,
          3345.609130859375,
          3345.5302734375,
          3345.466552734375,
          3345.437744140625,
          3345.4443359375,
          3345.46044921875,
          3345.458740234375,
          3345.44384765625,
          3345.4267578125,
          3345.4150390625,
          3345.409912109375,
          3345.48193359375,
          3345.5849609375,
          3345.70654296875,
          3345.80224609375,
          3345.884033203125,
          3345.95068359375,
          3346.015869140625,
          3346.07666015625,
          3346.13134765625,
          3346.18505859375,
          3346.2197265625,
          3346.2333984375,
          3346.23681640625,
          3346.25732421875,
          3346.28076171875,
          3346.304443359375,
          3346.31005859375,
          3346.295166015625,
          3346.27587890625,
          3346.26953125,
          3346.259033203125,
          3346.250732421875,
          3346.252197265625,
          3346.259033203125,
          3346.269775390625,
          3346.29248046875,
          3346.327392578125,
          3346.352294921875,
          3346.375244140625,
          3346.3955078125,
          3346.40771484375,
          3346.423095703125,
          3346.438232421875,
          3346.42724609375,
          3346.39404296875,
          3346.33349609375
         ],
         "yaxis": "y"
        },
        {
         "hovertemplate": "%{x|%Y-%m-%d %H:%M}<br>Equity %{y:,.2f}<extra></extra>",
         "line": {
          "color": "#6A1B9A",
          "width": 1.8
         },
         "mode": "lines",
         "name": "Equity",
         "type": "scatter",
         "x": [
          "2025-07-25T00:00:00",
          "2025-07-25T04:00:00",
          "2025-07-25T08:00:00",
          "2025-07-25T12:00:00",
          "2025-07-25T16:00:00",
          "2025-07-25T20:00:00",
          "2025-07-26T00:00:00",
          "2025-07-28T04:00:00",
          "2025-07-28T08:00:00",
          "2025-07-28T12:00:00",
          "2025-07-28T16:00:00",
          "2025-07-28T20:00:00",
          "2025-07-29T00:00:00",
          "2025-07-29T04:00:00",
          "2025-07-29T08:00:00",
          "2025-07-29T12:00:00",
          "2025-07-29T16:00:00",
          "2025-07-29T20:00:00",
          "2025-07-30T00:00:00",
          "2025-07-30T04:00:00",
          "2025-07-30T08:00:00",
          "2025-07-30T12:00:00",
          "2025-07-30T16:00:00",
          "2025-07-30T20:00:00",
          "2025-07-31T00:00:00",
          "2025-07-31T04:00:00",
          "2025-07-31T08:00:00",
          "2025-07-31T12:00:00",
          "2025-07-31T16:00:00",
          "2025-07-31T20:00:00",
          "2025-08-01T00:00:00",
          "2025-08-01T04:00:00",
          "2025-08-01T08:00:00",
          "2025-08-01T12:00:00",
          "2025-08-01T16:00:00",
          "2025-08-01T20:00:00",
          "2025-08-02T00:00:00",
          "2025-08-04T04:00:00",
          "2025-08-04T08:00:00",
          "2025-08-04T12:00:00",
          "2025-08-04T16:00:00",
          "2025-08-04T20:00:00",
          "2025-08-05T00:00:00",
          "2025-08-05T04:00:00",
          "2025-08-05T08:00:00",
          "2025-08-05T12:00:00",
          "2025-08-05T16:00:00",
          "2025-08-05T20:00:00",
          "2025-08-06T00:00:00",
          "2025-08-06T04:00:00",
          "2025-08-06T08:00:00",
          "2025-08-06T12:00:00",
          "2025-08-06T16:00:00",
          "2025-08-06T20:00:00",
          "2025-08-07T00:00:00",
          "2025-08-07T04:00:00",
          "2025-08-07T08:00:00",
          "2025-08-07T12:00:00",
          "2025-08-07T16:00:00",
          "2025-08-07T20:00:00",
          "2025-08-08T00:00:00",
          "2025-08-08T04:00:00",
          "2025-08-08T08:00:00",
          "2025-08-08T12:00:00",
          "2025-08-08T16:00:00",
          "2025-08-08T20:00:00",
          "2025-08-09T00:00:00",
          "2025-08-11T04:00:00",
          "2025-08-11T08:00:00",
          "2025-08-11T12:00:00",
          "2025-08-11T16:00:00",
          "2025-08-11T20:00:00"
         ],
         "xaxis": "x2",
         "y": [
          997950.7746680514,
          999000.9990009991,
          995654.9051532046,
          991091.3726857207,
          989707.949296104,
          988710.5710654451,
          986602.5537579063,
          987681.7171465389,
          985817.596106152,
          986876.0438307796,
          989148.1263100368,
          993936.1875357032,
          993290.1764108111,
          994101.6963077006,
          992673.7590916404,
          989746.8595257887,
          990658.8540021027,
          990679.5696661077,
          989677.2779923367,
          988602.5897645693,
          989523.6067426277,
          988017.209851399,
          993606.5414119733,
          998101.9126810544,
          1004867.7784690858,
          1001560.9233097781,
          998109.2750424779,
          994630.9201700144,
          995290.2124174741,
          998999.1102545079,
          1000483.2757014387,
          1000440.4729531637,
          999871.3335431331,
          999229.7253990923,
          985363.8003584206,
          983548.545187481,
          978967.4240618219,
          976186.6869951669,
          978147.8223108228,
          978032.8628834016,
          980714.8229576375,
          981633.5741515553,
          982409.6391544808,
          984226.7374880986,
          981720.9490039366,
          980224.2014309622,
          980250.3641206906,
          984877.5343950955,
          984542.7514985423,
          985283.838122809,
          982096.6111031908,
          979954.7541644645,
          980656.5967541385,
          983149.2327991705,
          981138.4736861491,
          982045.6365147795,
          983605.0181357182,
          983829.2494493155,
          984477.1314914243,
          986854.8792033006,
          989062.1428663481,
          986826.2993085429,
          988478.2456632493,
          988472.4870277384,
          987645.4474364016,
          989379.5076678377,
          989436.383080291,
          984769.8265827621,
          983091.0065956714,
          979024.4146052594,
          977539.3264918379,
          972867.1617942641
         ],
         "yaxis": "y2"
        }
       ],
       "layout": {
        "annotations": [
         {
          "font": {
           "size": 16
          },
          "showarrow": false,
          "text": "XAUUSD — Prediction & Signals (OOS)",
          "x": 0.5,
          "xanchor": "center",
          "xref": "paper",
          "y": 1,
          "yanchor": "bottom",
          "yref": "paper"
         },
         {
          "font": {
           "size": 16
          },
          "showarrow": false,
          "text": "Equity Curve",
          "x": 0.5,
          "xanchor": "center",
          "xref": "paper",
          "y": 0.276,
          "yanchor": "bottom",
          "yref": "paper"
         }
        ],
        "hovermode": "x unified",
        "legend": {
         "orientation": "h",
         "x": 0,
         "xanchor": "left",
         "y": 1.02,
         "yanchor": "bottom"
        },
        "margin": {
         "b": 60,
         "l": 50,
         "r": 50,
         "t": 60
        },
        "template": {
         "data": {
          "bar": [
           {
            "error_x": {
             "color": "#2a3f5f"
            },
            "error_y": {
             "color": "#2a3f5f"
            },
            "marker": {
             "line": {
              "color": "white",
              "width": 0.5
             },
             "pattern": {
              "fillmode": "overlay",
              "size": 10,
              "solidity": 0.2
             }
            },
            "type": "bar"
           }
          ],
          "barpolar": [
           {
            "marker": {
             "line": {
              "color": "white",
              "width": 0.5
             },
             "pattern": {
              "fillmode": "overlay",
              "size": 10,
              "solidity": 0.2
             }
            },
            "type": "barpolar"
           }
          ],
          "carpet": [
           {
            "aaxis": {
             "endlinecolor": "#2a3f5f",
             "gridcolor": "#C8D4E3",
             "linecolor": "#C8D4E3",
             "minorgridcolor": "#C8D4E3",
             "startlinecolor": "#2a3f5f"
            },
            "baxis": {
             "endlinecolor": "#2a3f5f",
             "gridcolor": "#C8D4E3",
             "linecolor": "#C8D4E3",
             "minorgridcolor": "#C8D4E3",
             "startlinecolor": "#2a3f5f"
            },
            "type": "carpet"
           }
          ],
          "choropleth": [
           {
            "colorbar": {
             "outlinewidth": 0,
             "ticks": ""
            },
            "type": "choropleth"
           }
          ],
          "contour": [
           {
            "colorbar": {
             "outlinewidth": 0,
             "ticks": ""
            },
            "colorscale": [
             [
              0,
              "#0d0887"
             ],
             [
              0.1111111111111111,
              "#46039f"
             ],
             [
              0.2222222222222222,
              "#7201a8"
             ],
             [
              0.3333333333333333,
              "#9c179e"
             ],
             [
              0.4444444444444444,
              "#bd3786"
             ],
             [
              0.5555555555555556,
              "#d8576b"
             ],
             [
              0.6666666666666666,
              "#ed7953"
             ],
             [
              0.7777777777777778,
              "#fb9f3a"
             ],
             [
              0.8888888888888888,
              "#fdca26"
             ],
             [
              1,
              "#f0f921"
             ]
            ],
            "type": "contour"
           }
          ],
          "contourcarpet": [
           {
            "colorbar": {
             "outlinewidth": 0,
             "ticks": ""
            },
            "type": "contourcarpet"
           }
          ],
          "heatmap": [
           {
            "colorbar": {
             "outlinewidth": 0,
             "ticks": ""
            },
            "colorscale": [
             [
              0,
              "#0d0887"
             ],
             [
              0.1111111111111111,
              "#46039f"
             ],
             [
              0.2222222222222222,
              "#7201a8"
             ],
             [
              0.3333333333333333,
              "#9c179e"
             ],
             [
              0.4444444444444444,
              "#bd3786"
             ],
             [
              0.5555555555555556,
              "#d8576b"
             ],
             [
              0.6666666666666666,
              "#ed7953"
             ],
             [
              0.7777777777777778,
              "#fb9f3a"
             ],
             [
              0.8888888888888888,
              "#fdca26"
             ],
             [
              1,
              "#f0f921"
             ]
            ],
            "type": "heatmap"
           }
          ],
          "heatmapgl": [
           {
            "colorbar": {
             "outlinewidth": 0,
             "ticks": ""
            },
            "colorscale": [
             [
              0,
              "#0d0887"
             ],
             [
              0.1111111111111111,
              "#46039f"
             ],
             [
              0.2222222222222222,
              "#7201a8"
             ],
             [
              0.3333333333333333,
              "#9c179e"
             ],
             [
              0.4444444444444444,
              "#bd3786"
             ],
             [
              0.5555555555555556,
              "#d8576b"
             ],
             [
              0.6666666666666666,
              "#ed7953"
             ],
             [
              0.7777777777777778,
              "#fb9f3a"
             ],
             [
              0.8888888888888888,
              "#fdca26"
             ],
             [
              1,
              "#f0f921"
             ]
            ],
            "type": "heatmapgl"
           }
          ],
          "histogram": [
           {
            "marker": {
             "pattern": {
              "fillmode": "overlay",
              "size": 10,
              "solidity": 0.2
             }
            },
            "type": "histogram"
           }
          ],
          "histogram2d": [
           {
            "colorbar": {
             "outlinewidth": 0,
             "ticks": ""
            },
            "colorscale": [
             [
              0,
              "#0d0887"
             ],
             [
              0.1111111111111111,
              "#46039f"
             ],
             [
              0.2222222222222222,
              "#7201a8"
             ],
             [
              0.3333333333333333,
              "#9c179e"
             ],
             [
              0.4444444444444444,
              "#bd3786"
             ],
             [
              0.5555555555555556,
              "#d8576b"
             ],
             [
              0.6666666666666666,
              "#ed7953"
             ],
             [
              0.7777777777777778,
              "#fb9f3a"
             ],
             [
              0.8888888888888888,
              "#fdca26"
             ],
             [
              1,
              "#f0f921"
             ]
            ],
            "type": "histogram2d"
           }
          ],
          "histogram2dcontour": [
           {
            "colorbar": {
             "outlinewidth": 0,
             "ticks": ""
            },
            "colorscale": [
             [
              0,
              "#0d0887"
             ],
             [
              0.1111111111111111,
              "#46039f"
             ],
             [
              0.2222222222222222,
              "#7201a8"
             ],
             [
              0.3333333333333333,
              "#9c179e"
             ],
             [
              0.4444444444444444,
              "#bd3786"
             ],
             [
              0.5555555555555556,
              "#d8576b"
             ],
             [
              0.6666666666666666,
              "#ed7953"
             ],
             [
              0.7777777777777778,
              "#fb9f3a"
             ],
             [
              0.8888888888888888,
              "#fdca26"
             ],
             [
              1,
              "#f0f921"
             ]
            ],
            "type": "histogram2dcontour"
           }
          ],
          "mesh3d": [
           {
            "colorbar": {
             "outlinewidth": 0,
             "ticks": ""
            },
            "type": "mesh3d"
           }
          ],
          "parcoords": [
           {
            "line": {
             "colorbar": {
              "outlinewidth": 0,
              "ticks": ""
             }
            },
            "type": "parcoords"
           }
          ],
          "pie": [
           {
            "automargin": true,
            "type": "pie"
           }
          ],
          "scatter": [
           {
            "fillpattern": {
             "fillmode": "overlay",
             "size": 10,
             "solidity": 0.2
            },
            "type": "scatter"
           }
          ],
          "scatter3d": [
           {
            "line": {
             "colorbar": {
              "outlinewidth": 0,
              "ticks": ""
             }
            },
            "marker": {
             "colorbar": {
              "outlinewidth": 0,
              "ticks": ""
             }
            },
            "type": "scatter3d"
           }
          ],
          "scattercarpet": [
           {
            "marker": {
             "colorbar": {
              "outlinewidth": 0,
              "ticks": ""
             }
            },
            "type": "scattercarpet"
           }
          ],
          "scattergeo": [
           {
            "marker": {
             "colorbar": {
              "outlinewidth": 0,
              "ticks": ""
             }
            },
            "type": "scattergeo"
           }
          ],
          "scattergl": [
           {
            "marker": {
             "colorbar": {
              "outlinewidth": 0,
              "ticks": ""
             }
            },
            "type": "scattergl"
           }
          ],
          "scattermapbox": [
           {
            "marker": {
             "colorbar": {
              "outlinewidth": 0,
              "ticks": ""
             }
            },
            "type": "scattermapbox"
           }
          ],
          "scatterpolar": [
           {
            "marker": {
             "colorbar": {
              "outlinewidth": 0,
              "ticks": ""
             }
            },
            "type": "scatterpolar"
           }
          ],
          "scatterpolargl": [
           {
            "marker": {
             "colorbar": {
              "outlinewidth": 0,
              "ticks": ""
             }
            },
            "type": "scatterpolargl"
           }
          ],
          "scatterternary": [
           {
            "marker": {
             "colorbar": {
              "outlinewidth": 0,
              "ticks": ""
             }
            },
            "type": "scatterternary"
           }
          ],
          "surface": [
           {
            "colorbar": {
             "outlinewidth": 0,
             "ticks": ""
            },
            "colorscale": [
             [
              0,
              "#0d0887"
             ],
             [
              0.1111111111111111,
              "#46039f"
             ],
             [
              0.2222222222222222,
              "#7201a8"
             ],
             [
              0.3333333333333333,
              "#9c179e"
             ],
             [
              0.4444444444444444,
              "#bd3786"
             ],
             [
              0.5555555555555556,
              "#d8576b"
             ],
             [
              0.6666666666666666,
              "#ed7953"
             ],
             [
              0.7777777777777778,
              "#fb9f3a"
             ],
             [
              0.8888888888888888,
              "#fdca26"
             ],
             [
              1,
              "#f0f921"
             ]
            ],
            "type": "surface"
           }
          ],
          "table": [
           {
            "cells": {
             "fill": {
              "color": "#EBF0F8"
             },
             "line": {
              "color": "white"
             }
            },
            "header": {
             "fill": {
              "color": "#C8D4E3"
             },
             "line": {
              "color": "white"
             }
            },
            "type": "table"
           }
          ]
         },
         "layout": {
          "annotationdefaults": {
           "arrowcolor": "#2a3f5f",
           "arrowhead": 0,
           "arrowwidth": 1
          },
          "autotypenumbers": "strict",
          "coloraxis": {
           "colorbar": {
            "outlinewidth": 0,
            "ticks": ""
           }
          },
          "colorscale": {
           "diverging": [
            [
             0,
             "#8e0152"
            ],
            [
             0.1,
             "#c51b7d"
            ],
            [
             0.2,
             "#de77ae"
            ],
            [
             0.3,
             "#f1b6da"
            ],
            [
             0.4,
             "#fde0ef"
            ],
            [
             0.5,
             "#f7f7f7"
            ],
            [
             0.6,
             "#e6f5d0"
            ],
            [
             0.7,
             "#b8e186"
            ],
            [
             0.8,
             "#7fbc41"
            ],
            [
             0.9,
             "#4d9221"
            ],
            [
             1,
             "#276419"
            ]
           ],
           "sequential": [
            [
             0,
             "#0d0887"
            ],
            [
             0.1111111111111111,
             "#46039f"
            ],
            [
             0.2222222222222222,
             "#7201a8"
            ],
            [
             0.3333333333333333,
             "#9c179e"
            ],
            [
             0.4444444444444444,
             "#bd3786"
            ],
            [
             0.5555555555555556,
             "#d8576b"
            ],
            [
             0.6666666666666666,
             "#ed7953"
            ],
            [
             0.7777777777777778,
             "#fb9f3a"
            ],
            [
             0.8888888888888888,
             "#fdca26"
            ],
            [
             1,
             "#f0f921"
            ]
           ],
           "sequentialminus": [
            [
             0,
             "#0d0887"
            ],
            [
             0.1111111111111111,
             "#46039f"
            ],
            [
             0.2222222222222222,
             "#7201a8"
            ],
            [
             0.3333333333333333,
             "#9c179e"
            ],
            [
             0.4444444444444444,
             "#bd3786"
            ],
            [
             0.5555555555555556,
             "#d8576b"
            ],
            [
             0.6666666666666666,
             "#ed7953"
            ],
            [
             0.7777777777777778,
             "#fb9f3a"
            ],
            [
             0.8888888888888888,
             "#fdca26"
            ],
            [
             1,
             "#f0f921"
            ]
           ]
          },
          "colorway": [
           "#636efa",
           "#EF553B",
           "#00cc96",
           "#ab63fa",
           "#FFA15A",
           "#19d3f3",
           "#FF6692",
           "#B6E880",
           "#FF97FF",
           "#FECB52"
          ],
          "font": {
           "color": "#2a3f5f"
          },
          "geo": {
           "bgcolor": "white",
           "lakecolor": "white",
           "landcolor": "white",
           "showlakes": true,
           "showland": true,
           "subunitcolor": "#C8D4E3"
          },
          "hoverlabel": {
           "align": "left"
          },
          "hovermode": "closest",
          "mapbox": {
           "style": "light"
          },
          "paper_bgcolor": "white",
          "plot_bgcolor": "white",
          "polar": {
           "angularaxis": {
            "gridcolor": "#EBF0F8",
            "linecolor": "#EBF0F8",
            "ticks": ""
           },
           "bgcolor": "white",
           "radialaxis": {
            "gridcolor": "#EBF0F8",
            "linecolor": "#EBF0F8",
            "ticks": ""
           }
          },
          "scene": {
           "xaxis": {
            "backgroundcolor": "white",
            "gridcolor": "#DFE8F3",
            "gridwidth": 2,
            "linecolor": "#EBF0F8",
            "showbackground": true,
            "ticks": "",
            "zerolinecolor": "#EBF0F8"
           },
           "yaxis": {
            "backgroundcolor": "white",
            "gridcolor": "#DFE8F3",
            "gridwidth": 2,
            "linecolor": "#EBF0F8",
            "showbackground": true,
            "ticks": "",
            "zerolinecolor": "#EBF0F8"
           },
           "zaxis": {
            "backgroundcolor": "white",
            "gridcolor": "#DFE8F3",
            "gridwidth": 2,
            "linecolor": "#EBF0F8",
            "showbackground": true,
            "ticks": "",
            "zerolinecolor": "#EBF0F8"
           }
          },
          "shapedefaults": {
           "line": {
            "color": "#2a3f5f"
           }
          },
          "ternary": {
           "aaxis": {
            "gridcolor": "#DFE8F3",
            "linecolor": "#A2B1C6",
            "ticks": ""
           },
           "baxis": {
            "gridcolor": "#DFE8F3",
            "linecolor": "#A2B1C6",
            "ticks": ""
           },
           "bgcolor": "white",
           "caxis": {
            "gridcolor": "#DFE8F3",
            "linecolor": "#A2B1C6",
            "ticks": ""
           }
          },
          "title": {
           "x": 0.05
          },
          "xaxis": {
           "automargin": true,
           "gridcolor": "#EBF0F8",
           "linecolor": "#EBF0F8",
           "ticks": "",
           "title": {
            "standoff": 15
           },
           "zerolinecolor": "#EBF0F8",
           "zerolinewidth": 2
          },
          "yaxis": {
           "automargin": true,
           "gridcolor": "#EBF0F8",
           "linecolor": "#EBF0F8",
           "ticks": "",
           "title": {
            "standoff": 15
           },
           "zerolinecolor": "#EBF0F8",
           "zerolinewidth": 2
          }
         }
        },
        "xaxis": {
         "anchor": "y",
         "domain": [
          0,
          1
         ],
         "matches": "x2",
         "showspikes": true,
         "showticklabels": false,
         "spikemode": "across",
         "spikesnap": "cursor"
        },
        "xaxis2": {
         "anchor": "y2",
         "domain": [
          0,
          1
         ],
         "rangeslider": {
          "visible": false
         },
         "showspikes": true,
         "spikemode": "across",
         "spikesnap": "cursor"
        },
        "yaxis": {
         "anchor": "x",
         "domain": [
          0.35600000000000004,
          1
         ],
         "gridcolor": "rgba(0,0,0,0.08)",
         "showgrid": true
        },
        "yaxis2": {
         "anchor": "x2",
         "domain": [
          0,
          0.276
         ],
         "gridcolor": "rgba(0,0,0,0.08)",
         "showgrid": true
        }
       }
      }
     },
     "metadata": {},
     "output_type": "display_data"
    },
    {
     "name": "stderr",
     "output_type": "stream",
     "text": [
      "[I 2025-08-26 11:07:44,026] A new study created in memory with name: no-name-373d174c-f62a-4a60-bcf7-68a5e60d471d\n"
     ]
    },
    {
     "name": "stdout",
     "output_type": "stream",
     "text": [
      "\n",
      "Processing XAGUSD ...\n"
     ]
    },
    {
     "name": "stderr",
     "output_type": "stream",
     "text": [
      "c:\\Users\\offen\\AppData\\Local\\Programs\\Python\\Python312\\Lib\\site-packages\\optuna\\distributions.py:708: UserWarning:\n",
      "\n",
      "The distribution is specified by [1, 500] and step=8, but the range is not divisible by `step`. It will be replaced by [1, 497].\n",
      "\n",
      "[I 2025-08-26 11:07:44,387] Trial 0 finished with value: 0.0 and parameters: {'sequence_length': 33, 'hidden_layer_size': 313, 'lstm_layers': 2, 'dropout': 0.4712151502282615, 'learning_rate': 0.007675507817190953, 'epochs': 2730, 'long_threshold': 0.0008293927654292901, 'short_threshold': 0.002405616532605058}. Best is trial 0 with value: 0.0.\n",
      "c:\\Users\\offen\\AppData\\Local\\Programs\\Python\\Python312\\Lib\\site-packages\\optuna\\distributions.py:708: UserWarning:\n",
      "\n",
      "The distribution is specified by [1, 500] and step=8, but the range is not divisible by `step`. It will be replaced by [1, 497].\n",
      "\n",
      "[I 2025-08-26 11:07:44,855] Trial 1 finished with value: 0.2516019347474474 and parameters: {'sequence_length': 85, 'hidden_layer_size': 441, 'lstm_layers': 2, 'dropout': 0.3005970753140752, 'learning_rate': 0.0033737189167564853, 'epochs': 7130, 'long_threshold': 0.0011107522643711849, 'short_threshold': 0.0016835885581968748}. Best is trial 1 with value: 0.2516019347474474.\n",
      "c:\\Users\\offen\\AppData\\Local\\Programs\\Python\\Python312\\Lib\\site-packages\\optuna\\distributions.py:708: UserWarning:\n",
      "\n",
      "The distribution is specified by [1, 500] and step=8, but the range is not divisible by `step`. It will be replaced by [1, 497].\n",
      "\n",
      "[I 2025-08-26 11:07:44,923] Trial 2 finished with value: 0.0 and parameters: {'sequence_length': 53, 'hidden_layer_size': 1, 'lstm_layers': 3, 'dropout': 0.5295847143816699, 'learning_rate': 0.0002237187115484708, 'epochs': 6160, 'long_threshold': 0.00022614372492892965, 'short_threshold': 0.0011064720180059236}. Best is trial 1 with value: 0.2516019347474474.\n",
      "c:\\Users\\offen\\AppData\\Local\\Programs\\Python\\Python312\\Lib\\site-packages\\optuna\\distributions.py:708: UserWarning:\n",
      "\n",
      "The distribution is specified by [1, 500] and step=8, but the range is not divisible by `step`. It will be replaced by [1, 497].\n",
      "\n",
      "[I 2025-08-26 11:07:45,467] Trial 3 finished with value: 0.0 and parameters: {'sequence_length': 81, 'hidden_layer_size': 329, 'lstm_layers': 2, 'dropout': 0.47323808576444726, 'learning_rate': 0.0001485823805383844, 'epochs': 5690, 'long_threshold': 0.0026073821686836774, 'short_threshold': 0.0013085202716870382}. Best is trial 1 with value: 0.2516019347474474.\n",
      "c:\\Users\\offen\\AppData\\Local\\Programs\\Python\\Python312\\Lib\\site-packages\\optuna\\distributions.py:708: UserWarning:\n",
      "\n",
      "The distribution is specified by [1, 500] and step=8, but the range is not divisible by `step`. It will be replaced by [1, 497].\n",
      "\n",
      "[I 2025-08-26 11:07:45,755] Trial 4 finished with value: 0.0 and parameters: {'sequence_length': 73, 'hidden_layer_size': 73, 'lstm_layers': 3, 'dropout': 0.4227487849137435, 'learning_rate': 6.446224643080463e-05, 'epochs': 9250, 'long_threshold': 0.00132642226621253, 'short_threshold': 0.0027279478769174177}. Best is trial 1 with value: 0.2516019347474474.\n",
      "c:\\Users\\offen\\AppData\\Local\\Programs\\Python\\Python312\\Lib\\site-packages\\optuna\\distributions.py:708: UserWarning:\n",
      "\n",
      "The distribution is specified by [1, 500] and step=8, but the range is not divisible by `step`. It will be replaced by [1, 497].\n",
      "\n",
      "[I 2025-08-26 11:07:45,964] Trial 5 finished with value: -0.9112906504106455 and parameters: {'sequence_length': 25, 'hidden_layer_size': 89, 'lstm_layers': 1, 'dropout': 0.4049285661493981, 'learning_rate': 0.0015830667410321512, 'epochs': 5340, 'long_threshold': 0.00012997218808441047, 'short_threshold': 0.0016842992401901937}. Best is trial 1 with value: 0.2516019347474474.\n",
      "c:\\Users\\offen\\AppData\\Local\\Programs\\Python\\Python312\\Lib\\site-packages\\optuna\\distributions.py:708: UserWarning:\n",
      "\n",
      "The distribution is specified by [1, 500] and step=8, but the range is not divisible by `step`. It will be replaced by [1, 497].\n",
      "\n",
      "[I 2025-08-26 11:07:46,241] Trial 6 finished with value: -6.596026000748855 and parameters: {'sequence_length': 41, 'hidden_layer_size': 249, 'lstm_layers': 1, 'dropout': 0.36431622373109074, 'learning_rate': 0.0012399730859723546, 'epochs': 70, 'long_threshold': 0.0018523251264128912, 'short_threshold': 0.002736368659299463}. Best is trial 1 with value: 0.2516019347474474.\n",
      "c:\\Users\\offen\\AppData\\Local\\Programs\\Python\\Python312\\Lib\\site-packages\\optuna\\distributions.py:708: UserWarning:\n",
      "\n",
      "The distribution is specified by [1, 500] and step=8, but the range is not divisible by `step`. It will be replaced by [1, 497].\n",
      "\n",
      "[I 2025-08-26 11:07:47,013] Trial 7 finished with value: 0.0 and parameters: {'sequence_length': 73, 'hidden_layer_size': 497, 'lstm_layers': 3, 'dropout': 0.47517848117498385, 'learning_rate': 0.00011353630204166286, 'epochs': 6250, 'long_threshold': 0.0014342813870120237, 'short_threshold': 0.0005870255359976947}. Best is trial 1 with value: 0.2516019347474474.\n",
      "c:\\Users\\offen\\AppData\\Local\\Programs\\Python\\Python312\\Lib\\site-packages\\optuna\\distributions.py:708: UserWarning:\n",
      "\n",
      "The distribution is specified by [1, 500] and step=8, but the range is not divisible by `step`. It will be replaced by [1, 497].\n",
      "\n",
      "[I 2025-08-26 11:07:49,169] Trial 8 finished with value: 0.0 and parameters: {'sequence_length': 45, 'hidden_layer_size': 25, 'lstm_layers': 2, 'dropout': 0.5892028449131727, 'learning_rate': 2.873825085223262e-05, 'epochs': 1200, 'long_threshold': 0.0022155691684300404, 'short_threshold': 0.001761910900391954}. Best is trial 1 with value: 0.2516019347474474.\n",
      "c:\\Users\\offen\\AppData\\Local\\Programs\\Python\\Python312\\Lib\\site-packages\\optuna\\distributions.py:708: UserWarning:\n",
      "\n",
      "The distribution is specified by [1, 500] and step=8, but the range is not divisible by `step`. It will be replaced by [1, 497].\n",
      "\n",
      "[I 2025-08-26 11:07:49,336] Trial 9 finished with value: 0.0 and parameters: {'sequence_length': 53, 'hidden_layer_size': 49, 'lstm_layers': 1, 'dropout': 0.5399791169020052, 'learning_rate': 0.00034798364713040314, 'epochs': 5360, 'long_threshold': 1.8625549761388193e-05, 'short_threshold': 0.0009019251173109034}. Best is trial 1 with value: 0.2516019347474474.\n"
     ]
    },
    {
     "name": "stdout",
     "output_type": "stream",
     "text": [
      "\n",
      "=== Best Trial ===\n",
      "Value (objective): 0.2516019347474474\n",
      "sequence_length: 85\n",
      "hidden_layer_size: 441\n",
      "lstm_layers: 2\n",
      "dropout: 0.3005970753140752\n",
      "learning_rate: 0.0033737189167564853\n",
      "epochs: 7130\n",
      "long_threshold: 0.0011107522643711849\n",
      "short_threshold: 0.0016835885581968748\n",
      "Metrics (val): {'Total Profit %': np.float64(0.6512023343477891), 'MaxDD %': -0.09990009990008542, 'WinRate': 0.14285714285714285}\n",
      "[params for XAGUSD ] {'sequence_length': 85, 'hidden_layer_size': 441, 'lstm_layers': 2, 'dropout': 0.3005970753140752, 'learning_rate': 0.0033737189167564853, 'epochs': 7130, 'long_threshold': 0.0011107522643711849, 'short_threshold': 0.0016835885581968748}\n",
      "[train] seq=85 | hidden=441 | layers=2 | dropout=0.30 | lr=0.003374 | epochs=7130 | thr=[long 0.0011, short 0.0017]\n",
      "Epoch 594/7130  TrainLoss: 0.00186730\n",
      "Epoch 1188/7130  TrainLoss: 0.00073694\n",
      "Epoch 1782/7130  TrainLoss: 0.02958278\n",
      "Epoch 2376/7130  TrainLoss: 0.01093458\n",
      "Epoch 2970/7130  TrainLoss: 0.00775152\n",
      "Epoch 3564/7130  TrainLoss: 0.00965145\n",
      "Epoch 4158/7130  TrainLoss: 0.00635375\n",
      "Epoch 4752/7130  TrainLoss: 0.00640984\n",
      "Epoch 5346/7130  TrainLoss: 0.00389146\n",
      "Epoch 5940/7130  TrainLoss: 0.00946607\n",
      "Epoch 6534/7130  TrainLoss: 0.00537526\n",
      "Epoch 7128/7130  TrainLoss: 0.00436370\n",
      "Epoch 7130/7130  TrainLoss: 0.00380559\n"
     ]
    },
    {
     "data": {
      "application/vnd.plotly.v1+json": {
       "config": {
        "plotlyServerURL": "https://plot.ly"
       },
       "data": [
        {
         "hovertemplate": "%{x|%Y-%m-%d %H:%M}<br>Price %{y:.4f}<extra></extra>",
         "line": {
          "color": "#C62828",
          "width": 2
         },
         "mode": "lines",
         "name": "Price (Short)",
         "type": "scatter",
         "x": [
          "2025-07-25T00:00:00",
          "2025-07-25T04:00:00",
          "2025-07-25T08:00:00",
          "2025-07-25T12:00:00",
          "2025-07-25T16:00:00",
          "2025-07-25T20:00:00",
          "2025-07-26T00:00:00",
          "2025-07-28T04:00:00",
          "2025-07-28T08:00:00",
          "2025-07-28T12:00:00",
          "2025-07-28T16:00:00",
          "2025-07-28T20:00:00",
          "2025-07-29T00:00:00",
          "2025-07-29T04:00:00",
          "2025-07-29T08:00:00",
          "2025-07-29T12:00:00",
          "2025-07-29T16:00:00",
          "2025-07-29T20:00:00",
          "2025-07-30T00:00:00",
          "2025-07-30T04:00:00",
          "2025-07-30T08:00:00",
          "2025-07-30T12:00:00",
          "2025-07-30T16:00:00",
          "2025-07-30T20:00:00",
          "2025-07-31T00:00:00",
          "2025-07-31T04:00:00",
          "2025-07-31T08:00:00",
          "2025-07-31T12:00:00",
          "2025-07-31T16:00:00",
          "2025-07-31T20:00:00",
          "2025-08-01T00:00:00",
          "2025-08-01T04:00:00",
          "2025-08-01T08:00:00",
          "2025-08-01T12:00:00",
          "2025-08-01T16:00:00",
          "2025-08-01T20:00:00",
          "2025-08-02T00:00:00",
          "2025-08-04T04:00:00",
          "2025-08-04T08:00:00",
          "2025-08-04T12:00:00",
          "2025-08-04T16:00:00",
          "2025-08-04T20:00:00",
          "2025-08-05T00:00:00",
          "2025-08-05T04:00:00",
          "2025-08-05T08:00:00",
          "2025-08-05T12:00:00",
          "2025-08-05T16:00:00",
          "2025-08-05T20:00:00",
          "2025-08-06T00:00:00",
          "2025-08-06T04:00:00",
          "2025-08-06T08:00:00",
          "2025-08-06T12:00:00",
          "2025-08-06T16:00:00",
          "2025-08-06T20:00:00",
          "2025-08-07T00:00:00",
          "2025-08-07T04:00:00",
          "2025-08-07T08:00:00",
          "2025-08-07T12:00:00",
          "2025-08-07T16:00:00",
          "2025-08-07T20:00:00",
          "2025-08-08T00:00:00",
          "2025-08-08T04:00:00",
          "2025-08-08T08:00:00",
          "2025-08-08T12:00:00",
          "2025-08-08T16:00:00",
          "2025-08-08T20:00:00",
          "2025-08-09T00:00:00",
          "2025-08-11T04:00:00",
          "2025-08-11T08:00:00",
          "2025-08-11T12:00:00",
          "2025-08-11T16:00:00",
          "2025-08-11T20:00:00"
         ],
         "xaxis": "x",
         "y": [
          39.0625,
          39.1401481628418,
          38.95750045776367,
          38.8572998046875,
          38.86389923095703,
          38.16600036621094,
          38.16350173950195,
          38.23249816894531,
          38.19770050048828,
          38.214500427246094,
          38.10919952392578,
          38.13249969482422,
          38.165000915527344,
          38.109500885009766,
          38.125,
          38.16350173950195,
          38.029998779296875,
          38.17150115966797,
          38.21049880981445,
          38.19615173339844,
          38.19449996948242,
          38.11050033569336,
          37.8129997253418,
          37.68299865722656,
          37.13315200805664,
          37.14094924926758,
          37.25450134277344,
          36.95425033569336,
          36.66550064086914,
          36.66849899291992,
          36.71480178833008,
          36.62464904785156,
          36.58300018310547,
          36.43199920654297,
          37.01599884033203,
          36.871002197265625,
          37.02299880981445,
          36.81399917602539,
          37.106597900390625,
          37.36455154418945,
          37.29500198364258,
          37.33304977416992,
          37.4109992980957,
          37.412498474121094,
          37.38600158691406,
          37.45384979248047,
          37.483497619628906,
          37.80009841918945,
          37.8160514831543,
          37.79999923706055,
          37.80449676513672,
          37.78784942626953,
          37.72850036621094,
          37.830501556396484,
          37.827999114990234,
          37.850502014160156,
          38.057350158691406,
          38.237449645996094,
          38.27050018310547,
          38.160499572753906,
          38.27675247192383,
          38.19700241088867,
          38.29100036621094,
          38.33675003051758,
          38.25230026245117,
          38.26850128173828,
          38.32600021362305,
          38.15060043334961,
          38.042747497558594,
          37.944000244140625,
          37.81480026245117,
          37.67499923706055
         ],
         "yaxis": "y"
        },
        {
         "hovertemplate": "%{x|%Y-%m-%d %H:%M}<br>Price %{y:.4f}<extra></extra>",
         "line": {
          "color": "#9E9E9E",
          "width": 2
         },
         "mode": "lines",
         "name": "Price (Neutral)",
         "type": "scatter",
         "x": [
          "2025-07-25T00:00:00",
          "2025-07-25T04:00:00",
          "2025-07-25T08:00:00",
          "2025-07-25T12:00:00",
          "2025-07-25T16:00:00",
          "2025-07-25T20:00:00",
          "2025-07-26T00:00:00",
          "2025-07-28T04:00:00",
          "2025-07-28T08:00:00",
          "2025-07-28T12:00:00",
          "2025-07-28T16:00:00",
          "2025-07-28T20:00:00",
          "2025-07-29T00:00:00",
          "2025-07-29T04:00:00",
          "2025-07-29T08:00:00",
          "2025-07-29T12:00:00",
          "2025-07-29T16:00:00",
          "2025-07-29T20:00:00",
          "2025-07-30T00:00:00",
          "2025-07-30T04:00:00",
          "2025-07-30T08:00:00",
          "2025-07-30T12:00:00",
          "2025-07-30T16:00:00",
          "2025-07-30T20:00:00",
          "2025-07-31T00:00:00",
          "2025-07-31T04:00:00",
          "2025-07-31T08:00:00",
          "2025-07-31T12:00:00",
          "2025-07-31T16:00:00",
          "2025-07-31T20:00:00",
          "2025-08-01T00:00:00",
          "2025-08-01T04:00:00",
          "2025-08-01T08:00:00",
          "2025-08-01T12:00:00",
          "2025-08-01T16:00:00",
          "2025-08-01T20:00:00",
          "2025-08-02T00:00:00",
          "2025-08-04T04:00:00",
          "2025-08-04T08:00:00",
          "2025-08-04T12:00:00",
          "2025-08-04T16:00:00",
          "2025-08-04T20:00:00",
          "2025-08-05T00:00:00",
          "2025-08-05T04:00:00",
          "2025-08-05T08:00:00",
          "2025-08-05T12:00:00",
          "2025-08-05T16:00:00",
          "2025-08-05T20:00:00",
          "2025-08-06T00:00:00",
          "2025-08-06T04:00:00",
          "2025-08-06T08:00:00",
          "2025-08-06T12:00:00",
          "2025-08-06T16:00:00",
          "2025-08-06T20:00:00",
          "2025-08-07T00:00:00",
          "2025-08-07T04:00:00",
          "2025-08-07T08:00:00",
          "2025-08-07T12:00:00",
          "2025-08-07T16:00:00",
          "2025-08-07T20:00:00",
          "2025-08-08T00:00:00",
          "2025-08-08T04:00:00",
          "2025-08-08T08:00:00",
          "2025-08-08T12:00:00",
          "2025-08-08T16:00:00",
          "2025-08-08T20:00:00",
          "2025-08-09T00:00:00",
          "2025-08-11T04:00:00",
          "2025-08-11T08:00:00",
          "2025-08-11T12:00:00",
          "2025-08-11T16:00:00",
          "2025-08-11T20:00:00"
         ],
         "xaxis": "x",
         "y": [
          null,
          null,
          null,
          null,
          null,
          null,
          null,
          null,
          null,
          null,
          null,
          null,
          null,
          null,
          null,
          null,
          null,
          null,
          null,
          null,
          null,
          null,
          null,
          null,
          null,
          null,
          null,
          null,
          null,
          null,
          null,
          null,
          null,
          null,
          null,
          null,
          null,
          null,
          null,
          null,
          null,
          null,
          null,
          null,
          null,
          null,
          null,
          null,
          null,
          null,
          null,
          null,
          null,
          null,
          null,
          null,
          null,
          null,
          null,
          null,
          null,
          null,
          null,
          null,
          null,
          null,
          null,
          null,
          null,
          null,
          null,
          null
         ],
         "yaxis": "y"
        },
        {
         "hovertemplate": "%{x|%Y-%m-%d %H:%M}<br>Price %{y:.4f}<extra></extra>",
         "line": {
          "color": "#2E7D32",
          "width": 2
         },
         "mode": "lines",
         "name": "Price (Long)",
         "type": "scatter",
         "x": [
          "2025-07-25T00:00:00",
          "2025-07-25T04:00:00",
          "2025-07-25T08:00:00",
          "2025-07-25T12:00:00",
          "2025-07-25T16:00:00",
          "2025-07-25T20:00:00",
          "2025-07-26T00:00:00",
          "2025-07-28T04:00:00",
          "2025-07-28T08:00:00",
          "2025-07-28T12:00:00",
          "2025-07-28T16:00:00",
          "2025-07-28T20:00:00",
          "2025-07-29T00:00:00",
          "2025-07-29T04:00:00",
          "2025-07-29T08:00:00",
          "2025-07-29T12:00:00",
          "2025-07-29T16:00:00",
          "2025-07-29T20:00:00",
          "2025-07-30T00:00:00",
          "2025-07-30T04:00:00",
          "2025-07-30T08:00:00",
          "2025-07-30T12:00:00",
          "2025-07-30T16:00:00",
          "2025-07-30T20:00:00",
          "2025-07-31T00:00:00",
          "2025-07-31T04:00:00",
          "2025-07-31T08:00:00",
          "2025-07-31T12:00:00",
          "2025-07-31T16:00:00",
          "2025-07-31T20:00:00",
          "2025-08-01T00:00:00",
          "2025-08-01T04:00:00",
          "2025-08-01T08:00:00",
          "2025-08-01T12:00:00",
          "2025-08-01T16:00:00",
          "2025-08-01T20:00:00",
          "2025-08-02T00:00:00",
          "2025-08-04T04:00:00",
          "2025-08-04T08:00:00",
          "2025-08-04T12:00:00",
          "2025-08-04T16:00:00",
          "2025-08-04T20:00:00",
          "2025-08-05T00:00:00",
          "2025-08-05T04:00:00",
          "2025-08-05T08:00:00",
          "2025-08-05T12:00:00",
          "2025-08-05T16:00:00",
          "2025-08-05T20:00:00",
          "2025-08-06T00:00:00",
          "2025-08-06T04:00:00",
          "2025-08-06T08:00:00",
          "2025-08-06T12:00:00",
          "2025-08-06T16:00:00",
          "2025-08-06T20:00:00",
          "2025-08-07T00:00:00",
          "2025-08-07T04:00:00",
          "2025-08-07T08:00:00",
          "2025-08-07T12:00:00",
          "2025-08-07T16:00:00",
          "2025-08-07T20:00:00",
          "2025-08-08T00:00:00",
          "2025-08-08T04:00:00",
          "2025-08-08T08:00:00",
          "2025-08-08T12:00:00",
          "2025-08-08T16:00:00",
          "2025-08-08T20:00:00",
          "2025-08-09T00:00:00",
          "2025-08-11T04:00:00",
          "2025-08-11T08:00:00",
          "2025-08-11T12:00:00",
          "2025-08-11T16:00:00",
          "2025-08-11T20:00:00"
         ],
         "xaxis": "x",
         "y": [
          null,
          null,
          null,
          null,
          null,
          null,
          null,
          null,
          null,
          null,
          null,
          null,
          null,
          null,
          null,
          null,
          null,
          null,
          null,
          null,
          null,
          null,
          null,
          null,
          null,
          null,
          null,
          null,
          null,
          null,
          null,
          null,
          null,
          null,
          null,
          null,
          null,
          null,
          null,
          null,
          null,
          null,
          null,
          null,
          null,
          null,
          null,
          null,
          null,
          null,
          null,
          null,
          null,
          null,
          null,
          null,
          null,
          null,
          null,
          null,
          null,
          null,
          null,
          null,
          null,
          null,
          null,
          null,
          null,
          null,
          null,
          null
         ],
         "yaxis": "y"
        },
        {
         "hovertemplate": "%{x|%Y-%m-%d %H:%M}<br>Pred %{y:.4f}<extra></extra>",
         "line": {
          "color": "#FB8C00",
          "dash": "dot",
          "width": 1.2
         },
         "mode": "lines",
         "name": "Predicted (t+1)",
         "type": "scatter",
         "x": [
          "2025-07-25T00:00:00",
          "2025-07-25T04:00:00",
          "2025-07-25T08:00:00",
          "2025-07-25T12:00:00",
          "2025-07-25T16:00:00",
          "2025-07-25T20:00:00",
          "2025-07-26T00:00:00",
          "2025-07-28T04:00:00",
          "2025-07-28T08:00:00",
          "2025-07-28T12:00:00",
          "2025-07-28T16:00:00",
          "2025-07-28T20:00:00",
          "2025-07-29T00:00:00",
          "2025-07-29T04:00:00",
          "2025-07-29T08:00:00",
          "2025-07-29T12:00:00",
          "2025-07-29T16:00:00",
          "2025-07-29T20:00:00",
          "2025-07-30T00:00:00",
          "2025-07-30T04:00:00",
          "2025-07-30T08:00:00",
          "2025-07-30T12:00:00",
          "2025-07-30T16:00:00",
          "2025-07-30T20:00:00",
          "2025-07-31T00:00:00",
          "2025-07-31T04:00:00",
          "2025-07-31T08:00:00",
          "2025-07-31T12:00:00",
          "2025-07-31T16:00:00",
          "2025-07-31T20:00:00",
          "2025-08-01T00:00:00",
          "2025-08-01T04:00:00",
          "2025-08-01T08:00:00",
          "2025-08-01T12:00:00",
          "2025-08-01T16:00:00",
          "2025-08-01T20:00:00",
          "2025-08-02T00:00:00",
          "2025-08-04T04:00:00",
          "2025-08-04T08:00:00",
          "2025-08-04T12:00:00",
          "2025-08-04T16:00:00",
          "2025-08-04T20:00:00",
          "2025-08-05T00:00:00",
          "2025-08-05T04:00:00",
          "2025-08-05T08:00:00",
          "2025-08-05T12:00:00",
          "2025-08-05T16:00:00",
          "2025-08-05T20:00:00",
          "2025-08-06T00:00:00",
          "2025-08-06T04:00:00",
          "2025-08-06T08:00:00",
          "2025-08-06T12:00:00",
          "2025-08-06T16:00:00",
          "2025-08-06T20:00:00",
          "2025-08-07T00:00:00",
          "2025-08-07T04:00:00",
          "2025-08-07T08:00:00",
          "2025-08-07T12:00:00",
          "2025-08-07T16:00:00",
          "2025-08-07T20:00:00",
          "2025-08-08T00:00:00",
          "2025-08-08T04:00:00",
          "2025-08-08T08:00:00",
          "2025-08-08T12:00:00",
          "2025-08-08T16:00:00",
          "2025-08-08T20:00:00",
          "2025-08-09T00:00:00",
          "2025-08-11T04:00:00",
          "2025-08-11T08:00:00",
          "2025-08-11T12:00:00",
          "2025-08-11T16:00:00",
          "2025-08-11T20:00:00"
         ],
         "xaxis": "x",
         "y": [
          39.094783782958984,
          39.06663131713867,
          39.03889465332031,
          38.96601486206055,
          39.00481414794922,
          39.04480743408203,
          39.04103088378906,
          39.07440185546875,
          39.074424743652344,
          39.0672492980957,
          39.06998825073242,
          39.064109802246094,
          39.054752349853516,
          39.04288864135742,
          39.04865646362305,
          39.0686149597168,
          39.07001876831055,
          39.07080078125,
          39.06234359741211,
          39.06380844116211,
          39.06327438354492,
          39.069541931152344,
          39.06481170654297,
          39.06089401245117,
          39.05229187011719,
          39.0377197265625,
          39.01400375366211,
          39.00056838989258,
          38.993953704833984,
          38.99245834350586,
          38.972869873046875,
          38.93147659301758,
          38.9066276550293,
          38.87294387817383,
          38.82578659057617,
          38.80314254760742,
          38.763729095458984,
          38.77517318725586,
          38.80862808227539,
          38.7460823059082,
          38.797279357910156,
          38.76498031616211,
          38.86408233642578,
          38.90699005126953,
          38.9257698059082,
          38.93224334716797,
          38.92213821411133,
          38.940086364746094,
          38.973018646240234,
          38.98318099975586,
          38.999996185302734,
          39.00804138183594,
          39.0120964050293,
          39.01264572143555,
          39.00783920288086,
          38.99800109863281,
          38.98794937133789,
          38.97566223144531,
          38.96347427368164,
          38.95389175415039,
          38.951263427734375,
          38.93244552612305,
          38.905418395996094,
          38.903751373291016,
          38.85407638549805,
          38.81073760986328,
          38.743812561035156,
          38.618614196777344,
          38.5640869140625,
          38.40190124511719,
          38.259456634521484,
          38.11602020263672
         ],
         "yaxis": "y"
        },
        {
         "hovertemplate": "%{x|%Y-%m-%d %H:%M}<br>Equity %{y:,.2f}<extra></extra>",
         "line": {
          "color": "#6A1B9A",
          "width": 1.8
         },
         "mode": "lines",
         "name": "Equity",
         "type": "scatter",
         "x": [
          "2025-07-25T00:00:00",
          "2025-07-25T04:00:00",
          "2025-07-25T08:00:00",
          "2025-07-25T12:00:00",
          "2025-07-25T16:00:00",
          "2025-07-25T20:00:00",
          "2025-07-26T00:00:00",
          "2025-07-28T04:00:00",
          "2025-07-28T08:00:00",
          "2025-07-28T12:00:00",
          "2025-07-28T16:00:00",
          "2025-07-28T20:00:00",
          "2025-07-29T00:00:00",
          "2025-07-29T04:00:00",
          "2025-07-29T08:00:00",
          "2025-07-29T12:00:00",
          "2025-07-29T16:00:00",
          "2025-07-29T20:00:00",
          "2025-07-30T00:00:00",
          "2025-07-30T04:00:00",
          "2025-07-30T08:00:00",
          "2025-07-30T12:00:00",
          "2025-07-30T16:00:00",
          "2025-07-30T20:00:00",
          "2025-07-31T00:00:00",
          "2025-07-31T04:00:00",
          "2025-07-31T08:00:00",
          "2025-07-31T12:00:00",
          "2025-07-31T16:00:00",
          "2025-07-31T20:00:00",
          "2025-08-01T00:00:00",
          "2025-08-01T04:00:00",
          "2025-08-01T08:00:00",
          "2025-08-01T12:00:00",
          "2025-08-01T16:00:00",
          "2025-08-01T20:00:00",
          "2025-08-02T00:00:00",
          "2025-08-04T04:00:00",
          "2025-08-04T08:00:00",
          "2025-08-04T12:00:00",
          "2025-08-04T16:00:00",
          "2025-08-04T20:00:00",
          "2025-08-05T00:00:00",
          "2025-08-05T04:00:00",
          "2025-08-05T08:00:00",
          "2025-08-05T12:00:00",
          "2025-08-05T16:00:00",
          "2025-08-05T20:00:00",
          "2025-08-06T00:00:00",
          "2025-08-06T04:00:00",
          "2025-08-06T08:00:00",
          "2025-08-06T12:00:00",
          "2025-08-06T16:00:00",
          "2025-08-06T20:00:00",
          "2025-08-07T00:00:00",
          "2025-08-07T04:00:00",
          "2025-08-07T08:00:00",
          "2025-08-07T12:00:00",
          "2025-08-07T16:00:00",
          "2025-08-07T20:00:00",
          "2025-08-08T00:00:00",
          "2025-08-08T04:00:00",
          "2025-08-08T08:00:00",
          "2025-08-08T12:00:00",
          "2025-08-08T16:00:00",
          "2025-08-08T20:00:00",
          "2025-08-09T00:00:00",
          "2025-08-11T04:00:00",
          "2025-08-11T08:00:00",
          "2025-08-11T12:00:00",
          "2025-08-11T16:00:00",
          "2025-08-11T20:00:00"
         ],
         "xaxis": "x2",
         "y": [
          1000982.8666200694,
          999000.9990009991,
          1003662.8423614061,
          1006220.33274461,
          1006051.8910358902,
          1023864.8451458828,
          1023928.6193188374,
          1022167.5758589443,
          1023055.7407531305,
          1022626.9446345166,
          1025314.6122226677,
          1024719.9058892223,
          1023890.3548150647,
          1025306.9203758533,
          1024911.3257732356,
          1023928.6193188374,
          1027336.1074576044,
          1023724.4446002331,
          1022729.0806763936,
          1023095.2710038474,
          1023137.4301136021,
          1025281.4107066714,
          1032874.7239897002,
          1036192.8309211811,
          1050226.9462120268,
          1050027.9318463486,
          1047129.6634397231,
          1054793.1769955766,
          1062163.1346255396,
          1062086.6056179944,
          1060904.7874327684,
          1063205.8180120601,
          1064268.8507148363,
          1068122.9527945847,
          1053217.1273198267,
          1056917.9766541847,
          1053038.4622704042,
          1058372.9040838957,
          1050904.7050180375,
          1044320.7762403834,
          1046095.9376469611,
          1045124.8176453592,
          1043135.2581794746,
          1043096.9936757019,
          1043773.2920044693,
          1042041.5554545905,
          1041284.8335122956,
          1033204.0129254749,
          1032796.831870061,
          1033206.5444193633,
          1033091.750908045,
          1033516.6524206768,
          1035031.4594173605,
          1032428.0126835692,
          1032491.8842216735,
          1031917.5272044837,
          1026637.9993353379,
          1022041.1958948297,
          1021197.624239137,
          1024005.2456915325,
          1021038.0427590263,
          1023073.5585754979,
          1020674.3839254606,
          1019506.6836869193,
          1021662.1533676354,
          1021248.6435775007,
          1019781.0586783484,
          1024257.9082546122,
          1027010.7131278116,
          1029531.1073890374,
          1032828.767639113,
          1035435.4006474233
         ],
         "yaxis": "y2"
        }
       ],
       "layout": {
        "annotations": [
         {
          "font": {
           "size": 16
          },
          "showarrow": false,
          "text": "XAGUSD — Prediction & Signals (OOS)",
          "x": 0.5,
          "xanchor": "center",
          "xref": "paper",
          "y": 1,
          "yanchor": "bottom",
          "yref": "paper"
         },
         {
          "font": {
           "size": 16
          },
          "showarrow": false,
          "text": "Equity Curve",
          "x": 0.5,
          "xanchor": "center",
          "xref": "paper",
          "y": 0.276,
          "yanchor": "bottom",
          "yref": "paper"
         }
        ],
        "hovermode": "x unified",
        "legend": {
         "orientation": "h",
         "x": 0,
         "xanchor": "left",
         "y": 1.02,
         "yanchor": "bottom"
        },
        "margin": {
         "b": 60,
         "l": 50,
         "r": 50,
         "t": 60
        },
        "template": {
         "data": {
          "bar": [
           {
            "error_x": {
             "color": "#2a3f5f"
            },
            "error_y": {
             "color": "#2a3f5f"
            },
            "marker": {
             "line": {
              "color": "white",
              "width": 0.5
             },
             "pattern": {
              "fillmode": "overlay",
              "size": 10,
              "solidity": 0.2
             }
            },
            "type": "bar"
           }
          ],
          "barpolar": [
           {
            "marker": {
             "line": {
              "color": "white",
              "width": 0.5
             },
             "pattern": {
              "fillmode": "overlay",
              "size": 10,
              "solidity": 0.2
             }
            },
            "type": "barpolar"
           }
          ],
          "carpet": [
           {
            "aaxis": {
             "endlinecolor": "#2a3f5f",
             "gridcolor": "#C8D4E3",
             "linecolor": "#C8D4E3",
             "minorgridcolor": "#C8D4E3",
             "startlinecolor": "#2a3f5f"
            },
            "baxis": {
             "endlinecolor": "#2a3f5f",
             "gridcolor": "#C8D4E3",
             "linecolor": "#C8D4E3",
             "minorgridcolor": "#C8D4E3",
             "startlinecolor": "#2a3f5f"
            },
            "type": "carpet"
           }
          ],
          "choropleth": [
           {
            "colorbar": {
             "outlinewidth": 0,
             "ticks": ""
            },
            "type": "choropleth"
           }
          ],
          "contour": [
           {
            "colorbar": {
             "outlinewidth": 0,
             "ticks": ""
            },
            "colorscale": [
             [
              0,
              "#0d0887"
             ],
             [
              0.1111111111111111,
              "#46039f"
             ],
             [
              0.2222222222222222,
              "#7201a8"
             ],
             [
              0.3333333333333333,
              "#9c179e"
             ],
             [
              0.4444444444444444,
              "#bd3786"
             ],
             [
              0.5555555555555556,
              "#d8576b"
             ],
             [
              0.6666666666666666,
              "#ed7953"
             ],
             [
              0.7777777777777778,
              "#fb9f3a"
             ],
             [
              0.8888888888888888,
              "#fdca26"
             ],
             [
              1,
              "#f0f921"
             ]
            ],
            "type": "contour"
           }
          ],
          "contourcarpet": [
           {
            "colorbar": {
             "outlinewidth": 0,
             "ticks": ""
            },
            "type": "contourcarpet"
           }
          ],
          "heatmap": [
           {
            "colorbar": {
             "outlinewidth": 0,
             "ticks": ""
            },
            "colorscale": [
             [
              0,
              "#0d0887"
             ],
             [
              0.1111111111111111,
              "#46039f"
             ],
             [
              0.2222222222222222,
              "#7201a8"
             ],
             [
              0.3333333333333333,
              "#9c179e"
             ],
             [
              0.4444444444444444,
              "#bd3786"
             ],
             [
              0.5555555555555556,
              "#d8576b"
             ],
             [
              0.6666666666666666,
              "#ed7953"
             ],
             [
              0.7777777777777778,
              "#fb9f3a"
             ],
             [
              0.8888888888888888,
              "#fdca26"
             ],
             [
              1,
              "#f0f921"
             ]
            ],
            "type": "heatmap"
           }
          ],
          "heatmapgl": [
           {
            "colorbar": {
             "outlinewidth": 0,
             "ticks": ""
            },
            "colorscale": [
             [
              0,
              "#0d0887"
             ],
             [
              0.1111111111111111,
              "#46039f"
             ],
             [
              0.2222222222222222,
              "#7201a8"
             ],
             [
              0.3333333333333333,
              "#9c179e"
             ],
             [
              0.4444444444444444,
              "#bd3786"
             ],
             [
              0.5555555555555556,
              "#d8576b"
             ],
             [
              0.6666666666666666,
              "#ed7953"
             ],
             [
              0.7777777777777778,
              "#fb9f3a"
             ],
             [
              0.8888888888888888,
              "#fdca26"
             ],
             [
              1,
              "#f0f921"
             ]
            ],
            "type": "heatmapgl"
           }
          ],
          "histogram": [
           {
            "marker": {
             "pattern": {
              "fillmode": "overlay",
              "size": 10,
              "solidity": 0.2
             }
            },
            "type": "histogram"
           }
          ],
          "histogram2d": [
           {
            "colorbar": {
             "outlinewidth": 0,
             "ticks": ""
            },
            "colorscale": [
             [
              0,
              "#0d0887"
             ],
             [
              0.1111111111111111,
              "#46039f"
             ],
             [
              0.2222222222222222,
              "#7201a8"
             ],
             [
              0.3333333333333333,
              "#9c179e"
             ],
             [
              0.4444444444444444,
              "#bd3786"
             ],
             [
              0.5555555555555556,
              "#d8576b"
             ],
             [
              0.6666666666666666,
              "#ed7953"
             ],
             [
              0.7777777777777778,
              "#fb9f3a"
             ],
             [
              0.8888888888888888,
              "#fdca26"
             ],
             [
              1,
              "#f0f921"
             ]
            ],
            "type": "histogram2d"
           }
          ],
          "histogram2dcontour": [
           {
            "colorbar": {
             "outlinewidth": 0,
             "ticks": ""
            },
            "colorscale": [
             [
              0,
              "#0d0887"
             ],
             [
              0.1111111111111111,
              "#46039f"
             ],
             [
              0.2222222222222222,
              "#7201a8"
             ],
             [
              0.3333333333333333,
              "#9c179e"
             ],
             [
              0.4444444444444444,
              "#bd3786"
             ],
             [
              0.5555555555555556,
              "#d8576b"
             ],
             [
              0.6666666666666666,
              "#ed7953"
             ],
             [
              0.7777777777777778,
              "#fb9f3a"
             ],
             [
              0.8888888888888888,
              "#fdca26"
             ],
             [
              1,
              "#f0f921"
             ]
            ],
            "type": "histogram2dcontour"
           }
          ],
          "mesh3d": [
           {
            "colorbar": {
             "outlinewidth": 0,
             "ticks": ""
            },
            "type": "mesh3d"
           }
          ],
          "parcoords": [
           {
            "line": {
             "colorbar": {
              "outlinewidth": 0,
              "ticks": ""
             }
            },
            "type": "parcoords"
           }
          ],
          "pie": [
           {
            "automargin": true,
            "type": "pie"
           }
          ],
          "scatter": [
           {
            "fillpattern": {
             "fillmode": "overlay",
             "size": 10,
             "solidity": 0.2
            },
            "type": "scatter"
           }
          ],
          "scatter3d": [
           {
            "line": {
             "colorbar": {
              "outlinewidth": 0,
              "ticks": ""
             }
            },
            "marker": {
             "colorbar": {
              "outlinewidth": 0,
              "ticks": ""
             }
            },
            "type": "scatter3d"
           }
          ],
          "scattercarpet": [
           {
            "marker": {
             "colorbar": {
              "outlinewidth": 0,
              "ticks": ""
             }
            },
            "type": "scattercarpet"
           }
          ],
          "scattergeo": [
           {
            "marker": {
             "colorbar": {
              "outlinewidth": 0,
              "ticks": ""
             }
            },
            "type": "scattergeo"
           }
          ],
          "scattergl": [
           {
            "marker": {
             "colorbar": {
              "outlinewidth": 0,
              "ticks": ""
             }
            },
            "type": "scattergl"
           }
          ],
          "scattermapbox": [
           {
            "marker": {
             "colorbar": {
              "outlinewidth": 0,
              "ticks": ""
             }
            },
            "type": "scattermapbox"
           }
          ],
          "scatterpolar": [
           {
            "marker": {
             "colorbar": {
              "outlinewidth": 0,
              "ticks": ""
             }
            },
            "type": "scatterpolar"
           }
          ],
          "scatterpolargl": [
           {
            "marker": {
             "colorbar": {
              "outlinewidth": 0,
              "ticks": ""
             }
            },
            "type": "scatterpolargl"
           }
          ],
          "scatterternary": [
           {
            "marker": {
             "colorbar": {
              "outlinewidth": 0,
              "ticks": ""
             }
            },
            "type": "scatterternary"
           }
          ],
          "surface": [
           {
            "colorbar": {
             "outlinewidth": 0,
             "ticks": ""
            },
            "colorscale": [
             [
              0,
              "#0d0887"
             ],
             [
              0.1111111111111111,
              "#46039f"
             ],
             [
              0.2222222222222222,
              "#7201a8"
             ],
             [
              0.3333333333333333,
              "#9c179e"
             ],
             [
              0.4444444444444444,
              "#bd3786"
             ],
             [
              0.5555555555555556,
              "#d8576b"
             ],
             [
              0.6666666666666666,
              "#ed7953"
             ],
             [
              0.7777777777777778,
              "#fb9f3a"
             ],
             [
              0.8888888888888888,
              "#fdca26"
             ],
             [
              1,
              "#f0f921"
             ]
            ],
            "type": "surface"
           }
          ],
          "table": [
           {
            "cells": {
             "fill": {
              "color": "#EBF0F8"
             },
             "line": {
              "color": "white"
             }
            },
            "header": {
             "fill": {
              "color": "#C8D4E3"
             },
             "line": {
              "color": "white"
             }
            },
            "type": "table"
           }
          ]
         },
         "layout": {
          "annotationdefaults": {
           "arrowcolor": "#2a3f5f",
           "arrowhead": 0,
           "arrowwidth": 1
          },
          "autotypenumbers": "strict",
          "coloraxis": {
           "colorbar": {
            "outlinewidth": 0,
            "ticks": ""
           }
          },
          "colorscale": {
           "diverging": [
            [
             0,
             "#8e0152"
            ],
            [
             0.1,
             "#c51b7d"
            ],
            [
             0.2,
             "#de77ae"
            ],
            [
             0.3,
             "#f1b6da"
            ],
            [
             0.4,
             "#fde0ef"
            ],
            [
             0.5,
             "#f7f7f7"
            ],
            [
             0.6,
             "#e6f5d0"
            ],
            [
             0.7,
             "#b8e186"
            ],
            [
             0.8,
             "#7fbc41"
            ],
            [
             0.9,
             "#4d9221"
            ],
            [
             1,
             "#276419"
            ]
           ],
           "sequential": [
            [
             0,
             "#0d0887"
            ],
            [
             0.1111111111111111,
             "#46039f"
            ],
            [
             0.2222222222222222,
             "#7201a8"
            ],
            [
             0.3333333333333333,
             "#9c179e"
            ],
            [
             0.4444444444444444,
             "#bd3786"
            ],
            [
             0.5555555555555556,
             "#d8576b"
            ],
            [
             0.6666666666666666,
             "#ed7953"
            ],
            [
             0.7777777777777778,
             "#fb9f3a"
            ],
            [
             0.8888888888888888,
             "#fdca26"
            ],
            [
             1,
             "#f0f921"
            ]
           ],
           "sequentialminus": [
            [
             0,
             "#0d0887"
            ],
            [
             0.1111111111111111,
             "#46039f"
            ],
            [
             0.2222222222222222,
             "#7201a8"
            ],
            [
             0.3333333333333333,
             "#9c179e"
            ],
            [
             0.4444444444444444,
             "#bd3786"
            ],
            [
             0.5555555555555556,
             "#d8576b"
            ],
            [
             0.6666666666666666,
             "#ed7953"
            ],
            [
             0.7777777777777778,
             "#fb9f3a"
            ],
            [
             0.8888888888888888,
             "#fdca26"
            ],
            [
             1,
             "#f0f921"
            ]
           ]
          },
          "colorway": [
           "#636efa",
           "#EF553B",
           "#00cc96",
           "#ab63fa",
           "#FFA15A",
           "#19d3f3",
           "#FF6692",
           "#B6E880",
           "#FF97FF",
           "#FECB52"
          ],
          "font": {
           "color": "#2a3f5f"
          },
          "geo": {
           "bgcolor": "white",
           "lakecolor": "white",
           "landcolor": "white",
           "showlakes": true,
           "showland": true,
           "subunitcolor": "#C8D4E3"
          },
          "hoverlabel": {
           "align": "left"
          },
          "hovermode": "closest",
          "mapbox": {
           "style": "light"
          },
          "paper_bgcolor": "white",
          "plot_bgcolor": "white",
          "polar": {
           "angularaxis": {
            "gridcolor": "#EBF0F8",
            "linecolor": "#EBF0F8",
            "ticks": ""
           },
           "bgcolor": "white",
           "radialaxis": {
            "gridcolor": "#EBF0F8",
            "linecolor": "#EBF0F8",
            "ticks": ""
           }
          },
          "scene": {
           "xaxis": {
            "backgroundcolor": "white",
            "gridcolor": "#DFE8F3",
            "gridwidth": 2,
            "linecolor": "#EBF0F8",
            "showbackground": true,
            "ticks": "",
            "zerolinecolor": "#EBF0F8"
           },
           "yaxis": {
            "backgroundcolor": "white",
            "gridcolor": "#DFE8F3",
            "gridwidth": 2,
            "linecolor": "#EBF0F8",
            "showbackground": true,
            "ticks": "",
            "zerolinecolor": "#EBF0F8"
           },
           "zaxis": {
            "backgroundcolor": "white",
            "gridcolor": "#DFE8F3",
            "gridwidth": 2,
            "linecolor": "#EBF0F8",
            "showbackground": true,
            "ticks": "",
            "zerolinecolor": "#EBF0F8"
           }
          },
          "shapedefaults": {
           "line": {
            "color": "#2a3f5f"
           }
          },
          "ternary": {
           "aaxis": {
            "gridcolor": "#DFE8F3",
            "linecolor": "#A2B1C6",
            "ticks": ""
           },
           "baxis": {
            "gridcolor": "#DFE8F3",
            "linecolor": "#A2B1C6",
            "ticks": ""
           },
           "bgcolor": "white",
           "caxis": {
            "gridcolor": "#DFE8F3",
            "linecolor": "#A2B1C6",
            "ticks": ""
           }
          },
          "title": {
           "x": 0.05
          },
          "xaxis": {
           "automargin": true,
           "gridcolor": "#EBF0F8",
           "linecolor": "#EBF0F8",
           "ticks": "",
           "title": {
            "standoff": 15
           },
           "zerolinecolor": "#EBF0F8",
           "zerolinewidth": 2
          },
          "yaxis": {
           "automargin": true,
           "gridcolor": "#EBF0F8",
           "linecolor": "#EBF0F8",
           "ticks": "",
           "title": {
            "standoff": 15
           },
           "zerolinecolor": "#EBF0F8",
           "zerolinewidth": 2
          }
         }
        },
        "xaxis": {
         "anchor": "y",
         "domain": [
          0,
          1
         ],
         "matches": "x2",
         "showspikes": true,
         "showticklabels": false,
         "spikemode": "across",
         "spikesnap": "cursor"
        },
        "xaxis2": {
         "anchor": "y2",
         "domain": [
          0,
          1
         ],
         "rangeslider": {
          "visible": false
         },
         "showspikes": true,
         "spikemode": "across",
         "spikesnap": "cursor"
        },
        "yaxis": {
         "anchor": "x",
         "domain": [
          0.35600000000000004,
          1
         ],
         "gridcolor": "rgba(0,0,0,0.08)",
         "showgrid": true
        },
        "yaxis2": {
         "anchor": "x2",
         "domain": [
          0,
          0.276
         ],
         "gridcolor": "rgba(0,0,0,0.08)",
         "showgrid": true
        }
       }
      }
     },
     "metadata": {},
     "output_type": "display_data"
    },
    {
     "name": "stderr",
     "output_type": "stream",
     "text": [
      "[I 2025-08-26 11:08:58,624] A new study created in memory with name: no-name-f8c53b95-7425-4673-abae-351054a19f30\n"
     ]
    },
    {
     "name": "stdout",
     "output_type": "stream",
     "text": [
      "\n",
      "Processing ZW1! ...\n"
     ]
    },
    {
     "name": "stderr",
     "output_type": "stream",
     "text": [
      "c:\\Users\\offen\\AppData\\Local\\Programs\\Python\\Python312\\Lib\\site-packages\\optuna\\distributions.py:708: UserWarning:\n",
      "\n",
      "The distribution is specified by [21, 94] and step=4, but the range is not divisible by `step`. It will be replaced by [21, 93].\n",
      "\n",
      "c:\\Users\\offen\\AppData\\Local\\Programs\\Python\\Python312\\Lib\\site-packages\\optuna\\distributions.py:708: UserWarning:\n",
      "\n",
      "The distribution is specified by [1, 500] and step=8, but the range is not divisible by `step`. It will be replaced by [1, 497].\n",
      "\n",
      "[I 2025-08-26 11:08:58,909] Trial 0 finished with value: -1.9325298852586492 and parameters: {'sequence_length': 33, 'hidden_layer_size': 313, 'lstm_layers': 2, 'dropout': 0.4712151502282615, 'learning_rate': 0.007675507817190953, 'epochs': 2730, 'long_threshold': 0.0008293927654292901, 'short_threshold': 0.002405616532605058}. Best is trial 0 with value: -1.9325298852586492.\n",
      "c:\\Users\\offen\\AppData\\Local\\Programs\\Python\\Python312\\Lib\\site-packages\\optuna\\distributions.py:708: UserWarning:\n",
      "\n",
      "The distribution is specified by [21, 94] and step=4, but the range is not divisible by `step`. It will be replaced by [21, 93].\n",
      "\n",
      "c:\\Users\\offen\\AppData\\Local\\Programs\\Python\\Python312\\Lib\\site-packages\\optuna\\distributions.py:708: UserWarning:\n",
      "\n",
      "The distribution is specified by [1, 500] and step=8, but the range is not divisible by `step`. It will be replaced by [1, 497].\n",
      "\n",
      "[I 2025-08-26 11:08:59,459] Trial 1 finished with value: -3.5158449702219263 and parameters: {'sequence_length': 93, 'hidden_layer_size': 441, 'lstm_layers': 2, 'dropout': 0.3005970753140752, 'learning_rate': 0.0033737189167564853, 'epochs': 7130, 'long_threshold': 0.0011107522643711849, 'short_threshold': 0.0016835885581968748}. Best is trial 0 with value: -1.9325298852586492.\n",
      "c:\\Users\\offen\\AppData\\Local\\Programs\\Python\\Python312\\Lib\\site-packages\\optuna\\distributions.py:708: UserWarning:\n",
      "\n",
      "The distribution is specified by [21, 94] and step=4, but the range is not divisible by `step`. It will be replaced by [21, 93].\n",
      "\n",
      "c:\\Users\\offen\\AppData\\Local\\Programs\\Python\\Python312\\Lib\\site-packages\\optuna\\distributions.py:708: UserWarning:\n",
      "\n",
      "The distribution is specified by [1, 500] and step=8, but the range is not divisible by `step`. It will be replaced by [1, 497].\n",
      "\n",
      "[I 2025-08-26 11:09:04,083] Trial 2 finished with value: -5.4425569260895035 and parameters: {'sequence_length': 57, 'hidden_layer_size': 1, 'lstm_layers': 3, 'dropout': 0.5295847143816699, 'learning_rate': 0.0002237187115484708, 'epochs': 6160, 'long_threshold': 0.00022614372492892965, 'short_threshold': 0.0011064720180059236}. Best is trial 0 with value: -1.9325298852586492.\n",
      "c:\\Users\\offen\\AppData\\Local\\Programs\\Python\\Python312\\Lib\\site-packages\\optuna\\distributions.py:708: UserWarning:\n",
      "\n",
      "The distribution is specified by [21, 94] and step=4, but the range is not divisible by `step`. It will be replaced by [21, 93].\n",
      "\n",
      "c:\\Users\\offen\\AppData\\Local\\Programs\\Python\\Python312\\Lib\\site-packages\\optuna\\distributions.py:708: UserWarning:\n",
      "\n",
      "The distribution is specified by [1, 500] and step=8, but the range is not divisible by `step`. It will be replaced by [1, 497].\n",
      "\n",
      "[I 2025-08-26 11:09:04,635] Trial 3 finished with value: 1.5953629898412869 and parameters: {'sequence_length': 89, 'hidden_layer_size': 329, 'lstm_layers': 2, 'dropout': 0.47323808576444726, 'learning_rate': 0.0001485823805383844, 'epochs': 5690, 'long_threshold': 0.0026073821686836774, 'short_threshold': 0.0013085202716870382}. Best is trial 3 with value: 1.5953629898412869.\n",
      "c:\\Users\\offen\\AppData\\Local\\Programs\\Python\\Python312\\Lib\\site-packages\\optuna\\distributions.py:708: UserWarning:\n",
      "\n",
      "The distribution is specified by [21, 94] and step=4, but the range is not divisible by `step`. It will be replaced by [21, 93].\n",
      "\n",
      "c:\\Users\\offen\\AppData\\Local\\Programs\\Python\\Python312\\Lib\\site-packages\\optuna\\distributions.py:708: UserWarning:\n",
      "\n",
      "The distribution is specified by [1, 500] and step=8, but the range is not divisible by `step`. It will be replaced by [1, 497].\n",
      "\n",
      "[I 2025-08-26 11:09:04,781] Trial 4 finished with value: -4.379728110611869 and parameters: {'sequence_length': 81, 'hidden_layer_size': 73, 'lstm_layers': 3, 'dropout': 0.4227487849137435, 'learning_rate': 6.446224643080463e-05, 'epochs': 9250, 'long_threshold': 0.00132642226621253, 'short_threshold': 0.0027279478769174177}. Best is trial 3 with value: 1.5953629898412869.\n",
      "c:\\Users\\offen\\AppData\\Local\\Programs\\Python\\Python312\\Lib\\site-packages\\optuna\\distributions.py:708: UserWarning:\n",
      "\n",
      "The distribution is specified by [21, 94] and step=4, but the range is not divisible by `step`. It will be replaced by [21, 93].\n",
      "\n",
      "c:\\Users\\offen\\AppData\\Local\\Programs\\Python\\Python312\\Lib\\site-packages\\optuna\\distributions.py:708: UserWarning:\n",
      "\n",
      "The distribution is specified by [1, 500] and step=8, but the range is not divisible by `step`. It will be replaced by [1, 497].\n",
      "\n",
      "[I 2025-08-26 11:09:04,835] Trial 5 finished with value: -5.243547843774343 and parameters: {'sequence_length': 25, 'hidden_layer_size': 89, 'lstm_layers': 1, 'dropout': 0.4049285661493981, 'learning_rate': 0.0015830667410321512, 'epochs': 5340, 'long_threshold': 0.00012997218808441047, 'short_threshold': 0.0016842992401901937}. Best is trial 3 with value: 1.5953629898412869.\n",
      "c:\\Users\\offen\\AppData\\Local\\Programs\\Python\\Python312\\Lib\\site-packages\\optuna\\distributions.py:708: UserWarning:\n",
      "\n",
      "The distribution is specified by [21, 94] and step=4, but the range is not divisible by `step`. It will be replaced by [21, 93].\n",
      "\n",
      "c:\\Users\\offen\\AppData\\Local\\Programs\\Python\\Python312\\Lib\\site-packages\\optuna\\distributions.py:708: UserWarning:\n",
      "\n",
      "The distribution is specified by [1, 500] and step=8, but the range is not divisible by `step`. It will be replaced by [1, 497].\n",
      "\n",
      "[I 2025-08-26 11:09:04,966] Trial 6 finished with value: -4.568860654903739 and parameters: {'sequence_length': 45, 'hidden_layer_size': 249, 'lstm_layers': 1, 'dropout': 0.36431622373109074, 'learning_rate': 0.0012399730859723546, 'epochs': 70, 'long_threshold': 0.0018523251264128912, 'short_threshold': 0.002736368659299463}. Best is trial 3 with value: 1.5953629898412869.\n",
      "c:\\Users\\offen\\AppData\\Local\\Programs\\Python\\Python312\\Lib\\site-packages\\optuna\\distributions.py:708: UserWarning:\n",
      "\n",
      "The distribution is specified by [21, 94] and step=4, but the range is not divisible by `step`. It will be replaced by [21, 93].\n",
      "\n",
      "c:\\Users\\offen\\AppData\\Local\\Programs\\Python\\Python312\\Lib\\site-packages\\optuna\\distributions.py:708: UserWarning:\n",
      "\n",
      "The distribution is specified by [1, 500] and step=8, but the range is not divisible by `step`. It will be replaced by [1, 497].\n",
      "\n",
      "[I 2025-08-26 11:09:05,702] Trial 7 finished with value: 1.5324467235106942 and parameters: {'sequence_length': 81, 'hidden_layer_size': 497, 'lstm_layers': 3, 'dropout': 0.47517848117498385, 'learning_rate': 0.00011353630204166286, 'epochs': 6250, 'long_threshold': 0.0014342813870120237, 'short_threshold': 0.0005870255359976947}. Best is trial 3 with value: 1.5953629898412869.\n",
      "c:\\Users\\offen\\AppData\\Local\\Programs\\Python\\Python312\\Lib\\site-packages\\optuna\\distributions.py:708: UserWarning:\n",
      "\n",
      "The distribution is specified by [21, 94] and step=4, but the range is not divisible by `step`. It will be replaced by [21, 93].\n",
      "\n",
      "c:\\Users\\offen\\AppData\\Local\\Programs\\Python\\Python312\\Lib\\site-packages\\optuna\\distributions.py:708: UserWarning:\n",
      "\n",
      "The distribution is specified by [1, 500] and step=8, but the range is not divisible by `step`. It will be replaced by [1, 497].\n",
      "\n",
      "[I 2025-08-26 11:09:06,910] Trial 8 finished with value: -1.9325298852586492 and parameters: {'sequence_length': 49, 'hidden_layer_size': 25, 'lstm_layers': 2, 'dropout': 0.5892028449131727, 'learning_rate': 2.873825085223262e-05, 'epochs': 1200, 'long_threshold': 0.0022155691684300404, 'short_threshold': 0.001761910900391954}. Best is trial 3 with value: 1.5953629898412869.\n",
      "c:\\Users\\offen\\AppData\\Local\\Programs\\Python\\Python312\\Lib\\site-packages\\optuna\\distributions.py:708: UserWarning:\n",
      "\n",
      "The distribution is specified by [21, 94] and step=4, but the range is not divisible by `step`. It will be replaced by [21, 93].\n",
      "\n",
      "c:\\Users\\offen\\AppData\\Local\\Programs\\Python\\Python312\\Lib\\site-packages\\optuna\\distributions.py:708: UserWarning:\n",
      "\n",
      "The distribution is specified by [1, 500] and step=8, but the range is not divisible by `step`. It will be replaced by [1, 497].\n",
      "\n",
      "[I 2025-08-26 11:09:07,033] Trial 9 finished with value: -5.100705023263785 and parameters: {'sequence_length': 53, 'hidden_layer_size': 49, 'lstm_layers': 1, 'dropout': 0.5399791169020052, 'learning_rate': 0.00034798364713040314, 'epochs': 5360, 'long_threshold': 1.8625549761388193e-05, 'short_threshold': 0.0009019251173109034}. Best is trial 3 with value: 1.5953629898412869.\n"
     ]
    },
    {
     "name": "stdout",
     "output_type": "stream",
     "text": [
      "\n",
      "=== Best Trial ===\n",
      "Value (objective): 1.5953629898412869\n",
      "sequence_length: 89\n",
      "hidden_layer_size: 329\n",
      "lstm_layers: 2\n",
      "dropout: 0.47323808576444726\n",
      "learning_rate: 0.0001485823805383844\n",
      "epochs: 5690\n",
      "long_threshold: 0.0026073821686836774\n",
      "short_threshold: 0.0013085202716870382\n",
      "Metrics (val): {'Total Profit %': np.float64(2.1819546854642935), 'MaxDD %': -0.14664792390575165, 'WinRate': 0.26666666666666666}\n",
      "[params for ZW1! ] {'sequence_length': 89, 'hidden_layer_size': 329, 'lstm_layers': 2, 'dropout': 0.47323808576444726, 'learning_rate': 0.0001485823805383844, 'epochs': 5690, 'long_threshold': 0.0026073821686836774, 'short_threshold': 0.0013085202716870382}\n",
      "[train] seq=89 | hidden=329 | layers=2 | dropout=0.47 | lr=0.000149 | epochs=5690 | thr=[long 0.0026, short 0.0013]\n",
      "Epoch 474/5690  TrainLoss: 0.00611995\n",
      "Epoch 948/5690  TrainLoss: 0.00241023\n",
      "Epoch 1422/5690  TrainLoss: 0.00200493\n",
      "Epoch 1896/5690  TrainLoss: 0.00169957\n",
      "Epoch 2370/5690  TrainLoss: 0.00139527\n",
      "Epoch 2844/5690  TrainLoss: 0.00105837\n",
      "Epoch 3318/5690  TrainLoss: 0.00072476\n",
      "Epoch 3792/5690  TrainLoss: 0.00052414\n",
      "Epoch 4266/5690  TrainLoss: 0.00038435\n",
      "Epoch 4740/5690  TrainLoss: 0.00029257\n",
      "Epoch 5214/5690  TrainLoss: 0.00020907\n",
      "Epoch 5688/5690  TrainLoss: 0.00015464\n",
      "Epoch 5690/5690  TrainLoss: 0.00014130\n"
     ]
    },
    {
     "data": {
      "application/vnd.plotly.v1+json": {
       "config": {
        "plotlyServerURL": "https://plot.ly"
       },
       "data": [
        {
         "hovertemplate": "%{x|%Y-%m-%d %H:%M}<br>Price %{y:.4f}<extra></extra>",
         "line": {
          "color": "#C62828",
          "width": 2
         },
         "mode": "lines",
         "name": "Price (Short)",
         "type": "scatter",
         "x": [
          "2025-07-22T07:00:00",
          "2025-07-22T11:00:00",
          "2025-07-22T15:00:00",
          "2025-07-22T19:00:00",
          "2025-07-22T23:00:00",
          "2025-07-23T07:00:00",
          "2025-07-23T11:00:00",
          "2025-07-23T15:00:00",
          "2025-07-23T19:00:00",
          "2025-07-23T23:00:00",
          "2025-07-24T07:00:00",
          "2025-07-24T11:00:00",
          "2025-07-24T15:00:00",
          "2025-07-24T19:00:00",
          "2025-07-24T23:00:00",
          "2025-07-25T07:00:00",
          "2025-07-25T11:00:00",
          "2025-07-25T15:00:00",
          "2025-07-25T19:00:00",
          "2025-07-25T23:00:00",
          "2025-07-28T07:00:00",
          "2025-07-28T11:00:00",
          "2025-07-28T15:00:00",
          "2025-07-28T19:00:00",
          "2025-07-28T23:00:00",
          "2025-07-29T07:00:00",
          "2025-07-29T11:00:00",
          "2025-07-29T15:00:00",
          "2025-07-29T19:00:00",
          "2025-07-29T23:00:00",
          "2025-07-30T07:00:00",
          "2025-07-30T11:00:00",
          "2025-07-30T15:00:00",
          "2025-07-30T19:00:00",
          "2025-07-30T23:00:00",
          "2025-07-31T07:00:00",
          "2025-07-31T11:00:00",
          "2025-07-31T15:00:00",
          "2025-07-31T19:00:00",
          "2025-07-31T23:00:00",
          "2025-08-01T07:00:00",
          "2025-08-01T11:00:00",
          "2025-08-01T15:00:00",
          "2025-08-01T19:00:00",
          "2025-08-01T23:00:00",
          "2025-08-04T07:00:00",
          "2025-08-04T11:00:00",
          "2025-08-04T15:00:00",
          "2025-08-04T19:00:00",
          "2025-08-04T23:00:00",
          "2025-08-05T07:00:00",
          "2025-08-05T11:00:00",
          "2025-08-05T15:00:00",
          "2025-08-05T19:00:00",
          "2025-08-05T23:00:00",
          "2025-08-06T07:00:00",
          "2025-08-06T11:00:00",
          "2025-08-06T15:00:00",
          "2025-08-06T19:00:00",
          "2025-08-06T23:00:00",
          "2025-08-07T07:00:00",
          "2025-08-07T11:00:00",
          "2025-08-07T15:00:00",
          "2025-08-07T19:00:00",
          "2025-08-07T23:00:00",
          "2025-08-08T07:00:00",
          "2025-08-08T11:00:00",
          "2025-08-08T15:00:00",
          "2025-08-08T19:00:00",
          "2025-08-08T23:00:00",
          "2025-08-11T07:00:00",
          "2025-08-11T11:00:00",
          "2025-08-11T15:00:00",
          "2025-08-11T19:00:00",
          "2025-08-11T23:00:00"
         ],
         "xaxis": "x",
         "y": [
          null,
          537.75,
          540.5,
          550.75,
          549.5,
          550.25,
          550.25,
          547.25,
          542.75,
          541,
          543.5,
          544,
          540.75,
          538,
          541.75,
          540,
          539.25,
          539.5,
          535.25,
          539.25,
          537,
          534.5,
          534.5,
          536.75,
          538.25,
          538.5,
          534.25,
          531.25,
          529.5,
          529.75,
          527.75,
          528,
          527,
          526.5,
          523.75,
          524,
          522.75,
          523.5,
          522.25,
          524,
          524.25,
          523.5,
          519,
          517.75,
          516.75,
          514,
          515.75,
          516.5,
          517,
          516.5,
          513,
          514,
          515.5,
          508,
          508.25,
          508.75,
          507.7500305175781,
          506.7499694824219,
          505.4999694824219,
          508.25,
          510.9999694824219,
          510.9999694824219,
          515,
          519,
          518.25,
          518.5,
          520.5,
          517.25,
          516.25,
          515.5,
          518.5,
          520,
          516.5,
          516,
          514.5
         ],
         "yaxis": "y"
        },
        {
         "hovertemplate": "%{x|%Y-%m-%d %H:%M}<br>Price %{y:.4f}<extra></extra>",
         "line": {
          "color": "#9E9E9E",
          "width": 2
         },
         "mode": "lines",
         "name": "Price (Neutral)",
         "type": "scatter",
         "x": [
          "2025-07-22T07:00:00",
          "2025-07-22T11:00:00",
          "2025-07-22T15:00:00",
          "2025-07-22T19:00:00",
          "2025-07-22T23:00:00",
          "2025-07-23T07:00:00",
          "2025-07-23T11:00:00",
          "2025-07-23T15:00:00",
          "2025-07-23T19:00:00",
          "2025-07-23T23:00:00",
          "2025-07-24T07:00:00",
          "2025-07-24T11:00:00",
          "2025-07-24T15:00:00",
          "2025-07-24T19:00:00",
          "2025-07-24T23:00:00",
          "2025-07-25T07:00:00",
          "2025-07-25T11:00:00",
          "2025-07-25T15:00:00",
          "2025-07-25T19:00:00",
          "2025-07-25T23:00:00",
          "2025-07-28T07:00:00",
          "2025-07-28T11:00:00",
          "2025-07-28T15:00:00",
          "2025-07-28T19:00:00",
          "2025-07-28T23:00:00",
          "2025-07-29T07:00:00",
          "2025-07-29T11:00:00",
          "2025-07-29T15:00:00",
          "2025-07-29T19:00:00",
          "2025-07-29T23:00:00",
          "2025-07-30T07:00:00",
          "2025-07-30T11:00:00",
          "2025-07-30T15:00:00",
          "2025-07-30T19:00:00",
          "2025-07-30T23:00:00",
          "2025-07-31T07:00:00",
          "2025-07-31T11:00:00",
          "2025-07-31T15:00:00",
          "2025-07-31T19:00:00",
          "2025-07-31T23:00:00",
          "2025-08-01T07:00:00",
          "2025-08-01T11:00:00",
          "2025-08-01T15:00:00",
          "2025-08-01T19:00:00",
          "2025-08-01T23:00:00",
          "2025-08-04T07:00:00",
          "2025-08-04T11:00:00",
          "2025-08-04T15:00:00",
          "2025-08-04T19:00:00",
          "2025-08-04T23:00:00",
          "2025-08-05T07:00:00",
          "2025-08-05T11:00:00",
          "2025-08-05T15:00:00",
          "2025-08-05T19:00:00",
          "2025-08-05T23:00:00",
          "2025-08-06T07:00:00",
          "2025-08-06T11:00:00",
          "2025-08-06T15:00:00",
          "2025-08-06T19:00:00",
          "2025-08-06T23:00:00",
          "2025-08-07T07:00:00",
          "2025-08-07T11:00:00",
          "2025-08-07T15:00:00",
          "2025-08-07T19:00:00",
          "2025-08-07T23:00:00",
          "2025-08-08T07:00:00",
          "2025-08-08T11:00:00",
          "2025-08-08T15:00:00",
          "2025-08-08T19:00:00",
          "2025-08-08T23:00:00",
          "2025-08-11T07:00:00",
          "2025-08-11T11:00:00",
          "2025-08-11T15:00:00",
          "2025-08-11T19:00:00",
          "2025-08-11T23:00:00"
         ],
         "xaxis": "x",
         "y": [
          540,
          null,
          null,
          null,
          null,
          null,
          null,
          null,
          null,
          null,
          null,
          null,
          null,
          null,
          null,
          null,
          null,
          null,
          null,
          null,
          null,
          null,
          null,
          null,
          null,
          null,
          null,
          null,
          null,
          null,
          null,
          null,
          null,
          null,
          null,
          null,
          null,
          null,
          null,
          null,
          null,
          null,
          null,
          null,
          null,
          null,
          null,
          null,
          null,
          null,
          null,
          null,
          null,
          null,
          null,
          null,
          null,
          null,
          null,
          null,
          null,
          null,
          null,
          null,
          null,
          null,
          null,
          null,
          null,
          null,
          null,
          null,
          null,
          null,
          null
         ],
         "yaxis": "y"
        },
        {
         "hovertemplate": "%{x|%Y-%m-%d %H:%M}<br>Price %{y:.4f}<extra></extra>",
         "line": {
          "color": "#2E7D32",
          "width": 2
         },
         "mode": "lines",
         "name": "Price (Long)",
         "type": "scatter",
         "x": [
          "2025-07-22T07:00:00",
          "2025-07-22T11:00:00",
          "2025-07-22T15:00:00",
          "2025-07-22T19:00:00",
          "2025-07-22T23:00:00",
          "2025-07-23T07:00:00",
          "2025-07-23T11:00:00",
          "2025-07-23T15:00:00",
          "2025-07-23T19:00:00",
          "2025-07-23T23:00:00",
          "2025-07-24T07:00:00",
          "2025-07-24T11:00:00",
          "2025-07-24T15:00:00",
          "2025-07-24T19:00:00",
          "2025-07-24T23:00:00",
          "2025-07-25T07:00:00",
          "2025-07-25T11:00:00",
          "2025-07-25T15:00:00",
          "2025-07-25T19:00:00",
          "2025-07-25T23:00:00",
          "2025-07-28T07:00:00",
          "2025-07-28T11:00:00",
          "2025-07-28T15:00:00",
          "2025-07-28T19:00:00",
          "2025-07-28T23:00:00",
          "2025-07-29T07:00:00",
          "2025-07-29T11:00:00",
          "2025-07-29T15:00:00",
          "2025-07-29T19:00:00",
          "2025-07-29T23:00:00",
          "2025-07-30T07:00:00",
          "2025-07-30T11:00:00",
          "2025-07-30T15:00:00",
          "2025-07-30T19:00:00",
          "2025-07-30T23:00:00",
          "2025-07-31T07:00:00",
          "2025-07-31T11:00:00",
          "2025-07-31T15:00:00",
          "2025-07-31T19:00:00",
          "2025-07-31T23:00:00",
          "2025-08-01T07:00:00",
          "2025-08-01T11:00:00",
          "2025-08-01T15:00:00",
          "2025-08-01T19:00:00",
          "2025-08-01T23:00:00",
          "2025-08-04T07:00:00",
          "2025-08-04T11:00:00",
          "2025-08-04T15:00:00",
          "2025-08-04T19:00:00",
          "2025-08-04T23:00:00",
          "2025-08-05T07:00:00",
          "2025-08-05T11:00:00",
          "2025-08-05T15:00:00",
          "2025-08-05T19:00:00",
          "2025-08-05T23:00:00",
          "2025-08-06T07:00:00",
          "2025-08-06T11:00:00",
          "2025-08-06T15:00:00",
          "2025-08-06T19:00:00",
          "2025-08-06T23:00:00",
          "2025-08-07T07:00:00",
          "2025-08-07T11:00:00",
          "2025-08-07T15:00:00",
          "2025-08-07T19:00:00",
          "2025-08-07T23:00:00",
          "2025-08-08T07:00:00",
          "2025-08-08T11:00:00",
          "2025-08-08T15:00:00",
          "2025-08-08T19:00:00",
          "2025-08-08T23:00:00",
          "2025-08-11T07:00:00",
          "2025-08-11T11:00:00",
          "2025-08-11T15:00:00",
          "2025-08-11T19:00:00",
          "2025-08-11T23:00:00"
         ],
         "xaxis": "x",
         "y": [
          null,
          null,
          null,
          null,
          null,
          null,
          null,
          null,
          null,
          null,
          null,
          null,
          null,
          null,
          null,
          null,
          null,
          null,
          null,
          null,
          null,
          null,
          null,
          null,
          null,
          null,
          null,
          null,
          null,
          null,
          null,
          null,
          null,
          null,
          null,
          null,
          null,
          null,
          null,
          null,
          null,
          null,
          null,
          null,
          null,
          null,
          null,
          null,
          null,
          null,
          null,
          null,
          null,
          null,
          null,
          null,
          null,
          null,
          null,
          null,
          null,
          null,
          null,
          null,
          null,
          null,
          null,
          null,
          null,
          null,
          null,
          null,
          null,
          null,
          null
         ],
         "yaxis": "y"
        },
        {
         "hovertemplate": "%{x|%Y-%m-%d %H:%M}<br>Pred %{y:.4f}<extra></extra>",
         "line": {
          "color": "#FB8C00",
          "dash": "dot",
          "width": 1.2
         },
         "mode": "lines",
         "name": "Predicted (t+1)",
         "type": "scatter",
         "x": [
          "2025-07-22T07:00:00",
          "2025-07-22T11:00:00",
          "2025-07-22T15:00:00",
          "2025-07-22T19:00:00",
          "2025-07-22T23:00:00",
          "2025-07-23T07:00:00",
          "2025-07-23T11:00:00",
          "2025-07-23T15:00:00",
          "2025-07-23T19:00:00",
          "2025-07-23T23:00:00",
          "2025-07-24T07:00:00",
          "2025-07-24T11:00:00",
          "2025-07-24T15:00:00",
          "2025-07-24T19:00:00",
          "2025-07-24T23:00:00",
          "2025-07-25T07:00:00",
          "2025-07-25T11:00:00",
          "2025-07-25T15:00:00",
          "2025-07-25T19:00:00",
          "2025-07-25T23:00:00",
          "2025-07-28T07:00:00",
          "2025-07-28T11:00:00",
          "2025-07-28T15:00:00",
          "2025-07-28T19:00:00",
          "2025-07-28T23:00:00",
          "2025-07-29T07:00:00",
          "2025-07-29T11:00:00",
          "2025-07-29T15:00:00",
          "2025-07-29T19:00:00",
          "2025-07-29T23:00:00",
          "2025-07-30T07:00:00",
          "2025-07-30T11:00:00",
          "2025-07-30T15:00:00",
          "2025-07-30T19:00:00",
          "2025-07-30T23:00:00",
          "2025-07-31T07:00:00",
          "2025-07-31T11:00:00",
          "2025-07-31T15:00:00",
          "2025-07-31T19:00:00",
          "2025-07-31T23:00:00",
          "2025-08-01T07:00:00",
          "2025-08-01T11:00:00",
          "2025-08-01T15:00:00",
          "2025-08-01T19:00:00",
          "2025-08-01T23:00:00",
          "2025-08-04T07:00:00",
          "2025-08-04T11:00:00",
          "2025-08-04T15:00:00",
          "2025-08-04T19:00:00",
          "2025-08-04T23:00:00",
          "2025-08-05T07:00:00",
          "2025-08-05T11:00:00",
          "2025-08-05T15:00:00",
          "2025-08-05T19:00:00",
          "2025-08-05T23:00:00",
          "2025-08-06T07:00:00",
          "2025-08-06T11:00:00",
          "2025-08-06T15:00:00",
          "2025-08-06T19:00:00",
          "2025-08-06T23:00:00",
          "2025-08-07T07:00:00",
          "2025-08-07T11:00:00",
          "2025-08-07T15:00:00",
          "2025-08-07T19:00:00",
          "2025-08-07T23:00:00",
          "2025-08-08T07:00:00",
          "2025-08-08T11:00:00",
          "2025-08-08T15:00:00",
          "2025-08-08T19:00:00",
          "2025-08-08T23:00:00",
          "2025-08-11T07:00:00",
          "2025-08-11T11:00:00",
          "2025-08-11T15:00:00",
          "2025-08-11T19:00:00",
          "2025-08-11T23:00:00"
         ],
         "xaxis": "x",
         "y": [
          542.3272094726562,
          546.463134765625,
          544.8209838867188,
          560.5249633789062,
          560.9706420898438,
          560.7344970703125,
          559.7774658203125,
          557.0454711914062,
          549.4317016601562,
          548.1829223632812,
          545.560302734375,
          549.9251708984375,
          547.3988647460938,
          547.7522583007812,
          548.9918212890625,
          548.329833984375,
          546.2784423828125,
          543.7680053710938,
          542.9977416992188,
          542.771728515625,
          543.0433349609375,
          542.9061279296875,
          542.2730712890625,
          541.6649780273438,
          541.0906372070312,
          540.8988647460938,
          541.0691528320312,
          541.3346557617188,
          540.2576293945312,
          539.1002807617188,
          539.513671875,
          538.2611083984375,
          539.1607055664062,
          539.4830322265625,
          539.2890014648438,
          539.3959350585938,
          539.3804321289062,
          539.1345825195312,
          538.7155151367188,
          539.9635620117188,
          539.8967895507812,
          534.4686889648438,
          532.4832763671875,
          529.5668334960938,
          526.96240234375,
          526.0872802734375,
          527.2620239257812,
          530.72216796875,
          536.4752807617188,
          543.0411987304688,
          549.35205078125,
          555.695068359375,
          560.73046875,
          564.026123046875,
          570.0631103515625,
          575.7496948242188,
          578.4906616210938,
          580.8007202148438,
          581.5628051757812,
          581.0491943359375,
          574.1803588867188,
          566.1558837890625,
          563.7919311523438,
          564.7813110351562,
          564.333984375,
          564.0457763671875,
          563.8655395507812,
          563.8591918945312,
          563.868896484375,
          563.9740600585938,
          564.0855102539062,
          564.2901000976562,
          564.669677734375,
          564.7928466796875,
          568.0855102539062
         ],
         "yaxis": "y"
        },
        {
         "hovertemplate": "%{x|%Y-%m-%d %H:%M}<br>Equity %{y:,.2f}<extra></extra>",
         "line": {
          "color": "#6A1B9A",
          "width": 1.8
         },
         "mode": "lines",
         "name": "Equity",
         "type": "scatter",
         "x": [
          "2025-07-22T07:00:00",
          "2025-07-22T11:00:00",
          "2025-07-22T15:00:00",
          "2025-07-22T19:00:00",
          "2025-07-22T23:00:00",
          "2025-07-23T07:00:00",
          "2025-07-23T11:00:00",
          "2025-07-23T15:00:00",
          "2025-07-23T19:00:00",
          "2025-07-23T23:00:00",
          "2025-07-24T07:00:00",
          "2025-07-24T11:00:00",
          "2025-07-24T15:00:00",
          "2025-07-24T19:00:00",
          "2025-07-24T23:00:00",
          "2025-07-25T07:00:00",
          "2025-07-25T11:00:00",
          "2025-07-25T15:00:00",
          "2025-07-25T19:00:00",
          "2025-07-25T23:00:00",
          "2025-07-28T07:00:00",
          "2025-07-28T11:00:00",
          "2025-07-28T15:00:00",
          "2025-07-28T19:00:00",
          "2025-07-28T23:00:00",
          "2025-07-29T07:00:00",
          "2025-07-29T11:00:00",
          "2025-07-29T15:00:00",
          "2025-07-29T19:00:00",
          "2025-07-29T23:00:00",
          "2025-07-30T07:00:00",
          "2025-07-30T11:00:00",
          "2025-07-30T15:00:00",
          "2025-07-30T19:00:00",
          "2025-07-30T23:00:00",
          "2025-07-31T07:00:00",
          "2025-07-31T11:00:00",
          "2025-07-31T15:00:00",
          "2025-07-31T19:00:00",
          "2025-07-31T23:00:00",
          "2025-08-01T07:00:00",
          "2025-08-01T11:00:00",
          "2025-08-01T15:00:00",
          "2025-08-01T19:00:00",
          "2025-08-01T23:00:00",
          "2025-08-04T07:00:00",
          "2025-08-04T11:00:00",
          "2025-08-04T15:00:00",
          "2025-08-04T19:00:00",
          "2025-08-04T23:00:00",
          "2025-08-05T07:00:00",
          "2025-08-05T11:00:00",
          "2025-08-05T15:00:00",
          "2025-08-05T19:00:00",
          "2025-08-05T23:00:00",
          "2025-08-06T07:00:00",
          "2025-08-06T11:00:00",
          "2025-08-06T15:00:00",
          "2025-08-06T19:00:00",
          "2025-08-06T23:00:00",
          "2025-08-07T07:00:00",
          "2025-08-07T11:00:00",
          "2025-08-07T15:00:00",
          "2025-08-07T19:00:00",
          "2025-08-07T23:00:00",
          "2025-08-08T07:00:00",
          "2025-08-08T11:00:00",
          "2025-08-08T15:00:00",
          "2025-08-08T19:00:00",
          "2025-08-08T23:00:00",
          "2025-08-11T07:00:00",
          "2025-08-11T11:00:00",
          "2025-08-11T15:00:00",
          "2025-08-11T19:00:00",
          "2025-08-11T23:00:00"
         ],
         "xaxis": "x2",
         "y": [
          1000000,
          1004083.797793326,
          999000.999000999,
          980056.0216841438,
          982366.3847715651,
          980980.1669191123,
          980980.1669191123,
          986525.0383289236,
          994842.3454436405,
          998076.8537660304,
          993456.1275911877,
          992531.9823562192,
          998538.9263835147,
          1003621.7251758417,
          996690.6359135776,
          999925.1442359675,
          1001311.3620884203,
          1000849.289470936,
          1008704.5239681688,
          1001311.3620884203,
          1005470.0156457789,
          1010090.7418206215,
          1010090.7418206215,
          1005932.0882632631,
          1003159.6525583575,
          1002697.5799408732,
          1010552.8144381058,
          1016097.6858479171,
          1019332.194170307,
          1018870.1215528228,
          1022566.7024926969,
          1022104.6298752127,
          1023952.9203451497,
          1024877.0655801183,
          1029959.8643724453,
          1029497.791754961,
          1031808.1548423824,
          1030421.9369899295,
          1032732.3000773509,
          1029497.791754961,
          1029035.7191374768,
          1030421.9369899295,
          1038739.2441046465,
          1041049.6071920679,
          1042897.8976620049,
          1047980.696454332,
          1044746.1881319421,
          1043359.9702794892,
          1042435.8250445207,
          1043359.9702794892,
          1049828.986924269,
          1047980.696454332,
          1045208.2607494263,
          1059070.4392739544,
          1058608.36665647,
          1057684.2214215016,
          1059532.45548609,
          1061380.8587667248,
          1063691.221854146,
          1058608.36665647,
          1053525.624269492,
          1053525.624269492,
          1046132.4059843948,
          1038739.2441046465,
          1040125.4619570993,
          1039663.389339615,
          1035966.8083997408,
          1041973.7524270364,
          1043822.0428969736,
          1045208.2607494263,
          1039663.389339615,
          1036890.9536347094,
          1043359.9702794892,
          1044284.1155144578,
          1046105.605772581
         ],
         "yaxis": "y2"
        }
       ],
       "layout": {
        "annotations": [
         {
          "font": {
           "size": 16
          },
          "showarrow": false,
          "text": "ZW1! — Prediction & Signals (OOS)",
          "x": 0.5,
          "xanchor": "center",
          "xref": "paper",
          "y": 1,
          "yanchor": "bottom",
          "yref": "paper"
         },
         {
          "font": {
           "size": 16
          },
          "showarrow": false,
          "text": "Equity Curve",
          "x": 0.5,
          "xanchor": "center",
          "xref": "paper",
          "y": 0.276,
          "yanchor": "bottom",
          "yref": "paper"
         }
        ],
        "hovermode": "x unified",
        "legend": {
         "orientation": "h",
         "x": 0,
         "xanchor": "left",
         "y": 1.02,
         "yanchor": "bottom"
        },
        "margin": {
         "b": 60,
         "l": 50,
         "r": 50,
         "t": 60
        },
        "template": {
         "data": {
          "bar": [
           {
            "error_x": {
             "color": "#2a3f5f"
            },
            "error_y": {
             "color": "#2a3f5f"
            },
            "marker": {
             "line": {
              "color": "white",
              "width": 0.5
             },
             "pattern": {
              "fillmode": "overlay",
              "size": 10,
              "solidity": 0.2
             }
            },
            "type": "bar"
           }
          ],
          "barpolar": [
           {
            "marker": {
             "line": {
              "color": "white",
              "width": 0.5
             },
             "pattern": {
              "fillmode": "overlay",
              "size": 10,
              "solidity": 0.2
             }
            },
            "type": "barpolar"
           }
          ],
          "carpet": [
           {
            "aaxis": {
             "endlinecolor": "#2a3f5f",
             "gridcolor": "#C8D4E3",
             "linecolor": "#C8D4E3",
             "minorgridcolor": "#C8D4E3",
             "startlinecolor": "#2a3f5f"
            },
            "baxis": {
             "endlinecolor": "#2a3f5f",
             "gridcolor": "#C8D4E3",
             "linecolor": "#C8D4E3",
             "minorgridcolor": "#C8D4E3",
             "startlinecolor": "#2a3f5f"
            },
            "type": "carpet"
           }
          ],
          "choropleth": [
           {
            "colorbar": {
             "outlinewidth": 0,
             "ticks": ""
            },
            "type": "choropleth"
           }
          ],
          "contour": [
           {
            "colorbar": {
             "outlinewidth": 0,
             "ticks": ""
            },
            "colorscale": [
             [
              0,
              "#0d0887"
             ],
             [
              0.1111111111111111,
              "#46039f"
             ],
             [
              0.2222222222222222,
              "#7201a8"
             ],
             [
              0.3333333333333333,
              "#9c179e"
             ],
             [
              0.4444444444444444,
              "#bd3786"
             ],
             [
              0.5555555555555556,
              "#d8576b"
             ],
             [
              0.6666666666666666,
              "#ed7953"
             ],
             [
              0.7777777777777778,
              "#fb9f3a"
             ],
             [
              0.8888888888888888,
              "#fdca26"
             ],
             [
              1,
              "#f0f921"
             ]
            ],
            "type": "contour"
           }
          ],
          "contourcarpet": [
           {
            "colorbar": {
             "outlinewidth": 0,
             "ticks": ""
            },
            "type": "contourcarpet"
           }
          ],
          "heatmap": [
           {
            "colorbar": {
             "outlinewidth": 0,
             "ticks": ""
            },
            "colorscale": [
             [
              0,
              "#0d0887"
             ],
             [
              0.1111111111111111,
              "#46039f"
             ],
             [
              0.2222222222222222,
              "#7201a8"
             ],
             [
              0.3333333333333333,
              "#9c179e"
             ],
             [
              0.4444444444444444,
              "#bd3786"
             ],
             [
              0.5555555555555556,
              "#d8576b"
             ],
             [
              0.6666666666666666,
              "#ed7953"
             ],
             [
              0.7777777777777778,
              "#fb9f3a"
             ],
             [
              0.8888888888888888,
              "#fdca26"
             ],
             [
              1,
              "#f0f921"
             ]
            ],
            "type": "heatmap"
           }
          ],
          "heatmapgl": [
           {
            "colorbar": {
             "outlinewidth": 0,
             "ticks": ""
            },
            "colorscale": [
             [
              0,
              "#0d0887"
             ],
             [
              0.1111111111111111,
              "#46039f"
             ],
             [
              0.2222222222222222,
              "#7201a8"
             ],
             [
              0.3333333333333333,
              "#9c179e"
             ],
             [
              0.4444444444444444,
              "#bd3786"
             ],
             [
              0.5555555555555556,
              "#d8576b"
             ],
             [
              0.6666666666666666,
              "#ed7953"
             ],
             [
              0.7777777777777778,
              "#fb9f3a"
             ],
             [
              0.8888888888888888,
              "#fdca26"
             ],
             [
              1,
              "#f0f921"
             ]
            ],
            "type": "heatmapgl"
           }
          ],
          "histogram": [
           {
            "marker": {
             "pattern": {
              "fillmode": "overlay",
              "size": 10,
              "solidity": 0.2
             }
            },
            "type": "histogram"
           }
          ],
          "histogram2d": [
           {
            "colorbar": {
             "outlinewidth": 0,
             "ticks": ""
            },
            "colorscale": [
             [
              0,
              "#0d0887"
             ],
             [
              0.1111111111111111,
              "#46039f"
             ],
             [
              0.2222222222222222,
              "#7201a8"
             ],
             [
              0.3333333333333333,
              "#9c179e"
             ],
             [
              0.4444444444444444,
              "#bd3786"
             ],
             [
              0.5555555555555556,
              "#d8576b"
             ],
             [
              0.6666666666666666,
              "#ed7953"
             ],
             [
              0.7777777777777778,
              "#fb9f3a"
             ],
             [
              0.8888888888888888,
              "#fdca26"
             ],
             [
              1,
              "#f0f921"
             ]
            ],
            "type": "histogram2d"
           }
          ],
          "histogram2dcontour": [
           {
            "colorbar": {
             "outlinewidth": 0,
             "ticks": ""
            },
            "colorscale": [
             [
              0,
              "#0d0887"
             ],
             [
              0.1111111111111111,
              "#46039f"
             ],
             [
              0.2222222222222222,
              "#7201a8"
             ],
             [
              0.3333333333333333,
              "#9c179e"
             ],
             [
              0.4444444444444444,
              "#bd3786"
             ],
             [
              0.5555555555555556,
              "#d8576b"
             ],
             [
              0.6666666666666666,
              "#ed7953"
             ],
             [
              0.7777777777777778,
              "#fb9f3a"
             ],
             [
              0.8888888888888888,
              "#fdca26"
             ],
             [
              1,
              "#f0f921"
             ]
            ],
            "type": "histogram2dcontour"
           }
          ],
          "mesh3d": [
           {
            "colorbar": {
             "outlinewidth": 0,
             "ticks": ""
            },
            "type": "mesh3d"
           }
          ],
          "parcoords": [
           {
            "line": {
             "colorbar": {
              "outlinewidth": 0,
              "ticks": ""
             }
            },
            "type": "parcoords"
           }
          ],
          "pie": [
           {
            "automargin": true,
            "type": "pie"
           }
          ],
          "scatter": [
           {
            "fillpattern": {
             "fillmode": "overlay",
             "size": 10,
             "solidity": 0.2
            },
            "type": "scatter"
           }
          ],
          "scatter3d": [
           {
            "line": {
             "colorbar": {
              "outlinewidth": 0,
              "ticks": ""
             }
            },
            "marker": {
             "colorbar": {
              "outlinewidth": 0,
              "ticks": ""
             }
            },
            "type": "scatter3d"
           }
          ],
          "scattercarpet": [
           {
            "marker": {
             "colorbar": {
              "outlinewidth": 0,
              "ticks": ""
             }
            },
            "type": "scattercarpet"
           }
          ],
          "scattergeo": [
           {
            "marker": {
             "colorbar": {
              "outlinewidth": 0,
              "ticks": ""
             }
            },
            "type": "scattergeo"
           }
          ],
          "scattergl": [
           {
            "marker": {
             "colorbar": {
              "outlinewidth": 0,
              "ticks": ""
             }
            },
            "type": "scattergl"
           }
          ],
          "scattermapbox": [
           {
            "marker": {
             "colorbar": {
              "outlinewidth": 0,
              "ticks": ""
             }
            },
            "type": "scattermapbox"
           }
          ],
          "scatterpolar": [
           {
            "marker": {
             "colorbar": {
              "outlinewidth": 0,
              "ticks": ""
             }
            },
            "type": "scatterpolar"
           }
          ],
          "scatterpolargl": [
           {
            "marker": {
             "colorbar": {
              "outlinewidth": 0,
              "ticks": ""
             }
            },
            "type": "scatterpolargl"
           }
          ],
          "scatterternary": [
           {
            "marker": {
             "colorbar": {
              "outlinewidth": 0,
              "ticks": ""
             }
            },
            "type": "scatterternary"
           }
          ],
          "surface": [
           {
            "colorbar": {
             "outlinewidth": 0,
             "ticks": ""
            },
            "colorscale": [
             [
              0,
              "#0d0887"
             ],
             [
              0.1111111111111111,
              "#46039f"
             ],
             [
              0.2222222222222222,
              "#7201a8"
             ],
             [
              0.3333333333333333,
              "#9c179e"
             ],
             [
              0.4444444444444444,
              "#bd3786"
             ],
             [
              0.5555555555555556,
              "#d8576b"
             ],
             [
              0.6666666666666666,
              "#ed7953"
             ],
             [
              0.7777777777777778,
              "#fb9f3a"
             ],
             [
              0.8888888888888888,
              "#fdca26"
             ],
             [
              1,
              "#f0f921"
             ]
            ],
            "type": "surface"
           }
          ],
          "table": [
           {
            "cells": {
             "fill": {
              "color": "#EBF0F8"
             },
             "line": {
              "color": "white"
             }
            },
            "header": {
             "fill": {
              "color": "#C8D4E3"
             },
             "line": {
              "color": "white"
             }
            },
            "type": "table"
           }
          ]
         },
         "layout": {
          "annotationdefaults": {
           "arrowcolor": "#2a3f5f",
           "arrowhead": 0,
           "arrowwidth": 1
          },
          "autotypenumbers": "strict",
          "coloraxis": {
           "colorbar": {
            "outlinewidth": 0,
            "ticks": ""
           }
          },
          "colorscale": {
           "diverging": [
            [
             0,
             "#8e0152"
            ],
            [
             0.1,
             "#c51b7d"
            ],
            [
             0.2,
             "#de77ae"
            ],
            [
             0.3,
             "#f1b6da"
            ],
            [
             0.4,
             "#fde0ef"
            ],
            [
             0.5,
             "#f7f7f7"
            ],
            [
             0.6,
             "#e6f5d0"
            ],
            [
             0.7,
             "#b8e186"
            ],
            [
             0.8,
             "#7fbc41"
            ],
            [
             0.9,
             "#4d9221"
            ],
            [
             1,
             "#276419"
            ]
           ],
           "sequential": [
            [
             0,
             "#0d0887"
            ],
            [
             0.1111111111111111,
             "#46039f"
            ],
            [
             0.2222222222222222,
             "#7201a8"
            ],
            [
             0.3333333333333333,
             "#9c179e"
            ],
            [
             0.4444444444444444,
             "#bd3786"
            ],
            [
             0.5555555555555556,
             "#d8576b"
            ],
            [
             0.6666666666666666,
             "#ed7953"
            ],
            [
             0.7777777777777778,
             "#fb9f3a"
            ],
            [
             0.8888888888888888,
             "#fdca26"
            ],
            [
             1,
             "#f0f921"
            ]
           ],
           "sequentialminus": [
            [
             0,
             "#0d0887"
            ],
            [
             0.1111111111111111,
             "#46039f"
            ],
            [
             0.2222222222222222,
             "#7201a8"
            ],
            [
             0.3333333333333333,
             "#9c179e"
            ],
            [
             0.4444444444444444,
             "#bd3786"
            ],
            [
             0.5555555555555556,
             "#d8576b"
            ],
            [
             0.6666666666666666,
             "#ed7953"
            ],
            [
             0.7777777777777778,
             "#fb9f3a"
            ],
            [
             0.8888888888888888,
             "#fdca26"
            ],
            [
             1,
             "#f0f921"
            ]
           ]
          },
          "colorway": [
           "#636efa",
           "#EF553B",
           "#00cc96",
           "#ab63fa",
           "#FFA15A",
           "#19d3f3",
           "#FF6692",
           "#B6E880",
           "#FF97FF",
           "#FECB52"
          ],
          "font": {
           "color": "#2a3f5f"
          },
          "geo": {
           "bgcolor": "white",
           "lakecolor": "white",
           "landcolor": "white",
           "showlakes": true,
           "showland": true,
           "subunitcolor": "#C8D4E3"
          },
          "hoverlabel": {
           "align": "left"
          },
          "hovermode": "closest",
          "mapbox": {
           "style": "light"
          },
          "paper_bgcolor": "white",
          "plot_bgcolor": "white",
          "polar": {
           "angularaxis": {
            "gridcolor": "#EBF0F8",
            "linecolor": "#EBF0F8",
            "ticks": ""
           },
           "bgcolor": "white",
           "radialaxis": {
            "gridcolor": "#EBF0F8",
            "linecolor": "#EBF0F8",
            "ticks": ""
           }
          },
          "scene": {
           "xaxis": {
            "backgroundcolor": "white",
            "gridcolor": "#DFE8F3",
            "gridwidth": 2,
            "linecolor": "#EBF0F8",
            "showbackground": true,
            "ticks": "",
            "zerolinecolor": "#EBF0F8"
           },
           "yaxis": {
            "backgroundcolor": "white",
            "gridcolor": "#DFE8F3",
            "gridwidth": 2,
            "linecolor": "#EBF0F8",
            "showbackground": true,
            "ticks": "",
            "zerolinecolor": "#EBF0F8"
           },
           "zaxis": {
            "backgroundcolor": "white",
            "gridcolor": "#DFE8F3",
            "gridwidth": 2,
            "linecolor": "#EBF0F8",
            "showbackground": true,
            "ticks": "",
            "zerolinecolor": "#EBF0F8"
           }
          },
          "shapedefaults": {
           "line": {
            "color": "#2a3f5f"
           }
          },
          "ternary": {
           "aaxis": {
            "gridcolor": "#DFE8F3",
            "linecolor": "#A2B1C6",
            "ticks": ""
           },
           "baxis": {
            "gridcolor": "#DFE8F3",
            "linecolor": "#A2B1C6",
            "ticks": ""
           },
           "bgcolor": "white",
           "caxis": {
            "gridcolor": "#DFE8F3",
            "linecolor": "#A2B1C6",
            "ticks": ""
           }
          },
          "title": {
           "x": 0.05
          },
          "xaxis": {
           "automargin": true,
           "gridcolor": "#EBF0F8",
           "linecolor": "#EBF0F8",
           "ticks": "",
           "title": {
            "standoff": 15
           },
           "zerolinecolor": "#EBF0F8",
           "zerolinewidth": 2
          },
          "yaxis": {
           "automargin": true,
           "gridcolor": "#EBF0F8",
           "linecolor": "#EBF0F8",
           "ticks": "",
           "title": {
            "standoff": 15
           },
           "zerolinecolor": "#EBF0F8",
           "zerolinewidth": 2
          }
         }
        },
        "xaxis": {
         "anchor": "y",
         "domain": [
          0,
          1
         ],
         "matches": "x2",
         "showspikes": true,
         "showticklabels": false,
         "spikemode": "across",
         "spikesnap": "cursor"
        },
        "xaxis2": {
         "anchor": "y2",
         "domain": [
          0,
          1
         ],
         "rangeslider": {
          "visible": false
         },
         "showspikes": true,
         "spikemode": "across",
         "spikesnap": "cursor"
        },
        "yaxis": {
         "anchor": "x",
         "domain": [
          0.35600000000000004,
          1
         ],
         "gridcolor": "rgba(0,0,0,0.08)",
         "showgrid": true
        },
        "yaxis2": {
         "anchor": "x2",
         "domain": [
          0,
          0.276
         ],
         "gridcolor": "rgba(0,0,0,0.08)",
         "showgrid": true
        }
       }
      }
     },
     "metadata": {},
     "output_type": "display_data"
    },
    {
     "name": "stderr",
     "output_type": "stream",
     "text": [
      "[I 2025-08-26 11:10:01,943] A new study created in memory with name: no-name-c0e7f350-887e-49b2-b50d-cbeed2354e73\n"
     ]
    },
    {
     "name": "stdout",
     "output_type": "stream",
     "text": [
      "\n",
      "Processing AOT ...\n"
     ]
    },
    {
     "name": "stderr",
     "output_type": "stream",
     "text": [
      "c:\\Users\\offen\\AppData\\Local\\Programs\\Python\\Python312\\Lib\\site-packages\\optuna\\distributions.py:708: UserWarning:\n",
      "\n",
      "The distribution is specified by [21, 100] and step=4, but the range is not divisible by `step`. It will be replaced by [21, 97].\n",
      "\n",
      "c:\\Users\\offen\\AppData\\Local\\Programs\\Python\\Python312\\Lib\\site-packages\\optuna\\distributions.py:708: UserWarning:\n",
      "\n",
      "The distribution is specified by [1, 500] and step=8, but the range is not divisible by `step`. It will be replaced by [1, 497].\n",
      "\n",
      "[I 2025-08-26 11:10:02,150] Trial 0 finished with value: -30.550661459752437 and parameters: {'sequence_length': 33, 'hidden_layer_size': 313, 'lstm_layers': 2, 'dropout': 0.4712151502282615, 'learning_rate': 0.007675507817190953, 'epochs': 2730, 'long_threshold': 0.0008293927654292901, 'short_threshold': 0.002405616532605058}. Best is trial 0 with value: -30.550661459752437.\n",
      "c:\\Users\\offen\\AppData\\Local\\Programs\\Python\\Python312\\Lib\\site-packages\\optuna\\distributions.py:708: UserWarning:\n",
      "\n",
      "The distribution is specified by [21, 100] and step=4, but the range is not divisible by `step`. It will be replaced by [21, 97].\n",
      "\n",
      "c:\\Users\\offen\\AppData\\Local\\Programs\\Python\\Python312\\Lib\\site-packages\\optuna\\distributions.py:708: UserWarning:\n",
      "\n",
      "The distribution is specified by [1, 500] and step=8, but the range is not divisible by `step`. It will be replaced by [1, 497].\n",
      "\n",
      "[I 2025-08-26 11:10:02,671] Trial 1 finished with value: -26.984849181449466 and parameters: {'sequence_length': 97, 'hidden_layer_size': 441, 'lstm_layers': 2, 'dropout': 0.3005970753140752, 'learning_rate': 0.0033737189167564853, 'epochs': 7130, 'long_threshold': 0.0011107522643711849, 'short_threshold': 0.0016835885581968748}. Best is trial 1 with value: -26.984849181449466.\n",
      "c:\\Users\\offen\\AppData\\Local\\Programs\\Python\\Python312\\Lib\\site-packages\\optuna\\distributions.py:708: UserWarning:\n",
      "\n",
      "The distribution is specified by [21, 100] and step=4, but the range is not divisible by `step`. It will be replaced by [21, 97].\n",
      "\n",
      "c:\\Users\\offen\\AppData\\Local\\Programs\\Python\\Python312\\Lib\\site-packages\\optuna\\distributions.py:708: UserWarning:\n",
      "\n",
      "The distribution is specified by [1, 500] and step=8, but the range is not divisible by `step`. It will be replaced by [1, 497].\n",
      "\n",
      "[I 2025-08-26 11:10:09,623] Trial 2 finished with value: -50.01905895522901 and parameters: {'sequence_length': 61, 'hidden_layer_size': 1, 'lstm_layers': 3, 'dropout': 0.5295847143816699, 'learning_rate': 0.0002237187115484708, 'epochs': 6160, 'long_threshold': 0.00022614372492892965, 'short_threshold': 0.0011064720180059236}. Best is trial 1 with value: -26.984849181449466.\n",
      "c:\\Users\\offen\\AppData\\Local\\Programs\\Python\\Python312\\Lib\\site-packages\\optuna\\distributions.py:708: UserWarning:\n",
      "\n",
      "The distribution is specified by [21, 100] and step=4, but the range is not divisible by `step`. It will be replaced by [21, 97].\n",
      "\n",
      "c:\\Users\\offen\\AppData\\Local\\Programs\\Python\\Python312\\Lib\\site-packages\\optuna\\distributions.py:708: UserWarning:\n",
      "\n",
      "The distribution is specified by [1, 500] and step=8, but the range is not divisible by `step`. It will be replaced by [1, 497].\n",
      "\n",
      "[I 2025-08-26 11:10:10,135] Trial 3 finished with value: -31.533522684909276 and parameters: {'sequence_length': 93, 'hidden_layer_size': 329, 'lstm_layers': 2, 'dropout': 0.47323808576444726, 'learning_rate': 0.0001485823805383844, 'epochs': 5690, 'long_threshold': 0.0026073821686836774, 'short_threshold': 0.0013085202716870382}. Best is trial 1 with value: -26.984849181449466.\n",
      "c:\\Users\\offen\\AppData\\Local\\Programs\\Python\\Python312\\Lib\\site-packages\\optuna\\distributions.py:708: UserWarning:\n",
      "\n",
      "The distribution is specified by [21, 100] and step=4, but the range is not divisible by `step`. It will be replaced by [21, 97].\n",
      "\n",
      "c:\\Users\\offen\\AppData\\Local\\Programs\\Python\\Python312\\Lib\\site-packages\\optuna\\distributions.py:708: UserWarning:\n",
      "\n",
      "The distribution is specified by [1, 500] and step=8, but the range is not divisible by `step`. It will be replaced by [1, 497].\n",
      "\n",
      "[I 2025-08-26 11:10:10,215] Trial 4 finished with value: -41.493544818352966 and parameters: {'sequence_length': 85, 'hidden_layer_size': 73, 'lstm_layers': 3, 'dropout': 0.4227487849137435, 'learning_rate': 6.446224643080463e-05, 'epochs': 9250, 'long_threshold': 0.00132642226621253, 'short_threshold': 0.0027279478769174177}. Best is trial 1 with value: -26.984849181449466.\n",
      "c:\\Users\\offen\\AppData\\Local\\Programs\\Python\\Python312\\Lib\\site-packages\\optuna\\distributions.py:708: UserWarning:\n",
      "\n",
      "The distribution is specified by [21, 100] and step=4, but the range is not divisible by `step`. It will be replaced by [21, 97].\n",
      "\n",
      "c:\\Users\\offen\\AppData\\Local\\Programs\\Python\\Python312\\Lib\\site-packages\\optuna\\distributions.py:708: UserWarning:\n",
      "\n",
      "The distribution is specified by [1, 500] and step=8, but the range is not divisible by `step`. It will be replaced by [1, 497].\n",
      "\n",
      "[I 2025-08-26 11:10:10,272] Trial 5 finished with value: -41.95619285614328 and parameters: {'sequence_length': 25, 'hidden_layer_size': 89, 'lstm_layers': 1, 'dropout': 0.4049285661493981, 'learning_rate': 0.0015830667410321512, 'epochs': 5340, 'long_threshold': 0.00012997218808441047, 'short_threshold': 0.0016842992401901937}. Best is trial 1 with value: -26.984849181449466.\n",
      "c:\\Users\\offen\\AppData\\Local\\Programs\\Python\\Python312\\Lib\\site-packages\\optuna\\distributions.py:708: UserWarning:\n",
      "\n",
      "The distribution is specified by [21, 100] and step=4, but the range is not divisible by `step`. It will be replaced by [21, 97].\n",
      "\n",
      "c:\\Users\\offen\\AppData\\Local\\Programs\\Python\\Python312\\Lib\\site-packages\\optuna\\distributions.py:708: UserWarning:\n",
      "\n",
      "The distribution is specified by [1, 500] and step=8, but the range is not divisible by `step`. It will be replaced by [1, 497].\n",
      "\n",
      "[I 2025-08-26 11:10:10,395] Trial 6 finished with value: -53.00965648765324 and parameters: {'sequence_length': 45, 'hidden_layer_size': 249, 'lstm_layers': 1, 'dropout': 0.36431622373109074, 'learning_rate': 0.0012399730859723546, 'epochs': 70, 'long_threshold': 0.0018523251264128912, 'short_threshold': 0.002736368659299463}. Best is trial 1 with value: -26.984849181449466.\n",
      "c:\\Users\\offen\\AppData\\Local\\Programs\\Python\\Python312\\Lib\\site-packages\\optuna\\distributions.py:708: UserWarning:\n",
      "\n",
      "The distribution is specified by [21, 100] and step=4, but the range is not divisible by `step`. It will be replaced by [21, 97].\n",
      "\n",
      "c:\\Users\\offen\\AppData\\Local\\Programs\\Python\\Python312\\Lib\\site-packages\\optuna\\distributions.py:708: UserWarning:\n",
      "\n",
      "The distribution is specified by [1, 500] and step=8, but the range is not divisible by `step`. It will be replaced by [1, 497].\n",
      "\n",
      "[I 2025-08-26 11:10:11,067] Trial 7 finished with value: -18.801808878144698 and parameters: {'sequence_length': 81, 'hidden_layer_size': 497, 'lstm_layers': 3, 'dropout': 0.47517848117498385, 'learning_rate': 0.00011353630204166286, 'epochs': 6250, 'long_threshold': 0.0014342813870120237, 'short_threshold': 0.0005870255359976947}. Best is trial 7 with value: -18.801808878144698.\n",
      "c:\\Users\\offen\\AppData\\Local\\Programs\\Python\\Python312\\Lib\\site-packages\\optuna\\distributions.py:708: UserWarning:\n",
      "\n",
      "The distribution is specified by [21, 100] and step=4, but the range is not divisible by `step`. It will be replaced by [21, 97].\n",
      "\n",
      "c:\\Users\\offen\\AppData\\Local\\Programs\\Python\\Python312\\Lib\\site-packages\\optuna\\distributions.py:708: UserWarning:\n",
      "\n",
      "The distribution is specified by [1, 500] and step=8, but the range is not divisible by `step`. It will be replaced by [1, 497].\n",
      "\n",
      "[I 2025-08-26 11:10:12,075] Trial 8 finished with value: -22.9485762234657 and parameters: {'sequence_length': 49, 'hidden_layer_size': 25, 'lstm_layers': 2, 'dropout': 0.5892028449131727, 'learning_rate': 2.873825085223262e-05, 'epochs': 1200, 'long_threshold': 0.0022155691684300404, 'short_threshold': 0.001761910900391954}. Best is trial 7 with value: -18.801808878144698.\n",
      "c:\\Users\\offen\\AppData\\Local\\Programs\\Python\\Python312\\Lib\\site-packages\\optuna\\distributions.py:708: UserWarning:\n",
      "\n",
      "The distribution is specified by [21, 100] and step=4, but the range is not divisible by `step`. It will be replaced by [21, 97].\n",
      "\n",
      "c:\\Users\\offen\\AppData\\Local\\Programs\\Python\\Python312\\Lib\\site-packages\\optuna\\distributions.py:708: UserWarning:\n",
      "\n",
      "The distribution is specified by [1, 500] and step=8, but the range is not divisible by `step`. It will be replaced by [1, 497].\n",
      "\n",
      "[I 2025-08-26 11:10:12,189] Trial 9 finished with value: -22.9485762234657 and parameters: {'sequence_length': 57, 'hidden_layer_size': 49, 'lstm_layers': 1, 'dropout': 0.5399791169020052, 'learning_rate': 0.00034798364713040314, 'epochs': 5360, 'long_threshold': 1.8625549761388193e-05, 'short_threshold': 0.0009019251173109034}. Best is trial 7 with value: -18.801808878144698.\n"
     ]
    },
    {
     "name": "stdout",
     "output_type": "stream",
     "text": [
      "\n",
      "=== Best Trial ===\n",
      "Value (objective): -18.801808878144698\n",
      "sequence_length: 81\n",
      "hidden_layer_size: 497\n",
      "lstm_layers: 3\n",
      "dropout: 0.47517848117498385\n",
      "learning_rate: 0.00011353630204166286\n",
      "epochs: 6250\n",
      "long_threshold: 0.0014342813870120237\n",
      "short_threshold: 0.0005870255359976947\n",
      "Metrics (val): {'Total Profit %': np.float64(-3.1502848296741326), 'MaxDD %': -3.9128810121176416, 'WinRate': 0.047619047619047616}\n",
      "[params for AOT ] {'sequence_length': 81, 'hidden_layer_size': 497, 'lstm_layers': 3, 'dropout': 0.47517848117498385, 'learning_rate': 0.00011353630204166286, 'epochs': 6250, 'long_threshold': 0.0014342813870120237, 'short_threshold': 0.0005870255359976947}\n",
      "[train] seq=81 | hidden=497 | layers=3 | dropout=0.48 | lr=0.000114 | epochs=6250 | thr=[long 0.0014, short 0.0006]\n",
      "Epoch 520/6250  TrainLoss: 0.00119837\n",
      "Epoch 1040/6250  TrainLoss: 0.00082962\n",
      "Epoch 1560/6250  TrainLoss: 0.00065449\n",
      "Epoch 2080/6250  TrainLoss: 0.00050767\n",
      "Epoch 2600/6250  TrainLoss: 0.00091900\n",
      "Epoch 3120/6250  TrainLoss: 0.00049932\n",
      "Epoch 3640/6250  TrainLoss: 0.00040885\n",
      "Epoch 4160/6250  TrainLoss: 0.00040593\n",
      "Epoch 4680/6250  TrainLoss: 0.00032454\n",
      "Epoch 5200/6250  TrainLoss: 0.00028826\n",
      "Epoch 5720/6250  TrainLoss: 0.00040336\n",
      "Epoch 6240/6250  TrainLoss: 0.00018288\n",
      "Epoch 6250/6250  TrainLoss: 0.00014874\n"
     ]
    },
    {
     "data": {
      "application/vnd.plotly.v1+json": {
       "config": {
        "plotlyServerURL": "https://plot.ly"
       },
       "data": [
        {
         "hovertemplate": "%{x|%Y-%m-%d %H:%M}<br>Price %{y:.4f}<extra></extra>",
         "line": {
          "color": "#C62828",
          "width": 2
         },
         "mode": "lines",
         "name": "Price (Short)",
         "type": "scatter",
         "x": [
          "2025-06-09T13:00:00",
          "2025-06-10T09:00:00",
          "2025-06-10T13:00:00",
          "2025-06-11T09:00:00",
          "2025-06-11T13:00:00",
          "2025-06-12T09:00:00",
          "2025-06-12T13:00:00",
          "2025-06-13T09:00:00",
          "2025-06-13T13:00:00",
          "2025-06-16T09:00:00",
          "2025-06-16T13:00:00",
          "2025-06-17T09:00:00",
          "2025-06-17T13:00:00",
          "2025-06-18T09:00:00",
          "2025-06-18T13:00:00",
          "2025-06-19T09:00:00",
          "2025-06-19T13:00:00",
          "2025-06-20T09:00:00",
          "2025-06-20T13:00:00",
          "2025-06-23T09:00:00",
          "2025-06-23T13:00:00",
          "2025-06-24T09:00:00",
          "2025-06-24T13:00:00",
          "2025-06-25T09:00:00",
          "2025-06-25T13:00:00",
          "2025-06-26T09:00:00",
          "2025-06-26T13:00:00",
          "2025-06-27T09:00:00",
          "2025-06-27T13:00:00",
          "2025-06-30T09:00:00",
          "2025-06-30T13:00:00",
          "2025-07-01T09:00:00",
          "2025-07-01T13:00:00",
          "2025-07-02T09:00:00",
          "2025-07-02T13:00:00",
          "2025-07-03T09:00:00",
          "2025-07-03T13:00:00",
          "2025-07-04T09:00:00",
          "2025-07-04T13:00:00",
          "2025-07-07T09:00:00",
          "2025-07-07T13:00:00",
          "2025-07-08T09:00:00",
          "2025-07-08T13:00:00",
          "2025-07-09T09:00:00",
          "2025-07-09T13:00:00",
          "2025-07-11T09:00:00",
          "2025-07-11T13:00:00",
          "2025-07-14T09:00:00",
          "2025-07-14T13:00:00",
          "2025-07-15T09:00:00",
          "2025-07-15T13:00:00",
          "2025-07-16T09:00:00",
          "2025-07-16T13:00:00",
          "2025-07-17T09:00:00",
          "2025-07-17T13:00:00",
          "2025-07-18T09:00:00",
          "2025-07-18T13:00:00",
          "2025-07-21T09:00:00",
          "2025-07-21T13:00:00",
          "2025-07-22T09:00:00",
          "2025-07-22T13:00:00",
          "2025-07-23T09:00:00",
          "2025-07-23T13:00:00",
          "2025-07-24T09:00:00",
          "2025-07-24T13:00:00",
          "2025-07-25T09:00:00",
          "2025-07-25T13:00:00",
          "2025-07-29T09:00:00",
          "2025-07-29T13:00:00",
          "2025-07-30T09:00:00",
          "2025-07-30T13:00:00",
          "2025-07-31T09:00:00",
          "2025-07-31T13:00:00",
          "2025-08-01T09:00:00",
          "2025-08-01T13:00:00",
          "2025-08-04T09:00:00",
          "2025-08-04T13:00:00",
          "2025-08-05T09:00:00",
          "2025-08-05T13:00:00",
          "2025-08-06T09:00:00",
          "2025-08-06T13:00:00",
          "2025-08-07T09:00:00",
          "2025-08-07T13:00:00",
          "2025-08-08T09:00:00",
          "2025-08-08T13:00:00"
         ],
         "xaxis": "x",
         "y": [
          null,
          null,
          null,
          null,
          null,
          null,
          null,
          null,
          null,
          28.5,
          27.25,
          28.25,
          28.5,
          28.999998092651367,
          28,
          27.75,
          27.75,
          28.25,
          28.25,
          28.5,
          28.999998092651367,
          30,
          30.5,
          null,
          null,
          null,
          null,
          null,
          30.5,
          29.750001907348633,
          30.25,
          30,
          30.75,
          null,
          30.25,
          30.75,
          null,
          null,
          null,
          30.25,
          30.5,
          30.25,
          30.25,
          30.25,
          30.5,
          31.75,
          null,
          null,
          null,
          null,
          null,
          null,
          null,
          null,
          null,
          null,
          null,
          null,
          null,
          null,
          null,
          null,
          null,
          null,
          null,
          null,
          null,
          null,
          null,
          null,
          null,
          null,
          null,
          null,
          null,
          null,
          null,
          null,
          null,
          null,
          null,
          null,
          null,
          null,
          null
         ],
         "yaxis": "y"
        },
        {
         "hovertemplate": "%{x|%Y-%m-%d %H:%M}<br>Price %{y:.4f}<extra></extra>",
         "line": {
          "color": "#9E9E9E",
          "width": 2
         },
         "mode": "lines",
         "name": "Price (Neutral)",
         "type": "scatter",
         "x": [
          "2025-06-09T13:00:00",
          "2025-06-10T09:00:00",
          "2025-06-10T13:00:00",
          "2025-06-11T09:00:00",
          "2025-06-11T13:00:00",
          "2025-06-12T09:00:00",
          "2025-06-12T13:00:00",
          "2025-06-13T09:00:00",
          "2025-06-13T13:00:00",
          "2025-06-16T09:00:00",
          "2025-06-16T13:00:00",
          "2025-06-17T09:00:00",
          "2025-06-17T13:00:00",
          "2025-06-18T09:00:00",
          "2025-06-18T13:00:00",
          "2025-06-19T09:00:00",
          "2025-06-19T13:00:00",
          "2025-06-20T09:00:00",
          "2025-06-20T13:00:00",
          "2025-06-23T09:00:00",
          "2025-06-23T13:00:00",
          "2025-06-24T09:00:00",
          "2025-06-24T13:00:00",
          "2025-06-25T09:00:00",
          "2025-06-25T13:00:00",
          "2025-06-26T09:00:00",
          "2025-06-26T13:00:00",
          "2025-06-27T09:00:00",
          "2025-06-27T13:00:00",
          "2025-06-30T09:00:00",
          "2025-06-30T13:00:00",
          "2025-07-01T09:00:00",
          "2025-07-01T13:00:00",
          "2025-07-02T09:00:00",
          "2025-07-02T13:00:00",
          "2025-07-03T09:00:00",
          "2025-07-03T13:00:00",
          "2025-07-04T09:00:00",
          "2025-07-04T13:00:00",
          "2025-07-07T09:00:00",
          "2025-07-07T13:00:00",
          "2025-07-08T09:00:00",
          "2025-07-08T13:00:00",
          "2025-07-09T09:00:00",
          "2025-07-09T13:00:00",
          "2025-07-11T09:00:00",
          "2025-07-11T13:00:00",
          "2025-07-14T09:00:00",
          "2025-07-14T13:00:00",
          "2025-07-15T09:00:00",
          "2025-07-15T13:00:00",
          "2025-07-16T09:00:00",
          "2025-07-16T13:00:00",
          "2025-07-17T09:00:00",
          "2025-07-17T13:00:00",
          "2025-07-18T09:00:00",
          "2025-07-18T13:00:00",
          "2025-07-21T09:00:00",
          "2025-07-21T13:00:00",
          "2025-07-22T09:00:00",
          "2025-07-22T13:00:00",
          "2025-07-23T09:00:00",
          "2025-07-23T13:00:00",
          "2025-07-24T09:00:00",
          "2025-07-24T13:00:00",
          "2025-07-25T09:00:00",
          "2025-07-25T13:00:00",
          "2025-07-29T09:00:00",
          "2025-07-29T13:00:00",
          "2025-07-30T09:00:00",
          "2025-07-30T13:00:00",
          "2025-07-31T09:00:00",
          "2025-07-31T13:00:00",
          "2025-08-01T09:00:00",
          "2025-08-01T13:00:00",
          "2025-08-04T09:00:00",
          "2025-08-04T13:00:00",
          "2025-08-05T09:00:00",
          "2025-08-05T13:00:00",
          "2025-08-06T09:00:00",
          "2025-08-06T13:00:00",
          "2025-08-07T09:00:00",
          "2025-08-07T13:00:00",
          "2025-08-08T09:00:00",
          "2025-08-08T13:00:00"
         ],
         "xaxis": "x",
         "y": [
          null,
          null,
          null,
          null,
          null,
          null,
          null,
          null,
          null,
          null,
          null,
          null,
          null,
          null,
          null,
          null,
          null,
          null,
          null,
          null,
          null,
          null,
          null,
          null,
          null,
          null,
          null,
          null,
          null,
          null,
          null,
          null,
          null,
          null,
          null,
          null,
          null,
          null,
          null,
          null,
          null,
          null,
          null,
          null,
          null,
          null,
          null,
          null,
          null,
          null,
          null,
          null,
          null,
          null,
          null,
          null,
          null,
          null,
          null,
          null,
          null,
          null,
          null,
          null,
          null,
          null,
          null,
          null,
          null,
          null,
          null,
          null,
          null,
          null,
          null,
          null,
          null,
          null,
          null,
          null,
          null,
          null,
          null,
          null,
          null
         ],
         "yaxis": "y"
        },
        {
         "hovertemplate": "%{x|%Y-%m-%d %H:%M}<br>Price %{y:.4f}<extra></extra>",
         "line": {
          "color": "#2E7D32",
          "width": 2
         },
         "mode": "lines",
         "name": "Price (Long)",
         "type": "scatter",
         "x": [
          "2025-06-09T13:00:00",
          "2025-06-10T09:00:00",
          "2025-06-10T13:00:00",
          "2025-06-11T09:00:00",
          "2025-06-11T13:00:00",
          "2025-06-12T09:00:00",
          "2025-06-12T13:00:00",
          "2025-06-13T09:00:00",
          "2025-06-13T13:00:00",
          "2025-06-16T09:00:00",
          "2025-06-16T13:00:00",
          "2025-06-17T09:00:00",
          "2025-06-17T13:00:00",
          "2025-06-18T09:00:00",
          "2025-06-18T13:00:00",
          "2025-06-19T09:00:00",
          "2025-06-19T13:00:00",
          "2025-06-20T09:00:00",
          "2025-06-20T13:00:00",
          "2025-06-23T09:00:00",
          "2025-06-23T13:00:00",
          "2025-06-24T09:00:00",
          "2025-06-24T13:00:00",
          "2025-06-25T09:00:00",
          "2025-06-25T13:00:00",
          "2025-06-26T09:00:00",
          "2025-06-26T13:00:00",
          "2025-06-27T09:00:00",
          "2025-06-27T13:00:00",
          "2025-06-30T09:00:00",
          "2025-06-30T13:00:00",
          "2025-07-01T09:00:00",
          "2025-07-01T13:00:00",
          "2025-07-02T09:00:00",
          "2025-07-02T13:00:00",
          "2025-07-03T09:00:00",
          "2025-07-03T13:00:00",
          "2025-07-04T09:00:00",
          "2025-07-04T13:00:00",
          "2025-07-07T09:00:00",
          "2025-07-07T13:00:00",
          "2025-07-08T09:00:00",
          "2025-07-08T13:00:00",
          "2025-07-09T09:00:00",
          "2025-07-09T13:00:00",
          "2025-07-11T09:00:00",
          "2025-07-11T13:00:00",
          "2025-07-14T09:00:00",
          "2025-07-14T13:00:00",
          "2025-07-15T09:00:00",
          "2025-07-15T13:00:00",
          "2025-07-16T09:00:00",
          "2025-07-16T13:00:00",
          "2025-07-17T09:00:00",
          "2025-07-17T13:00:00",
          "2025-07-18T09:00:00",
          "2025-07-18T13:00:00",
          "2025-07-21T09:00:00",
          "2025-07-21T13:00:00",
          "2025-07-22T09:00:00",
          "2025-07-22T13:00:00",
          "2025-07-23T09:00:00",
          "2025-07-23T13:00:00",
          "2025-07-24T09:00:00",
          "2025-07-24T13:00:00",
          "2025-07-25T09:00:00",
          "2025-07-25T13:00:00",
          "2025-07-29T09:00:00",
          "2025-07-29T13:00:00",
          "2025-07-30T09:00:00",
          "2025-07-30T13:00:00",
          "2025-07-31T09:00:00",
          "2025-07-31T13:00:00",
          "2025-08-01T09:00:00",
          "2025-08-01T13:00:00",
          "2025-08-04T09:00:00",
          "2025-08-04T13:00:00",
          "2025-08-05T09:00:00",
          "2025-08-05T13:00:00",
          "2025-08-06T09:00:00",
          "2025-08-06T13:00:00",
          "2025-08-07T09:00:00",
          "2025-08-07T13:00:00",
          "2025-08-08T09:00:00",
          "2025-08-08T13:00:00"
         ],
         "xaxis": "x",
         "y": [
          31.75,
          31.999998092651367,
          31.75,
          32.75,
          32.5,
          32.25,
          31.999998092651367,
          31,
          29.750001907348633,
          null,
          null,
          null,
          null,
          null,
          null,
          null,
          null,
          null,
          null,
          null,
          null,
          null,
          null,
          31.5,
          31.999998092651367,
          31.75,
          31.25,
          30.25,
          null,
          null,
          null,
          null,
          null,
          30.25,
          null,
          null,
          31.25,
          30.5,
          30.25,
          null,
          null,
          null,
          null,
          null,
          null,
          null,
          31.75,
          31.999998092651367,
          33.5,
          35.25,
          35.75,
          36.75,
          36.25,
          39.5,
          40.25,
          39.25,
          39,
          39,
          38.5,
          38.25,
          37.5,
          39,
          38.75,
          39,
          39,
          41.5,
          42,
          41.5,
          42,
          42.25,
          42.25,
          41.25,
          41,
          40,
          39.5,
          39.5,
          39.75,
          39.5,
          39.5,
          40.75,
          40,
          40.75,
          40.5,
          40.25,
          39.75
         ],
         "yaxis": "y"
        },
        {
         "hovertemplate": "%{x|%Y-%m-%d %H:%M}<br>Pred %{y:.4f}<extra></extra>",
         "line": {
          "color": "#FB8C00",
          "dash": "dot",
          "width": 1.2
         },
         "mode": "lines",
         "name": "Predicted (t+1)",
         "type": "scatter",
         "x": [
          "2025-06-09T13:00:00",
          "2025-06-10T09:00:00",
          "2025-06-10T13:00:00",
          "2025-06-11T09:00:00",
          "2025-06-11T13:00:00",
          "2025-06-12T09:00:00",
          "2025-06-12T13:00:00",
          "2025-06-13T09:00:00",
          "2025-06-13T13:00:00",
          "2025-06-16T09:00:00",
          "2025-06-16T13:00:00",
          "2025-06-17T09:00:00",
          "2025-06-17T13:00:00",
          "2025-06-18T09:00:00",
          "2025-06-18T13:00:00",
          "2025-06-19T09:00:00",
          "2025-06-19T13:00:00",
          "2025-06-20T09:00:00",
          "2025-06-20T13:00:00",
          "2025-06-23T09:00:00",
          "2025-06-23T13:00:00",
          "2025-06-24T09:00:00",
          "2025-06-24T13:00:00",
          "2025-06-25T09:00:00",
          "2025-06-25T13:00:00",
          "2025-06-26T09:00:00",
          "2025-06-26T13:00:00",
          "2025-06-27T09:00:00",
          "2025-06-27T13:00:00",
          "2025-06-30T09:00:00",
          "2025-06-30T13:00:00",
          "2025-07-01T09:00:00",
          "2025-07-01T13:00:00",
          "2025-07-02T09:00:00",
          "2025-07-02T13:00:00",
          "2025-07-03T09:00:00",
          "2025-07-03T13:00:00",
          "2025-07-04T09:00:00",
          "2025-07-04T13:00:00",
          "2025-07-07T09:00:00",
          "2025-07-07T13:00:00",
          "2025-07-08T09:00:00",
          "2025-07-08T13:00:00",
          "2025-07-09T09:00:00",
          "2025-07-09T13:00:00",
          "2025-07-11T09:00:00",
          "2025-07-11T13:00:00",
          "2025-07-14T09:00:00",
          "2025-07-14T13:00:00",
          "2025-07-15T09:00:00",
          "2025-07-15T13:00:00",
          "2025-07-16T09:00:00",
          "2025-07-16T13:00:00",
          "2025-07-17T09:00:00",
          "2025-07-17T13:00:00",
          "2025-07-18T09:00:00",
          "2025-07-18T13:00:00",
          "2025-07-21T09:00:00",
          "2025-07-21T13:00:00",
          "2025-07-22T09:00:00",
          "2025-07-22T13:00:00",
          "2025-07-23T09:00:00",
          "2025-07-23T13:00:00",
          "2025-07-24T09:00:00",
          "2025-07-24T13:00:00",
          "2025-07-25T09:00:00",
          "2025-07-25T13:00:00",
          "2025-07-29T09:00:00",
          "2025-07-29T13:00:00",
          "2025-07-30T09:00:00",
          "2025-07-30T13:00:00",
          "2025-07-31T09:00:00",
          "2025-07-31T13:00:00",
          "2025-08-01T09:00:00",
          "2025-08-01T13:00:00",
          "2025-08-04T09:00:00",
          "2025-08-04T13:00:00",
          "2025-08-05T09:00:00",
          "2025-08-05T13:00:00",
          "2025-08-06T09:00:00",
          "2025-08-06T13:00:00",
          "2025-08-07T09:00:00",
          "2025-08-07T13:00:00",
          "2025-08-08T09:00:00",
          "2025-08-08T13:00:00"
         ],
         "xaxis": "x",
         "y": [
          31.49403953552246,
          31.363964080810547,
          31.259450912475586,
          31.169902801513672,
          31.07138442993164,
          30.990705490112305,
          30.901710510253906,
          30.825654983520508,
          30.75437355041504,
          30.697242736816406,
          30.64681053161621,
          30.602947235107422,
          30.57915687561035,
          30.555252075195312,
          30.529136657714844,
          30.503747940063477,
          30.47798728942871,
          30.456674575805664,
          30.43435287475586,
          30.417198181152344,
          30.40242576599121,
          30.393712997436523,
          30.38844871520996,
          30.387651443481445,
          30.392309188842773,
          30.40519905090332,
          30.424909591674805,
          30.44720458984375,
          30.466949462890625,
          30.482559204101562,
          30.498348236083984,
          30.511070251464844,
          30.522680282592773,
          30.530900955200195,
          30.537696838378906,
          30.545700073242188,
          30.552648544311523,
          30.5604248046875,
          30.57000732421875,
          30.576868057250977,
          30.579029083251953,
          30.578197479248047,
          30.582334518432617,
          30.5869140625,
          30.5883846282959,
          30.589736938476562,
          30.591768264770508,
          30.599945068359375,
          30.606185913085938,
          30.612384796142578,
          30.625308990478516,
          30.6434268951416,
          30.65949058532715,
          30.683631896972656,
          30.70952033996582,
          30.739280700683594,
          30.773042678833008,
          30.804431915283203,
          30.833297729492188,
          30.860319137573242,
          30.88323211669922,
          30.90176773071289,
          30.91594886779785,
          30.927471160888672,
          30.936697006225586,
          30.94233512878418,
          30.945363998413086,
          30.950130462646484,
          30.954120635986328,
          30.9576358795166,
          30.965850830078125,
          30.975521087646484,
          30.986217498779297,
          30.994731903076172,
          31.0001220703125,
          31.004501342773438,
          31.002206802368164,
          30.999740600585938,
          30.993860244750977,
          30.98138999938965,
          30.96548080444336,
          30.955307006835938,
          30.944639205932617,
          30.93698501586914,
          30.938051223754883
         ],
         "yaxis": "y"
        },
        {
         "hovertemplate": "%{x|%Y-%m-%d %H:%M}<br>Equity %{y:,.2f}<extra></extra>",
         "line": {
          "color": "#6A1B9A",
          "width": 1.8
         },
         "mode": "lines",
         "name": "Equity",
         "type": "scatter",
         "x": [
          "2025-06-09T13:00:00",
          "2025-06-10T09:00:00",
          "2025-06-10T13:00:00",
          "2025-06-11T09:00:00",
          "2025-06-11T13:00:00",
          "2025-06-12T09:00:00",
          "2025-06-12T13:00:00",
          "2025-06-13T09:00:00",
          "2025-06-13T13:00:00",
          "2025-06-16T09:00:00",
          "2025-06-16T13:00:00",
          "2025-06-17T09:00:00",
          "2025-06-17T13:00:00",
          "2025-06-18T09:00:00",
          "2025-06-18T13:00:00",
          "2025-06-19T09:00:00",
          "2025-06-19T13:00:00",
          "2025-06-20T09:00:00",
          "2025-06-20T13:00:00",
          "2025-06-23T09:00:00",
          "2025-06-23T13:00:00",
          "2025-06-24T09:00:00",
          "2025-06-24T13:00:00",
          "2025-06-25T09:00:00",
          "2025-06-25T13:00:00",
          "2025-06-26T09:00:00",
          "2025-06-26T13:00:00",
          "2025-06-27T09:00:00",
          "2025-06-27T13:00:00",
          "2025-06-30T09:00:00",
          "2025-06-30T13:00:00",
          "2025-07-01T09:00:00",
          "2025-07-01T13:00:00",
          "2025-07-02T09:00:00",
          "2025-07-02T13:00:00",
          "2025-07-03T09:00:00",
          "2025-07-03T13:00:00",
          "2025-07-04T09:00:00",
          "2025-07-04T13:00:00",
          "2025-07-07T09:00:00",
          "2025-07-07T13:00:00",
          "2025-07-08T09:00:00",
          "2025-07-08T13:00:00",
          "2025-07-09T09:00:00",
          "2025-07-09T13:00:00",
          "2025-07-11T09:00:00",
          "2025-07-11T13:00:00",
          "2025-07-14T09:00:00",
          "2025-07-14T13:00:00",
          "2025-07-15T09:00:00",
          "2025-07-15T13:00:00",
          "2025-07-16T09:00:00",
          "2025-07-16T13:00:00",
          "2025-07-17T09:00:00",
          "2025-07-17T13:00:00",
          "2025-07-18T09:00:00",
          "2025-07-18T13:00:00",
          "2025-07-21T09:00:00",
          "2025-07-21T13:00:00",
          "2025-07-22T09:00:00",
          "2025-07-22T13:00:00",
          "2025-07-23T09:00:00",
          "2025-07-23T13:00:00",
          "2025-07-24T09:00:00",
          "2025-07-24T13:00:00",
          "2025-07-25T09:00:00",
          "2025-07-25T13:00:00",
          "2025-07-29T09:00:00",
          "2025-07-29T13:00:00",
          "2025-07-30T09:00:00",
          "2025-07-30T13:00:00",
          "2025-07-31T09:00:00",
          "2025-07-31T13:00:00",
          "2025-08-01T09:00:00",
          "2025-08-01T13:00:00",
          "2025-08-04T09:00:00",
          "2025-08-04T13:00:00",
          "2025-08-05T09:00:00",
          "2025-08-05T13:00:00",
          "2025-08-06T09:00:00",
          "2025-08-06T13:00:00",
          "2025-08-07T09:00:00",
          "2025-08-07T13:00:00",
          "2025-08-08T09:00:00",
          "2025-08-08T13:00:00"
         ],
         "xaxis": "x2",
         "y": [
          991196.362776211,
          999000.9990009991,
          991196.362776211,
          1022415.1458557766,
          1014610.4500858852,
          1006805.7543159937,
          999000.9990009991,
          967782.2754665366,
          928758.8561621828,
          810066.6051035358,
          849012.1149642827,
          817855.7070756851,
          810066.6051035358,
          794488.460585369,
          825644.8090478346,
          833433.9110199839,
          833433.9110199839,
          817855.7070756851,
          817855.7070756851,
          810066.6051035358,
          794488.460585369,
          763331.9932706394,
          747753.7893263408,
          688396.0295957517,
          699322.9090175501,
          693859.4901480989,
          682932.5690434044,
          661078.7268340155,
          632495.2506799533,
          648852.8427220826,
          637947.7952272008,
          643400.3397744485,
          627042.7061327056,
          636651.385951033,
          656383.6314151571,
          645881.4933125145,
          665821.81337062,
          649842.0898497251,
          644515.5153427601,
          653859.6360562772,
          648543.7040558197,
          653859.6360562772,
          653859.6360562772,
          653859.6360562772,
          648543.7040558197,
          621964.044053532,
          610544.9570649723,
          615352.360993922,
          644197.041312648,
          677849.1255603236,
          687464.0067739452,
          706693.7692011883,
          697078.8879875668,
          759575.6158761072,
          773997.9376965397,
          754768.1752692964,
          749960.7346624857,
          749960.7346624857,
          740345.8534488641,
          735538.4128420532,
          721116.0910216208,
          749960.7346624857,
          745153.2940556748,
          749960.7346624857,
          749960.7346624857,
          798035.1407305937,
          807650.0219442153,
          798035.1407305937,
          807650.0219442153,
          812457.4625510261,
          812457.4625510261,
          793227.7001237829,
          788420.2595169721,
          769190.4970897288,
          759575.6158761072,
          759575.6158761072,
          764383.0564829181,
          759575.6158761072,
          759575.6158761072,
          783612.8189101613,
          769190.4970897288,
          783612.8189101613,
          778805.3783033504,
          773997.9376965397,
          763618.6734264352
         ],
         "yaxis": "y2"
        }
       ],
       "layout": {
        "annotations": [
         {
          "font": {
           "size": 16
          },
          "showarrow": false,
          "text": "AOT — Prediction & Signals (OOS)",
          "x": 0.5,
          "xanchor": "center",
          "xref": "paper",
          "y": 1,
          "yanchor": "bottom",
          "yref": "paper"
         },
         {
          "font": {
           "size": 16
          },
          "showarrow": false,
          "text": "Equity Curve",
          "x": 0.5,
          "xanchor": "center",
          "xref": "paper",
          "y": 0.276,
          "yanchor": "bottom",
          "yref": "paper"
         }
        ],
        "hovermode": "x unified",
        "legend": {
         "orientation": "h",
         "x": 0,
         "xanchor": "left",
         "y": 1.02,
         "yanchor": "bottom"
        },
        "margin": {
         "b": 60,
         "l": 50,
         "r": 50,
         "t": 60
        },
        "template": {
         "data": {
          "bar": [
           {
            "error_x": {
             "color": "#2a3f5f"
            },
            "error_y": {
             "color": "#2a3f5f"
            },
            "marker": {
             "line": {
              "color": "white",
              "width": 0.5
             },
             "pattern": {
              "fillmode": "overlay",
              "size": 10,
              "solidity": 0.2
             }
            },
            "type": "bar"
           }
          ],
          "barpolar": [
           {
            "marker": {
             "line": {
              "color": "white",
              "width": 0.5
             },
             "pattern": {
              "fillmode": "overlay",
              "size": 10,
              "solidity": 0.2
             }
            },
            "type": "barpolar"
           }
          ],
          "carpet": [
           {
            "aaxis": {
             "endlinecolor": "#2a3f5f",
             "gridcolor": "#C8D4E3",
             "linecolor": "#C8D4E3",
             "minorgridcolor": "#C8D4E3",
             "startlinecolor": "#2a3f5f"
            },
            "baxis": {
             "endlinecolor": "#2a3f5f",
             "gridcolor": "#C8D4E3",
             "linecolor": "#C8D4E3",
             "minorgridcolor": "#C8D4E3",
             "startlinecolor": "#2a3f5f"
            },
            "type": "carpet"
           }
          ],
          "choropleth": [
           {
            "colorbar": {
             "outlinewidth": 0,
             "ticks": ""
            },
            "type": "choropleth"
           }
          ],
          "contour": [
           {
            "colorbar": {
             "outlinewidth": 0,
             "ticks": ""
            },
            "colorscale": [
             [
              0,
              "#0d0887"
             ],
             [
              0.1111111111111111,
              "#46039f"
             ],
             [
              0.2222222222222222,
              "#7201a8"
             ],
             [
              0.3333333333333333,
              "#9c179e"
             ],
             [
              0.4444444444444444,
              "#bd3786"
             ],
             [
              0.5555555555555556,
              "#d8576b"
             ],
             [
              0.6666666666666666,
              "#ed7953"
             ],
             [
              0.7777777777777778,
              "#fb9f3a"
             ],
             [
              0.8888888888888888,
              "#fdca26"
             ],
             [
              1,
              "#f0f921"
             ]
            ],
            "type": "contour"
           }
          ],
          "contourcarpet": [
           {
            "colorbar": {
             "outlinewidth": 0,
             "ticks": ""
            },
            "type": "contourcarpet"
           }
          ],
          "heatmap": [
           {
            "colorbar": {
             "outlinewidth": 0,
             "ticks": ""
            },
            "colorscale": [
             [
              0,
              "#0d0887"
             ],
             [
              0.1111111111111111,
              "#46039f"
             ],
             [
              0.2222222222222222,
              "#7201a8"
             ],
             [
              0.3333333333333333,
              "#9c179e"
             ],
             [
              0.4444444444444444,
              "#bd3786"
             ],
             [
              0.5555555555555556,
              "#d8576b"
             ],
             [
              0.6666666666666666,
              "#ed7953"
             ],
             [
              0.7777777777777778,
              "#fb9f3a"
             ],
             [
              0.8888888888888888,
              "#fdca26"
             ],
             [
              1,
              "#f0f921"
             ]
            ],
            "type": "heatmap"
           }
          ],
          "heatmapgl": [
           {
            "colorbar": {
             "outlinewidth": 0,
             "ticks": ""
            },
            "colorscale": [
             [
              0,
              "#0d0887"
             ],
             [
              0.1111111111111111,
              "#46039f"
             ],
             [
              0.2222222222222222,
              "#7201a8"
             ],
             [
              0.3333333333333333,
              "#9c179e"
             ],
             [
              0.4444444444444444,
              "#bd3786"
             ],
             [
              0.5555555555555556,
              "#d8576b"
             ],
             [
              0.6666666666666666,
              "#ed7953"
             ],
             [
              0.7777777777777778,
              "#fb9f3a"
             ],
             [
              0.8888888888888888,
              "#fdca26"
             ],
             [
              1,
              "#f0f921"
             ]
            ],
            "type": "heatmapgl"
           }
          ],
          "histogram": [
           {
            "marker": {
             "pattern": {
              "fillmode": "overlay",
              "size": 10,
              "solidity": 0.2
             }
            },
            "type": "histogram"
           }
          ],
          "histogram2d": [
           {
            "colorbar": {
             "outlinewidth": 0,
             "ticks": ""
            },
            "colorscale": [
             [
              0,
              "#0d0887"
             ],
             [
              0.1111111111111111,
              "#46039f"
             ],
             [
              0.2222222222222222,
              "#7201a8"
             ],
             [
              0.3333333333333333,
              "#9c179e"
             ],
             [
              0.4444444444444444,
              "#bd3786"
             ],
             [
              0.5555555555555556,
              "#d8576b"
             ],
             [
              0.6666666666666666,
              "#ed7953"
             ],
             [
              0.7777777777777778,
              "#fb9f3a"
             ],
             [
              0.8888888888888888,
              "#fdca26"
             ],
             [
              1,
              "#f0f921"
             ]
            ],
            "type": "histogram2d"
           }
          ],
          "histogram2dcontour": [
           {
            "colorbar": {
             "outlinewidth": 0,
             "ticks": ""
            },
            "colorscale": [
             [
              0,
              "#0d0887"
             ],
             [
              0.1111111111111111,
              "#46039f"
             ],
             [
              0.2222222222222222,
              "#7201a8"
             ],
             [
              0.3333333333333333,
              "#9c179e"
             ],
             [
              0.4444444444444444,
              "#bd3786"
             ],
             [
              0.5555555555555556,
              "#d8576b"
             ],
             [
              0.6666666666666666,
              "#ed7953"
             ],
             [
              0.7777777777777778,
              "#fb9f3a"
             ],
             [
              0.8888888888888888,
              "#fdca26"
             ],
             [
              1,
              "#f0f921"
             ]
            ],
            "type": "histogram2dcontour"
           }
          ],
          "mesh3d": [
           {
            "colorbar": {
             "outlinewidth": 0,
             "ticks": ""
            },
            "type": "mesh3d"
           }
          ],
          "parcoords": [
           {
            "line": {
             "colorbar": {
              "outlinewidth": 0,
              "ticks": ""
             }
            },
            "type": "parcoords"
           }
          ],
          "pie": [
           {
            "automargin": true,
            "type": "pie"
           }
          ],
          "scatter": [
           {
            "fillpattern": {
             "fillmode": "overlay",
             "size": 10,
             "solidity": 0.2
            },
            "type": "scatter"
           }
          ],
          "scatter3d": [
           {
            "line": {
             "colorbar": {
              "outlinewidth": 0,
              "ticks": ""
             }
            },
            "marker": {
             "colorbar": {
              "outlinewidth": 0,
              "ticks": ""
             }
            },
            "type": "scatter3d"
           }
          ],
          "scattercarpet": [
           {
            "marker": {
             "colorbar": {
              "outlinewidth": 0,
              "ticks": ""
             }
            },
            "type": "scattercarpet"
           }
          ],
          "scattergeo": [
           {
            "marker": {
             "colorbar": {
              "outlinewidth": 0,
              "ticks": ""
             }
            },
            "type": "scattergeo"
           }
          ],
          "scattergl": [
           {
            "marker": {
             "colorbar": {
              "outlinewidth": 0,
              "ticks": ""
             }
            },
            "type": "scattergl"
           }
          ],
          "scattermapbox": [
           {
            "marker": {
             "colorbar": {
              "outlinewidth": 0,
              "ticks": ""
             }
            },
            "type": "scattermapbox"
           }
          ],
          "scatterpolar": [
           {
            "marker": {
             "colorbar": {
              "outlinewidth": 0,
              "ticks": ""
             }
            },
            "type": "scatterpolar"
           }
          ],
          "scatterpolargl": [
           {
            "marker": {
             "colorbar": {
              "outlinewidth": 0,
              "ticks": ""
             }
            },
            "type": "scatterpolargl"
           }
          ],
          "scatterternary": [
           {
            "marker": {
             "colorbar": {
              "outlinewidth": 0,
              "ticks": ""
             }
            },
            "type": "scatterternary"
           }
          ],
          "surface": [
           {
            "colorbar": {
             "outlinewidth": 0,
             "ticks": ""
            },
            "colorscale": [
             [
              0,
              "#0d0887"
             ],
             [
              0.1111111111111111,
              "#46039f"
             ],
             [
              0.2222222222222222,
              "#7201a8"
             ],
             [
              0.3333333333333333,
              "#9c179e"
             ],
             [
              0.4444444444444444,
              "#bd3786"
             ],
             [
              0.5555555555555556,
              "#d8576b"
             ],
             [
              0.6666666666666666,
              "#ed7953"
             ],
             [
              0.7777777777777778,
              "#fb9f3a"
             ],
             [
              0.8888888888888888,
              "#fdca26"
             ],
             [
              1,
              "#f0f921"
             ]
            ],
            "type": "surface"
           }
          ],
          "table": [
           {
            "cells": {
             "fill": {
              "color": "#EBF0F8"
             },
             "line": {
              "color": "white"
             }
            },
            "header": {
             "fill": {
              "color": "#C8D4E3"
             },
             "line": {
              "color": "white"
             }
            },
            "type": "table"
           }
          ]
         },
         "layout": {
          "annotationdefaults": {
           "arrowcolor": "#2a3f5f",
           "arrowhead": 0,
           "arrowwidth": 1
          },
          "autotypenumbers": "strict",
          "coloraxis": {
           "colorbar": {
            "outlinewidth": 0,
            "ticks": ""
           }
          },
          "colorscale": {
           "diverging": [
            [
             0,
             "#8e0152"
            ],
            [
             0.1,
             "#c51b7d"
            ],
            [
             0.2,
             "#de77ae"
            ],
            [
             0.3,
             "#f1b6da"
            ],
            [
             0.4,
             "#fde0ef"
            ],
            [
             0.5,
             "#f7f7f7"
            ],
            [
             0.6,
             "#e6f5d0"
            ],
            [
             0.7,
             "#b8e186"
            ],
            [
             0.8,
             "#7fbc41"
            ],
            [
             0.9,
             "#4d9221"
            ],
            [
             1,
             "#276419"
            ]
           ],
           "sequential": [
            [
             0,
             "#0d0887"
            ],
            [
             0.1111111111111111,
             "#46039f"
            ],
            [
             0.2222222222222222,
             "#7201a8"
            ],
            [
             0.3333333333333333,
             "#9c179e"
            ],
            [
             0.4444444444444444,
             "#bd3786"
            ],
            [
             0.5555555555555556,
             "#d8576b"
            ],
            [
             0.6666666666666666,
             "#ed7953"
            ],
            [
             0.7777777777777778,
             "#fb9f3a"
            ],
            [
             0.8888888888888888,
             "#fdca26"
            ],
            [
             1,
             "#f0f921"
            ]
           ],
           "sequentialminus": [
            [
             0,
             "#0d0887"
            ],
            [
             0.1111111111111111,
             "#46039f"
            ],
            [
             0.2222222222222222,
             "#7201a8"
            ],
            [
             0.3333333333333333,
             "#9c179e"
            ],
            [
             0.4444444444444444,
             "#bd3786"
            ],
            [
             0.5555555555555556,
             "#d8576b"
            ],
            [
             0.6666666666666666,
             "#ed7953"
            ],
            [
             0.7777777777777778,
             "#fb9f3a"
            ],
            [
             0.8888888888888888,
             "#fdca26"
            ],
            [
             1,
             "#f0f921"
            ]
           ]
          },
          "colorway": [
           "#636efa",
           "#EF553B",
           "#00cc96",
           "#ab63fa",
           "#FFA15A",
           "#19d3f3",
           "#FF6692",
           "#B6E880",
           "#FF97FF",
           "#FECB52"
          ],
          "font": {
           "color": "#2a3f5f"
          },
          "geo": {
           "bgcolor": "white",
           "lakecolor": "white",
           "landcolor": "white",
           "showlakes": true,
           "showland": true,
           "subunitcolor": "#C8D4E3"
          },
          "hoverlabel": {
           "align": "left"
          },
          "hovermode": "closest",
          "mapbox": {
           "style": "light"
          },
          "paper_bgcolor": "white",
          "plot_bgcolor": "white",
          "polar": {
           "angularaxis": {
            "gridcolor": "#EBF0F8",
            "linecolor": "#EBF0F8",
            "ticks": ""
           },
           "bgcolor": "white",
           "radialaxis": {
            "gridcolor": "#EBF0F8",
            "linecolor": "#EBF0F8",
            "ticks": ""
           }
          },
          "scene": {
           "xaxis": {
            "backgroundcolor": "white",
            "gridcolor": "#DFE8F3",
            "gridwidth": 2,
            "linecolor": "#EBF0F8",
            "showbackground": true,
            "ticks": "",
            "zerolinecolor": "#EBF0F8"
           },
           "yaxis": {
            "backgroundcolor": "white",
            "gridcolor": "#DFE8F3",
            "gridwidth": 2,
            "linecolor": "#EBF0F8",
            "showbackground": true,
            "ticks": "",
            "zerolinecolor": "#EBF0F8"
           },
           "zaxis": {
            "backgroundcolor": "white",
            "gridcolor": "#DFE8F3",
            "gridwidth": 2,
            "linecolor": "#EBF0F8",
            "showbackground": true,
            "ticks": "",
            "zerolinecolor": "#EBF0F8"
           }
          },
          "shapedefaults": {
           "line": {
            "color": "#2a3f5f"
           }
          },
          "ternary": {
           "aaxis": {
            "gridcolor": "#DFE8F3",
            "linecolor": "#A2B1C6",
            "ticks": ""
           },
           "baxis": {
            "gridcolor": "#DFE8F3",
            "linecolor": "#A2B1C6",
            "ticks": ""
           },
           "bgcolor": "white",
           "caxis": {
            "gridcolor": "#DFE8F3",
            "linecolor": "#A2B1C6",
            "ticks": ""
           }
          },
          "title": {
           "x": 0.05
          },
          "xaxis": {
           "automargin": true,
           "gridcolor": "#EBF0F8",
           "linecolor": "#EBF0F8",
           "ticks": "",
           "title": {
            "standoff": 15
           },
           "zerolinecolor": "#EBF0F8",
           "zerolinewidth": 2
          },
          "yaxis": {
           "automargin": true,
           "gridcolor": "#EBF0F8",
           "linecolor": "#EBF0F8",
           "ticks": "",
           "title": {
            "standoff": 15
           },
           "zerolinecolor": "#EBF0F8",
           "zerolinewidth": 2
          }
         }
        },
        "xaxis": {
         "anchor": "y",
         "domain": [
          0,
          1
         ],
         "matches": "x2",
         "showspikes": true,
         "showticklabels": false,
         "spikemode": "across",
         "spikesnap": "cursor"
        },
        "xaxis2": {
         "anchor": "y2",
         "domain": [
          0,
          1
         ],
         "rangeslider": {
          "visible": false
         },
         "showspikes": true,
         "spikemode": "across",
         "spikesnap": "cursor"
        },
        "yaxis": {
         "anchor": "x",
         "domain": [
          0.35600000000000004,
          1
         ],
         "gridcolor": "rgba(0,0,0,0.08)",
         "showgrid": true
        },
        "yaxis2": {
         "anchor": "x2",
         "domain": [
          0,
          0.276
         ],
         "gridcolor": "rgba(0,0,0,0.08)",
         "showgrid": true
        }
       }
      }
     },
     "metadata": {},
     "output_type": "display_data"
    },
    {
     "name": "stderr",
     "output_type": "stream",
     "text": [
      "[I 2025-08-26 11:12:04,517] A new study created in memory with name: no-name-e71e17ff-d6a1-4988-a7f5-55b587cbc0f7\n"
     ]
    },
    {
     "name": "stdout",
     "output_type": "stream",
     "text": [
      "\n",
      "Processing BRN1! ...\n"
     ]
    },
    {
     "name": "stderr",
     "output_type": "stream",
     "text": [
      "c:\\Users\\offen\\AppData\\Local\\Programs\\Python\\Python312\\Lib\\site-packages\\optuna\\distributions.py:708: UserWarning:\n",
      "\n",
      "The distribution is specified by [21, 86] and step=4, but the range is not divisible by `step`. It will be replaced by [21, 85].\n",
      "\n",
      "c:\\Users\\offen\\AppData\\Local\\Programs\\Python\\Python312\\Lib\\site-packages\\optuna\\distributions.py:708: UserWarning:\n",
      "\n",
      "The distribution is specified by [1, 500] and step=8, but the range is not divisible by `step`. It will be replaced by [1, 497].\n",
      "\n",
      "[I 2025-08-26 11:12:04,886] Trial 0 finished with value: -3.4650936598537685 and parameters: {'sequence_length': 33, 'hidden_layer_size': 313, 'lstm_layers': 2, 'dropout': 0.4712151502282615, 'learning_rate': 0.007675507817190953, 'epochs': 2730, 'long_threshold': 0.0008293927654292901, 'short_threshold': 0.002405616532605058}. Best is trial 0 with value: -3.4650936598537685.\n",
      "c:\\Users\\offen\\AppData\\Local\\Programs\\Python\\Python312\\Lib\\site-packages\\optuna\\distributions.py:708: UserWarning:\n",
      "\n",
      "The distribution is specified by [21, 86] and step=4, but the range is not divisible by `step`. It will be replaced by [21, 85].\n",
      "\n",
      "c:\\Users\\offen\\AppData\\Local\\Programs\\Python\\Python312\\Lib\\site-packages\\optuna\\distributions.py:708: UserWarning:\n",
      "\n",
      "The distribution is specified by [1, 500] and step=8, but the range is not divisible by `step`. It will be replaced by [1, 497].\n",
      "\n",
      "[I 2025-08-26 11:12:05,419] Trial 1 finished with value: -3.729870946942837 and parameters: {'sequence_length': 85, 'hidden_layer_size': 441, 'lstm_layers': 2, 'dropout': 0.3005970753140752, 'learning_rate': 0.0033737189167564853, 'epochs': 7130, 'long_threshold': 0.0011107522643711849, 'short_threshold': 0.0016835885581968748}. Best is trial 0 with value: -3.4650936598537685.\n",
      "c:\\Users\\offen\\AppData\\Local\\Programs\\Python\\Python312\\Lib\\site-packages\\optuna\\distributions.py:708: UserWarning:\n",
      "\n",
      "The distribution is specified by [21, 86] and step=4, but the range is not divisible by `step`. It will be replaced by [21, 85].\n",
      "\n",
      "c:\\Users\\offen\\AppData\\Local\\Programs\\Python\\Python312\\Lib\\site-packages\\optuna\\distributions.py:708: UserWarning:\n",
      "\n",
      "The distribution is specified by [1, 500] and step=8, but the range is not divisible by `step`. It will be replaced by [1, 497].\n",
      "\n",
      "[I 2025-08-26 11:12:10,459] Trial 2 finished with value: -3.4650936598537685 and parameters: {'sequence_length': 53, 'hidden_layer_size': 1, 'lstm_layers': 3, 'dropout': 0.5295847143816699, 'learning_rate': 0.0002237187115484708, 'epochs': 6160, 'long_threshold': 0.00022614372492892965, 'short_threshold': 0.0011064720180059236}. Best is trial 0 with value: -3.4650936598537685.\n",
      "c:\\Users\\offen\\AppData\\Local\\Programs\\Python\\Python312\\Lib\\site-packages\\optuna\\distributions.py:708: UserWarning:\n",
      "\n",
      "The distribution is specified by [21, 86] and step=4, but the range is not divisible by `step`. It will be replaced by [21, 85].\n",
      "\n",
      "c:\\Users\\offen\\AppData\\Local\\Programs\\Python\\Python312\\Lib\\site-packages\\optuna\\distributions.py:708: UserWarning:\n",
      "\n",
      "The distribution is specified by [1, 500] and step=8, but the range is not divisible by `step`. It will be replaced by [1, 497].\n",
      "\n",
      "[I 2025-08-26 11:12:11,003] Trial 3 finished with value: -4.390032036621627 and parameters: {'sequence_length': 81, 'hidden_layer_size': 329, 'lstm_layers': 2, 'dropout': 0.47323808576444726, 'learning_rate': 0.0001485823805383844, 'epochs': 5690, 'long_threshold': 0.0026073821686836774, 'short_threshold': 0.0013085202716870382}. Best is trial 0 with value: -3.4650936598537685.\n",
      "c:\\Users\\offen\\AppData\\Local\\Programs\\Python\\Python312\\Lib\\site-packages\\optuna\\distributions.py:708: UserWarning:\n",
      "\n",
      "The distribution is specified by [21, 86] and step=4, but the range is not divisible by `step`. It will be replaced by [21, 85].\n",
      "\n",
      "c:\\Users\\offen\\AppData\\Local\\Programs\\Python\\Python312\\Lib\\site-packages\\optuna\\distributions.py:708: UserWarning:\n",
      "\n",
      "The distribution is specified by [1, 500] and step=8, but the range is not divisible by `step`. It will be replaced by [1, 497].\n",
      "\n",
      "[I 2025-08-26 11:12:11,144] Trial 4 finished with value: -3.220157249520428 and parameters: {'sequence_length': 73, 'hidden_layer_size': 73, 'lstm_layers': 3, 'dropout': 0.4227487849137435, 'learning_rate': 6.446224643080463e-05, 'epochs': 9250, 'long_threshold': 0.00132642226621253, 'short_threshold': 0.0027279478769174177}. Best is trial 4 with value: -3.220157249520428.\n",
      "c:\\Users\\offen\\AppData\\Local\\Programs\\Python\\Python312\\Lib\\site-packages\\optuna\\distributions.py:708: UserWarning:\n",
      "\n",
      "The distribution is specified by [21, 86] and step=4, but the range is not divisible by `step`. It will be replaced by [21, 85].\n",
      "\n",
      "c:\\Users\\offen\\AppData\\Local\\Programs\\Python\\Python312\\Lib\\site-packages\\optuna\\distributions.py:708: UserWarning:\n",
      "\n",
      "The distribution is specified by [1, 500] and step=8, but the range is not divisible by `step`. It will be replaced by [1, 497].\n",
      "\n",
      "[I 2025-08-26 11:12:11,234] Trial 5 finished with value: -6.739779707940308 and parameters: {'sequence_length': 25, 'hidden_layer_size': 89, 'lstm_layers': 1, 'dropout': 0.4049285661493981, 'learning_rate': 0.0015830667410321512, 'epochs': 5340, 'long_threshold': 0.00012997218808441047, 'short_threshold': 0.0016842992401901937}. Best is trial 4 with value: -3.220157249520428.\n",
      "c:\\Users\\offen\\AppData\\Local\\Programs\\Python\\Python312\\Lib\\site-packages\\optuna\\distributions.py:708: UserWarning:\n",
      "\n",
      "The distribution is specified by [21, 86] and step=4, but the range is not divisible by `step`. It will be replaced by [21, 85].\n",
      "\n",
      "c:\\Users\\offen\\AppData\\Local\\Programs\\Python\\Python312\\Lib\\site-packages\\optuna\\distributions.py:708: UserWarning:\n",
      "\n",
      "The distribution is specified by [1, 500] and step=8, but the range is not divisible by `step`. It will be replaced by [1, 497].\n",
      "\n",
      "[I 2025-08-26 11:12:11,451] Trial 6 finished with value: -6.5364513896771115 and parameters: {'sequence_length': 41, 'hidden_layer_size': 249, 'lstm_layers': 1, 'dropout': 0.36431622373109074, 'learning_rate': 0.0012399730859723546, 'epochs': 70, 'long_threshold': 0.0018523251264128912, 'short_threshold': 0.002736368659299463}. Best is trial 4 with value: -3.220157249520428.\n",
      "c:\\Users\\offen\\AppData\\Local\\Programs\\Python\\Python312\\Lib\\site-packages\\optuna\\distributions.py:708: UserWarning:\n",
      "\n",
      "The distribution is specified by [21, 86] and step=4, but the range is not divisible by `step`. It will be replaced by [21, 85].\n",
      "\n",
      "c:\\Users\\offen\\AppData\\Local\\Programs\\Python\\Python312\\Lib\\site-packages\\optuna\\distributions.py:708: UserWarning:\n",
      "\n",
      "The distribution is specified by [1, 500] and step=8, but the range is not divisible by `step`. It will be replaced by [1, 497].\n",
      "\n",
      "[I 2025-08-26 11:12:12,160] Trial 7 finished with value: -3.729870946942837 and parameters: {'sequence_length': 73, 'hidden_layer_size': 497, 'lstm_layers': 3, 'dropout': 0.47517848117498385, 'learning_rate': 0.00011353630204166286, 'epochs': 6250, 'long_threshold': 0.0014342813870120237, 'short_threshold': 0.0005870255359976947}. Best is trial 4 with value: -3.220157249520428.\n",
      "c:\\Users\\offen\\AppData\\Local\\Programs\\Python\\Python312\\Lib\\site-packages\\optuna\\distributions.py:708: UserWarning:\n",
      "\n",
      "The distribution is specified by [21, 86] and step=4, but the range is not divisible by `step`. It will be replaced by [21, 85].\n",
      "\n",
      "c:\\Users\\offen\\AppData\\Local\\Programs\\Python\\Python312\\Lib\\site-packages\\optuna\\distributions.py:708: UserWarning:\n",
      "\n",
      "The distribution is specified by [1, 500] and step=8, but the range is not divisible by `step`. It will be replaced by [1, 497].\n",
      "\n",
      "[I 2025-08-26 11:12:14,359] Trial 8 finished with value: -3.729870946942837 and parameters: {'sequence_length': 45, 'hidden_layer_size': 25, 'lstm_layers': 2, 'dropout': 0.5892028449131727, 'learning_rate': 2.873825085223262e-05, 'epochs': 1200, 'long_threshold': 0.0022155691684300404, 'short_threshold': 0.001761910900391954}. Best is trial 4 with value: -3.220157249520428.\n",
      "c:\\Users\\offen\\AppData\\Local\\Programs\\Python\\Python312\\Lib\\site-packages\\optuna\\distributions.py:708: UserWarning:\n",
      "\n",
      "The distribution is specified by [21, 86] and step=4, but the range is not divisible by `step`. It will be replaced by [21, 85].\n",
      "\n",
      "c:\\Users\\offen\\AppData\\Local\\Programs\\Python\\Python312\\Lib\\site-packages\\optuna\\distributions.py:708: UserWarning:\n",
      "\n",
      "The distribution is specified by [1, 500] and step=8, but the range is not divisible by `step`. It will be replaced by [1, 497].\n",
      "\n",
      "[I 2025-08-26 11:12:14,503] Trial 9 finished with value: -3.9735708184571283 and parameters: {'sequence_length': 53, 'hidden_layer_size': 49, 'lstm_layers': 1, 'dropout': 0.5399791169020052, 'learning_rate': 0.00034798364713040314, 'epochs': 5360, 'long_threshold': 1.8625549761388193e-05, 'short_threshold': 0.0009019251173109034}. Best is trial 4 with value: -3.220157249520428.\n"
     ]
    },
    {
     "name": "stdout",
     "output_type": "stream",
     "text": [
      "\n",
      "=== Best Trial ===\n",
      "Value (objective): -3.220157249520428\n",
      "sequence_length: 73\n",
      "hidden_layer_size: 73\n",
      "lstm_layers: 3\n",
      "dropout: 0.4227487849137435\n",
      "learning_rate: 6.446224643080463e-05\n",
      "epochs: 9250\n",
      "long_threshold: 0.00132642226621253\n",
      "short_threshold: 0.0027279478769174177\n",
      "Metrics (val): {'Total Profit %': np.float64(0.9652438076180658), 'MaxDD %': -1.0463502642846234, 'WinRate': 0.47058823529411764}\n",
      "[params for BRN1! ] {'sequence_length': 73, 'hidden_layer_size': 73, 'lstm_layers': 3, 'dropout': 0.4227487849137435, 'learning_rate': 6.446224643080463e-05, 'epochs': 9250, 'long_threshold': 0.00132642226621253, 'short_threshold': 0.0027279478769174177}\n",
      "[train] seq=73 | hidden=73 | layers=3 | dropout=0.42 | lr=0.000064 | epochs=9250 | thr=[long 0.0013, short 0.0027]\n",
      "Epoch 770/9250  TrainLoss: 0.00322771\n",
      "Epoch 1540/9250  TrainLoss: 0.00309754\n",
      "Epoch 2310/9250  TrainLoss: 0.00127886\n",
      "Epoch 3080/9250  TrainLoss: 0.00114449\n",
      "Epoch 3850/9250  TrainLoss: 0.00077330\n",
      "Epoch 4620/9250  TrainLoss: 0.00068191\n",
      "Epoch 5390/9250  TrainLoss: 0.00055600\n",
      "Epoch 6160/9250  TrainLoss: 0.00054776\n",
      "Epoch 6930/9250  TrainLoss: 0.00046538\n",
      "Epoch 7700/9250  TrainLoss: 0.00041020\n",
      "Epoch 8470/9250  TrainLoss: 0.00041386\n",
      "Epoch 9240/9250  TrainLoss: 0.00035648\n",
      "Epoch 9250/9250  TrainLoss: 0.00031819\n"
     ]
    },
    {
     "data": {
      "application/vnd.plotly.v1+json": {
       "config": {
        "plotlyServerURL": "https://plot.ly"
       },
       "data": [
        {
         "hovertemplate": "%{x|%Y-%m-%d %H:%M}<br>Price %{y:.4f}<extra></extra>",
         "line": {
          "color": "#C62828",
          "width": 2
         },
         "mode": "lines",
         "name": "Price (Short)",
         "type": "scatter",
         "x": [
          "2025-07-25T03:00:00",
          "2025-07-25T07:00:00",
          "2025-07-25T11:00:00",
          "2025-07-25T15:00:00",
          "2025-07-25T19:00:00",
          "2025-07-25T23:00:00",
          "2025-07-26T03:00:00",
          "2025-07-28T05:00:00",
          "2025-07-28T09:00:00",
          "2025-07-28T13:00:00",
          "2025-07-28T17:00:00",
          "2025-07-28T21:00:00",
          "2025-07-29T01:00:00",
          "2025-07-29T07:00:00",
          "2025-07-29T11:00:00",
          "2025-07-29T15:00:00",
          "2025-07-29T19:00:00",
          "2025-07-29T23:00:00",
          "2025-07-30T03:00:00",
          "2025-07-30T07:00:00",
          "2025-07-30T11:00:00",
          "2025-07-30T15:00:00",
          "2025-07-30T19:00:00",
          "2025-07-30T23:00:00",
          "2025-07-31T03:00:00",
          "2025-07-31T07:00:00",
          "2025-07-31T11:00:00",
          "2025-07-31T15:00:00",
          "2025-07-31T19:00:00",
          "2025-07-31T23:00:00",
          "2025-08-01T03:00:00",
          "2025-08-01T07:00:00",
          "2025-08-01T11:00:00",
          "2025-08-01T15:00:00",
          "2025-08-01T19:00:00",
          "2025-08-01T23:00:00",
          "2025-08-02T03:00:00",
          "2025-08-04T05:00:00",
          "2025-08-04T09:00:00",
          "2025-08-04T13:00:00",
          "2025-08-04T17:00:00",
          "2025-08-04T21:00:00",
          "2025-08-05T01:00:00",
          "2025-08-05T07:00:00",
          "2025-08-05T11:00:00",
          "2025-08-05T15:00:00",
          "2025-08-05T19:00:00",
          "2025-08-05T23:00:00",
          "2025-08-06T03:00:00",
          "2025-08-06T07:00:00",
          "2025-08-06T11:00:00",
          "2025-08-06T15:00:00",
          "2025-08-06T19:00:00",
          "2025-08-06T23:00:00",
          "2025-08-07T03:00:00",
          "2025-08-07T07:00:00",
          "2025-08-07T11:00:00",
          "2025-08-07T15:00:00",
          "2025-08-07T19:00:00",
          "2025-08-07T23:00:00",
          "2025-08-08T03:00:00",
          "2025-08-08T07:00:00",
          "2025-08-08T11:00:00",
          "2025-08-08T15:00:00",
          "2025-08-08T19:00:00",
          "2025-08-08T23:00:00",
          "2025-08-09T03:00:00",
          "2025-08-11T05:00:00",
          "2025-08-11T09:00:00",
          "2025-08-11T13:00:00",
          "2025-08-11T17:00:00",
          "2025-08-11T21:00:00"
         ],
         "xaxis": "x",
         "y": [
          69.36000061035156,
          68.45999908447266,
          68.6500015258789,
          68.62000274658203,
          67.77000427246094,
          67.54000091552734,
          67.5999984741211,
          67.87999725341797,
          68,
          68.29000091552734,
          69.31999969482422,
          69.14999389648438,
          69.5999984741211,
          69.2300033569336,
          69.23999786376953,
          69.4800033569336,
          70.25,
          71.8499984741211,
          null,
          null,
          null,
          null,
          null,
          null,
          null,
          null,
          null,
          null,
          null,
          null,
          null,
          null,
          null,
          null,
          null,
          null,
          69.52000427246094,
          69.4800033569336,
          69.63999938964844,
          68.7699966430664,
          68.1500015258789,
          68.75,
          68.68000030517578,
          68.65999603271484,
          68.50999450683594,
          68.20999908447266,
          67.90999603271484,
          67.63999938964844,
          67.68000030517578,
          68.06999969482422,
          68.19999694824219,
          68.63999938964844,
          67.43000030517578,
          66.62000274658203,
          66.95999908447266,
          67.55000305175781,
          67.26000213623047,
          67.17000579833984,
          66.5999984741211,
          66.30000305175781,
          66.41000366210938,
          66.41999816894531,
          66.48999786376953,
          66.73999786376953,
          66.91000366210938,
          66.38999938964844,
          66.31999969482422,
          66.27000427246094,
          66.27999877929688,
          66.61000061035156,
          66.85000610351562,
          66.62999725341797
         ],
         "yaxis": "y"
        },
        {
         "hovertemplate": "%{x|%Y-%m-%d %H:%M}<br>Price %{y:.4f}<extra></extra>",
         "line": {
          "color": "#9E9E9E",
          "width": 2
         },
         "mode": "lines",
         "name": "Price (Neutral)",
         "type": "scatter",
         "x": [
          "2025-07-25T03:00:00",
          "2025-07-25T07:00:00",
          "2025-07-25T11:00:00",
          "2025-07-25T15:00:00",
          "2025-07-25T19:00:00",
          "2025-07-25T23:00:00",
          "2025-07-26T03:00:00",
          "2025-07-28T05:00:00",
          "2025-07-28T09:00:00",
          "2025-07-28T13:00:00",
          "2025-07-28T17:00:00",
          "2025-07-28T21:00:00",
          "2025-07-29T01:00:00",
          "2025-07-29T07:00:00",
          "2025-07-29T11:00:00",
          "2025-07-29T15:00:00",
          "2025-07-29T19:00:00",
          "2025-07-29T23:00:00",
          "2025-07-30T03:00:00",
          "2025-07-30T07:00:00",
          "2025-07-30T11:00:00",
          "2025-07-30T15:00:00",
          "2025-07-30T19:00:00",
          "2025-07-30T23:00:00",
          "2025-07-31T03:00:00",
          "2025-07-31T07:00:00",
          "2025-07-31T11:00:00",
          "2025-07-31T15:00:00",
          "2025-07-31T19:00:00",
          "2025-07-31T23:00:00",
          "2025-08-01T03:00:00",
          "2025-08-01T07:00:00",
          "2025-08-01T11:00:00",
          "2025-08-01T15:00:00",
          "2025-08-01T19:00:00",
          "2025-08-01T23:00:00",
          "2025-08-02T03:00:00",
          "2025-08-04T05:00:00",
          "2025-08-04T09:00:00",
          "2025-08-04T13:00:00",
          "2025-08-04T17:00:00",
          "2025-08-04T21:00:00",
          "2025-08-05T01:00:00",
          "2025-08-05T07:00:00",
          "2025-08-05T11:00:00",
          "2025-08-05T15:00:00",
          "2025-08-05T19:00:00",
          "2025-08-05T23:00:00",
          "2025-08-06T03:00:00",
          "2025-08-06T07:00:00",
          "2025-08-06T11:00:00",
          "2025-08-06T15:00:00",
          "2025-08-06T19:00:00",
          "2025-08-06T23:00:00",
          "2025-08-07T03:00:00",
          "2025-08-07T07:00:00",
          "2025-08-07T11:00:00",
          "2025-08-07T15:00:00",
          "2025-08-07T19:00:00",
          "2025-08-07T23:00:00",
          "2025-08-08T03:00:00",
          "2025-08-08T07:00:00",
          "2025-08-08T11:00:00",
          "2025-08-08T15:00:00",
          "2025-08-08T19:00:00",
          "2025-08-08T23:00:00",
          "2025-08-09T03:00:00",
          "2025-08-11T05:00:00",
          "2025-08-11T09:00:00",
          "2025-08-11T13:00:00",
          "2025-08-11T17:00:00",
          "2025-08-11T21:00:00"
         ],
         "xaxis": "x",
         "y": [
          null,
          null,
          null,
          null,
          null,
          null,
          null,
          null,
          null,
          null,
          null,
          null,
          null,
          null,
          null,
          null,
          null,
          null,
          null,
          null,
          null,
          null,
          null,
          null,
          null,
          null,
          null,
          null,
          null,
          null,
          null,
          null,
          null,
          null,
          null,
          null,
          null,
          null,
          null,
          null,
          null,
          null,
          null,
          null,
          null,
          null,
          null,
          null,
          null,
          null,
          null,
          null,
          null,
          null,
          null,
          null,
          null,
          null,
          null,
          null,
          null,
          null,
          null,
          null,
          null,
          null,
          null,
          null,
          null,
          null,
          null,
          null
         ],
         "yaxis": "y"
        },
        {
         "hovertemplate": "%{x|%Y-%m-%d %H:%M}<br>Price %{y:.4f}<extra></extra>",
         "line": {
          "color": "#2E7D32",
          "width": 2
         },
         "mode": "lines",
         "name": "Price (Long)",
         "type": "scatter",
         "x": [
          "2025-07-25T03:00:00",
          "2025-07-25T07:00:00",
          "2025-07-25T11:00:00",
          "2025-07-25T15:00:00",
          "2025-07-25T19:00:00",
          "2025-07-25T23:00:00",
          "2025-07-26T03:00:00",
          "2025-07-28T05:00:00",
          "2025-07-28T09:00:00",
          "2025-07-28T13:00:00",
          "2025-07-28T17:00:00",
          "2025-07-28T21:00:00",
          "2025-07-29T01:00:00",
          "2025-07-29T07:00:00",
          "2025-07-29T11:00:00",
          "2025-07-29T15:00:00",
          "2025-07-29T19:00:00",
          "2025-07-29T23:00:00",
          "2025-07-30T03:00:00",
          "2025-07-30T07:00:00",
          "2025-07-30T11:00:00",
          "2025-07-30T15:00:00",
          "2025-07-30T19:00:00",
          "2025-07-30T23:00:00",
          "2025-07-31T03:00:00",
          "2025-07-31T07:00:00",
          "2025-07-31T11:00:00",
          "2025-07-31T15:00:00",
          "2025-07-31T19:00:00",
          "2025-07-31T23:00:00",
          "2025-08-01T03:00:00",
          "2025-08-01T07:00:00",
          "2025-08-01T11:00:00",
          "2025-08-01T15:00:00",
          "2025-08-01T19:00:00",
          "2025-08-01T23:00:00",
          "2025-08-02T03:00:00",
          "2025-08-04T05:00:00",
          "2025-08-04T09:00:00",
          "2025-08-04T13:00:00",
          "2025-08-04T17:00:00",
          "2025-08-04T21:00:00",
          "2025-08-05T01:00:00",
          "2025-08-05T07:00:00",
          "2025-08-05T11:00:00",
          "2025-08-05T15:00:00",
          "2025-08-05T19:00:00",
          "2025-08-05T23:00:00",
          "2025-08-06T03:00:00",
          "2025-08-06T07:00:00",
          "2025-08-06T11:00:00",
          "2025-08-06T15:00:00",
          "2025-08-06T19:00:00",
          "2025-08-06T23:00:00",
          "2025-08-07T03:00:00",
          "2025-08-07T07:00:00",
          "2025-08-07T11:00:00",
          "2025-08-07T15:00:00",
          "2025-08-07T19:00:00",
          "2025-08-07T23:00:00",
          "2025-08-08T03:00:00",
          "2025-08-08T07:00:00",
          "2025-08-08T11:00:00",
          "2025-08-08T15:00:00",
          "2025-08-08T19:00:00",
          "2025-08-08T23:00:00",
          "2025-08-09T03:00:00",
          "2025-08-11T05:00:00",
          "2025-08-11T09:00:00",
          "2025-08-11T13:00:00",
          "2025-08-11T17:00:00",
          "2025-08-11T21:00:00"
         ],
         "xaxis": "x",
         "y": [
          null,
          null,
          null,
          null,
          null,
          null,
          null,
          null,
          null,
          null,
          null,
          null,
          null,
          null,
          null,
          null,
          null,
          null,
          71.7699966430664,
          71.7800064086914,
          72.18000030517578,
          71.40999603271484,
          72.48999786376953,
          72.7699966430664,
          72.75,
          72.30000305175781,
          72.5199966430664,
          72.04999542236328,
          71.1199951171875,
          71.6199951171875,
          71.7800064086914,
          71.86000061035156,
          71.68000030517578,
          71.12999725341797,
          69.72999572753906,
          69.54000091552734,
          null,
          null,
          null,
          null,
          null,
          null,
          null,
          null,
          null,
          null,
          null,
          null,
          null,
          null,
          null,
          null,
          null,
          null,
          null,
          null,
          null,
          null,
          null,
          null,
          null,
          null,
          null,
          null,
          null,
          null,
          null,
          null,
          null,
          null,
          null,
          null
         ],
         "yaxis": "y"
        },
        {
         "hovertemplate": "%{x|%Y-%m-%d %H:%M}<br>Pred %{y:.4f}<extra></extra>",
         "line": {
          "color": "#FB8C00",
          "dash": "dot",
          "width": 1.2
         },
         "mode": "lines",
         "name": "Predicted (t+1)",
         "type": "scatter",
         "x": [
          "2025-07-25T03:00:00",
          "2025-07-25T07:00:00",
          "2025-07-25T11:00:00",
          "2025-07-25T15:00:00",
          "2025-07-25T19:00:00",
          "2025-07-25T23:00:00",
          "2025-07-26T03:00:00",
          "2025-07-28T05:00:00",
          "2025-07-28T09:00:00",
          "2025-07-28T13:00:00",
          "2025-07-28T17:00:00",
          "2025-07-28T21:00:00",
          "2025-07-29T01:00:00",
          "2025-07-29T07:00:00",
          "2025-07-29T11:00:00",
          "2025-07-29T15:00:00",
          "2025-07-29T19:00:00",
          "2025-07-29T23:00:00",
          "2025-07-30T03:00:00",
          "2025-07-30T07:00:00",
          "2025-07-30T11:00:00",
          "2025-07-30T15:00:00",
          "2025-07-30T19:00:00",
          "2025-07-30T23:00:00",
          "2025-07-31T03:00:00",
          "2025-07-31T07:00:00",
          "2025-07-31T11:00:00",
          "2025-07-31T15:00:00",
          "2025-07-31T19:00:00",
          "2025-07-31T23:00:00",
          "2025-08-01T03:00:00",
          "2025-08-01T07:00:00",
          "2025-08-01T11:00:00",
          "2025-08-01T15:00:00",
          "2025-08-01T19:00:00",
          "2025-08-01T23:00:00",
          "2025-08-02T03:00:00",
          "2025-08-04T05:00:00",
          "2025-08-04T09:00:00",
          "2025-08-04T13:00:00",
          "2025-08-04T17:00:00",
          "2025-08-04T21:00:00",
          "2025-08-05T01:00:00",
          "2025-08-05T07:00:00",
          "2025-08-05T11:00:00",
          "2025-08-05T15:00:00",
          "2025-08-05T19:00:00",
          "2025-08-05T23:00:00",
          "2025-08-06T03:00:00",
          "2025-08-06T07:00:00",
          "2025-08-06T11:00:00",
          "2025-08-06T15:00:00",
          "2025-08-06T19:00:00",
          "2025-08-06T23:00:00",
          "2025-08-07T03:00:00",
          "2025-08-07T07:00:00",
          "2025-08-07T11:00:00",
          "2025-08-07T15:00:00",
          "2025-08-07T19:00:00",
          "2025-08-07T23:00:00",
          "2025-08-08T03:00:00",
          "2025-08-08T07:00:00",
          "2025-08-08T11:00:00",
          "2025-08-08T15:00:00",
          "2025-08-08T19:00:00",
          "2025-08-08T23:00:00",
          "2025-08-09T03:00:00",
          "2025-08-11T05:00:00",
          "2025-08-11T09:00:00",
          "2025-08-11T13:00:00",
          "2025-08-11T17:00:00",
          "2025-08-11T21:00:00"
         ],
         "xaxis": "x",
         "y": [
          69.72348022460938,
          69.92253112792969,
          70.082763671875,
          70.19856262207031,
          70.27508544921875,
          70.32250213623047,
          70.34757232666016,
          70.35688018798828,
          70.3571548461914,
          70.35533142089844,
          70.35720825195312,
          70.36676025390625,
          70.38835144042969,
          70.42532348632812,
          70.47159576416016,
          70.51504516601562,
          70.53853607177734,
          70.53453826904297,
          70.50740814208984,
          70.47695922851562,
          70.45455169677734,
          70.43357849121094,
          70.39924621582031,
          70.32471466064453,
          70.17350006103516,
          70.04138946533203,
          69.95530700683594,
          69.87938690185547,
          69.83712768554688,
          69.82386016845703,
          69.80238342285156,
          69.80853271484375,
          69.81920623779297,
          69.82284545898438,
          69.81871032714844,
          69.82640075683594,
          69.88101959228516,
          69.91156768798828,
          69.88627624511719,
          69.87554931640625,
          69.8700180053711,
          69.91387939453125,
          69.95060729980469,
          69.98766326904297,
          70.02015686035156,
          70.06448364257812,
          70.12158966064453,
          70.17544555664062,
          70.21832275390625,
          70.26611328125,
          70.30888366699219,
          70.34410858154297,
          70.3743667602539,
          70.40363311767578,
          70.43476867675781,
          70.46398162841797,
          70.49018096923828,
          70.51972961425781,
          70.55680084228516,
          70.59889221191406,
          70.63565063476562,
          70.62022399902344,
          69.98521423339844,
          71.50139617919922,
          71.555419921875,
          71.50688934326172,
          71.41291046142578,
          71.29674530029297,
          71.18790435791016,
          71.10630798339844,
          71.0619888305664,
          71.05181121826172
         ],
         "yaxis": "y"
        },
        {
         "hovertemplate": "%{x|%Y-%m-%d %H:%M}<br>Equity %{y:,.2f}<extra></extra>",
         "line": {
          "color": "#6A1B9A",
          "width": 1.8
         },
         "mode": "lines",
         "name": "Equity",
         "type": "scatter",
         "x": [
          "2025-07-25T03:00:00",
          "2025-07-25T07:00:00",
          "2025-07-25T11:00:00",
          "2025-07-25T15:00:00",
          "2025-07-25T19:00:00",
          "2025-07-25T23:00:00",
          "2025-07-26T03:00:00",
          "2025-07-28T05:00:00",
          "2025-07-28T09:00:00",
          "2025-07-28T13:00:00",
          "2025-07-28T17:00:00",
          "2025-07-28T21:00:00",
          "2025-07-29T01:00:00",
          "2025-07-29T07:00:00",
          "2025-07-29T11:00:00",
          "2025-07-29T15:00:00",
          "2025-07-29T19:00:00",
          "2025-07-29T23:00:00",
          "2025-07-30T03:00:00",
          "2025-07-30T07:00:00",
          "2025-07-30T11:00:00",
          "2025-07-30T15:00:00",
          "2025-07-30T19:00:00",
          "2025-07-30T23:00:00",
          "2025-07-31T03:00:00",
          "2025-07-31T07:00:00",
          "2025-07-31T11:00:00",
          "2025-07-31T15:00:00",
          "2025-07-31T19:00:00",
          "2025-07-31T23:00:00",
          "2025-08-01T03:00:00",
          "2025-08-01T07:00:00",
          "2025-08-01T11:00:00",
          "2025-08-01T15:00:00",
          "2025-08-01T19:00:00",
          "2025-08-01T23:00:00",
          "2025-08-02T03:00:00",
          "2025-08-04T05:00:00",
          "2025-08-04T09:00:00",
          "2025-08-04T13:00:00",
          "2025-08-04T17:00:00",
          "2025-08-04T21:00:00",
          "2025-08-05T01:00:00",
          "2025-08-05T07:00:00",
          "2025-08-05T11:00:00",
          "2025-08-05T15:00:00",
          "2025-08-05T19:00:00",
          "2025-08-05T23:00:00",
          "2025-08-06T03:00:00",
          "2025-08-06T07:00:00",
          "2025-08-06T11:00:00",
          "2025-08-06T15:00:00",
          "2025-08-06T19:00:00",
          "2025-08-06T23:00:00",
          "2025-08-07T03:00:00",
          "2025-08-07T07:00:00",
          "2025-08-07T11:00:00",
          "2025-08-07T15:00:00",
          "2025-08-07T19:00:00",
          "2025-08-07T23:00:00",
          "2025-08-08T03:00:00",
          "2025-08-08T07:00:00",
          "2025-08-08T11:00:00",
          "2025-08-08T15:00:00",
          "2025-08-08T19:00:00",
          "2025-08-08T23:00:00",
          "2025-08-09T03:00:00",
          "2025-08-11T05:00:00",
          "2025-08-11T09:00:00",
          "2025-08-11T13:00:00",
          "2025-08-11T17:00:00",
          "2025-08-11T21:00:00"
         ],
         "xaxis": "x2",
         "y": [
          985867.7469490082,
          999000.9990009991,
          996228.3926423099,
          996666.1491554149,
          1009069.7327977186,
          1012426.051617804,
          1011550.5385915941,
          1007464.6626935898,
          1005713.5253094016,
          1001481.6934631063,
          986451.4594104043,
          988932.2652042797,
          982365.5835124,
          987764.7289497192,
          987618.8843331964,
          984116.60956482,
          972880.4508453084,
          949532.5090483067,
          948425.5837274551,
          948557.8606990298,
          953843.6968771657,
          943668.2505104429,
          957940.2501614797,
          961640.3758145198,
          961376.124333958,
          955429.508223124,
          958336.6777927537,
          952125.7093804952,
          939835.9487066906,
          946443.344750223,
          948557.8606990298,
          949614.9674421395,
          947236.3008336333,
          939968.1248574028,
          921467.3957713397,
          918956.6538329838,
          915801.7578358257,
          916329.3054663992,
          914219.2155635272,
          925693.1501348015,
          933869.8868601357,
          925956.8736403772,
          926880.0568390252,
          927143.8809640232,
          929122.1594238183,
          933078.6157239865,
          937035.1726435769,
          940595.9933756704,
          940068.4457450969,
          934924.9821212827,
          933210.5277864854,
          927407.6044695989,
          943365.5429716147,
          954048.1057873176,
          949564.1018565759,
          941782.9000798942,
          945607.5449369856,
          946794.4516412094,
          954311.9299123154,
          958268.3862124836,
          956817.655383262,
          956685.8439401853,
          955762.6607415371,
          952465.5635150193,
          950223.4609302263,
          957081.4795082599,
          958004.662706908,
          958664.0217805583,
          958532.2103374816,
          954180.0178498166,
          951014.7320663754,
          953037.5520276525
         ],
         "yaxis": "y2"
        }
       ],
       "layout": {
        "annotations": [
         {
          "font": {
           "size": 16
          },
          "showarrow": false,
          "text": "BRN1! — Prediction & Signals (OOS)",
          "x": 0.5,
          "xanchor": "center",
          "xref": "paper",
          "y": 1,
          "yanchor": "bottom",
          "yref": "paper"
         },
         {
          "font": {
           "size": 16
          },
          "showarrow": false,
          "text": "Equity Curve",
          "x": 0.5,
          "xanchor": "center",
          "xref": "paper",
          "y": 0.276,
          "yanchor": "bottom",
          "yref": "paper"
         }
        ],
        "hovermode": "x unified",
        "legend": {
         "orientation": "h",
         "x": 0,
         "xanchor": "left",
         "y": 1.02,
         "yanchor": "bottom"
        },
        "margin": {
         "b": 60,
         "l": 50,
         "r": 50,
         "t": 60
        },
        "template": {
         "data": {
          "bar": [
           {
            "error_x": {
             "color": "#2a3f5f"
            },
            "error_y": {
             "color": "#2a3f5f"
            },
            "marker": {
             "line": {
              "color": "white",
              "width": 0.5
             },
             "pattern": {
              "fillmode": "overlay",
              "size": 10,
              "solidity": 0.2
             }
            },
            "type": "bar"
           }
          ],
          "barpolar": [
           {
            "marker": {
             "line": {
              "color": "white",
              "width": 0.5
             },
             "pattern": {
              "fillmode": "overlay",
              "size": 10,
              "solidity": 0.2
             }
            },
            "type": "barpolar"
           }
          ],
          "carpet": [
           {
            "aaxis": {
             "endlinecolor": "#2a3f5f",
             "gridcolor": "#C8D4E3",
             "linecolor": "#C8D4E3",
             "minorgridcolor": "#C8D4E3",
             "startlinecolor": "#2a3f5f"
            },
            "baxis": {
             "endlinecolor": "#2a3f5f",
             "gridcolor": "#C8D4E3",
             "linecolor": "#C8D4E3",
             "minorgridcolor": "#C8D4E3",
             "startlinecolor": "#2a3f5f"
            },
            "type": "carpet"
           }
          ],
          "choropleth": [
           {
            "colorbar": {
             "outlinewidth": 0,
             "ticks": ""
            },
            "type": "choropleth"
           }
          ],
          "contour": [
           {
            "colorbar": {
             "outlinewidth": 0,
             "ticks": ""
            },
            "colorscale": [
             [
              0,
              "#0d0887"
             ],
             [
              0.1111111111111111,
              "#46039f"
             ],
             [
              0.2222222222222222,
              "#7201a8"
             ],
             [
              0.3333333333333333,
              "#9c179e"
             ],
             [
              0.4444444444444444,
              "#bd3786"
             ],
             [
              0.5555555555555556,
              "#d8576b"
             ],
             [
              0.6666666666666666,
              "#ed7953"
             ],
             [
              0.7777777777777778,
              "#fb9f3a"
             ],
             [
              0.8888888888888888,
              "#fdca26"
             ],
             [
              1,
              "#f0f921"
             ]
            ],
            "type": "contour"
           }
          ],
          "contourcarpet": [
           {
            "colorbar": {
             "outlinewidth": 0,
             "ticks": ""
            },
            "type": "contourcarpet"
           }
          ],
          "heatmap": [
           {
            "colorbar": {
             "outlinewidth": 0,
             "ticks": ""
            },
            "colorscale": [
             [
              0,
              "#0d0887"
             ],
             [
              0.1111111111111111,
              "#46039f"
             ],
             [
              0.2222222222222222,
              "#7201a8"
             ],
             [
              0.3333333333333333,
              "#9c179e"
             ],
             [
              0.4444444444444444,
              "#bd3786"
             ],
             [
              0.5555555555555556,
              "#d8576b"
             ],
             [
              0.6666666666666666,
              "#ed7953"
             ],
             [
              0.7777777777777778,
              "#fb9f3a"
             ],
             [
              0.8888888888888888,
              "#fdca26"
             ],
             [
              1,
              "#f0f921"
             ]
            ],
            "type": "heatmap"
           }
          ],
          "heatmapgl": [
           {
            "colorbar": {
             "outlinewidth": 0,
             "ticks": ""
            },
            "colorscale": [
             [
              0,
              "#0d0887"
             ],
             [
              0.1111111111111111,
              "#46039f"
             ],
             [
              0.2222222222222222,
              "#7201a8"
             ],
             [
              0.3333333333333333,
              "#9c179e"
             ],
             [
              0.4444444444444444,
              "#bd3786"
             ],
             [
              0.5555555555555556,
              "#d8576b"
             ],
             [
              0.6666666666666666,
              "#ed7953"
             ],
             [
              0.7777777777777778,
              "#fb9f3a"
             ],
             [
              0.8888888888888888,
              "#fdca26"
             ],
             [
              1,
              "#f0f921"
             ]
            ],
            "type": "heatmapgl"
           }
          ],
          "histogram": [
           {
            "marker": {
             "pattern": {
              "fillmode": "overlay",
              "size": 10,
              "solidity": 0.2
             }
            },
            "type": "histogram"
           }
          ],
          "histogram2d": [
           {
            "colorbar": {
             "outlinewidth": 0,
             "ticks": ""
            },
            "colorscale": [
             [
              0,
              "#0d0887"
             ],
             [
              0.1111111111111111,
              "#46039f"
             ],
             [
              0.2222222222222222,
              "#7201a8"
             ],
             [
              0.3333333333333333,
              "#9c179e"
             ],
             [
              0.4444444444444444,
              "#bd3786"
             ],
             [
              0.5555555555555556,
              "#d8576b"
             ],
             [
              0.6666666666666666,
              "#ed7953"
             ],
             [
              0.7777777777777778,
              "#fb9f3a"
             ],
             [
              0.8888888888888888,
              "#fdca26"
             ],
             [
              1,
              "#f0f921"
             ]
            ],
            "type": "histogram2d"
           }
          ],
          "histogram2dcontour": [
           {
            "colorbar": {
             "outlinewidth": 0,
             "ticks": ""
            },
            "colorscale": [
             [
              0,
              "#0d0887"
             ],
             [
              0.1111111111111111,
              "#46039f"
             ],
             [
              0.2222222222222222,
              "#7201a8"
             ],
             [
              0.3333333333333333,
              "#9c179e"
             ],
             [
              0.4444444444444444,
              "#bd3786"
             ],
             [
              0.5555555555555556,
              "#d8576b"
             ],
             [
              0.6666666666666666,
              "#ed7953"
             ],
             [
              0.7777777777777778,
              "#fb9f3a"
             ],
             [
              0.8888888888888888,
              "#fdca26"
             ],
             [
              1,
              "#f0f921"
             ]
            ],
            "type": "histogram2dcontour"
           }
          ],
          "mesh3d": [
           {
            "colorbar": {
             "outlinewidth": 0,
             "ticks": ""
            },
            "type": "mesh3d"
           }
          ],
          "parcoords": [
           {
            "line": {
             "colorbar": {
              "outlinewidth": 0,
              "ticks": ""
             }
            },
            "type": "parcoords"
           }
          ],
          "pie": [
           {
            "automargin": true,
            "type": "pie"
           }
          ],
          "scatter": [
           {
            "fillpattern": {
             "fillmode": "overlay",
             "size": 10,
             "solidity": 0.2
            },
            "type": "scatter"
           }
          ],
          "scatter3d": [
           {
            "line": {
             "colorbar": {
              "outlinewidth": 0,
              "ticks": ""
             }
            },
            "marker": {
             "colorbar": {
              "outlinewidth": 0,
              "ticks": ""
             }
            },
            "type": "scatter3d"
           }
          ],
          "scattercarpet": [
           {
            "marker": {
             "colorbar": {
              "outlinewidth": 0,
              "ticks": ""
             }
            },
            "type": "scattercarpet"
           }
          ],
          "scattergeo": [
           {
            "marker": {
             "colorbar": {
              "outlinewidth": 0,
              "ticks": ""
             }
            },
            "type": "scattergeo"
           }
          ],
          "scattergl": [
           {
            "marker": {
             "colorbar": {
              "outlinewidth": 0,
              "ticks": ""
             }
            },
            "type": "scattergl"
           }
          ],
          "scattermapbox": [
           {
            "marker": {
             "colorbar": {
              "outlinewidth": 0,
              "ticks": ""
             }
            },
            "type": "scattermapbox"
           }
          ],
          "scatterpolar": [
           {
            "marker": {
             "colorbar": {
              "outlinewidth": 0,
              "ticks": ""
             }
            },
            "type": "scatterpolar"
           }
          ],
          "scatterpolargl": [
           {
            "marker": {
             "colorbar": {
              "outlinewidth": 0,
              "ticks": ""
             }
            },
            "type": "scatterpolargl"
           }
          ],
          "scatterternary": [
           {
            "marker": {
             "colorbar": {
              "outlinewidth": 0,
              "ticks": ""
             }
            },
            "type": "scatterternary"
           }
          ],
          "surface": [
           {
            "colorbar": {
             "outlinewidth": 0,
             "ticks": ""
            },
            "colorscale": [
             [
              0,
              "#0d0887"
             ],
             [
              0.1111111111111111,
              "#46039f"
             ],
             [
              0.2222222222222222,
              "#7201a8"
             ],
             [
              0.3333333333333333,
              "#9c179e"
             ],
             [
              0.4444444444444444,
              "#bd3786"
             ],
             [
              0.5555555555555556,
              "#d8576b"
             ],
             [
              0.6666666666666666,
              "#ed7953"
             ],
             [
              0.7777777777777778,
              "#fb9f3a"
             ],
             [
              0.8888888888888888,
              "#fdca26"
             ],
             [
              1,
              "#f0f921"
             ]
            ],
            "type": "surface"
           }
          ],
          "table": [
           {
            "cells": {
             "fill": {
              "color": "#EBF0F8"
             },
             "line": {
              "color": "white"
             }
            },
            "header": {
             "fill": {
              "color": "#C8D4E3"
             },
             "line": {
              "color": "white"
             }
            },
            "type": "table"
           }
          ]
         },
         "layout": {
          "annotationdefaults": {
           "arrowcolor": "#2a3f5f",
           "arrowhead": 0,
           "arrowwidth": 1
          },
          "autotypenumbers": "strict",
          "coloraxis": {
           "colorbar": {
            "outlinewidth": 0,
            "ticks": ""
           }
          },
          "colorscale": {
           "diverging": [
            [
             0,
             "#8e0152"
            ],
            [
             0.1,
             "#c51b7d"
            ],
            [
             0.2,
             "#de77ae"
            ],
            [
             0.3,
             "#f1b6da"
            ],
            [
             0.4,
             "#fde0ef"
            ],
            [
             0.5,
             "#f7f7f7"
            ],
            [
             0.6,
             "#e6f5d0"
            ],
            [
             0.7,
             "#b8e186"
            ],
            [
             0.8,
             "#7fbc41"
            ],
            [
             0.9,
             "#4d9221"
            ],
            [
             1,
             "#276419"
            ]
           ],
           "sequential": [
            [
             0,
             "#0d0887"
            ],
            [
             0.1111111111111111,
             "#46039f"
            ],
            [
             0.2222222222222222,
             "#7201a8"
            ],
            [
             0.3333333333333333,
             "#9c179e"
            ],
            [
             0.4444444444444444,
             "#bd3786"
            ],
            [
             0.5555555555555556,
             "#d8576b"
            ],
            [
             0.6666666666666666,
             "#ed7953"
            ],
            [
             0.7777777777777778,
             "#fb9f3a"
            ],
            [
             0.8888888888888888,
             "#fdca26"
            ],
            [
             1,
             "#f0f921"
            ]
           ],
           "sequentialminus": [
            [
             0,
             "#0d0887"
            ],
            [
             0.1111111111111111,
             "#46039f"
            ],
            [
             0.2222222222222222,
             "#7201a8"
            ],
            [
             0.3333333333333333,
             "#9c179e"
            ],
            [
             0.4444444444444444,
             "#bd3786"
            ],
            [
             0.5555555555555556,
             "#d8576b"
            ],
            [
             0.6666666666666666,
             "#ed7953"
            ],
            [
             0.7777777777777778,
             "#fb9f3a"
            ],
            [
             0.8888888888888888,
             "#fdca26"
            ],
            [
             1,
             "#f0f921"
            ]
           ]
          },
          "colorway": [
           "#636efa",
           "#EF553B",
           "#00cc96",
           "#ab63fa",
           "#FFA15A",
           "#19d3f3",
           "#FF6692",
           "#B6E880",
           "#FF97FF",
           "#FECB52"
          ],
          "font": {
           "color": "#2a3f5f"
          },
          "geo": {
           "bgcolor": "white",
           "lakecolor": "white",
           "landcolor": "white",
           "showlakes": true,
           "showland": true,
           "subunitcolor": "#C8D4E3"
          },
          "hoverlabel": {
           "align": "left"
          },
          "hovermode": "closest",
          "mapbox": {
           "style": "light"
          },
          "paper_bgcolor": "white",
          "plot_bgcolor": "white",
          "polar": {
           "angularaxis": {
            "gridcolor": "#EBF0F8",
            "linecolor": "#EBF0F8",
            "ticks": ""
           },
           "bgcolor": "white",
           "radialaxis": {
            "gridcolor": "#EBF0F8",
            "linecolor": "#EBF0F8",
            "ticks": ""
           }
          },
          "scene": {
           "xaxis": {
            "backgroundcolor": "white",
            "gridcolor": "#DFE8F3",
            "gridwidth": 2,
            "linecolor": "#EBF0F8",
            "showbackground": true,
            "ticks": "",
            "zerolinecolor": "#EBF0F8"
           },
           "yaxis": {
            "backgroundcolor": "white",
            "gridcolor": "#DFE8F3",
            "gridwidth": 2,
            "linecolor": "#EBF0F8",
            "showbackground": true,
            "ticks": "",
            "zerolinecolor": "#EBF0F8"
           },
           "zaxis": {
            "backgroundcolor": "white",
            "gridcolor": "#DFE8F3",
            "gridwidth": 2,
            "linecolor": "#EBF0F8",
            "showbackground": true,
            "ticks": "",
            "zerolinecolor": "#EBF0F8"
           }
          },
          "shapedefaults": {
           "line": {
            "color": "#2a3f5f"
           }
          },
          "ternary": {
           "aaxis": {
            "gridcolor": "#DFE8F3",
            "linecolor": "#A2B1C6",
            "ticks": ""
           },
           "baxis": {
            "gridcolor": "#DFE8F3",
            "linecolor": "#A2B1C6",
            "ticks": ""
           },
           "bgcolor": "white",
           "caxis": {
            "gridcolor": "#DFE8F3",
            "linecolor": "#A2B1C6",
            "ticks": ""
           }
          },
          "title": {
           "x": 0.05
          },
          "xaxis": {
           "automargin": true,
           "gridcolor": "#EBF0F8",
           "linecolor": "#EBF0F8",
           "ticks": "",
           "title": {
            "standoff": 15
           },
           "zerolinecolor": "#EBF0F8",
           "zerolinewidth": 2
          },
          "yaxis": {
           "automargin": true,
           "gridcolor": "#EBF0F8",
           "linecolor": "#EBF0F8",
           "ticks": "",
           "title": {
            "standoff": 15
           },
           "zerolinecolor": "#EBF0F8",
           "zerolinewidth": 2
          }
         }
        },
        "xaxis": {
         "anchor": "y",
         "domain": [
          0,
          1
         ],
         "matches": "x2",
         "showspikes": true,
         "showticklabels": false,
         "spikemode": "across",
         "spikesnap": "cursor"
        },
        "xaxis2": {
         "anchor": "y2",
         "domain": [
          0,
          1
         ],
         "rangeslider": {
          "visible": false
         },
         "showspikes": true,
         "spikemode": "across",
         "spikesnap": "cursor"
        },
        "yaxis": {
         "anchor": "x",
         "domain": [
          0.35600000000000004,
          1
         ],
         "gridcolor": "rgba(0,0,0,0.08)",
         "showgrid": true
        },
        "yaxis2": {
         "anchor": "x2",
         "domain": [
          0,
          0.276
         ],
         "gridcolor": "rgba(0,0,0,0.08)",
         "showgrid": true
        }
       }
      }
     },
     "metadata": {},
     "output_type": "display_data"
    },
    {
     "name": "stderr",
     "output_type": "stream",
     "text": [
      "[I 2025-08-26 11:12:31,723] A new study created in memory with name: no-name-21f522ec-f13c-4992-87c1-0943d7a98b0d\n"
     ]
    },
    {
     "name": "stdout",
     "output_type": "stream",
     "text": [
      "\n",
      "Processing S501! ...\n"
     ]
    },
    {
     "name": "stderr",
     "output_type": "stream",
     "text": [
      "c:\\Users\\offen\\AppData\\Local\\Programs\\Python\\Python312\\Lib\\site-packages\\optuna\\distributions.py:708: UserWarning:\n",
      "\n",
      "The distribution is specified by [21, 100] and step=4, but the range is not divisible by `step`. It will be replaced by [21, 97].\n",
      "\n",
      "c:\\Users\\offen\\AppData\\Local\\Programs\\Python\\Python312\\Lib\\site-packages\\optuna\\distributions.py:708: UserWarning:\n",
      "\n",
      "The distribution is specified by [1, 500] and step=8, but the range is not divisible by `step`. It will be replaced by [1, 497].\n",
      "\n",
      "[I 2025-08-26 11:12:32,356] Trial 0 finished with value: -18.708498468458313 and parameters: {'sequence_length': 33, 'hidden_layer_size': 313, 'lstm_layers': 2, 'dropout': 0.4712151502282615, 'learning_rate': 0.007675507817190953, 'epochs': 2730, 'long_threshold': 0.0008293927654292901, 'short_threshold': 0.002405616532605058}. Best is trial 0 with value: -18.708498468458313.\n",
      "c:\\Users\\offen\\AppData\\Local\\Programs\\Python\\Python312\\Lib\\site-packages\\optuna\\distributions.py:708: UserWarning:\n",
      "\n",
      "The distribution is specified by [21, 100] and step=4, but the range is not divisible by `step`. It will be replaced by [21, 97].\n",
      "\n",
      "c:\\Users\\offen\\AppData\\Local\\Programs\\Python\\Python312\\Lib\\site-packages\\optuna\\distributions.py:708: UserWarning:\n",
      "\n",
      "The distribution is specified by [1, 500] and step=8, but the range is not divisible by `step`. It will be replaced by [1, 497].\n",
      "\n",
      "[I 2025-08-26 11:12:33,235] Trial 1 finished with value: -5.069375825184331 and parameters: {'sequence_length': 97, 'hidden_layer_size': 441, 'lstm_layers': 2, 'dropout': 0.3005970753140752, 'learning_rate': 0.0033737189167564853, 'epochs': 7130, 'long_threshold': 0.0011107522643711849, 'short_threshold': 0.0016835885581968748}. Best is trial 1 with value: -5.069375825184331.\n",
      "c:\\Users\\offen\\AppData\\Local\\Programs\\Python\\Python312\\Lib\\site-packages\\optuna\\distributions.py:708: UserWarning:\n",
      "\n",
      "The distribution is specified by [21, 100] and step=4, but the range is not divisible by `step`. It will be replaced by [21, 97].\n",
      "\n",
      "c:\\Users\\offen\\AppData\\Local\\Programs\\Python\\Python312\\Lib\\site-packages\\optuna\\distributions.py:708: UserWarning:\n",
      "\n",
      "The distribution is specified by [1, 500] and step=8, but the range is not divisible by `step`. It will be replaced by [1, 497].\n",
      "\n",
      "[I 2025-08-26 11:12:35,563] Trial 2 finished with value: -8.20833715842465 and parameters: {'sequence_length': 61, 'hidden_layer_size': 1, 'lstm_layers': 3, 'dropout': 0.5295847143816699, 'learning_rate': 0.0002237187115484708, 'epochs': 6160, 'long_threshold': 0.00022614372492892965, 'short_threshold': 0.0011064720180059236}. Best is trial 1 with value: -5.069375825184331.\n",
      "c:\\Users\\offen\\AppData\\Local\\Programs\\Python\\Python312\\Lib\\site-packages\\optuna\\distributions.py:708: UserWarning:\n",
      "\n",
      "The distribution is specified by [21, 100] and step=4, but the range is not divisible by `step`. It will be replaced by [21, 97].\n",
      "\n",
      "c:\\Users\\offen\\AppData\\Local\\Programs\\Python\\Python312\\Lib\\site-packages\\optuna\\distributions.py:708: UserWarning:\n",
      "\n",
      "The distribution is specified by [1, 500] and step=8, but the range is not divisible by `step`. It will be replaced by [1, 497].\n",
      "\n",
      "[I 2025-08-26 11:12:37,329] Trial 3 finished with value: -2.6836365597142864 and parameters: {'sequence_length': 93, 'hidden_layer_size': 329, 'lstm_layers': 2, 'dropout': 0.47323808576444726, 'learning_rate': 0.0001485823805383844, 'epochs': 5690, 'long_threshold': 0.0026073821686836774, 'short_threshold': 0.0013085202716870382}. Best is trial 3 with value: -2.6836365597142864.\n",
      "c:\\Users\\offen\\AppData\\Local\\Programs\\Python\\Python312\\Lib\\site-packages\\optuna\\distributions.py:708: UserWarning:\n",
      "\n",
      "The distribution is specified by [21, 100] and step=4, but the range is not divisible by `step`. It will be replaced by [21, 97].\n",
      "\n",
      "c:\\Users\\offen\\AppData\\Local\\Programs\\Python\\Python312\\Lib\\site-packages\\optuna\\distributions.py:708: UserWarning:\n",
      "\n",
      "The distribution is specified by [1, 500] and step=8, but the range is not divisible by `step`. It will be replaced by [1, 497].\n",
      "\n",
      "[I 2025-08-26 11:12:37,610] Trial 4 finished with value: -3.522962277708852 and parameters: {'sequence_length': 85, 'hidden_layer_size': 73, 'lstm_layers': 3, 'dropout': 0.4227487849137435, 'learning_rate': 6.446224643080463e-05, 'epochs': 9250, 'long_threshold': 0.00132642226621253, 'short_threshold': 0.0027279478769174177}. Best is trial 3 with value: -2.6836365597142864.\n",
      "c:\\Users\\offen\\AppData\\Local\\Programs\\Python\\Python312\\Lib\\site-packages\\optuna\\distributions.py:708: UserWarning:\n",
      "\n",
      "The distribution is specified by [21, 100] and step=4, but the range is not divisible by `step`. It will be replaced by [21, 97].\n",
      "\n",
      "c:\\Users\\offen\\AppData\\Local\\Programs\\Python\\Python312\\Lib\\site-packages\\optuna\\distributions.py:708: UserWarning:\n",
      "\n",
      "The distribution is specified by [1, 500] and step=8, but the range is not divisible by `step`. It will be replaced by [1, 497].\n",
      "\n",
      "[I 2025-08-26 11:12:37,958] Trial 5 finished with value: -25.23841596534034 and parameters: {'sequence_length': 25, 'hidden_layer_size': 89, 'lstm_layers': 1, 'dropout': 0.4049285661493981, 'learning_rate': 0.0015830667410321512, 'epochs': 5340, 'long_threshold': 0.00012997218808441047, 'short_threshold': 0.0016842992401901937}. Best is trial 3 with value: -2.6836365597142864.\n",
      "c:\\Users\\offen\\AppData\\Local\\Programs\\Python\\Python312\\Lib\\site-packages\\optuna\\distributions.py:708: UserWarning:\n",
      "\n",
      "The distribution is specified by [21, 100] and step=4, but the range is not divisible by `step`. It will be replaced by [21, 97].\n",
      "\n",
      "c:\\Users\\offen\\AppData\\Local\\Programs\\Python\\Python312\\Lib\\site-packages\\optuna\\distributions.py:708: UserWarning:\n",
      "\n",
      "The distribution is specified by [1, 500] and step=8, but the range is not divisible by `step`. It will be replaced by [1, 497].\n",
      "\n",
      "[I 2025-08-26 11:12:38,255] Trial 6 finished with value: -7.202444562744981 and parameters: {'sequence_length': 45, 'hidden_layer_size': 249, 'lstm_layers': 1, 'dropout': 0.36431622373109074, 'learning_rate': 0.0012399730859723546, 'epochs': 70, 'long_threshold': 0.0018523251264128912, 'short_threshold': 0.002736368659299463}. Best is trial 3 with value: -2.6836365597142864.\n",
      "c:\\Users\\offen\\AppData\\Local\\Programs\\Python\\Python312\\Lib\\site-packages\\optuna\\distributions.py:708: UserWarning:\n",
      "\n",
      "The distribution is specified by [21, 100] and step=4, but the range is not divisible by `step`. It will be replaced by [21, 97].\n",
      "\n",
      "c:\\Users\\offen\\AppData\\Local\\Programs\\Python\\Python312\\Lib\\site-packages\\optuna\\distributions.py:708: UserWarning:\n",
      "\n",
      "The distribution is specified by [1, 500] and step=8, but the range is not divisible by `step`. It will be replaced by [1, 497].\n",
      "\n",
      "[I 2025-08-26 11:12:41,100] Trial 7 finished with value: -4.1547545608556895 and parameters: {'sequence_length': 81, 'hidden_layer_size': 497, 'lstm_layers': 3, 'dropout': 0.47517848117498385, 'learning_rate': 0.00011353630204166286, 'epochs': 6250, 'long_threshold': 0.0014342813870120237, 'short_threshold': 0.0005870255359976947}. Best is trial 3 with value: -2.6836365597142864.\n",
      "c:\\Users\\offen\\AppData\\Local\\Programs\\Python\\Python312\\Lib\\site-packages\\optuna\\distributions.py:708: UserWarning:\n",
      "\n",
      "The distribution is specified by [21, 100] and step=4, but the range is not divisible by `step`. It will be replaced by [21, 97].\n",
      "\n",
      "c:\\Users\\offen\\AppData\\Local\\Programs\\Python\\Python312\\Lib\\site-packages\\optuna\\distributions.py:708: UserWarning:\n",
      "\n",
      "The distribution is specified by [1, 500] and step=8, but the range is not divisible by `step`. It will be replaced by [1, 497].\n",
      "\n",
      "[I 2025-08-26 11:12:43,613] Trial 8 finished with value: -8.20833715842465 and parameters: {'sequence_length': 49, 'hidden_layer_size': 25, 'lstm_layers': 2, 'dropout': 0.5892028449131727, 'learning_rate': 2.873825085223262e-05, 'epochs': 1200, 'long_threshold': 0.0022155691684300404, 'short_threshold': 0.001761910900391954}. Best is trial 3 with value: -2.6836365597142864.\n",
      "c:\\Users\\offen\\AppData\\Local\\Programs\\Python\\Python312\\Lib\\site-packages\\optuna\\distributions.py:708: UserWarning:\n",
      "\n",
      "The distribution is specified by [21, 100] and step=4, but the range is not divisible by `step`. It will be replaced by [21, 97].\n",
      "\n",
      "c:\\Users\\offen\\AppData\\Local\\Programs\\Python\\Python312\\Lib\\site-packages\\optuna\\distributions.py:708: UserWarning:\n",
      "\n",
      "The distribution is specified by [1, 500] and step=8, but the range is not divisible by `step`. It will be replaced by [1, 497].\n",
      "\n",
      "[I 2025-08-26 11:12:43,814] Trial 9 finished with value: -8.20833715842465 and parameters: {'sequence_length': 57, 'hidden_layer_size': 49, 'lstm_layers': 1, 'dropout': 0.5399791169020052, 'learning_rate': 0.00034798364713040314, 'epochs': 5360, 'long_threshold': 1.8625549761388193e-05, 'short_threshold': 0.0009019251173109034}. Best is trial 3 with value: -2.6836365597142864.\n"
     ]
    },
    {
     "name": "stdout",
     "output_type": "stream",
     "text": [
      "\n",
      "=== Best Trial ===\n",
      "Value (objective): -2.6836365597142864\n",
      "sequence_length: 93\n",
      "hidden_layer_size: 329\n",
      "lstm_layers: 2\n",
      "dropout: 0.47323808576444726\n",
      "learning_rate: 0.0001485823805383844\n",
      "epochs: 5690\n",
      "long_threshold: 0.0026073821686836774\n",
      "short_threshold: 0.0013085202716870382\n",
      "Metrics (val): {'Total Profit %': np.float64(0.1055085421780122), 'MaxDD %': -0.6972862754730746, 'WinRate': 0.10526315789473684}\n",
      "[params for S501! ] {'sequence_length': 93, 'hidden_layer_size': 329, 'lstm_layers': 2, 'dropout': 0.47323808576444726, 'learning_rate': 0.0001485823805383844, 'epochs': 5690, 'long_threshold': 0.0026073821686836774, 'short_threshold': 0.0013085202716870382}\n",
      "[train] seq=93 | hidden=329 | layers=2 | dropout=0.47 | lr=0.000149 | epochs=5690 | thr=[long 0.0026, short 0.0013]\n",
      "Epoch 474/5690  TrainLoss: 0.00442380\n",
      "Epoch 948/5690  TrainLoss: 0.00365915\n",
      "Epoch 1422/5690  TrainLoss: 0.00310413\n",
      "Epoch 1896/5690  TrainLoss: 0.00182167\n",
      "Epoch 2370/5690  TrainLoss: 0.00099140\n",
      "Epoch 2844/5690  TrainLoss: 0.00076717\n",
      "Epoch 3318/5690  TrainLoss: 0.00117742\n",
      "Epoch 3792/5690  TrainLoss: 0.00057726\n",
      "Epoch 4266/5690  TrainLoss: 0.00046595\n",
      "Epoch 4740/5690  TrainLoss: 0.00035681\n",
      "Epoch 5214/5690  TrainLoss: 0.00033178\n",
      "Epoch 5688/5690  TrainLoss: 0.00033305\n",
      "Epoch 5690/5690  TrainLoss: 0.00033256\n"
     ]
    },
    {
     "data": {
      "application/vnd.plotly.v1+json": {
       "config": {
        "plotlyServerURL": "https://plot.ly"
       },
       "data": [
        {
         "hovertemplate": "%{x|%Y-%m-%d %H:%M}<br>Price %{y:.4f}<extra></extra>",
         "line": {
          "color": "#C62828",
          "width": 2
         },
         "mode": "lines",
         "name": "Price (Short)",
         "type": "scatter",
         "x": [
          "2025-06-09T13:45:00",
          "2025-06-10T09:45:00",
          "2025-06-10T13:45:00",
          "2025-06-11T09:45:00",
          "2025-06-11T13:45:00",
          "2025-06-12T09:45:00",
          "2025-06-12T13:45:00",
          "2025-06-13T09:45:00",
          "2025-06-13T13:45:00",
          "2025-06-16T09:45:00",
          "2025-06-16T13:45:00",
          "2025-06-17T09:45:00",
          "2025-06-17T13:45:00",
          "2025-06-18T09:45:00",
          "2025-06-18T13:45:00",
          "2025-06-19T09:45:00",
          "2025-06-19T13:45:00",
          "2025-06-20T09:45:00",
          "2025-06-20T13:45:00",
          "2025-06-23T09:45:00",
          "2025-06-23T13:45:00",
          "2025-06-24T09:45:00",
          "2025-06-24T13:45:00",
          "2025-06-25T09:45:00",
          "2025-06-25T13:45:00",
          "2025-06-26T09:45:00",
          "2025-06-26T13:45:00",
          "2025-06-27T09:45:00",
          "2025-06-27T13:45:00",
          "2025-06-30T09:45:00",
          "2025-06-30T13:45:00",
          "2025-07-01T09:45:00",
          "2025-07-01T13:45:00",
          "2025-07-02T09:45:00",
          "2025-07-02T13:45:00",
          "2025-07-03T09:45:00",
          "2025-07-03T13:45:00",
          "2025-07-04T09:45:00",
          "2025-07-04T13:45:00",
          "2025-07-07T09:45:00",
          "2025-07-07T13:45:00",
          "2025-07-08T09:45:00",
          "2025-07-08T13:45:00",
          "2025-07-09T09:45:00",
          "2025-07-09T13:45:00",
          "2025-07-11T09:45:00",
          "2025-07-11T13:45:00",
          "2025-07-14T09:45:00",
          "2025-07-14T13:45:00",
          "2025-07-15T09:45:00",
          "2025-07-15T13:45:00",
          "2025-07-16T09:45:00",
          "2025-07-16T13:45:00",
          "2025-07-17T09:45:00",
          "2025-07-17T13:45:00",
          "2025-07-18T09:45:00",
          "2025-07-18T13:45:00",
          "2025-07-21T09:45:00",
          "2025-07-21T13:45:00",
          "2025-07-22T09:45:00",
          "2025-07-22T13:45:00",
          "2025-07-23T09:45:00",
          "2025-07-23T13:45:00",
          "2025-07-24T09:45:00",
          "2025-07-24T13:45:00",
          "2025-07-25T09:45:00",
          "2025-07-25T13:45:00",
          "2025-07-29T09:45:00",
          "2025-07-29T13:45:00",
          "2025-07-30T09:45:00",
          "2025-07-30T13:45:00",
          "2025-07-31T09:45:00",
          "2025-07-31T13:45:00",
          "2025-08-01T09:45:00",
          "2025-08-01T13:45:00",
          "2025-08-04T09:45:00",
          "2025-08-04T13:45:00",
          "2025-08-05T09:45:00",
          "2025-08-05T13:45:00",
          "2025-08-06T09:45:00",
          "2025-08-06T13:45:00",
          "2025-08-07T09:45:00",
          "2025-08-07T13:45:00",
          "2025-08-08T09:45:00",
          "2025-08-08T13:45:00"
         ],
         "xaxis": "x",
         "y": [
          null,
          null,
          null,
          null,
          null,
          null,
          null,
          null,
          null,
          null,
          null,
          null,
          null,
          null,
          null,
          695.0999755859375,
          692.2999877929688,
          696.3999633789062,
          696,
          693.1000366210938,
          691,
          714.4000244140625,
          720.4000244140625,
          719.5999755859375,
          723.5,
          731,
          null,
          699.5,
          699.0999755859375,
          701.3999633789062,
          702.7000122070312,
          705.9000244140625,
          718.7999877929688,
          714,
          718.1000366210938,
          720.7999877929688,
          724.2999877929688,
          722.2000122070312,
          719.8999633789062,
          713,
          723.5999755859375,
          718.7000122070312,
          717.5,
          714.2000122070312,
          716.3999633789062,
          729,
          721.2000122070312,
          729.8999633789062,
          736.0999755859375,
          742.5999755859375,
          749.5999755859375,
          750.0999755859375,
          748.4000244140625,
          774.4000244140625,
          776.199951171875,
          783.3999633789062,
          null,
          null,
          null,
          782.2000122070312,
          773.0999755859375,
          793.5,
          793.2000122070312,
          788.2999877929688,
          788,
          786.6000366210938,
          792.5,
          792.2000122070312,
          805,
          null,
          null,
          null,
          null,
          null,
          null,
          null,
          null,
          null,
          null,
          null,
          null,
          null,
          null,
          null,
          null
         ],
         "yaxis": "y"
        },
        {
         "hovertemplate": "%{x|%Y-%m-%d %H:%M}<br>Price %{y:.4f}<extra></extra>",
         "line": {
          "color": "#9E9E9E",
          "width": 2
         },
         "mode": "lines",
         "name": "Price (Neutral)",
         "type": "scatter",
         "x": [
          "2025-06-09T13:45:00",
          "2025-06-10T09:45:00",
          "2025-06-10T13:45:00",
          "2025-06-11T09:45:00",
          "2025-06-11T13:45:00",
          "2025-06-12T09:45:00",
          "2025-06-12T13:45:00",
          "2025-06-13T09:45:00",
          "2025-06-13T13:45:00",
          "2025-06-16T09:45:00",
          "2025-06-16T13:45:00",
          "2025-06-17T09:45:00",
          "2025-06-17T13:45:00",
          "2025-06-18T09:45:00",
          "2025-06-18T13:45:00",
          "2025-06-19T09:45:00",
          "2025-06-19T13:45:00",
          "2025-06-20T09:45:00",
          "2025-06-20T13:45:00",
          "2025-06-23T09:45:00",
          "2025-06-23T13:45:00",
          "2025-06-24T09:45:00",
          "2025-06-24T13:45:00",
          "2025-06-25T09:45:00",
          "2025-06-25T13:45:00",
          "2025-06-26T09:45:00",
          "2025-06-26T13:45:00",
          "2025-06-27T09:45:00",
          "2025-06-27T13:45:00",
          "2025-06-30T09:45:00",
          "2025-06-30T13:45:00",
          "2025-07-01T09:45:00",
          "2025-07-01T13:45:00",
          "2025-07-02T09:45:00",
          "2025-07-02T13:45:00",
          "2025-07-03T09:45:00",
          "2025-07-03T13:45:00",
          "2025-07-04T09:45:00",
          "2025-07-04T13:45:00",
          "2025-07-07T09:45:00",
          "2025-07-07T13:45:00",
          "2025-07-08T09:45:00",
          "2025-07-08T13:45:00",
          "2025-07-09T09:45:00",
          "2025-07-09T13:45:00",
          "2025-07-11T09:45:00",
          "2025-07-11T13:45:00",
          "2025-07-14T09:45:00",
          "2025-07-14T13:45:00",
          "2025-07-15T09:45:00",
          "2025-07-15T13:45:00",
          "2025-07-16T09:45:00",
          "2025-07-16T13:45:00",
          "2025-07-17T09:45:00",
          "2025-07-17T13:45:00",
          "2025-07-18T09:45:00",
          "2025-07-18T13:45:00",
          "2025-07-21T09:45:00",
          "2025-07-21T13:45:00",
          "2025-07-22T09:45:00",
          "2025-07-22T13:45:00",
          "2025-07-23T09:45:00",
          "2025-07-23T13:45:00",
          "2025-07-24T09:45:00",
          "2025-07-24T13:45:00",
          "2025-07-25T09:45:00",
          "2025-07-25T13:45:00",
          "2025-07-29T09:45:00",
          "2025-07-29T13:45:00",
          "2025-07-30T09:45:00",
          "2025-07-30T13:45:00",
          "2025-07-31T09:45:00",
          "2025-07-31T13:45:00",
          "2025-08-01T09:45:00",
          "2025-08-01T13:45:00",
          "2025-08-04T09:45:00",
          "2025-08-04T13:45:00",
          "2025-08-05T09:45:00",
          "2025-08-05T13:45:00",
          "2025-08-06T09:45:00",
          "2025-08-06T13:45:00",
          "2025-08-07T09:45:00",
          "2025-08-07T13:45:00",
          "2025-08-08T09:45:00",
          "2025-08-08T13:45:00"
         ],
         "xaxis": "x",
         "y": [
          null,
          null,
          null,
          null,
          null,
          null,
          null,
          null,
          null,
          null,
          null,
          null,
          null,
          null,
          null,
          null,
          null,
          null,
          null,
          null,
          null,
          null,
          null,
          null,
          null,
          null,
          null,
          null,
          null,
          null,
          null,
          null,
          null,
          null,
          null,
          null,
          null,
          null,
          null,
          null,
          null,
          null,
          null,
          null,
          null,
          null,
          null,
          null,
          null,
          null,
          null,
          null,
          null,
          null,
          null,
          null,
          null,
          null,
          null,
          null,
          null,
          null,
          null,
          null,
          null,
          null,
          null,
          null,
          null,
          null,
          null,
          null,
          null,
          null,
          null,
          null,
          null,
          null,
          null,
          null,
          null,
          null,
          null,
          null,
          null
         ],
         "yaxis": "y"
        },
        {
         "hovertemplate": "%{x|%Y-%m-%d %H:%M}<br>Price %{y:.4f}<extra></extra>",
         "line": {
          "color": "#2E7D32",
          "width": 2
         },
         "mode": "lines",
         "name": "Price (Long)",
         "type": "scatter",
         "x": [
          "2025-06-09T13:45:00",
          "2025-06-10T09:45:00",
          "2025-06-10T13:45:00",
          "2025-06-11T09:45:00",
          "2025-06-11T13:45:00",
          "2025-06-12T09:45:00",
          "2025-06-12T13:45:00",
          "2025-06-13T09:45:00",
          "2025-06-13T13:45:00",
          "2025-06-16T09:45:00",
          "2025-06-16T13:45:00",
          "2025-06-17T09:45:00",
          "2025-06-17T13:45:00",
          "2025-06-18T09:45:00",
          "2025-06-18T13:45:00",
          "2025-06-19T09:45:00",
          "2025-06-19T13:45:00",
          "2025-06-20T09:45:00",
          "2025-06-20T13:45:00",
          "2025-06-23T09:45:00",
          "2025-06-23T13:45:00",
          "2025-06-24T09:45:00",
          "2025-06-24T13:45:00",
          "2025-06-25T09:45:00",
          "2025-06-25T13:45:00",
          "2025-06-26T09:45:00",
          "2025-06-26T13:45:00",
          "2025-06-27T09:45:00",
          "2025-06-27T13:45:00",
          "2025-06-30T09:45:00",
          "2025-06-30T13:45:00",
          "2025-07-01T09:45:00",
          "2025-07-01T13:45:00",
          "2025-07-02T09:45:00",
          "2025-07-02T13:45:00",
          "2025-07-03T09:45:00",
          "2025-07-03T13:45:00",
          "2025-07-04T09:45:00",
          "2025-07-04T13:45:00",
          "2025-07-07T09:45:00",
          "2025-07-07T13:45:00",
          "2025-07-08T09:45:00",
          "2025-07-08T13:45:00",
          "2025-07-09T09:45:00",
          "2025-07-09T13:45:00",
          "2025-07-11T09:45:00",
          "2025-07-11T13:45:00",
          "2025-07-14T09:45:00",
          "2025-07-14T13:45:00",
          "2025-07-15T09:45:00",
          "2025-07-15T13:45:00",
          "2025-07-16T09:45:00",
          "2025-07-16T13:45:00",
          "2025-07-17T09:45:00",
          "2025-07-17T13:45:00",
          "2025-07-18T09:45:00",
          "2025-07-18T13:45:00",
          "2025-07-21T09:45:00",
          "2025-07-21T13:45:00",
          "2025-07-22T09:45:00",
          "2025-07-22T13:45:00",
          "2025-07-23T09:45:00",
          "2025-07-23T13:45:00",
          "2025-07-24T09:45:00",
          "2025-07-24T13:45:00",
          "2025-07-25T09:45:00",
          "2025-07-25T13:45:00",
          "2025-07-29T09:45:00",
          "2025-07-29T13:45:00",
          "2025-07-30T09:45:00",
          "2025-07-30T13:45:00",
          "2025-07-31T09:45:00",
          "2025-07-31T13:45:00",
          "2025-08-01T09:45:00",
          "2025-08-01T13:45:00",
          "2025-08-04T09:45:00",
          "2025-08-04T13:45:00",
          "2025-08-05T09:45:00",
          "2025-08-05T13:45:00",
          "2025-08-06T09:45:00",
          "2025-08-06T13:45:00",
          "2025-08-07T09:45:00",
          "2025-08-07T13:45:00",
          "2025-08-08T09:45:00",
          "2025-08-08T13:45:00"
         ],
         "xaxis": "x",
         "y": [
          736.2000122070312,
          736.0999755859375,
          737.2000122070312,
          740.300048828125,
          743.2999877929688,
          733.8999633789062,
          727.699951171875,
          727.0999755859375,
          729.7999877929688,
          723.2000122070312,
          727.0999755859375,
          726,
          723.7000122070312,
          726,
          710,
          null,
          null,
          null,
          null,
          null,
          null,
          null,
          null,
          null,
          null,
          null,
          722.7999877929688,
          null,
          null,
          null,
          null,
          null,
          null,
          null,
          null,
          null,
          null,
          null,
          null,
          null,
          null,
          null,
          null,
          null,
          null,
          null,
          null,
          null,
          null,
          null,
          null,
          null,
          null,
          null,
          null,
          null,
          787.0999755859375,
          781.6000366210938,
          784.1000366210938,
          null,
          null,
          null,
          null,
          null,
          null,
          null,
          null,
          null,
          null,
          805.2999877929688,
          808.5,
          805.2999877929688,
          807.7999877929688,
          800.5999755859375,
          791.300048828125,
          794.7000122070312,
          798.699951171875,
          807,
          805.7000122070312,
          817,
          816.0999755859375,
          824,
          819.2000122070312,
          810.7000122070312,
          811.0999755859375
         ],
         "yaxis": "y"
        },
        {
         "hovertemplate": "%{x|%Y-%m-%d %H:%M}<br>Pred %{y:.4f}<extra></extra>",
         "line": {
          "color": "#FB8C00",
          "dash": "dot",
          "width": 1.2
         },
         "mode": "lines",
         "name": "Predicted (t+1)",
         "type": "scatter",
         "x": [
          "2025-06-09T13:45:00",
          "2025-06-10T09:45:00",
          "2025-06-10T13:45:00",
          "2025-06-11T09:45:00",
          "2025-06-11T13:45:00",
          "2025-06-12T09:45:00",
          "2025-06-12T13:45:00",
          "2025-06-13T09:45:00",
          "2025-06-13T13:45:00",
          "2025-06-16T09:45:00",
          "2025-06-16T13:45:00",
          "2025-06-17T09:45:00",
          "2025-06-17T13:45:00",
          "2025-06-18T09:45:00",
          "2025-06-18T13:45:00",
          "2025-06-19T09:45:00",
          "2025-06-19T13:45:00",
          "2025-06-20T09:45:00",
          "2025-06-20T13:45:00",
          "2025-06-23T09:45:00",
          "2025-06-23T13:45:00",
          "2025-06-24T09:45:00",
          "2025-06-24T13:45:00",
          "2025-06-25T09:45:00",
          "2025-06-25T13:45:00",
          "2025-06-26T09:45:00",
          "2025-06-26T13:45:00",
          "2025-06-27T09:45:00",
          "2025-06-27T13:45:00",
          "2025-06-30T09:45:00",
          "2025-06-30T13:45:00",
          "2025-07-01T09:45:00",
          "2025-07-01T13:45:00",
          "2025-07-02T09:45:00",
          "2025-07-02T13:45:00",
          "2025-07-03T09:45:00",
          "2025-07-03T13:45:00",
          "2025-07-04T09:45:00",
          "2025-07-04T13:45:00",
          "2025-07-07T09:45:00",
          "2025-07-07T13:45:00",
          "2025-07-08T09:45:00",
          "2025-07-08T13:45:00",
          "2025-07-09T09:45:00",
          "2025-07-09T13:45:00",
          "2025-07-11T09:45:00",
          "2025-07-11T13:45:00",
          "2025-07-14T09:45:00",
          "2025-07-14T13:45:00",
          "2025-07-15T09:45:00",
          "2025-07-15T13:45:00",
          "2025-07-16T09:45:00",
          "2025-07-16T13:45:00",
          "2025-07-17T09:45:00",
          "2025-07-17T13:45:00",
          "2025-07-18T09:45:00",
          "2025-07-18T13:45:00",
          "2025-07-21T09:45:00",
          "2025-07-21T13:45:00",
          "2025-07-22T09:45:00",
          "2025-07-22T13:45:00",
          "2025-07-23T09:45:00",
          "2025-07-23T13:45:00",
          "2025-07-24T09:45:00",
          "2025-07-24T13:45:00",
          "2025-07-25T09:45:00",
          "2025-07-25T13:45:00",
          "2025-07-29T09:45:00",
          "2025-07-29T13:45:00",
          "2025-07-30T09:45:00",
          "2025-07-30T13:45:00",
          "2025-07-31T09:45:00",
          "2025-07-31T13:45:00",
          "2025-08-01T09:45:00",
          "2025-08-01T13:45:00",
          "2025-08-04T09:45:00",
          "2025-08-04T13:45:00",
          "2025-08-05T09:45:00",
          "2025-08-05T13:45:00",
          "2025-08-06T09:45:00",
          "2025-08-06T13:45:00",
          "2025-08-07T09:45:00",
          "2025-08-07T13:45:00",
          "2025-08-08T09:45:00",
          "2025-08-08T13:45:00"
         ],
         "xaxis": "x",
         "y": [
          732.1904907226562,
          729.4033813476562,
          726.9656982421875,
          725.3651733398438,
          724.0188598632812,
          722.0077514648438,
          718.5858764648438,
          715.37890625,
          716.0693969726562,
          718.6190185546875,
          720.2762451171875,
          720.2354736328125,
          721.14111328125,
          720.326416015625,
          719.8453369140625,
          720.1242065429688,
          720.6266479492188,
          726.4675903320312,
          735.410400390625,
          742.07470703125,
          743.9461059570312,
          744.9552612304688,
          746.7373657226562,
          745.0452880859375,
          736.2228393554688,
          730.529052734375,
          728.255615234375,
          725.7999267578125,
          724.3733520507812,
          728.9126586914062,
          737.8480834960938,
          743.6567993164062,
          746.4063720703125,
          747.6033325195312,
          746.14892578125,
          742.6978759765625,
          742.5530395507812,
          741.3098754882812,
          739.3124389648438,
          738.0308837890625,
          740.6615600585938,
          748.2572631835938,
          757.8340454101562,
          765.851318359375,
          774.3179321289062,
          781.1824951171875,
          785.5469970703125,
          785.3298950195312,
          784.2213745117188,
          783.5612182617188,
          781.0980224609375,
          778.1416015625,
          775.4938354492188,
          774.4247436523438,
          775.8342895507812,
          776.0592651367188,
          776.536376953125,
          779.4651489257812,
          783.8902587890625,
          790.2791748046875,
          796.373779296875,
          801.2379760742188,
          806.0381469726562,
          806.6664428710938,
          804.8899536132812,
          803.5355834960938,
          801.4830932617188,
          798.513671875,
          794.23095703125,
          789.6334228515625,
          784.2691040039062,
          779.5289916992188,
          775.8768920898438,
          773.7753295898438,
          772.1209716796875,
          771.671875,
          772.2828369140625,
          771.5365600585938,
          769.09423828125,
          765.4761962890625,
          762.4719848632812,
          759.520751953125,
          757.594482421875,
          756.2186889648438,
          756.25830078125
         ],
         "yaxis": "y"
        },
        {
         "hovertemplate": "%{x|%Y-%m-%d %H:%M}<br>Equity %{y:,.2f}<extra></extra>",
         "line": {
          "color": "#6A1B9A",
          "width": 1.8
         },
         "mode": "lines",
         "name": "Equity",
         "type": "scatter",
         "x": [
          "2025-06-09T13:45:00",
          "2025-06-10T09:45:00",
          "2025-06-10T13:45:00",
          "2025-06-11T09:45:00",
          "2025-06-11T13:45:00",
          "2025-06-12T09:45:00",
          "2025-06-12T13:45:00",
          "2025-06-13T09:45:00",
          "2025-06-13T13:45:00",
          "2025-06-16T09:45:00",
          "2025-06-16T13:45:00",
          "2025-06-17T09:45:00",
          "2025-06-17T13:45:00",
          "2025-06-18T09:45:00",
          "2025-06-18T13:45:00",
          "2025-06-19T09:45:00",
          "2025-06-19T13:45:00",
          "2025-06-20T09:45:00",
          "2025-06-20T13:45:00",
          "2025-06-23T09:45:00",
          "2025-06-23T13:45:00",
          "2025-06-24T09:45:00",
          "2025-06-24T13:45:00",
          "2025-06-25T09:45:00",
          "2025-06-25T13:45:00",
          "2025-06-26T09:45:00",
          "2025-06-26T13:45:00",
          "2025-06-27T09:45:00",
          "2025-06-27T13:45:00",
          "2025-06-30T09:45:00",
          "2025-06-30T13:45:00",
          "2025-07-01T09:45:00",
          "2025-07-01T13:45:00",
          "2025-07-02T09:45:00",
          "2025-07-02T13:45:00",
          "2025-07-03T09:45:00",
          "2025-07-03T13:45:00",
          "2025-07-04T09:45:00",
          "2025-07-04T13:45:00",
          "2025-07-07T09:45:00",
          "2025-07-07T13:45:00",
          "2025-07-08T09:45:00",
          "2025-07-08T13:45:00",
          "2025-07-09T09:45:00",
          "2025-07-09T13:45:00",
          "2025-07-11T09:45:00",
          "2025-07-11T13:45:00",
          "2025-07-14T09:45:00",
          "2025-07-14T13:45:00",
          "2025-07-15T09:45:00",
          "2025-07-15T13:45:00",
          "2025-07-16T09:45:00",
          "2025-07-16T13:45:00",
          "2025-07-17T09:45:00",
          "2025-07-17T13:45:00",
          "2025-07-18T09:45:00",
          "2025-07-18T13:45:00",
          "2025-07-21T09:45:00",
          "2025-07-21T13:45:00",
          "2025-07-22T09:45:00",
          "2025-07-22T13:45:00",
          "2025-07-23T09:45:00",
          "2025-07-23T13:45:00",
          "2025-07-24T09:45:00",
          "2025-07-24T13:45:00",
          "2025-07-25T09:45:00",
          "2025-07-25T13:45:00",
          "2025-07-29T09:45:00",
          "2025-07-29T13:45:00",
          "2025-07-30T09:45:00",
          "2025-07-30T13:45:00",
          "2025-07-31T09:45:00",
          "2025-07-31T13:45:00",
          "2025-08-01T09:45:00",
          "2025-08-01T13:45:00",
          "2025-08-04T09:45:00",
          "2025-08-04T13:45:00",
          "2025-08-05T09:45:00",
          "2025-08-05T13:45:00",
          "2025-08-06T09:45:00",
          "2025-08-06T13:45:00",
          "2025-08-07T09:45:00",
          "2025-08-07T13:45:00",
          "2025-08-08T09:45:00",
          "2025-08-08T13:45:00"
         ],
         "xaxis": "x2",
         "y": [
          999136.7640977576,
          999000.9990009991,
          1000493.9180607173,
          1004701.1450463549,
          1008772.5241011298,
          996015.2437156669,
          987600.8725784959,
          986786.6133343617,
          990450.9456011738,
          981493.7625792813,
          986786.6133343617,
          985293.7771087477,
          982172.3395607612,
          985293.7771087477,
          963579.3137013924,
          933888.0117914663,
          937680.4338843103,
          932127.2532485673,
          932668.9805940585,
          936596.813856125,
          939441.1924272091,
          907747.2079806238,
          899620.553780843,
          900704.1738090283,
          895421.8155117303,
          885263.4977620044,
          956901.3622464024,
          923147.631868609,
          923676.1585844217,
          920637.331573135,
          918919.6600676709,
          914691.6882667327,
          897647.790346809,
          903989.7077272888,
          898572.5911366993,
          895005.3180514545,
          890380.9915345842,
          893155.5551879645,
          896194.4628411059,
          905310.9438749661,
          891305.8729663292,
          897779.8817048349,
          899365.3812104185,
          903725.4443693825,
          900818.7893579763,
          884171.1655121301,
          894476.7913356418,
          882982.1013643334,
          874790.4211203636,
          866202.3861604615,
          856953.7331267208,
          856293.1150528821,
          858539.1519904496,
          824187.0121508412,
          821808.8838552479,
          812295.9674636007,
          818548.2760248818,
          812828.5889488359,
          815428.4755623995,
          792937.8225231221,
          802382.5395383977,
          781209.8271947,
          781521.177569495,
          786606.7992967183,
          786918.1496715135,
          788371.139202882,
          782247.7040086661,
          782559.0543834611,
          769274.2438340898,
          761014.4777329102,
          764038.5130680491,
          761014.4777329102,
          763376.9963261943,
          756572.931241801,
          747784.4312891964,
          750997.4219688567,
          754777.3940394345,
          762621.0019120787,
          761392.5037793063,
          772071.0762852147,
          771220.5465201618,
          778686.12834641,
          774150.10418304,
          766117.5409658743,
          765729.0138242602
         ],
         "yaxis": "y2"
        }
       ],
       "layout": {
        "annotations": [
         {
          "font": {
           "size": 16
          },
          "showarrow": false,
          "text": "S501! — Prediction & Signals (OOS)",
          "x": 0.5,
          "xanchor": "center",
          "xref": "paper",
          "y": 1,
          "yanchor": "bottom",
          "yref": "paper"
         },
         {
          "font": {
           "size": 16
          },
          "showarrow": false,
          "text": "Equity Curve",
          "x": 0.5,
          "xanchor": "center",
          "xref": "paper",
          "y": 0.276,
          "yanchor": "bottom",
          "yref": "paper"
         }
        ],
        "hovermode": "x unified",
        "legend": {
         "orientation": "h",
         "x": 0,
         "xanchor": "left",
         "y": 1.02,
         "yanchor": "bottom"
        },
        "margin": {
         "b": 60,
         "l": 50,
         "r": 50,
         "t": 60
        },
        "template": {
         "data": {
          "bar": [
           {
            "error_x": {
             "color": "#2a3f5f"
            },
            "error_y": {
             "color": "#2a3f5f"
            },
            "marker": {
             "line": {
              "color": "white",
              "width": 0.5
             },
             "pattern": {
              "fillmode": "overlay",
              "size": 10,
              "solidity": 0.2
             }
            },
            "type": "bar"
           }
          ],
          "barpolar": [
           {
            "marker": {
             "line": {
              "color": "white",
              "width": 0.5
             },
             "pattern": {
              "fillmode": "overlay",
              "size": 10,
              "solidity": 0.2
             }
            },
            "type": "barpolar"
           }
          ],
          "carpet": [
           {
            "aaxis": {
             "endlinecolor": "#2a3f5f",
             "gridcolor": "#C8D4E3",
             "linecolor": "#C8D4E3",
             "minorgridcolor": "#C8D4E3",
             "startlinecolor": "#2a3f5f"
            },
            "baxis": {
             "endlinecolor": "#2a3f5f",
             "gridcolor": "#C8D4E3",
             "linecolor": "#C8D4E3",
             "minorgridcolor": "#C8D4E3",
             "startlinecolor": "#2a3f5f"
            },
            "type": "carpet"
           }
          ],
          "choropleth": [
           {
            "colorbar": {
             "outlinewidth": 0,
             "ticks": ""
            },
            "type": "choropleth"
           }
          ],
          "contour": [
           {
            "colorbar": {
             "outlinewidth": 0,
             "ticks": ""
            },
            "colorscale": [
             [
              0,
              "#0d0887"
             ],
             [
              0.1111111111111111,
              "#46039f"
             ],
             [
              0.2222222222222222,
              "#7201a8"
             ],
             [
              0.3333333333333333,
              "#9c179e"
             ],
             [
              0.4444444444444444,
              "#bd3786"
             ],
             [
              0.5555555555555556,
              "#d8576b"
             ],
             [
              0.6666666666666666,
              "#ed7953"
             ],
             [
              0.7777777777777778,
              "#fb9f3a"
             ],
             [
              0.8888888888888888,
              "#fdca26"
             ],
             [
              1,
              "#f0f921"
             ]
            ],
            "type": "contour"
           }
          ],
          "contourcarpet": [
           {
            "colorbar": {
             "outlinewidth": 0,
             "ticks": ""
            },
            "type": "contourcarpet"
           }
          ],
          "heatmap": [
           {
            "colorbar": {
             "outlinewidth": 0,
             "ticks": ""
            },
            "colorscale": [
             [
              0,
              "#0d0887"
             ],
             [
              0.1111111111111111,
              "#46039f"
             ],
             [
              0.2222222222222222,
              "#7201a8"
             ],
             [
              0.3333333333333333,
              "#9c179e"
             ],
             [
              0.4444444444444444,
              "#bd3786"
             ],
             [
              0.5555555555555556,
              "#d8576b"
             ],
             [
              0.6666666666666666,
              "#ed7953"
             ],
             [
              0.7777777777777778,
              "#fb9f3a"
             ],
             [
              0.8888888888888888,
              "#fdca26"
             ],
             [
              1,
              "#f0f921"
             ]
            ],
            "type": "heatmap"
           }
          ],
          "heatmapgl": [
           {
            "colorbar": {
             "outlinewidth": 0,
             "ticks": ""
            },
            "colorscale": [
             [
              0,
              "#0d0887"
             ],
             [
              0.1111111111111111,
              "#46039f"
             ],
             [
              0.2222222222222222,
              "#7201a8"
             ],
             [
              0.3333333333333333,
              "#9c179e"
             ],
             [
              0.4444444444444444,
              "#bd3786"
             ],
             [
              0.5555555555555556,
              "#d8576b"
             ],
             [
              0.6666666666666666,
              "#ed7953"
             ],
             [
              0.7777777777777778,
              "#fb9f3a"
             ],
             [
              0.8888888888888888,
              "#fdca26"
             ],
             [
              1,
              "#f0f921"
             ]
            ],
            "type": "heatmapgl"
           }
          ],
          "histogram": [
           {
            "marker": {
             "pattern": {
              "fillmode": "overlay",
              "size": 10,
              "solidity": 0.2
             }
            },
            "type": "histogram"
           }
          ],
          "histogram2d": [
           {
            "colorbar": {
             "outlinewidth": 0,
             "ticks": ""
            },
            "colorscale": [
             [
              0,
              "#0d0887"
             ],
             [
              0.1111111111111111,
              "#46039f"
             ],
             [
              0.2222222222222222,
              "#7201a8"
             ],
             [
              0.3333333333333333,
              "#9c179e"
             ],
             [
              0.4444444444444444,
              "#bd3786"
             ],
             [
              0.5555555555555556,
              "#d8576b"
             ],
             [
              0.6666666666666666,
              "#ed7953"
             ],
             [
              0.7777777777777778,
              "#fb9f3a"
             ],
             [
              0.8888888888888888,
              "#fdca26"
             ],
             [
              1,
              "#f0f921"
             ]
            ],
            "type": "histogram2d"
           }
          ],
          "histogram2dcontour": [
           {
            "colorbar": {
             "outlinewidth": 0,
             "ticks": ""
            },
            "colorscale": [
             [
              0,
              "#0d0887"
             ],
             [
              0.1111111111111111,
              "#46039f"
             ],
             [
              0.2222222222222222,
              "#7201a8"
             ],
             [
              0.3333333333333333,
              "#9c179e"
             ],
             [
              0.4444444444444444,
              "#bd3786"
             ],
             [
              0.5555555555555556,
              "#d8576b"
             ],
             [
              0.6666666666666666,
              "#ed7953"
             ],
             [
              0.7777777777777778,
              "#fb9f3a"
             ],
             [
              0.8888888888888888,
              "#fdca26"
             ],
             [
              1,
              "#f0f921"
             ]
            ],
            "type": "histogram2dcontour"
           }
          ],
          "mesh3d": [
           {
            "colorbar": {
             "outlinewidth": 0,
             "ticks": ""
            },
            "type": "mesh3d"
           }
          ],
          "parcoords": [
           {
            "line": {
             "colorbar": {
              "outlinewidth": 0,
              "ticks": ""
             }
            },
            "type": "parcoords"
           }
          ],
          "pie": [
           {
            "automargin": true,
            "type": "pie"
           }
          ],
          "scatter": [
           {
            "fillpattern": {
             "fillmode": "overlay",
             "size": 10,
             "solidity": 0.2
            },
            "type": "scatter"
           }
          ],
          "scatter3d": [
           {
            "line": {
             "colorbar": {
              "outlinewidth": 0,
              "ticks": ""
             }
            },
            "marker": {
             "colorbar": {
              "outlinewidth": 0,
              "ticks": ""
             }
            },
            "type": "scatter3d"
           }
          ],
          "scattercarpet": [
           {
            "marker": {
             "colorbar": {
              "outlinewidth": 0,
              "ticks": ""
             }
            },
            "type": "scattercarpet"
           }
          ],
          "scattergeo": [
           {
            "marker": {
             "colorbar": {
              "outlinewidth": 0,
              "ticks": ""
             }
            },
            "type": "scattergeo"
           }
          ],
          "scattergl": [
           {
            "marker": {
             "colorbar": {
              "outlinewidth": 0,
              "ticks": ""
             }
            },
            "type": "scattergl"
           }
          ],
          "scattermapbox": [
           {
            "marker": {
             "colorbar": {
              "outlinewidth": 0,
              "ticks": ""
             }
            },
            "type": "scattermapbox"
           }
          ],
          "scatterpolar": [
           {
            "marker": {
             "colorbar": {
              "outlinewidth": 0,
              "ticks": ""
             }
            },
            "type": "scatterpolar"
           }
          ],
          "scatterpolargl": [
           {
            "marker": {
             "colorbar": {
              "outlinewidth": 0,
              "ticks": ""
             }
            },
            "type": "scatterpolargl"
           }
          ],
          "scatterternary": [
           {
            "marker": {
             "colorbar": {
              "outlinewidth": 0,
              "ticks": ""
             }
            },
            "type": "scatterternary"
           }
          ],
          "surface": [
           {
            "colorbar": {
             "outlinewidth": 0,
             "ticks": ""
            },
            "colorscale": [
             [
              0,
              "#0d0887"
             ],
             [
              0.1111111111111111,
              "#46039f"
             ],
             [
              0.2222222222222222,
              "#7201a8"
             ],
             [
              0.3333333333333333,
              "#9c179e"
             ],
             [
              0.4444444444444444,
              "#bd3786"
             ],
             [
              0.5555555555555556,
              "#d8576b"
             ],
             [
              0.6666666666666666,
              "#ed7953"
             ],
             [
              0.7777777777777778,
              "#fb9f3a"
             ],
             [
              0.8888888888888888,
              "#fdca26"
             ],
             [
              1,
              "#f0f921"
             ]
            ],
            "type": "surface"
           }
          ],
          "table": [
           {
            "cells": {
             "fill": {
              "color": "#EBF0F8"
             },
             "line": {
              "color": "white"
             }
            },
            "header": {
             "fill": {
              "color": "#C8D4E3"
             },
             "line": {
              "color": "white"
             }
            },
            "type": "table"
           }
          ]
         },
         "layout": {
          "annotationdefaults": {
           "arrowcolor": "#2a3f5f",
           "arrowhead": 0,
           "arrowwidth": 1
          },
          "autotypenumbers": "strict",
          "coloraxis": {
           "colorbar": {
            "outlinewidth": 0,
            "ticks": ""
           }
          },
          "colorscale": {
           "diverging": [
            [
             0,
             "#8e0152"
            ],
            [
             0.1,
             "#c51b7d"
            ],
            [
             0.2,
             "#de77ae"
            ],
            [
             0.3,
             "#f1b6da"
            ],
            [
             0.4,
             "#fde0ef"
            ],
            [
             0.5,
             "#f7f7f7"
            ],
            [
             0.6,
             "#e6f5d0"
            ],
            [
             0.7,
             "#b8e186"
            ],
            [
             0.8,
             "#7fbc41"
            ],
            [
             0.9,
             "#4d9221"
            ],
            [
             1,
             "#276419"
            ]
           ],
           "sequential": [
            [
             0,
             "#0d0887"
            ],
            [
             0.1111111111111111,
             "#46039f"
            ],
            [
             0.2222222222222222,
             "#7201a8"
            ],
            [
             0.3333333333333333,
             "#9c179e"
            ],
            [
             0.4444444444444444,
             "#bd3786"
            ],
            [
             0.5555555555555556,
             "#d8576b"
            ],
            [
             0.6666666666666666,
             "#ed7953"
            ],
            [
             0.7777777777777778,
             "#fb9f3a"
            ],
            [
             0.8888888888888888,
             "#fdca26"
            ],
            [
             1,
             "#f0f921"
            ]
           ],
           "sequentialminus": [
            [
             0,
             "#0d0887"
            ],
            [
             0.1111111111111111,
             "#46039f"
            ],
            [
             0.2222222222222222,
             "#7201a8"
            ],
            [
             0.3333333333333333,
             "#9c179e"
            ],
            [
             0.4444444444444444,
             "#bd3786"
            ],
            [
             0.5555555555555556,
             "#d8576b"
            ],
            [
             0.6666666666666666,
             "#ed7953"
            ],
            [
             0.7777777777777778,
             "#fb9f3a"
            ],
            [
             0.8888888888888888,
             "#fdca26"
            ],
            [
             1,
             "#f0f921"
            ]
           ]
          },
          "colorway": [
           "#636efa",
           "#EF553B",
           "#00cc96",
           "#ab63fa",
           "#FFA15A",
           "#19d3f3",
           "#FF6692",
           "#B6E880",
           "#FF97FF",
           "#FECB52"
          ],
          "font": {
           "color": "#2a3f5f"
          },
          "geo": {
           "bgcolor": "white",
           "lakecolor": "white",
           "landcolor": "white",
           "showlakes": true,
           "showland": true,
           "subunitcolor": "#C8D4E3"
          },
          "hoverlabel": {
           "align": "left"
          },
          "hovermode": "closest",
          "mapbox": {
           "style": "light"
          },
          "paper_bgcolor": "white",
          "plot_bgcolor": "white",
          "polar": {
           "angularaxis": {
            "gridcolor": "#EBF0F8",
            "linecolor": "#EBF0F8",
            "ticks": ""
           },
           "bgcolor": "white",
           "radialaxis": {
            "gridcolor": "#EBF0F8",
            "linecolor": "#EBF0F8",
            "ticks": ""
           }
          },
          "scene": {
           "xaxis": {
            "backgroundcolor": "white",
            "gridcolor": "#DFE8F3",
            "gridwidth": 2,
            "linecolor": "#EBF0F8",
            "showbackground": true,
            "ticks": "",
            "zerolinecolor": "#EBF0F8"
           },
           "yaxis": {
            "backgroundcolor": "white",
            "gridcolor": "#DFE8F3",
            "gridwidth": 2,
            "linecolor": "#EBF0F8",
            "showbackground": true,
            "ticks": "",
            "zerolinecolor": "#EBF0F8"
           },
           "zaxis": {
            "backgroundcolor": "white",
            "gridcolor": "#DFE8F3",
            "gridwidth": 2,
            "linecolor": "#EBF0F8",
            "showbackground": true,
            "ticks": "",
            "zerolinecolor": "#EBF0F8"
           }
          },
          "shapedefaults": {
           "line": {
            "color": "#2a3f5f"
           }
          },
          "ternary": {
           "aaxis": {
            "gridcolor": "#DFE8F3",
            "linecolor": "#A2B1C6",
            "ticks": ""
           },
           "baxis": {
            "gridcolor": "#DFE8F3",
            "linecolor": "#A2B1C6",
            "ticks": ""
           },
           "bgcolor": "white",
           "caxis": {
            "gridcolor": "#DFE8F3",
            "linecolor": "#A2B1C6",
            "ticks": ""
           }
          },
          "title": {
           "x": 0.05
          },
          "xaxis": {
           "automargin": true,
           "gridcolor": "#EBF0F8",
           "linecolor": "#EBF0F8",
           "ticks": "",
           "title": {
            "standoff": 15
           },
           "zerolinecolor": "#EBF0F8",
           "zerolinewidth": 2
          },
          "yaxis": {
           "automargin": true,
           "gridcolor": "#EBF0F8",
           "linecolor": "#EBF0F8",
           "ticks": "",
           "title": {
            "standoff": 15
           },
           "zerolinecolor": "#EBF0F8",
           "zerolinewidth": 2
          }
         }
        },
        "xaxis": {
         "anchor": "y",
         "domain": [
          0,
          1
         ],
         "matches": "x2",
         "showspikes": true,
         "showticklabels": false,
         "spikemode": "across",
         "spikesnap": "cursor"
        },
        "xaxis2": {
         "anchor": "y2",
         "domain": [
          0,
          1
         ],
         "rangeslider": {
          "visible": false
         },
         "showspikes": true,
         "spikemode": "across",
         "spikesnap": "cursor"
        },
        "yaxis": {
         "anchor": "x",
         "domain": [
          0.35600000000000004,
          1
         ],
         "gridcolor": "rgba(0,0,0,0.08)",
         "showgrid": true
        },
        "yaxis2": {
         "anchor": "x2",
         "domain": [
          0,
          0.276
         ],
         "gridcolor": "rgba(0,0,0,0.08)",
         "showgrid": true
        }
       }
      }
     },
     "metadata": {},
     "output_type": "display_data"
    },
    {
     "data": {
      "application/vnd.plotly.v1+json": {
       "config": {
        "plotlyServerURL": "https://plot.ly"
       },
       "data": [
        {
         "mode": "lines",
         "name": "XAUUSD",
         "type": "scatter",
         "y": [
          999000.9990009991,
          1000052.3285699739,
          996702.7133569292,
          992134.3783150467,
          990749.4990370802,
          985530.5996952488,
          983420.3639505617,
          984500.6630301309,
          982634.5802243686,
          983694.1418391637,
          985968.615414622,
          990761.7155044633,
          990115.0245298031,
          990927.398454731,
          989497.9585048201,
          986567.9787257734,
          987480.932967654,
          987501.670432428,
          986498.3239660447,
          985422.5047569146,
          986344.4909956479,
          984836.5088011052,
          990431.7224674495,
          994931.8245793862,
          1001704.8106353349,
          998394.4754048233,
          994939.1946888181,
          991457.1792621284,
          992117.1653361559,
          995829.9663464281,
          997315.6937007254,
          997272.8459076558,
          996703.1075461815,
          996060.8241859855,
          982180.3069106605,
          980363.1413998529,
          975777.1991898273,
          976954.13222631,
          978916.8093207726,
          978801.7595161054,
          981485.8280573965,
          982405.3015426871,
          983181.976661888,
          985000.5035372686,
          982492.7450862469,
          980994.8208205327,
          981021.0040784903,
          985651.8120789656,
          985316.7659873279,
          986058.4352290418,
          982868.7025184433,
          980725.1617236317,
          981427.5560784092,
          983922.1517502946,
          981909.8118459012,
          982817.6878555204,
          984378.2954099865,
          984602.7030067215,
          985251.0943919612,
          987630.7114093369,
          989839.7103490428,
          987602.1090460245,
          989255.3541055473,
          989249.5909427903,
          988421.9011606665,
          990157.3246520945,
          990214.2447780895,
          985544.0195903627,
          983863.8797713072,
          979794.0907626696,
          978307.8351227844,
          974606.6039299639,
          null,
          null,
          null,
          null,
          null,
          null,
          null,
          null,
          null,
          null,
          null,
          null,
          null
         ]
        },
        {
         "mode": "lines",
         "name": "XAGUSD",
         "type": "scatter",
         "y": [
          999000.9990009991,
          997015.1918394107,
          1001686.3019792709,
          1004248.8761238762,
          1004080.0995879122,
          1021928.4621628373,
          1021992.3631056445,
          1020227.8190559442,
          1021117.7494380621,
          1020688.1009615386,
          1023381.1110764237,
          1022785.2225899103,
          1021954.0225399601,
          1023373.4039398103,
          1022977.0229770232,
          1021992.3631056445,
          1025406.6246253748,
          1021787.7825299702,
          1020790.4400287214,
          1021157.3582667334,
          1021199.6011800701,
          1023347.8435626874,
          1030956.2507804696,
          1034280.9534215785,
          1048342.965628122,
          1048143.555663087,
          1045239.5260989012,
          1052918.273133117,
          1060302.8807130372,
          1060226.1995816685,
          1059042.0321865636,
          1061347.636738262,
          1062412.7825299702,
          1066274.5457667334,
          1051339.090596903,
          1055047.2964535467,
          1051160.0703983516,
          1056505.1159777725,
          1049022.0716783218,
          1042425.0554133368,
          1044203.7454732768,
          1043230.6950861639,
          1041237.1807879622,
          1041198.8402222778,
          1041876.482892108,
          1040141.3040084917,
          1039383.0778596405,
          1031286.1942744757,
          1030878.2038274227,
          1031288.7308004496,
          1031173.7091033967,
          1031599.4552322679,
          1033117.2733516485,
          1030508.6515047454,
          1030572.6500062438,
          1029997.1512862139,
          1024707.1288086914,
          1020101.1878746256,
          1019255.939373127,
          1022069.1417957044,
          1019096.040678072,
          1021135.6026785716,
          1018731.6589660341,
          1017561.6375811689,
          1019721.3918893607,
          1019307.0601273727,
          1017836.5579732768,
          1022322.3065996504,
          1025080.5834790211,
          1027605.9877622379,
          1030910.2030781719,
          1034485.5339972528,
          null,
          null,
          null,
          null,
          null,
          null,
          null,
          null,
          null,
          null,
          null,
          null,
          null
         ]
        },
        {
         "mode": "lines",
         "name": "ZW1!",
         "type": "scatter",
         "y": [
          1000000,
          999000.999000999,
          993892.2072813286,
          974850.3472352845,
          977172.5252896801,
          975779.2184570427,
          975779.2184570427,
          981352.4457875922,
          989712.2867834165,
          992963.3360595704,
          988318.9799507791,
          987390.1087290209,
          993427.7716704495,
          998536.5633901199,
          991570.029226933,
          994821.0785030869,
          996214.3853357243,
          995749.9497248451,
          1003645.3551097903,
          996214.3853357243,
          1000394.3058336364,
          1005038.6619424276,
          1005038.6619424276,
          1000858.7414445155,
          998072.1277792408,
          997607.6921683616,
          1005503.0975533068,
          1011076.3248838563,
          1014327.3741600101,
          1013862.938549131,
          1017578.423436164,
          1017113.987825285,
          1018971.7302688014,
          1019900.6014905596,
          1025009.39321023,
          1024544.957599351,
          1026867.1356537465,
          1025473.8288211091,
          1027796.0068755049,
          1024544.957599351,
          1024080.5219884719,
          1025473.8288211091,
          1033833.6698169335,
          1036155.847871329,
          1038013.5903148456,
          1043122.382034516,
          1039871.332758362,
          1038478.0259257247,
          1037549.1547039665,
          1038478.0259257247,
          1044980.1244780325,
          1043122.382034516,
          1040335.7683692412,
          1054268.836695615,
          1053804.401084736,
          1052875.5298629776,
          1054733.215612694,
          1056591.0714438106,
          1058913.2494982064,
          1053804.401084736,
          1048695.6660588656,
          1048695.6660588656,
          1041264.6395909995,
          1033833.6698169335,
          1035226.9766495709,
          1034762.5410386916,
          1031047.0561516586,
          1037084.7190930874,
          1038942.4615366039,
          1040335.7683692412,
          1034762.5410386916,
          1031975.927373417,
          1038478.0259257247,
          1039406.897147483,
          1042193.5108127577,
          null,
          null,
          null,
          null,
          null,
          null,
          null,
          null,
          null,
          null
         ]
        },
        {
         "mode": "lines",
         "name": "AOT",
         "type": "scatter",
         "y": [
          999000.9990009991,
          1006867.0885854735,
          999000.9990009991,
          1030465.5973947314,
          1022599.4477962983,
          1014733.2981978653,
          1006867.0885854735,
          975402.5502057,
          936071.8622274933,
          894949.3638033444,
          934201.5288824384,
          902799.7968191633,
          894949.3638033444,
          879248.5576657575,
          910650.229834982,
          918500.6628508008,
          918500.6628508008,
          902799.7968191633,
          902799.7968191633,
          894949.3638033444,
          879248.5576657575,
          847846.7657084315,
          832145.8996767938,
          798956.0569965291,
          811637.8507936886,
          805296.9780838031,
          792615.135909255,
          767251.4515601589,
          772046.7335412441,
          791031.441003331,
          778374.9854555166,
          784703.237369789,
          765718.4816269716,
          776832.4345393504,
          775280.321783028,
          762465.7710097547,
          748102.2086045477,
          730147.7555980384,
          724162.9379292021,
          722716.0589323407,
          716743.1989411643,
          722716.0589323407,
          722716.0589323407,
          722716.0589323407,
          716743.1989411643,
          686878.8989852825,
          685434.9108555478,
          690831.9949610768,
          723214.7878318378,
          760994.6648081279,
          771788.9153727822,
          793377.4165020908,
          782583.1659374364,
          852745.7946076894,
          868937.1704546708,
          847348.6693253622,
          841951.5440430351,
          841951.5440430351,
          831157.2934783808,
          825760.1681960536,
          809568.7923490722,
          841951.5440430351,
          836554.418760708,
          841951.5440430351,
          841951.5440430351,
          895922.7968663066,
          906717.0474309608,
          895922.7968663066,
          906717.0474309608,
          912114.172713288,
          912114.172713288,
          890525.6715839794,
          885128.5463016522,
          863540.0451723437,
          852745.7946076894,
          852745.7946076894,
          858142.9198900166,
          852745.7946076894,
          852745.7946076894,
          879731.4210193251,
          863540.0451723437,
          879731.4210193251,
          874334.295736998,
          868937.1704546708,
          858142.9198900166
         ]
        },
        {
         "mode": "lines",
         "name": "BRN1!",
         "type": "scatter",
         "y": [
          999000.9990009991,
          1011963.8365953412,
          1009227.2070234385,
          1009659.2832953917,
          1021901.9205117121,
          1025214.6884086021,
          1024350.5358646959,
          1020317.6774769338,
          1018589.2625019717,
          1014412.3420611754,
          999577.1373259865,
          1002025.7526789702,
          995544.2789382245,
          1000873.3661418459,
          1000729.4139759613,
          997272.584026037,
          986182.2234596914,
          963137.2398959441,
          962293.5105539091,
          962427.7216860485,
          967790.8476279705,
          957466.6153701232,
          971947.3009214812,
          975701.5299988546,
          975433.4146197867,
          969399.8467875893,
          972349.5251376183,
          966047.7396312826,
          953578.2774556805,
          960282.2871781533,
          962427.7216860485,
          963500.2854973908,
          961086.8379054978,
          953712.3862927497,
          934941.1386108119,
          932393.6844769199,
          930263.1803484057,
          930798.4418071001,
          928657.4980630071,
          940299.2050855692,
          948595.5024686204,
          940566.7847695741,
          941503.4667996181,
          941771.1485743076,
          943778.3535217402,
          947792.6613259211,
          951807.0712207864,
          955419.9584536178,
          954884.6969949234,
          949666.0253860091,
          947926.5022132659,
          942038.7282583124,
          958230.0045437497,
          969068.768332928,
          964519.1990700527,
          956624.2201676667,
          960504.7891751874,
          961709.0508892363,
          969336.4501076173,
          973350.7579117982,
          971878.8144230599,
          971745.0756263997,
          970808.3935963557,
          967463.0860475294,
          965188.1993254073,
          972146.4961977493,
          973083.1782277933,
          973752.1784831479,
          973618.4396864877,
          969202.6092202726,
          965991.0404681065,
          968935.0295362677,
          null,
          null,
          null,
          null,
          null,
          null,
          null,
          null,
          null,
          null,
          null,
          null,
          null
         ]
        },
        {
         "mode": "lines",
         "name": "S501!",
         "type": "scatter",
         "y": [
          999000.9990009991,
          998865.2523523272,
          1000357.9685506276,
          1004564.6238481847,
          1008635.4496742215,
          995879.9027785751,
          987466.6750063093,
          986652.5264056716,
          990316.360754238,
          981360.3948558299,
          986652.5264056716,
          985159.8930302197,
          982038.8796306441,
          985159.8930302197,
          963448.3802361654,
          941344.9263903548,
          945136.8331598007,
          939584.4071035443,
          940126.0608378261,
          944053.3603765005,
          946897.3524466112,
          915207.6746545497,
          907082.1247240077,
          908165.5975073079,
          902883.9569895082,
          892727.0195763306,
          901951.145302475,
          871132.0803677681,
          871630.2563506417,
          868765.9344765755,
          867146.9005377275,
          863161.7207076869,
          847096.5714082808,
          853074.3031478501,
          847968.2653618351,
          844605.8435158782,
          840247.0697041738,
          842862.3035868033,
          845726.7014718526,
          854319.6670940513,
          841118.8396687113,
          847221.0773985076,
          848715.5293361457,
          852825.2151564131,
          850085.4752835569,
          834393.8439548315,
          844107.6675330045,
          833273.0620098402,
          825551.7903411959,
          817456.9246908878,
          808739.3770674791,
          808116.6950943784,
          810233.7529941341,
          777854.2903929019,
          775612.7265029193,
          766646.0908880738,
          760297.7054478342,
          754985.0499977296,
          757399.9201826825,
          754054.9756884538,
          762827.5757728254,
          743161.5828381203,
          743450.7765026608,
          748174.488766476,
          748463.6824310167,
          749813.2724785383,
          744125.6009459196,
          744414.7946104603,
          732075.3745984277,
          730279.5775858583,
          733181.4819671373,
          730279.5775858583,
          732546.6817354165,
          726017.4107148442,
          717583.8496975545,
          720667.0781314203,
          724294.3894214911,
          731821.2194774024,
          730642.3363894765,
          740889.6360756353,
          740073.4564421055,
          747237.5276943984,
          742884.6987970911,
          735176.544688593,
          735539.2481429889
         ]
        },
        {
         "line": {
          "dash": "dot",
          "width": 2
         },
         "mode": "lines",
         "name": "Expected Portfolio",
         "type": "scatter",
         "y": [
          999167.4991674992,
          1002294.1161572543,
          1000144.5661987656,
          1002653.8510354193,
          1004189.8236494841,
          1003177.6949500284,
          999979.3741616212,
          994742.2803269955,
          989740.3503215915,
          981344.6132634371,
          986349.9831759869,
          981820.4148919579,
          979671.556852071,
          979686.5304370807,
          979812.1724593142,
          976749.9322669496,
          976486.9437331744,
          968426.8077509826,
          969358.9145525758,
          967370.7823708776,
          966979.1926249489,
          955624.0116732209,
          956266.9934187714,
          952149.1173246953,
          956345.8544076135,
          951928.261280666,
          952099.6041150624,
          943313.8414730519,
          944000.4479261283,
          948333.1278558812,
          946980.9595004576,
          947849.9523410114,
          941998.2518809506,
          944309.1825705381,
          936119.7527455782,
          933236.7824092173,
          928736.1439831755,
          927123.5963361891,
          925713.6708897768,
          927184.4506067924,
          926037.9394329401,
          926935.6244250638,
          928531.3137224814,
          929944.6023823228,
          928831.6410066102,
          922220.6518549292,
          923604.1773843053,
          922490.1746172835,
          926232.5666144456,
          930657.1344733735,
          931246.2217922333,
          933163.3064741995,
          934321.2535457698,
          944728.0822140289,
          945892.6598274206,
          939384.8915643025,
          937762.1130829047,
          936656.7678758596,
          936885.6578386626,
          936111.6926810137,
          933651.0999384896,
          935715.263381836,
          933344.2069203841,
          933039.0028663222,
          933162.2825831763,
          943684.9152267921,
          943837.2809179499,
          943173.4692071691,
          943382.9644171348,
          943222.0344022614,
          942544.5457313634,
          938468.0573344565,
          885384.4179875978,
          876321.451011557,
          870841.0517060006,
          786706.4363695548,
          791218.6546557539,
          792283.5070425458,
          791694.065498583,
          810310.5285474802,
          801806.7508072245,
          813484.4743568618,
          808609.4972670446,
          802056.8575716319,
          796841.0840165027
         ]
        }
       ],
       "layout": {
        "hovermode": "x unified",
        "legend": {
         "orientation": "h",
         "x": 0,
         "xanchor": "left",
         "y": 1.02,
         "yanchor": "bottom"
        },
        "margin": {
         "b": 60,
         "l": 50,
         "r": 50,
         "t": 60
        },
        "template": {
         "data": {
          "bar": [
           {
            "error_x": {
             "color": "#2a3f5f"
            },
            "error_y": {
             "color": "#2a3f5f"
            },
            "marker": {
             "line": {
              "color": "white",
              "width": 0.5
             },
             "pattern": {
              "fillmode": "overlay",
              "size": 10,
              "solidity": 0.2
             }
            },
            "type": "bar"
           }
          ],
          "barpolar": [
           {
            "marker": {
             "line": {
              "color": "white",
              "width": 0.5
             },
             "pattern": {
              "fillmode": "overlay",
              "size": 10,
              "solidity": 0.2
             }
            },
            "type": "barpolar"
           }
          ],
          "carpet": [
           {
            "aaxis": {
             "endlinecolor": "#2a3f5f",
             "gridcolor": "#C8D4E3",
             "linecolor": "#C8D4E3",
             "minorgridcolor": "#C8D4E3",
             "startlinecolor": "#2a3f5f"
            },
            "baxis": {
             "endlinecolor": "#2a3f5f",
             "gridcolor": "#C8D4E3",
             "linecolor": "#C8D4E3",
             "minorgridcolor": "#C8D4E3",
             "startlinecolor": "#2a3f5f"
            },
            "type": "carpet"
           }
          ],
          "choropleth": [
           {
            "colorbar": {
             "outlinewidth": 0,
             "ticks": ""
            },
            "type": "choropleth"
           }
          ],
          "contour": [
           {
            "colorbar": {
             "outlinewidth": 0,
             "ticks": ""
            },
            "colorscale": [
             [
              0,
              "#0d0887"
             ],
             [
              0.1111111111111111,
              "#46039f"
             ],
             [
              0.2222222222222222,
              "#7201a8"
             ],
             [
              0.3333333333333333,
              "#9c179e"
             ],
             [
              0.4444444444444444,
              "#bd3786"
             ],
             [
              0.5555555555555556,
              "#d8576b"
             ],
             [
              0.6666666666666666,
              "#ed7953"
             ],
             [
              0.7777777777777778,
              "#fb9f3a"
             ],
             [
              0.8888888888888888,
              "#fdca26"
             ],
             [
              1,
              "#f0f921"
             ]
            ],
            "type": "contour"
           }
          ],
          "contourcarpet": [
           {
            "colorbar": {
             "outlinewidth": 0,
             "ticks": ""
            },
            "type": "contourcarpet"
           }
          ],
          "heatmap": [
           {
            "colorbar": {
             "outlinewidth": 0,
             "ticks": ""
            },
            "colorscale": [
             [
              0,
              "#0d0887"
             ],
             [
              0.1111111111111111,
              "#46039f"
             ],
             [
              0.2222222222222222,
              "#7201a8"
             ],
             [
              0.3333333333333333,
              "#9c179e"
             ],
             [
              0.4444444444444444,
              "#bd3786"
             ],
             [
              0.5555555555555556,
              "#d8576b"
             ],
             [
              0.6666666666666666,
              "#ed7953"
             ],
             [
              0.7777777777777778,
              "#fb9f3a"
             ],
             [
              0.8888888888888888,
              "#fdca26"
             ],
             [
              1,
              "#f0f921"
             ]
            ],
            "type": "heatmap"
           }
          ],
          "heatmapgl": [
           {
            "colorbar": {
             "outlinewidth": 0,
             "ticks": ""
            },
            "colorscale": [
             [
              0,
              "#0d0887"
             ],
             [
              0.1111111111111111,
              "#46039f"
             ],
             [
              0.2222222222222222,
              "#7201a8"
             ],
             [
              0.3333333333333333,
              "#9c179e"
             ],
             [
              0.4444444444444444,
              "#bd3786"
             ],
             [
              0.5555555555555556,
              "#d8576b"
             ],
             [
              0.6666666666666666,
              "#ed7953"
             ],
             [
              0.7777777777777778,
              "#fb9f3a"
             ],
             [
              0.8888888888888888,
              "#fdca26"
             ],
             [
              1,
              "#f0f921"
             ]
            ],
            "type": "heatmapgl"
           }
          ],
          "histogram": [
           {
            "marker": {
             "pattern": {
              "fillmode": "overlay",
              "size": 10,
              "solidity": 0.2
             }
            },
            "type": "histogram"
           }
          ],
          "histogram2d": [
           {
            "colorbar": {
             "outlinewidth": 0,
             "ticks": ""
            },
            "colorscale": [
             [
              0,
              "#0d0887"
             ],
             [
              0.1111111111111111,
              "#46039f"
             ],
             [
              0.2222222222222222,
              "#7201a8"
             ],
             [
              0.3333333333333333,
              "#9c179e"
             ],
             [
              0.4444444444444444,
              "#bd3786"
             ],
             [
              0.5555555555555556,
              "#d8576b"
             ],
             [
              0.6666666666666666,
              "#ed7953"
             ],
             [
              0.7777777777777778,
              "#fb9f3a"
             ],
             [
              0.8888888888888888,
              "#fdca26"
             ],
             [
              1,
              "#f0f921"
             ]
            ],
            "type": "histogram2d"
           }
          ],
          "histogram2dcontour": [
           {
            "colorbar": {
             "outlinewidth": 0,
             "ticks": ""
            },
            "colorscale": [
             [
              0,
              "#0d0887"
             ],
             [
              0.1111111111111111,
              "#46039f"
             ],
             [
              0.2222222222222222,
              "#7201a8"
             ],
             [
              0.3333333333333333,
              "#9c179e"
             ],
             [
              0.4444444444444444,
              "#bd3786"
             ],
             [
              0.5555555555555556,
              "#d8576b"
             ],
             [
              0.6666666666666666,
              "#ed7953"
             ],
             [
              0.7777777777777778,
              "#fb9f3a"
             ],
             [
              0.8888888888888888,
              "#fdca26"
             ],
             [
              1,
              "#f0f921"
             ]
            ],
            "type": "histogram2dcontour"
           }
          ],
          "mesh3d": [
           {
            "colorbar": {
             "outlinewidth": 0,
             "ticks": ""
            },
            "type": "mesh3d"
           }
          ],
          "parcoords": [
           {
            "line": {
             "colorbar": {
              "outlinewidth": 0,
              "ticks": ""
             }
            },
            "type": "parcoords"
           }
          ],
          "pie": [
           {
            "automargin": true,
            "type": "pie"
           }
          ],
          "scatter": [
           {
            "fillpattern": {
             "fillmode": "overlay",
             "size": 10,
             "solidity": 0.2
            },
            "type": "scatter"
           }
          ],
          "scatter3d": [
           {
            "line": {
             "colorbar": {
              "outlinewidth": 0,
              "ticks": ""
             }
            },
            "marker": {
             "colorbar": {
              "outlinewidth": 0,
              "ticks": ""
             }
            },
            "type": "scatter3d"
           }
          ],
          "scattercarpet": [
           {
            "marker": {
             "colorbar": {
              "outlinewidth": 0,
              "ticks": ""
             }
            },
            "type": "scattercarpet"
           }
          ],
          "scattergeo": [
           {
            "marker": {
             "colorbar": {
              "outlinewidth": 0,
              "ticks": ""
             }
            },
            "type": "scattergeo"
           }
          ],
          "scattergl": [
           {
            "marker": {
             "colorbar": {
              "outlinewidth": 0,
              "ticks": ""
             }
            },
            "type": "scattergl"
           }
          ],
          "scattermapbox": [
           {
            "marker": {
             "colorbar": {
              "outlinewidth": 0,
              "ticks": ""
             }
            },
            "type": "scattermapbox"
           }
          ],
          "scatterpolar": [
           {
            "marker": {
             "colorbar": {
              "outlinewidth": 0,
              "ticks": ""
             }
            },
            "type": "scatterpolar"
           }
          ],
          "scatterpolargl": [
           {
            "marker": {
             "colorbar": {
              "outlinewidth": 0,
              "ticks": ""
             }
            },
            "type": "scatterpolargl"
           }
          ],
          "scatterternary": [
           {
            "marker": {
             "colorbar": {
              "outlinewidth": 0,
              "ticks": ""
             }
            },
            "type": "scatterternary"
           }
          ],
          "surface": [
           {
            "colorbar": {
             "outlinewidth": 0,
             "ticks": ""
            },
            "colorscale": [
             [
              0,
              "#0d0887"
             ],
             [
              0.1111111111111111,
              "#46039f"
             ],
             [
              0.2222222222222222,
              "#7201a8"
             ],
             [
              0.3333333333333333,
              "#9c179e"
             ],
             [
              0.4444444444444444,
              "#bd3786"
             ],
             [
              0.5555555555555556,
              "#d8576b"
             ],
             [
              0.6666666666666666,
              "#ed7953"
             ],
             [
              0.7777777777777778,
              "#fb9f3a"
             ],
             [
              0.8888888888888888,
              "#fdca26"
             ],
             [
              1,
              "#f0f921"
             ]
            ],
            "type": "surface"
           }
          ],
          "table": [
           {
            "cells": {
             "fill": {
              "color": "#EBF0F8"
             },
             "line": {
              "color": "white"
             }
            },
            "header": {
             "fill": {
              "color": "#C8D4E3"
             },
             "line": {
              "color": "white"
             }
            },
            "type": "table"
           }
          ]
         },
         "layout": {
          "annotationdefaults": {
           "arrowcolor": "#2a3f5f",
           "arrowhead": 0,
           "arrowwidth": 1
          },
          "autotypenumbers": "strict",
          "coloraxis": {
           "colorbar": {
            "outlinewidth": 0,
            "ticks": ""
           }
          },
          "colorscale": {
           "diverging": [
            [
             0,
             "#8e0152"
            ],
            [
             0.1,
             "#c51b7d"
            ],
            [
             0.2,
             "#de77ae"
            ],
            [
             0.3,
             "#f1b6da"
            ],
            [
             0.4,
             "#fde0ef"
            ],
            [
             0.5,
             "#f7f7f7"
            ],
            [
             0.6,
             "#e6f5d0"
            ],
            [
             0.7,
             "#b8e186"
            ],
            [
             0.8,
             "#7fbc41"
            ],
            [
             0.9,
             "#4d9221"
            ],
            [
             1,
             "#276419"
            ]
           ],
           "sequential": [
            [
             0,
             "#0d0887"
            ],
            [
             0.1111111111111111,
             "#46039f"
            ],
            [
             0.2222222222222222,
             "#7201a8"
            ],
            [
             0.3333333333333333,
             "#9c179e"
            ],
            [
             0.4444444444444444,
             "#bd3786"
            ],
            [
             0.5555555555555556,
             "#d8576b"
            ],
            [
             0.6666666666666666,
             "#ed7953"
            ],
            [
             0.7777777777777778,
             "#fb9f3a"
            ],
            [
             0.8888888888888888,
             "#fdca26"
            ],
            [
             1,
             "#f0f921"
            ]
           ],
           "sequentialminus": [
            [
             0,
             "#0d0887"
            ],
            [
             0.1111111111111111,
             "#46039f"
            ],
            [
             0.2222222222222222,
             "#7201a8"
            ],
            [
             0.3333333333333333,
             "#9c179e"
            ],
            [
             0.4444444444444444,
             "#bd3786"
            ],
            [
             0.5555555555555556,
             "#d8576b"
            ],
            [
             0.6666666666666666,
             "#ed7953"
            ],
            [
             0.7777777777777778,
             "#fb9f3a"
            ],
            [
             0.8888888888888888,
             "#fdca26"
            ],
            [
             1,
             "#f0f921"
            ]
           ]
          },
          "colorway": [
           "#636efa",
           "#EF553B",
           "#00cc96",
           "#ab63fa",
           "#FFA15A",
           "#19d3f3",
           "#FF6692",
           "#B6E880",
           "#FF97FF",
           "#FECB52"
          ],
          "font": {
           "color": "#2a3f5f"
          },
          "geo": {
           "bgcolor": "white",
           "lakecolor": "white",
           "landcolor": "white",
           "showlakes": true,
           "showland": true,
           "subunitcolor": "#C8D4E3"
          },
          "hoverlabel": {
           "align": "left"
          },
          "hovermode": "closest",
          "mapbox": {
           "style": "light"
          },
          "paper_bgcolor": "white",
          "plot_bgcolor": "white",
          "polar": {
           "angularaxis": {
            "gridcolor": "#EBF0F8",
            "linecolor": "#EBF0F8",
            "ticks": ""
           },
           "bgcolor": "white",
           "radialaxis": {
            "gridcolor": "#EBF0F8",
            "linecolor": "#EBF0F8",
            "ticks": ""
           }
          },
          "scene": {
           "xaxis": {
            "backgroundcolor": "white",
            "gridcolor": "#DFE8F3",
            "gridwidth": 2,
            "linecolor": "#EBF0F8",
            "showbackground": true,
            "ticks": "",
            "zerolinecolor": "#EBF0F8"
           },
           "yaxis": {
            "backgroundcolor": "white",
            "gridcolor": "#DFE8F3",
            "gridwidth": 2,
            "linecolor": "#EBF0F8",
            "showbackground": true,
            "ticks": "",
            "zerolinecolor": "#EBF0F8"
           },
           "zaxis": {
            "backgroundcolor": "white",
            "gridcolor": "#DFE8F3",
            "gridwidth": 2,
            "linecolor": "#EBF0F8",
            "showbackground": true,
            "ticks": "",
            "zerolinecolor": "#EBF0F8"
           }
          },
          "shapedefaults": {
           "line": {
            "color": "#2a3f5f"
           }
          },
          "ternary": {
           "aaxis": {
            "gridcolor": "#DFE8F3",
            "linecolor": "#A2B1C6",
            "ticks": ""
           },
           "baxis": {
            "gridcolor": "#DFE8F3",
            "linecolor": "#A2B1C6",
            "ticks": ""
           },
           "bgcolor": "white",
           "caxis": {
            "gridcolor": "#DFE8F3",
            "linecolor": "#A2B1C6",
            "ticks": ""
           }
          },
          "title": {
           "x": 0.05
          },
          "xaxis": {
           "automargin": true,
           "gridcolor": "#EBF0F8",
           "linecolor": "#EBF0F8",
           "ticks": "",
           "title": {
            "standoff": 15
           },
           "zerolinecolor": "#EBF0F8",
           "zerolinewidth": 2
          },
          "yaxis": {
           "automargin": true,
           "gridcolor": "#EBF0F8",
           "linecolor": "#EBF0F8",
           "ticks": "",
           "title": {
            "standoff": 15
           },
           "zerolinecolor": "#EBF0F8",
           "zerolinewidth": 2
          }
         }
        },
        "title": {
         "text": "Portfolio Value by Ticker"
        },
        "xaxis": {
         "rangeslider": {
          "visible": false
         }
        },
        "yaxis": {
         "gridcolor": "rgba(0,0,0,0.08)",
         "showgrid": true
        }
       }
      }
     },
     "metadata": {},
     "output_type": "display_data"
    },
    {
     "data": {
      "application/vnd.plotly.v1+json": {
       "config": {
        "plotlyServerURL": "https://plot.ly"
       },
       "data": [
        {
         "cells": {
          "align": "left",
          "values": [
           [
            "XAUUSD",
            "XAGUSD",
            "ZW1!",
            "AOT",
            "BRN1!",
            "S501!"
           ],
           [
            "972,867.16",
            "1,035,435.40",
            "1,046,105.61",
            "763,618.67",
            "953,037.55",
            "765,729.01"
           ],
           [
            "-27,132.84",
            "35,435.40",
            "46,105.61",
            "-236,381.33",
            "-46,962.45",
            "-234,270.99"
           ],
           [
            "-2.71%",
            "3.54%",
            "4.61%",
            "-23.64%",
            "-4.70%",
            "-23.43%"
           ],
           [
            "0.00%",
            "100.00%",
            "100.00%",
            "33.33%",
            "33.33%",
            "14.29%"
           ],
           [
            "0.00%",
            "3.54%",
            "4.61%",
            "5.36%",
            "3.58%",
            "0.09%"
           ],
           [
            "-0.90%",
            "0.00%",
            "0.00%",
            "-6.62%",
            "-4.14%",
            "-3.92%"
           ],
           [
            "-3.18%",
            "-4.55%",
            "-2.61%",
            "-40.28%",
            "-9.70%",
            "-25.87%"
           ],
           [
            "0.30%",
            "0.43%",
            "0.47%",
            "2.91%",
            "0.73%",
            "1.43%"
           ],
           [
            "3",
            "1",
            "1",
            "9",
            "3",
            "7"
           ]
          ]
         },
         "header": {
          "align": "left",
          "fill": {
           "color": "#F5F5F5"
          },
          "values": [
           "Asset",
           "Final Portfolio Value (Cash)",
           "Total Profit (Cash)",
           "Total Profit (Percentage)",
           "Win Rate",
           "Average Profit (Percentage)",
           "Average Loss (Percentage)",
           "Max Drawdown (Percentage)",
           "Sigma (Period % stdev)",
           "Num Trades"
          ]
         },
         "type": "table"
        }
       ],
       "layout": {
        "margin": {
         "b": 60,
         "l": 50,
         "r": 50,
         "t": 60
        },
        "template": {
         "data": {
          "bar": [
           {
            "error_x": {
             "color": "#2a3f5f"
            },
            "error_y": {
             "color": "#2a3f5f"
            },
            "marker": {
             "line": {
              "color": "white",
              "width": 0.5
             },
             "pattern": {
              "fillmode": "overlay",
              "size": 10,
              "solidity": 0.2
             }
            },
            "type": "bar"
           }
          ],
          "barpolar": [
           {
            "marker": {
             "line": {
              "color": "white",
              "width": 0.5
             },
             "pattern": {
              "fillmode": "overlay",
              "size": 10,
              "solidity": 0.2
             }
            },
            "type": "barpolar"
           }
          ],
          "carpet": [
           {
            "aaxis": {
             "endlinecolor": "#2a3f5f",
             "gridcolor": "#C8D4E3",
             "linecolor": "#C8D4E3",
             "minorgridcolor": "#C8D4E3",
             "startlinecolor": "#2a3f5f"
            },
            "baxis": {
             "endlinecolor": "#2a3f5f",
             "gridcolor": "#C8D4E3",
             "linecolor": "#C8D4E3",
             "minorgridcolor": "#C8D4E3",
             "startlinecolor": "#2a3f5f"
            },
            "type": "carpet"
           }
          ],
          "choropleth": [
           {
            "colorbar": {
             "outlinewidth": 0,
             "ticks": ""
            },
            "type": "choropleth"
           }
          ],
          "contour": [
           {
            "colorbar": {
             "outlinewidth": 0,
             "ticks": ""
            },
            "colorscale": [
             [
              0,
              "#0d0887"
             ],
             [
              0.1111111111111111,
              "#46039f"
             ],
             [
              0.2222222222222222,
              "#7201a8"
             ],
             [
              0.3333333333333333,
              "#9c179e"
             ],
             [
              0.4444444444444444,
              "#bd3786"
             ],
             [
              0.5555555555555556,
              "#d8576b"
             ],
             [
              0.6666666666666666,
              "#ed7953"
             ],
             [
              0.7777777777777778,
              "#fb9f3a"
             ],
             [
              0.8888888888888888,
              "#fdca26"
             ],
             [
              1,
              "#f0f921"
             ]
            ],
            "type": "contour"
           }
          ],
          "contourcarpet": [
           {
            "colorbar": {
             "outlinewidth": 0,
             "ticks": ""
            },
            "type": "contourcarpet"
           }
          ],
          "heatmap": [
           {
            "colorbar": {
             "outlinewidth": 0,
             "ticks": ""
            },
            "colorscale": [
             [
              0,
              "#0d0887"
             ],
             [
              0.1111111111111111,
              "#46039f"
             ],
             [
              0.2222222222222222,
              "#7201a8"
             ],
             [
              0.3333333333333333,
              "#9c179e"
             ],
             [
              0.4444444444444444,
              "#bd3786"
             ],
             [
              0.5555555555555556,
              "#d8576b"
             ],
             [
              0.6666666666666666,
              "#ed7953"
             ],
             [
              0.7777777777777778,
              "#fb9f3a"
             ],
             [
              0.8888888888888888,
              "#fdca26"
             ],
             [
              1,
              "#f0f921"
             ]
            ],
            "type": "heatmap"
           }
          ],
          "heatmapgl": [
           {
            "colorbar": {
             "outlinewidth": 0,
             "ticks": ""
            },
            "colorscale": [
             [
              0,
              "#0d0887"
             ],
             [
              0.1111111111111111,
              "#46039f"
             ],
             [
              0.2222222222222222,
              "#7201a8"
             ],
             [
              0.3333333333333333,
              "#9c179e"
             ],
             [
              0.4444444444444444,
              "#bd3786"
             ],
             [
              0.5555555555555556,
              "#d8576b"
             ],
             [
              0.6666666666666666,
              "#ed7953"
             ],
             [
              0.7777777777777778,
              "#fb9f3a"
             ],
             [
              0.8888888888888888,
              "#fdca26"
             ],
             [
              1,
              "#f0f921"
             ]
            ],
            "type": "heatmapgl"
           }
          ],
          "histogram": [
           {
            "marker": {
             "pattern": {
              "fillmode": "overlay",
              "size": 10,
              "solidity": 0.2
             }
            },
            "type": "histogram"
           }
          ],
          "histogram2d": [
           {
            "colorbar": {
             "outlinewidth": 0,
             "ticks": ""
            },
            "colorscale": [
             [
              0,
              "#0d0887"
             ],
             [
              0.1111111111111111,
              "#46039f"
             ],
             [
              0.2222222222222222,
              "#7201a8"
             ],
             [
              0.3333333333333333,
              "#9c179e"
             ],
             [
              0.4444444444444444,
              "#bd3786"
             ],
             [
              0.5555555555555556,
              "#d8576b"
             ],
             [
              0.6666666666666666,
              "#ed7953"
             ],
             [
              0.7777777777777778,
              "#fb9f3a"
             ],
             [
              0.8888888888888888,
              "#fdca26"
             ],
             [
              1,
              "#f0f921"
             ]
            ],
            "type": "histogram2d"
           }
          ],
          "histogram2dcontour": [
           {
            "colorbar": {
             "outlinewidth": 0,
             "ticks": ""
            },
            "colorscale": [
             [
              0,
              "#0d0887"
             ],
             [
              0.1111111111111111,
              "#46039f"
             ],
             [
              0.2222222222222222,
              "#7201a8"
             ],
             [
              0.3333333333333333,
              "#9c179e"
             ],
             [
              0.4444444444444444,
              "#bd3786"
             ],
             [
              0.5555555555555556,
              "#d8576b"
             ],
             [
              0.6666666666666666,
              "#ed7953"
             ],
             [
              0.7777777777777778,
              "#fb9f3a"
             ],
             [
              0.8888888888888888,
              "#fdca26"
             ],
             [
              1,
              "#f0f921"
             ]
            ],
            "type": "histogram2dcontour"
           }
          ],
          "mesh3d": [
           {
            "colorbar": {
             "outlinewidth": 0,
             "ticks": ""
            },
            "type": "mesh3d"
           }
          ],
          "parcoords": [
           {
            "line": {
             "colorbar": {
              "outlinewidth": 0,
              "ticks": ""
             }
            },
            "type": "parcoords"
           }
          ],
          "pie": [
           {
            "automargin": true,
            "type": "pie"
           }
          ],
          "scatter": [
           {
            "fillpattern": {
             "fillmode": "overlay",
             "size": 10,
             "solidity": 0.2
            },
            "type": "scatter"
           }
          ],
          "scatter3d": [
           {
            "line": {
             "colorbar": {
              "outlinewidth": 0,
              "ticks": ""
             }
            },
            "marker": {
             "colorbar": {
              "outlinewidth": 0,
              "ticks": ""
             }
            },
            "type": "scatter3d"
           }
          ],
          "scattercarpet": [
           {
            "marker": {
             "colorbar": {
              "outlinewidth": 0,
              "ticks": ""
             }
            },
            "type": "scattercarpet"
           }
          ],
          "scattergeo": [
           {
            "marker": {
             "colorbar": {
              "outlinewidth": 0,
              "ticks": ""
             }
            },
            "type": "scattergeo"
           }
          ],
          "scattergl": [
           {
            "marker": {
             "colorbar": {
              "outlinewidth": 0,
              "ticks": ""
             }
            },
            "type": "scattergl"
           }
          ],
          "scattermapbox": [
           {
            "marker": {
             "colorbar": {
              "outlinewidth": 0,
              "ticks": ""
             }
            },
            "type": "scattermapbox"
           }
          ],
          "scatterpolar": [
           {
            "marker": {
             "colorbar": {
              "outlinewidth": 0,
              "ticks": ""
             }
            },
            "type": "scatterpolar"
           }
          ],
          "scatterpolargl": [
           {
            "marker": {
             "colorbar": {
              "outlinewidth": 0,
              "ticks": ""
             }
            },
            "type": "scatterpolargl"
           }
          ],
          "scatterternary": [
           {
            "marker": {
             "colorbar": {
              "outlinewidth": 0,
              "ticks": ""
             }
            },
            "type": "scatterternary"
           }
          ],
          "surface": [
           {
            "colorbar": {
             "outlinewidth": 0,
             "ticks": ""
            },
            "colorscale": [
             [
              0,
              "#0d0887"
             ],
             [
              0.1111111111111111,
              "#46039f"
             ],
             [
              0.2222222222222222,
              "#7201a8"
             ],
             [
              0.3333333333333333,
              "#9c179e"
             ],
             [
              0.4444444444444444,
              "#bd3786"
             ],
             [
              0.5555555555555556,
              "#d8576b"
             ],
             [
              0.6666666666666666,
              "#ed7953"
             ],
             [
              0.7777777777777778,
              "#fb9f3a"
             ],
             [
              0.8888888888888888,
              "#fdca26"
             ],
             [
              1,
              "#f0f921"
             ]
            ],
            "type": "surface"
           }
          ],
          "table": [
           {
            "cells": {
             "fill": {
              "color": "#EBF0F8"
             },
             "line": {
              "color": "white"
             }
            },
            "header": {
             "fill": {
              "color": "#C8D4E3"
             },
             "line": {
              "color": "white"
             }
            },
            "type": "table"
           }
          ]
         },
         "layout": {
          "annotationdefaults": {
           "arrowcolor": "#2a3f5f",
           "arrowhead": 0,
           "arrowwidth": 1
          },
          "autotypenumbers": "strict",
          "coloraxis": {
           "colorbar": {
            "outlinewidth": 0,
            "ticks": ""
           }
          },
          "colorscale": {
           "diverging": [
            [
             0,
             "#8e0152"
            ],
            [
             0.1,
             "#c51b7d"
            ],
            [
             0.2,
             "#de77ae"
            ],
            [
             0.3,
             "#f1b6da"
            ],
            [
             0.4,
             "#fde0ef"
            ],
            [
             0.5,
             "#f7f7f7"
            ],
            [
             0.6,
             "#e6f5d0"
            ],
            [
             0.7,
             "#b8e186"
            ],
            [
             0.8,
             "#7fbc41"
            ],
            [
             0.9,
             "#4d9221"
            ],
            [
             1,
             "#276419"
            ]
           ],
           "sequential": [
            [
             0,
             "#0d0887"
            ],
            [
             0.1111111111111111,
             "#46039f"
            ],
            [
             0.2222222222222222,
             "#7201a8"
            ],
            [
             0.3333333333333333,
             "#9c179e"
            ],
            [
             0.4444444444444444,
             "#bd3786"
            ],
            [
             0.5555555555555556,
             "#d8576b"
            ],
            [
             0.6666666666666666,
             "#ed7953"
            ],
            [
             0.7777777777777778,
             "#fb9f3a"
            ],
            [
             0.8888888888888888,
             "#fdca26"
            ],
            [
             1,
             "#f0f921"
            ]
           ],
           "sequentialminus": [
            [
             0,
             "#0d0887"
            ],
            [
             0.1111111111111111,
             "#46039f"
            ],
            [
             0.2222222222222222,
             "#7201a8"
            ],
            [
             0.3333333333333333,
             "#9c179e"
            ],
            [
             0.4444444444444444,
             "#bd3786"
            ],
            [
             0.5555555555555556,
             "#d8576b"
            ],
            [
             0.6666666666666666,
             "#ed7953"
            ],
            [
             0.7777777777777778,
             "#fb9f3a"
            ],
            [
             0.8888888888888888,
             "#fdca26"
            ],
            [
             1,
             "#f0f921"
            ]
           ]
          },
          "colorway": [
           "#636efa",
           "#EF553B",
           "#00cc96",
           "#ab63fa",
           "#FFA15A",
           "#19d3f3",
           "#FF6692",
           "#B6E880",
           "#FF97FF",
           "#FECB52"
          ],
          "font": {
           "color": "#2a3f5f"
          },
          "geo": {
           "bgcolor": "white",
           "lakecolor": "white",
           "landcolor": "white",
           "showlakes": true,
           "showland": true,
           "subunitcolor": "#C8D4E3"
          },
          "hoverlabel": {
           "align": "left"
          },
          "hovermode": "closest",
          "mapbox": {
           "style": "light"
          },
          "paper_bgcolor": "white",
          "plot_bgcolor": "white",
          "polar": {
           "angularaxis": {
            "gridcolor": "#EBF0F8",
            "linecolor": "#EBF0F8",
            "ticks": ""
           },
           "bgcolor": "white",
           "radialaxis": {
            "gridcolor": "#EBF0F8",
            "linecolor": "#EBF0F8",
            "ticks": ""
           }
          },
          "scene": {
           "xaxis": {
            "backgroundcolor": "white",
            "gridcolor": "#DFE8F3",
            "gridwidth": 2,
            "linecolor": "#EBF0F8",
            "showbackground": true,
            "ticks": "",
            "zerolinecolor": "#EBF0F8"
           },
           "yaxis": {
            "backgroundcolor": "white",
            "gridcolor": "#DFE8F3",
            "gridwidth": 2,
            "linecolor": "#EBF0F8",
            "showbackground": true,
            "ticks": "",
            "zerolinecolor": "#EBF0F8"
           },
           "zaxis": {
            "backgroundcolor": "white",
            "gridcolor": "#DFE8F3",
            "gridwidth": 2,
            "linecolor": "#EBF0F8",
            "showbackground": true,
            "ticks": "",
            "zerolinecolor": "#EBF0F8"
           }
          },
          "shapedefaults": {
           "line": {
            "color": "#2a3f5f"
           }
          },
          "ternary": {
           "aaxis": {
            "gridcolor": "#DFE8F3",
            "linecolor": "#A2B1C6",
            "ticks": ""
           },
           "baxis": {
            "gridcolor": "#DFE8F3",
            "linecolor": "#A2B1C6",
            "ticks": ""
           },
           "bgcolor": "white",
           "caxis": {
            "gridcolor": "#DFE8F3",
            "linecolor": "#A2B1C6",
            "ticks": ""
           }
          },
          "title": {
           "x": 0.05
          },
          "xaxis": {
           "automargin": true,
           "gridcolor": "#EBF0F8",
           "linecolor": "#EBF0F8",
           "ticks": "",
           "title": {
            "standoff": 15
           },
           "zerolinecolor": "#EBF0F8",
           "zerolinewidth": 2
          },
          "yaxis": {
           "automargin": true,
           "gridcolor": "#EBF0F8",
           "linecolor": "#EBF0F8",
           "ticks": "",
           "title": {
            "standoff": 15
           },
           "zerolinecolor": "#EBF0F8",
           "zerolinewidth": 2
          }
         }
        },
        "title": {
         "text": "Performance Summary"
        }
       }
      }
     },
     "metadata": {},
     "output_type": "display_data"
    },
    {
     "data": {
      "application/vnd.plotly.v1+json": {
       "config": {
        "plotlyServerURL": "https://plot.ly"
       },
       "data": [
        {
         "hovertemplate": "%{text}<extra></extra>",
         "marker": {
          "color": [
           -2.7132838205735865,
           3.5435400647423343,
           4.610560577258105,
           -23.63813265735648,
           -4.696244797234749,
           -23.427098617573982
          ],
          "colorscale": [
           [
            0,
            "#440154"
           ],
           [
            0.1111111111111111,
            "#482878"
           ],
           [
            0.2222222222222222,
            "#3e4989"
           ],
           [
            0.3333333333333333,
            "#31688e"
           ],
           [
            0.4444444444444444,
            "#26828e"
           ],
           [
            0.5555555555555556,
            "#1f9e89"
           ],
           [
            0.6666666666666666,
            "#35b779"
           ],
           [
            0.7777777777777778,
            "#6ece58"
           ],
           [
            0.8888888888888888,
            "#b5de2b"
           ],
           [
            1,
            "#fde725"
           ]
          ],
          "size": 10
         },
         "mode": "markers",
         "name": "Assets",
         "text": [
          "XAUUSD<br>σ=0.30%<br>Ret=-2.71%",
          "XAGUSD<br>σ=0.43%<br>Ret=3.54%",
          "ZW1!<br>σ=0.47%<br>Ret=4.61%",
          "AOT<br>σ=2.91%<br>Ret=-23.64%",
          "BRN1!<br>σ=0.73%<br>Ret=-4.70%",
          "S501!<br>σ=1.43%<br>Ret=-23.43%"
         ],
         "type": "scatter",
         "x": [
          0.2998521230659653,
          0.43039472487735414,
          0.4693843218262886,
          2.9139253200998545,
          0.7306135134533915,
          1.432950721809757
         ],
         "y": [
          -2.7132838205735865,
          3.5435400647423343,
          4.610560577258105,
          -23.63813265735648,
          -4.696244797234749,
          -23.427098617573982
         ]
        },
        {
         "mode": "lines",
         "name": "Poly fit (deg=2)",
         "type": "scatter",
         "x": [
          0.2998521230659653,
          0.312988169282216,
          0.3261242154984667,
          0.3392602617147174,
          0.3523963079309681,
          0.3655323541472188,
          0.3786684003634695,
          0.3918044465797202,
          0.4049404927959709,
          0.4180765390122216,
          0.4312125852284723,
          0.44434863144472303,
          0.45748467766097367,
          0.4706207238772244,
          0.48375677009347506,
          0.4968928163097258,
          0.5100288625259765,
          0.5231649087422272,
          0.5363009549584778,
          0.5494370011747286,
          0.5625730473909794,
          0.57570909360723,
          0.5888451398234806,
          0.6019811860397314,
          0.6151172322559821,
          0.6282532784722328,
          0.6413893246884834,
          0.6545253709047342,
          0.6676614171209849,
          0.6807974633372356,
          0.6939335095534862,
          0.707069555769737,
          0.7202056019859877,
          0.7333416482022383,
          0.746477694418489,
          0.7596137406347397,
          0.7727497868509905,
          0.7858858330672411,
          0.7990218792834918,
          0.8121579254997425,
          0.8252939717159933,
          0.8384300179322439,
          0.8515660641484947,
          0.8647021103647453,
          0.8778381565809961,
          0.8909742027972467,
          0.9041102490134975,
          0.9172462952297481,
          0.9303823414459989,
          0.9435183876622495,
          0.9566544338785002,
          0.9697904800947509,
          0.9829265263110016,
          0.9960625725272523,
          1.0091986187435031,
          1.0223346649597538,
          1.0354707111760044,
          1.048606757392255,
          1.0617428036085057,
          1.0748788498247563,
          1.0880148960410072,
          1.1011509422572578,
          1.1142869884735087,
          1.1274230346897594,
          1.14055908090601,
          1.1536951271222606,
          1.1668311733385113,
          1.1799672195547621,
          1.1931032657710128,
          1.2062393119872636,
          1.2193753582035143,
          1.232511404419765,
          1.2456474506360156,
          1.2587834968522662,
          1.2719195430685168,
          1.2850555892847677,
          1.2981916355010183,
          1.3113276817172692,
          1.3244637279335199,
          1.3375997741497705,
          1.3507358203660211,
          1.3638718665822718,
          1.3770079127985224,
          1.390143959014773,
          1.4032800052310241,
          1.4164160514472748,
          1.4295520976635254,
          1.442688143879776,
          1.4558241900960267,
          1.4689602363122773,
          1.482096282528528,
          1.4952323287447786,
          1.5083683749610297,
          1.5215044211772804,
          1.534640467393531,
          1.5477765136097816,
          1.5609125598260323,
          1.574048606042283,
          1.5871846522585336,
          1.6003206984747846,
          1.6134567446910353,
          1.626592790907286,
          1.6397288371235366,
          1.6528648833397872,
          1.6660009295560378,
          1.6791369757722885,
          1.6922730219885391,
          1.7054090682047902,
          1.7185451144210409,
          1.7316811606372915,
          1.7448172068535421,
          1.7579532530697928,
          1.7710892992860434,
          1.784225345502294,
          1.7973613917185447,
          1.8104974379347958,
          1.8236334841510464,
          1.836769530367297,
          1.8499055765835477,
          1.8630416227997983,
          1.876177669016049,
          1.8893137152322996,
          1.9024497614485503,
          1.9155858076648014,
          1.928721853881052,
          1.9418579000973026,
          1.9549939463135533,
          1.968129992529804,
          1.9812660387460546,
          1.9944020849623052,
          2.0075381311785563,
          2.020674177394807,
          2.0338102236110576,
          2.046946269827308,
          2.060082316043559,
          2.0732183622598095,
          2.08635440847606,
          2.0994904546923108,
          2.112626500908562,
          2.1257625471248125,
          2.138898593341063,
          2.1520346395573138,
          2.1651706857735644,
          2.178306731989815,
          2.1914427782060657,
          2.2045788244223163,
          2.2177148706385674,
          2.230850916854818,
          2.2439869630710687,
          2.2571230092873193,
          2.27025905550357,
          2.2833951017198206,
          2.2965311479360713,
          2.3096671941523224,
          2.322803240368573,
          2.3359392865848236,
          2.3490753328010743,
          2.362211379017325,
          2.3753474252335756,
          2.388483471449826,
          2.4016195176660773,
          2.414755563882328,
          2.4278916100985786,
          2.441027656314829,
          2.45416370253108,
          2.4672997487473305,
          2.480435794963581,
          2.493571841179832,
          2.506707887396083,
          2.5198439336123335,
          2.532979979828584,
          2.546116026044835,
          2.5592520722610854,
          2.572388118477336,
          2.5855241646935867,
          2.598660210909838,
          2.6117962571260884,
          2.624932303342339,
          2.6380683495585897,
          2.6512043957748403,
          2.664340441991091,
          2.6774764882073416,
          2.6906125344235923,
          2.7037485806398434,
          2.716884626856094,
          2.7300206730723446,
          2.7431567192885953,
          2.756292765504846,
          2.7694288117210966,
          2.782564857937347,
          2.795700904153598,
          2.808836950369849,
          2.8219729965860996,
          2.83510904280235,
          2.848245089018601,
          2.8613811352348515,
          2.874517181451102,
          2.8876532276673528,
          2.900789273883604,
          2.9139253200998545
         ],
         "y": [
          4.694212947045678,
          4.293752726934967,
          3.8958748172557627,
          3.5005792180080704,
          3.1078659291918864,
          2.7177349508072073,
          2.330186282854042,
          1.9452199253323847,
          1.5628358782422378,
          1.1830341415835992,
          0.805814715356469,
          0.4311775995608489,
          0.05912279419673716,
          -0.31034970073586443,
          -0.6772398852369559,
          -1.0415477593065408,
          -1.4032733229446137,
          -1.7624165761511783,
          -2.1189775189262328,
          -2.4729561512697806,
          -2.824352473181822,
          -3.1731664846623495,
          -3.5193981857113634,
          -3.863047576328878,
          -4.204114656514879,
          -4.542599426269366,
          -4.87850188559235,
          -5.2118220344838235,
          -5.542559872943787,
          -5.870715400972241,
          -6.196288618569184,
          -6.519279525734621,
          -6.8396881224685515,
          -7.157514408770965,
          -7.472758384641875,
          -7.785420050081271,
          -8.095499405089164,
          -8.402996449665544,
          -8.707911183810413,
          -9.010243607523776,
          -9.309993720805632,
          -9.607161523655972,
          -9.901747016074808,
          -10.193750198062133,
          -10.48317106961795,
          -10.770009630742258,
          -11.054265881435054,
          -11.33593982169634,
          -11.615031451526121,
          -11.89154077092439,
          -12.165467779891152,
          -12.436812478426404,
          -12.705574866530146,
          -12.971754944202377,
          -13.235352711443102,
          -13.49636816825232,
          -13.754801314630026,
          -14.01065215057622,
          -14.263920676090901,
          -14.514606891174083,
          -14.762710795825754,
          -15.008232390045915,
          -15.251171673834566,
          -15.491528647191704,
          -15.729303310117334,
          -15.964495662611458,
          -16.197105704674073,
          -16.42713343630518,
          -16.65457885750477,
          -16.879441968272857,
          -17.10172276860943,
          -17.3214212585145,
          -17.538537437988055,
          -17.753071307030105,
          -17.96502286564064,
          -18.17439211381968,
          -18.381179051567194,
          -18.585383678883204,
          -18.787005995767714,
          -18.986046002220704,
          -19.182503698242186,
          -19.376379083832163,
          -19.567672158990625,
          -19.756382923717588,
          -19.942511378013037,
          -20.126057521876973,
          -20.307021355309402,
          -20.485402878310317,
          -20.661202090879726,
          -20.834418993017636,
          -21.005053584724024,
          -21.1731058659989,
          -21.33857583684228,
          -21.501463497254143,
          -21.661768847234498,
          -21.819491886783347,
          -21.97463261590068,
          -22.127191034586502,
          -22.277167142840824,
          -22.42456094066364,
          -22.56937242805494,
          -22.711601605014735,
          -22.85124847154301,
          -22.988313027639776,
          -23.122795273305044,
          -23.2546952085388,
          -23.38401283334104,
          -23.51074814771178,
          -23.634901151651007,
          -23.75647184515872,
          -23.875460228234928,
          -23.99186630087963,
          -24.105690063092815,
          -24.216931514874496,
          -24.325590656224662,
          -24.43166748714333,
          -24.535162007630483,
          -24.636074217686122,
          -24.734404117310262,
          -24.830151706502882,
          -24.923316985263995,
          -25.0138999535936,
          -25.1019006114917,
          -25.187318958958286,
          -25.270154995993373,
          -25.35040872259694,
          -25.42808013876899,
          -25.50316924450955,
          -25.57567603981859,
          -25.64560052469612,
          -25.712942699142147,
          -25.77770256315666,
          -25.839880116739664,
          -25.899475359891163,
          -25.956488292611148,
          -26.010918914899626,
          -26.062767226756584,
          -26.11203322818205,
          -26.158716919175994,
          -26.20281829973844,
          -26.24433736986937,
          -26.283274129568795,
          -26.3196285788367,
          -26.35340071767311,
          -26.384590546078,
          -26.413198064051386,
          -26.439223271593264,
          -26.462666168703635,
          -26.483526755382485,
          -26.501805031629836,
          -26.517500997445673,
          -26.530614652830003,
          -26.54114599778282,
          -26.549095032304137,
          -26.554461756393934,
          -26.55724617005223,
          -26.557448273279014,
          -26.55506806607429,
          -26.550105548438054,
          -26.54256072037031,
          -26.532433581871054,
          -26.519724132940297,
          -26.50443237357802,
          -26.486558303784243,
          -26.466101923558952,
          -26.443063232902155,
          -26.417442231813844,
          -26.389238920294027,
          -26.358453298342695,
          -26.325085365959865,
          -26.289135123145513,
          -26.25060256989967,
          -26.209487706222298,
          -26.165790532113434,
          -26.11951104757304,
          -26.070649252601157,
          -26.019205147197752,
          -25.965178731362847,
          -25.908570005096422,
          -25.849378968398497,
          -25.78760562126906,
          -25.723249963708106,
          -25.656311995715654,
          -25.58679171729169,
          -25.51468912843621,
          -25.440004229149224,
          -25.36273701943074,
          -25.282887499280733,
          -25.200455668699227,
          -25.1154415276862,
          -25.027845076241675,
          -24.93766631436563,
          -24.844905242058083,
          -24.749561859319023,
          -24.651636166148464,
          -24.551128162546384,
          -24.448037848512804,
          -24.342365224047704,
          -24.234110289151104,
          -24.123273043822984
         ]
        },
        {
         "line": {
          "dash": "dash"
         },
         "mode": "lines",
         "name": "Tangent at σ=0.47% (slope=-28.05)",
         "type": "scatter",
         "x": [
          0.2998521230659653,
          0.312988169282216,
          0.3261242154984667,
          0.3392602617147174,
          0.3523963079309681,
          0.3655323541472188,
          0.3786684003634695,
          0.3918044465797202,
          0.4049404927959709,
          0.4180765390122216,
          0.4312125852284723,
          0.44434863144472303,
          0.45748467766097367,
          0.4706207238772244,
          0.48375677009347506,
          0.4968928163097258,
          0.5100288625259765,
          0.5231649087422272,
          0.5363009549584778,
          0.5494370011747286,
          0.5625730473909794,
          0.57570909360723,
          0.5888451398234806,
          0.6019811860397314,
          0.6151172322559821,
          0.6282532784722328,
          0.6413893246884834,
          0.6545253709047342,
          0.6676614171209849,
          0.6807974633372356,
          0.6939335095534862,
          0.707069555769737,
          0.7202056019859877,
          0.7333416482022383,
          0.746477694418489,
          0.7596137406347397,
          0.7727497868509905,
          0.7858858330672411,
          0.7990218792834918,
          0.8121579254997425,
          0.8252939717159933,
          0.8384300179322439,
          0.8515660641484947,
          0.8647021103647453,
          0.8778381565809961,
          0.8909742027972467,
          0.9041102490134975,
          0.9172462952297481,
          0.9303823414459989,
          0.9435183876622495,
          0.9566544338785002,
          0.9697904800947509,
          0.9829265263110016,
          0.9960625725272523,
          1.0091986187435031,
          1.0223346649597538,
          1.0354707111760044,
          1.048606757392255,
          1.0617428036085057,
          1.0748788498247563,
          1.0880148960410072,
          1.1011509422572578,
          1.1142869884735087,
          1.1274230346897594,
          1.14055908090601,
          1.1536951271222606,
          1.1668311733385113,
          1.1799672195547621,
          1.1931032657710128,
          1.2062393119872636,
          1.2193753582035143,
          1.232511404419765,
          1.2456474506360156,
          1.2587834968522662,
          1.2719195430685168,
          1.2850555892847677,
          1.2981916355010183,
          1.3113276817172692,
          1.3244637279335199,
          1.3375997741497705,
          1.3507358203660211,
          1.3638718665822718,
          1.3770079127985224,
          1.390143959014773,
          1.4032800052310241,
          1.4164160514472748,
          1.4295520976635254,
          1.442688143879776,
          1.4558241900960267,
          1.4689602363122773,
          1.482096282528528,
          1.4952323287447786,
          1.5083683749610297,
          1.5215044211772804,
          1.534640467393531,
          1.5477765136097816,
          1.5609125598260323,
          1.574048606042283,
          1.5871846522585336,
          1.6003206984747846,
          1.6134567446910353,
          1.626592790907286,
          1.6397288371235366,
          1.6528648833397872,
          1.6660009295560378,
          1.6791369757722885,
          1.6922730219885391,
          1.7054090682047902,
          1.7185451144210409,
          1.7316811606372915,
          1.7448172068535421,
          1.7579532530697928,
          1.7710892992860434,
          1.784225345502294,
          1.7973613917185447,
          1.8104974379347958,
          1.8236334841510464,
          1.836769530367297,
          1.8499055765835477,
          1.8630416227997983,
          1.876177669016049,
          1.8893137152322996,
          1.9024497614485503,
          1.9155858076648014,
          1.928721853881052,
          1.9418579000973026,
          1.9549939463135533,
          1.968129992529804,
          1.9812660387460546,
          1.9944020849623052,
          2.0075381311785563,
          2.020674177394807,
          2.0338102236110576,
          2.046946269827308,
          2.060082316043559,
          2.0732183622598095,
          2.08635440847606,
          2.0994904546923108,
          2.112626500908562,
          2.1257625471248125,
          2.138898593341063,
          2.1520346395573138,
          2.1651706857735644,
          2.178306731989815,
          2.1914427782060657,
          2.2045788244223163,
          2.2177148706385674,
          2.230850916854818,
          2.2439869630710687,
          2.2571230092873193,
          2.27025905550357,
          2.2833951017198206,
          2.2965311479360713,
          2.3096671941523224,
          2.322803240368573,
          2.3359392865848236,
          2.3490753328010743,
          2.362211379017325,
          2.3753474252335756,
          2.388483471449826,
          2.4016195176660773,
          2.414755563882328,
          2.4278916100985786,
          2.441027656314829,
          2.45416370253108,
          2.4672997487473305,
          2.480435794963581,
          2.493571841179832,
          2.506707887396083,
          2.5198439336123335,
          2.532979979828584,
          2.546116026044835,
          2.5592520722610854,
          2.572388118477336,
          2.5855241646935867,
          2.598660210909838,
          2.6117962571260884,
          2.624932303342339,
          2.6380683495585897,
          2.6512043957748403,
          2.664340441991091,
          2.6774764882073416,
          2.6906125344235923,
          2.7037485806398434,
          2.716884626856094,
          2.7300206730723446,
          2.7431567192885953,
          2.756292765504846,
          2.7694288117210966,
          2.782564857937347,
          2.795700904153598,
          2.808836950369849,
          2.8219729965860996,
          2.83510904280235,
          2.848245089018601,
          2.8613811352348515,
          2.874517181451102,
          2.8876532276673528,
          2.900789273883604,
          2.9139253200998545
         ],
         "y": [
          9.365400548463484,
          8.996976154340377,
          8.628551760217272,
          8.260127366094167,
          7.891702971971062,
          7.523278577847956,
          7.154854183724851,
          6.786429789601746,
          6.41800539547864,
          6.049581001355534,
          5.681156607232429,
          5.312732213109323,
          4.944307818986219,
          4.575883424863112,
          4.207459030740008,
          3.839034636616901,
          3.4706102424937972,
          3.10218584837069,
          2.733761454247586,
          2.3653370601244794,
          1.9969126660013723,
          1.6284882718782683,
          1.2600638777551647,
          0.8916394836320576,
          0.5232150895089509,
          0.1547906953858469,
          -0.21363369873725713,
          -0.5820580928603638,
          -0.9504824869834705,
          -1.3189068811065745,
          -1.6873312752296785,
          -2.055755669352785,
          -2.4241800634758928,
          -2.792604457598996,
          -3.1610288517221,
          -3.5294532458452066,
          -3.8978776399683133,
          -4.266302034091418,
          -4.634726428214521,
          -5.003150822337628,
          -5.371575216460735,
          -5.73999961058384,
          -6.108424004706946,
          -6.476848398830049,
          -6.845272792953158,
          -7.213697187076261,
          -7.582121581199368,
          -7.9505459753224725,
          -8.31897036944558,
          -8.687394763568683,
          -9.05581915769179,
          -9.424243551814893,
          -9.792667945938003,
          -10.161092340061106,
          -10.529516734184217,
          -10.89794112830732,
          -11.266365522430423,
          -11.634789916553526,
          -12.00321431067663,
          -12.371638704799732,
          -12.740063098922842,
          -13.10848749304595,
          -13.47691188716906,
          -13.845336281292163,
          -14.213760675415266,
          -14.582185069538369,
          -14.950609463661472,
          -15.319033857784582,
          -15.687458251907689,
          -16.055882646030796,
          -16.424307040153902,
          -16.792731434277005,
          -17.16115582840011,
          -17.52958022252321,
          -17.898004616646315,
          -18.266429010769425,
          -18.63485340489253,
          -19.003277799015642,
          -19.371702193138745,
          -19.740126587261848,
          -20.10855098138495,
          -20.476975375508054,
          -20.84539976963116,
          -21.213824163754264,
          -21.582248557877378,
          -21.950672952000485,
          -22.319097346123588,
          -22.68752174024669,
          -23.055946134369794,
          -23.424370528492897,
          -23.792794922616004,
          -24.161219316739107,
          -24.529643710862224,
          -24.898068104985327,
          -25.26649249910843,
          -25.634916893231534,
          -26.003341287354637,
          -26.371765681477743,
          -26.740190075600847,
          -27.10861446972396,
          -27.477038863847064,
          -27.845463257970167,
          -28.213887652093277,
          -28.58231204621638,
          -28.950736440339483,
          -29.319160834462586,
          -29.68758522858569,
          -30.056009622708807,
          -30.42443401683191,
          -30.792858410955013,
          -31.161282805078116,
          -31.52970719920122,
          -31.898131593324322,
          -32.266555987447425,
          -32.63498038157053,
          -33.003404775693646,
          -33.37182916981675,
          -33.74025356393986,
          -34.10867795806296,
          -34.477102352186066,
          -34.84552674630917,
          -35.21395114043227,
          -35.582375534555375,
          -35.95079992867849,
          -36.319224322801595,
          -36.6876487169247,
          -37.0560731110478,
          -37.424497505170905,
          -37.79292189929401,
          -38.16134629341711,
          -38.52977068754023,
          -38.89819508166333,
          -39.26661947578644,
          -39.635043869909545,
          -40.00346826403265,
          -40.37189265815575,
          -40.740317052278854,
          -41.10874144640196,
          -41.477165840525075,
          -41.84559023464818,
          -42.21401462877128,
          -42.582439022894384,
          -42.95086341701749,
          -43.31928781114059,
          -43.68771220526369,
          -44.056136599386804,
          -44.424560993509914,
          -44.792985387633024,
          -45.16140978175613,
          -45.52983417587923,
          -45.898258570002334,
          -46.26668296412544,
          -46.63510735824854,
          -47.00353175237166,
          -47.37195614649476,
          -47.74038054061786,
          -48.10880493474097,
          -48.47722932886407,
          -48.84565372298717,
          -49.214078117110276,
          -49.58250251123339,
          -49.950926905356496,
          -50.31935129947961,
          -50.68777569360271,
          -51.05620008772581,
          -51.424624481848916,
          -51.79304887597202,
          -52.16147327009514,
          -52.52989766421824,
          -52.89832205834134,
          -53.266746452464446,
          -53.63517084658755,
          -54.00359524071065,
          -54.372019634833755,
          -54.74044402895686,
          -55.108868423079976,
          -55.47729281720308,
          -55.84571721132619,
          -56.21414160544929,
          -56.582565999572395,
          -56.9509903936955,
          -57.3194147878186,
          -57.687839181941705,
          -58.05626357606482,
          -58.424687970187925,
          -58.79311236431103,
          -59.16153675843413,
          -59.52996115255724,
          -59.89838554668034,
          -60.26680994080345,
          -60.635234334926544,
          -61.00365872904967,
          -61.372083123172764,
          -61.740507517295875,
          -62.10893191141897,
          -62.47735630554208,
          -62.84578069966518,
          -63.21420509378829,
          -63.5826294879114,
          -63.95105388203451
         ]
        },
        {
         "marker": {
          "color": "#8E24AA",
          "size": 12,
          "symbol": "x"
         },
         "mode": "markers",
         "name": "Tangent point",
         "type": "scatter",
         "x": [
          0.4693843218262886
         ],
         "y": [
          4.610560577258105
         ]
        }
       ],
       "layout": {
        "legend": {
         "orientation": "h",
         "x": 0,
         "y": 1.06
        },
        "margin": {
         "b": 60,
         "l": 50,
         "r": 50,
         "t": 60
        },
        "template": {
         "data": {
          "bar": [
           {
            "error_x": {
             "color": "#2a3f5f"
            },
            "error_y": {
             "color": "#2a3f5f"
            },
            "marker": {
             "line": {
              "color": "white",
              "width": 0.5
             },
             "pattern": {
              "fillmode": "overlay",
              "size": 10,
              "solidity": 0.2
             }
            },
            "type": "bar"
           }
          ],
          "barpolar": [
           {
            "marker": {
             "line": {
              "color": "white",
              "width": 0.5
             },
             "pattern": {
              "fillmode": "overlay",
              "size": 10,
              "solidity": 0.2
             }
            },
            "type": "barpolar"
           }
          ],
          "carpet": [
           {
            "aaxis": {
             "endlinecolor": "#2a3f5f",
             "gridcolor": "#C8D4E3",
             "linecolor": "#C8D4E3",
             "minorgridcolor": "#C8D4E3",
             "startlinecolor": "#2a3f5f"
            },
            "baxis": {
             "endlinecolor": "#2a3f5f",
             "gridcolor": "#C8D4E3",
             "linecolor": "#C8D4E3",
             "minorgridcolor": "#C8D4E3",
             "startlinecolor": "#2a3f5f"
            },
            "type": "carpet"
           }
          ],
          "choropleth": [
           {
            "colorbar": {
             "outlinewidth": 0,
             "ticks": ""
            },
            "type": "choropleth"
           }
          ],
          "contour": [
           {
            "colorbar": {
             "outlinewidth": 0,
             "ticks": ""
            },
            "colorscale": [
             [
              0,
              "#0d0887"
             ],
             [
              0.1111111111111111,
              "#46039f"
             ],
             [
              0.2222222222222222,
              "#7201a8"
             ],
             [
              0.3333333333333333,
              "#9c179e"
             ],
             [
              0.4444444444444444,
              "#bd3786"
             ],
             [
              0.5555555555555556,
              "#d8576b"
             ],
             [
              0.6666666666666666,
              "#ed7953"
             ],
             [
              0.7777777777777778,
              "#fb9f3a"
             ],
             [
              0.8888888888888888,
              "#fdca26"
             ],
             [
              1,
              "#f0f921"
             ]
            ],
            "type": "contour"
           }
          ],
          "contourcarpet": [
           {
            "colorbar": {
             "outlinewidth": 0,
             "ticks": ""
            },
            "type": "contourcarpet"
           }
          ],
          "heatmap": [
           {
            "colorbar": {
             "outlinewidth": 0,
             "ticks": ""
            },
            "colorscale": [
             [
              0,
              "#0d0887"
             ],
             [
              0.1111111111111111,
              "#46039f"
             ],
             [
              0.2222222222222222,
              "#7201a8"
             ],
             [
              0.3333333333333333,
              "#9c179e"
             ],
             [
              0.4444444444444444,
              "#bd3786"
             ],
             [
              0.5555555555555556,
              "#d8576b"
             ],
             [
              0.6666666666666666,
              "#ed7953"
             ],
             [
              0.7777777777777778,
              "#fb9f3a"
             ],
             [
              0.8888888888888888,
              "#fdca26"
             ],
             [
              1,
              "#f0f921"
             ]
            ],
            "type": "heatmap"
           }
          ],
          "heatmapgl": [
           {
            "colorbar": {
             "outlinewidth": 0,
             "ticks": ""
            },
            "colorscale": [
             [
              0,
              "#0d0887"
             ],
             [
              0.1111111111111111,
              "#46039f"
             ],
             [
              0.2222222222222222,
              "#7201a8"
             ],
             [
              0.3333333333333333,
              "#9c179e"
             ],
             [
              0.4444444444444444,
              "#bd3786"
             ],
             [
              0.5555555555555556,
              "#d8576b"
             ],
             [
              0.6666666666666666,
              "#ed7953"
             ],
             [
              0.7777777777777778,
              "#fb9f3a"
             ],
             [
              0.8888888888888888,
              "#fdca26"
             ],
             [
              1,
              "#f0f921"
             ]
            ],
            "type": "heatmapgl"
           }
          ],
          "histogram": [
           {
            "marker": {
             "pattern": {
              "fillmode": "overlay",
              "size": 10,
              "solidity": 0.2
             }
            },
            "type": "histogram"
           }
          ],
          "histogram2d": [
           {
            "colorbar": {
             "outlinewidth": 0,
             "ticks": ""
            },
            "colorscale": [
             [
              0,
              "#0d0887"
             ],
             [
              0.1111111111111111,
              "#46039f"
             ],
             [
              0.2222222222222222,
              "#7201a8"
             ],
             [
              0.3333333333333333,
              "#9c179e"
             ],
             [
              0.4444444444444444,
              "#bd3786"
             ],
             [
              0.5555555555555556,
              "#d8576b"
             ],
             [
              0.6666666666666666,
              "#ed7953"
             ],
             [
              0.7777777777777778,
              "#fb9f3a"
             ],
             [
              0.8888888888888888,
              "#fdca26"
             ],
             [
              1,
              "#f0f921"
             ]
            ],
            "type": "histogram2d"
           }
          ],
          "histogram2dcontour": [
           {
            "colorbar": {
             "outlinewidth": 0,
             "ticks": ""
            },
            "colorscale": [
             [
              0,
              "#0d0887"
             ],
             [
              0.1111111111111111,
              "#46039f"
             ],
             [
              0.2222222222222222,
              "#7201a8"
             ],
             [
              0.3333333333333333,
              "#9c179e"
             ],
             [
              0.4444444444444444,
              "#bd3786"
             ],
             [
              0.5555555555555556,
              "#d8576b"
             ],
             [
              0.6666666666666666,
              "#ed7953"
             ],
             [
              0.7777777777777778,
              "#fb9f3a"
             ],
             [
              0.8888888888888888,
              "#fdca26"
             ],
             [
              1,
              "#f0f921"
             ]
            ],
            "type": "histogram2dcontour"
           }
          ],
          "mesh3d": [
           {
            "colorbar": {
             "outlinewidth": 0,
             "ticks": ""
            },
            "type": "mesh3d"
           }
          ],
          "parcoords": [
           {
            "line": {
             "colorbar": {
              "outlinewidth": 0,
              "ticks": ""
             }
            },
            "type": "parcoords"
           }
          ],
          "pie": [
           {
            "automargin": true,
            "type": "pie"
           }
          ],
          "scatter": [
           {
            "fillpattern": {
             "fillmode": "overlay",
             "size": 10,
             "solidity": 0.2
            },
            "type": "scatter"
           }
          ],
          "scatter3d": [
           {
            "line": {
             "colorbar": {
              "outlinewidth": 0,
              "ticks": ""
             }
            },
            "marker": {
             "colorbar": {
              "outlinewidth": 0,
              "ticks": ""
             }
            },
            "type": "scatter3d"
           }
          ],
          "scattercarpet": [
           {
            "marker": {
             "colorbar": {
              "outlinewidth": 0,
              "ticks": ""
             }
            },
            "type": "scattercarpet"
           }
          ],
          "scattergeo": [
           {
            "marker": {
             "colorbar": {
              "outlinewidth": 0,
              "ticks": ""
             }
            },
            "type": "scattergeo"
           }
          ],
          "scattergl": [
           {
            "marker": {
             "colorbar": {
              "outlinewidth": 0,
              "ticks": ""
             }
            },
            "type": "scattergl"
           }
          ],
          "scattermapbox": [
           {
            "marker": {
             "colorbar": {
              "outlinewidth": 0,
              "ticks": ""
             }
            },
            "type": "scattermapbox"
           }
          ],
          "scatterpolar": [
           {
            "marker": {
             "colorbar": {
              "outlinewidth": 0,
              "ticks": ""
             }
            },
            "type": "scatterpolar"
           }
          ],
          "scatterpolargl": [
           {
            "marker": {
             "colorbar": {
              "outlinewidth": 0,
              "ticks": ""
             }
            },
            "type": "scatterpolargl"
           }
          ],
          "scatterternary": [
           {
            "marker": {
             "colorbar": {
              "outlinewidth": 0,
              "ticks": ""
             }
            },
            "type": "scatterternary"
           }
          ],
          "surface": [
           {
            "colorbar": {
             "outlinewidth": 0,
             "ticks": ""
            },
            "colorscale": [
             [
              0,
              "#0d0887"
             ],
             [
              0.1111111111111111,
              "#46039f"
             ],
             [
              0.2222222222222222,
              "#7201a8"
             ],
             [
              0.3333333333333333,
              "#9c179e"
             ],
             [
              0.4444444444444444,
              "#bd3786"
             ],
             [
              0.5555555555555556,
              "#d8576b"
             ],
             [
              0.6666666666666666,
              "#ed7953"
             ],
             [
              0.7777777777777778,
              "#fb9f3a"
             ],
             [
              0.8888888888888888,
              "#fdca26"
             ],
             [
              1,
              "#f0f921"
             ]
            ],
            "type": "surface"
           }
          ],
          "table": [
           {
            "cells": {
             "fill": {
              "color": "#EBF0F8"
             },
             "line": {
              "color": "white"
             }
            },
            "header": {
             "fill": {
              "color": "#C8D4E3"
             },
             "line": {
              "color": "white"
             }
            },
            "type": "table"
           }
          ]
         },
         "layout": {
          "annotationdefaults": {
           "arrowcolor": "#2a3f5f",
           "arrowhead": 0,
           "arrowwidth": 1
          },
          "autotypenumbers": "strict",
          "coloraxis": {
           "colorbar": {
            "outlinewidth": 0,
            "ticks": ""
           }
          },
          "colorscale": {
           "diverging": [
            [
             0,
             "#8e0152"
            ],
            [
             0.1,
             "#c51b7d"
            ],
            [
             0.2,
             "#de77ae"
            ],
            [
             0.3,
             "#f1b6da"
            ],
            [
             0.4,
             "#fde0ef"
            ],
            [
             0.5,
             "#f7f7f7"
            ],
            [
             0.6,
             "#e6f5d0"
            ],
            [
             0.7,
             "#b8e186"
            ],
            [
             0.8,
             "#7fbc41"
            ],
            [
             0.9,
             "#4d9221"
            ],
            [
             1,
             "#276419"
            ]
           ],
           "sequential": [
            [
             0,
             "#0d0887"
            ],
            [
             0.1111111111111111,
             "#46039f"
            ],
            [
             0.2222222222222222,
             "#7201a8"
            ],
            [
             0.3333333333333333,
             "#9c179e"
            ],
            [
             0.4444444444444444,
             "#bd3786"
            ],
            [
             0.5555555555555556,
             "#d8576b"
            ],
            [
             0.6666666666666666,
             "#ed7953"
            ],
            [
             0.7777777777777778,
             "#fb9f3a"
            ],
            [
             0.8888888888888888,
             "#fdca26"
            ],
            [
             1,
             "#f0f921"
            ]
           ],
           "sequentialminus": [
            [
             0,
             "#0d0887"
            ],
            [
             0.1111111111111111,
             "#46039f"
            ],
            [
             0.2222222222222222,
             "#7201a8"
            ],
            [
             0.3333333333333333,
             "#9c179e"
            ],
            [
             0.4444444444444444,
             "#bd3786"
            ],
            [
             0.5555555555555556,
             "#d8576b"
            ],
            [
             0.6666666666666666,
             "#ed7953"
            ],
            [
             0.7777777777777778,
             "#fb9f3a"
            ],
            [
             0.8888888888888888,
             "#fdca26"
            ],
            [
             1,
             "#f0f921"
            ]
           ]
          },
          "colorway": [
           "#636efa",
           "#EF553B",
           "#00cc96",
           "#ab63fa",
           "#FFA15A",
           "#19d3f3",
           "#FF6692",
           "#B6E880",
           "#FF97FF",
           "#FECB52"
          ],
          "font": {
           "color": "#2a3f5f"
          },
          "geo": {
           "bgcolor": "white",
           "lakecolor": "white",
           "landcolor": "white",
           "showlakes": true,
           "showland": true,
           "subunitcolor": "#C8D4E3"
          },
          "hoverlabel": {
           "align": "left"
          },
          "hovermode": "closest",
          "mapbox": {
           "style": "light"
          },
          "paper_bgcolor": "white",
          "plot_bgcolor": "white",
          "polar": {
           "angularaxis": {
            "gridcolor": "#EBF0F8",
            "linecolor": "#EBF0F8",
            "ticks": ""
           },
           "bgcolor": "white",
           "radialaxis": {
            "gridcolor": "#EBF0F8",
            "linecolor": "#EBF0F8",
            "ticks": ""
           }
          },
          "scene": {
           "xaxis": {
            "backgroundcolor": "white",
            "gridcolor": "#DFE8F3",
            "gridwidth": 2,
            "linecolor": "#EBF0F8",
            "showbackground": true,
            "ticks": "",
            "zerolinecolor": "#EBF0F8"
           },
           "yaxis": {
            "backgroundcolor": "white",
            "gridcolor": "#DFE8F3",
            "gridwidth": 2,
            "linecolor": "#EBF0F8",
            "showbackground": true,
            "ticks": "",
            "zerolinecolor": "#EBF0F8"
           },
           "zaxis": {
            "backgroundcolor": "white",
            "gridcolor": "#DFE8F3",
            "gridwidth": 2,
            "linecolor": "#EBF0F8",
            "showbackground": true,
            "ticks": "",
            "zerolinecolor": "#EBF0F8"
           }
          },
          "shapedefaults": {
           "line": {
            "color": "#2a3f5f"
           }
          },
          "ternary": {
           "aaxis": {
            "gridcolor": "#DFE8F3",
            "linecolor": "#A2B1C6",
            "ticks": ""
           },
           "baxis": {
            "gridcolor": "#DFE8F3",
            "linecolor": "#A2B1C6",
            "ticks": ""
           },
           "bgcolor": "white",
           "caxis": {
            "gridcolor": "#DFE8F3",
            "linecolor": "#A2B1C6",
            "ticks": ""
           }
          },
          "title": {
           "x": 0.05
          },
          "xaxis": {
           "automargin": true,
           "gridcolor": "#EBF0F8",
           "linecolor": "#EBF0F8",
           "ticks": "",
           "title": {
            "standoff": 15
           },
           "zerolinecolor": "#EBF0F8",
           "zerolinewidth": 2
          },
          "yaxis": {
           "automargin": true,
           "gridcolor": "#EBF0F8",
           "linecolor": "#EBF0F8",
           "ticks": "",
           "title": {
            "standoff": 15
           },
           "zerolinecolor": "#EBF0F8",
           "zerolinewidth": 2
          }
         }
        },
        "title": {
         "text": "Return vs Sigma (Period % stdev) with Tangent Line"
        },
        "xaxis": {
         "range": [
          0.2698669107593688,
          3.20531785210984
         ],
         "title": {
          "text": "Sigma (Period % stdev)"
         }
        },
        "yaxis": {
         "title": {
          "text": "Total Profit (Percentage)"
         }
        }
       }
      }
     },
     "metadata": {},
     "output_type": "display_data"
    },
    {
     "data": {
      "application/vnd.plotly.v1+json": {
       "config": {
        "plotlyServerURL": "https://plot.ly"
       },
       "data": [
        {
         "marker": {
          "size": 5
         },
         "mode": "markers",
         "name": "Feasible Region (det.)",
         "opacity": 0.25,
         "type": "scatter",
         "x": [
          0.05751968916579685,
          0.05752816922560893,
          0.05754926289623987,
          0.057582956315915125,
          0.057629227384986416,
          0.057688045838199184,
          0.057649815792375395,
          0.057560422403396996,
          0.05752139049553177,
          0.05753282256886682,
          0.05759468857335078,
          0.05770682630244976,
          0.05766639809347431,
          0.05754058389066314,
          0.05752816922560836,
          0.05762922738498614,
          0.05784316362457232,
          0.058168732509622956,
          0.058091782704269464,
          0.05771333006167895,
          0.05753460175871297,
          0.05755745838669622,
          0.057781660723935625,
          0.058204882095687735,
          0.05812578700255317,
          0.05766639809347673,
          0.05751968916579845,
          0.057688045838201044,
          0.058168732509624774,
          0.058954109858157876,
          0.058839646437338536,
          0.05797862399994969,
          0.057560422403398946,
          0.05759468857335296,
          0.058080621680031544,
          0.05900706411854447,
          0.058890538955782785,
          0.05790487266405424,
          0.05752382829523287,
          0.0577593733432061,
          0.05860407357873368,
          0.06003222063862646,
          0.05988194708113022,
          0.05835477143828931,
          0.05759883547183376,
          0.05764448872629929,
          0.05848985423156908,
          0.06010119591366412,
          0.059948968803345624,
          0.058254624039416385,
          0.05754058389066516,
          0.057843163624574354,
          0.05914676299541312,
          0.061387643534245064,
          0.06120364366464885,
          0.058839646437337155,
          0.057649815792374576,
          0.05770682630244837,
          0.059007064118540266,
          0.06147169025543746,
          0.06128586265128029,
          0.05871366365911017,
          0.05756994493611461,
          0.0579393626123731,
          0.059793877949314164,
          0.0630024829734157,
          0.06278709443569441,
          0.059430587837369875,
          0.057713330061679856,
          0.05778166072393558,
          0.05962944170724841,
          0.0631005425786087,
          0.06288346268682483,
          0.059279452706194356,
          0.05761189215905606,
          0.058047908614243825,
          0.0605420700188607,
          0.06485736474132901,
          0.06461305809022137,
          0.060124468256180855,
          0.05778933695286707,
          0.05786894350911245,
          0.06035373356566286,
          0.06496832353396942,
          0.06472246608639316,
          0.059948968803349205,
          0.057666398093480564,
          0.058168732509629596,
          0.06138764353424977,
          0.0669323350840953,
          0.06666160920731962,
          0.06091777023209219,
          0.05787778724886849,
          0.05796861842786424,
          0.06117631998477915,
          0.06705507042841417,
          0.06678293323423698,
          0.06071878080620275,
          0.057733427169479774,
          0.058301757964870506,
          0.06232663515523554,
          0.06920760085909733,
          0.06891290029226131,
          0.061806665591808606,
          0.05797862399994313,
          0.05808062168002786,
          0.06209329458977741,
          0.06934101741213387,
          0.06904503997158826,
          0.06158512774336779,
          0.05781293582859894,
          0.05844690166760366,
          0.06335489132994726,
          0.07166408704352817,
          0.071347742287479,
          0.06278709443567954,
          0.05809178270425718,
          0.05820488209567647,
          0.063100542578601,
          0.07180714267804662,
          0.07148964775569275,
          0.06254399819575059,
          0.05790487266404381,
          0.058604073578721876,
          0.06446814093529772,
          0.07428381751861317,
          0.07394800640041836,
          0.06385484068057498,
          0.058217191510080195,
          0.05834132135575548,
          0.06419381472528445,
          0.07443553990982534,
          0.07409869598065938,
          0.06359120690805053,
          0.058009178584835334,
          0.058773177200391824,
          0.06566206111939003,
          0.07705014300272832,
          0.0766968694922931,
          0.06500560178612869,
          0.05835477143827964,
          0.058489854231560535,
          0.06536879499289218,
          0.07720963853039692,
          0.07685543945668934,
          0.06472246608638485,
          0.058125787002545094,
          0.058954109858150264,
          0.06693233508408371,
          0.07994784766701907,
          0.07957893406854316,
          0.06623505101818265,
          0.058504436623536334,
          0.058650388841455264,
          0.06662116032636191,
          0.08011430446910302,
          0.07974456232479925,
          0.06593344956206743,
          0.058254624039425586,
          0.05914676299542674,
          0.06827470119847304,
          0.08296316637331051,
          0.0825802550450233,
          0.06753889129794091,
          0.05866609457250938,
          0.058822826922953195,
          0.06794663186800617,
          0.08313585326071149,
          0.08275220048380202,
          0.06721984870981615,
          0.05839560875623244,
          0.05935102247840857,
          0.06968499337902917,
          0.08608374074713131,
          0.0856883021033473,
          0.06891290029227194,
          0.058839646437341034,
          0.0590070641185491,
          0.06934101741213788,
          0.08626200341083456,
          0.08586590107659171,
          0.06857741964055804,
          0.05854865339851258,
          0.05956676890986216,
          0.07115917309316126,
          0.0892985368614954,
          0.08889188112340726,
          0.07035296688982666,
          0.059024987302690915,
          0.05920299027332405,
          0.07080024536583529,
          0.0894817924818248,
          0.0890745422032799,
          0.0700020217073169,
          0.058713663659125545,
          0.059793877949332316,
          0.07269335363662796,
          0.09259774170268698,
          0.09218103254037889,
          0.07185511956902829,
          0.059222006484281844,
          0.05941048974251348,
          0.07232039080744995,
          0.09278547277087774,
          0.09236823040417116,
          0.07148964775569185,
          0.05889053895577132,
          0.06003222063861221,
          0.07428381751861098,
          0.09597265063291233,
          0.09554691941135875,
          0.07341554740600251,
          0.059430587837373094,
          0.05962944170725431,
          0.07389769444165602,
          0.09616439854289259,
          0.09573818843867056,
          0.07303644681886942,
          0.05907917272152895,
          0.06028166373054513,
          0.07592702787487704,
          0.09941555405885817,
          0.09898171384675729,
          0.07503061460588178,
          0.059650610073124936,
          0.059859720496509575,
          0.07552857535800026,
          0.09961091283169035,
          0.0991766418128987,
          0.07463874011654016,
          0.059279452706194696,
          0.060542070018861006,
          0.07761963484359163,
          0.10291962847969033,
          0.10247848730991849,
          0.07669686949230828,
          0.05988194708113815,
          0.060101195913669685,
          0.07720963853040237,
          0.10311823883995741,
          0.10267676116808115,
          0.07629352248068774,
          0.05949292120642775,
          0.06081640886681998,
          0.07936236711349534,
          0.10648312942845538,
          0.10603542005121012,
          0.07841498340789314,
          0.060127611157317205,
          0.06035536684763594,
          0.07893815094326492,
          0.10668042802957083,
          0.1062327131504862,
          0.07799987130512351,
          0.059727684394913064,
          0.06111986928979006,
          0.0811708466143102,
          0.110120842883747,
          0.10966729865926769,
          0.08020070224848942,
          0.060402987060159605,
          0.060630198821526794,
          0.08071340118713274,
          0.11029241683797361,
          0.10983911183630839,
          0.07975480363629464,
          0.059984614829760106,
          0.06145410017746037,
          0.08304327751301659,
          0.11382834686809055,
          0.11336962474087992,
          0.08205214338167596,
          0.06070977878842365,
          0.06092651996400755,
          0.08253269059398789,
          0.11394950542154327,
          0.11349114820625368,
          0.08155518322732745,
          0.06026342898852225,
          0.06181860244140894,
          0.08497543241611587,
          0.1175990407824204,
          0.11713571855490477,
          0.0839649593571825,
          0.06104751270578158,
          0.06124401835691081,
          0.08439317111396222,
          0.11764748805677577,
          0.11718455546593848,
          0.08339806681151771,
          0.06056382463480527,
          0.06221284400540478,
          0.08696333056199332,
          0.12142703802686011,
          0.12095962399659349,
          0.08593505186783629,
          0.06141567834110312,
          0.061582366446148104,
          0.0862921785132186,
          0.12138262722666039,
          0.12091554260880656,
          0.08528069894362193,
          0.06088548232696943,
          0.06263626331453047,
          0.08900323692861484,
          0.12530708704410762,
          0.12483602862407832,
          0.08795857237353215,
          0.06181373195308023,
          0.0619412225788591,
          0.08822722507128644,
          0.12515159617685373,
          0.12468073602564479,
          0.08720050519496775,
          0.061228066987917995,
          0.06308827290673473,
          0.09109165757680883,
          0.1292344996209791,
          0.1287601909614955,
          0.09003191846161977,
          0.06224110009832149,
          0.06232023247027691,
          0.09019599127998978,
          0.12895142862698802,
          0.12847712836735675,
          0.0891550841403832,
          0.06159122939970079,
          0.06356826288475664,
          0.09322533212456632,
          0.13320508642547055,
          0.1327278751424058,
          0.09215172708810652,
          0.06269718334368707,
          0.06271903077656094,
          0.09219631702122773,
          0.13277947488755368,
          0.16066671149371886,
          0.16146252454005436,
          0.16225890814441984,
          0.16305585394680172,
          0.16385335374398674,
          0.16465139948604512,
          0.13663336357838038,
          0.09422619236048498,
          0.06313724247647591,
          0.06318135979129028,
          0.09431486542101723,
          0.13673529255630262,
          0.13625587705603495,
          0.09323640773301085,
          0.062354543738518065,
          0.06442707680747947,
          0.09737199304887696,
          0.1409945372626181,
          0.14051096833303686,
          0.09628374843540126,
          0.06357448451351329,
          0.0636929888374664,
          0.09651842026496119,
          0.140779050115211,
          0.14029728314565046,
          0.09542778069972212,
          0.06284258200895473,
          0.0648961787078765,
          0.09946573792654227,
          0.14489633240601033,
          0.1444103787372017,
          0.09836724824046367,
          0.06403036699450564,
          0.06423141443384435,
          0.09875968628223045,
          0.14485610446449265,
          0.14437222936779995,
          0.09765783893563905,
          0.06335815870577499,
          0.06538309353073996,
          0.10158312576786152,
          0.14881802255756937,
          0.14832987507098944,
          0.10047507784802606,
          0.06450449470835558,
          0.06479596859076542,
          0.10103615388895429,
          0.14896372168669547,
          0.1484779542393748,
          0.09992399238359664,
          0.06390060723824569,
          0.06588742634014658,
          0.10372270863611399,
          0.15275807545484593,
          0.1522679062558452,
          0.1026057378371481,
          0.06499646835640191,
          0.06538597449481362,
          0.10334549686658126,
          0.153099441817066,
          0.15261197367317453,
          0.10222384056776859,
          0.06446924936714603,
          0.06640878036101676,
          0.10588314108321537,
          0.1567151061123153,
          0.15622307064283691,
          0.10475783521438542,
          0.06550588591664838,
          0.06600074964603571,
          0.10568556018276816,
          0.1572610476934624,
          0.15677204932416777,
          0.1045551599790425,
          0.06506339824657707,
          0.06694675786584325,
          0.10806317259042804,
          0.16068786026354034,
          0.16019409917866065,
          0.10693007559194265,
          0.06603234359581327,
          0.06663960845948515,
          0.10805434794922596,
          0.1614465375474255,
          0.16095616086172507,
          0.10691589194670288,
          0.06568236172704063,
          0.06750096142421828,
          0.11026164067442053,
          0.16467519993947322,
          0.16417984075099767,
          0.1091212560534942,
          0.06657543718662211,
          0.06730186513549113,
          0.1104500120645994,
          0.16565410100463196,
          0.16516248156796987,
          0.10930413073672797,
          0.06632544506865762,
          0.06807099470421593,
          0.11247746425622039,
          0.16867609077761836,
          0.1681792492914363,
          0.11133025827059514,
          0.06713476293775882,
          0.06798683590641669,
          0.1128708411954491,
          0.16988209794300238,
          0.16938935694064888,
          0.11171811229710478,
          0.0669919536743607,
          0.0686564634277361,
          0.11470963758602692,
          0.17268959091748529,
          0.17219137249511463,
          0.11355604219419614,
          0.0677099185967247,
          0.0686938413138063,
          0.11531525047895445,
          0.17412903994482912,
          0.17363528587535476,
          0.11415620355045131,
          0.06768119549691441,
          0.06925697615067095,
          0.11695722454804253,
          0.1767148412251542,
          0.17621534189181182,
          0.11579764013280364,
          0.0683005042649769,
          0.06942220815862624,
          0.1177817718012206,
          0.1783935739646909,
          0.17789890412228965,
          0.11661689234725099,
          0.06839248327040037,
          0.06987214501785818,
          0.1192193534005455,
          0.1807510566924428,
          0.18025036411242965,
          0.11805415128004643,
          0.0689061232280761,
          0.07017127128872341,
          0.1202690447384967,
          0.18267446795441203,
          0.1821789696995578,
          0.11909877799667622,
          0.06912513635790386,
          0.07050158628984246,
          0.1214952118355183,
          0.18479751882863282,
          0.18429571316420976,
          0.12032473657023572,
          0.06952638254289582,
          0.07094037501393746,
          0.12277580805495682,
          0.18697059816663592,
          0.1864743500914789,
          0.12160056263379254,
          0.06987848278371597,
          0.07114492119566226,
          0.12378404259113376,
          0.18885356899183547,
          0.18835072366380778,
          0.12260861411189025,
          0.07016089397377795,
          0.07172887473649613,
          0.1253008920069253,
          0.19128093800350654,
          0.1907840108975228,
          0.1241210430334845,
          0.07065186065210684,
          0.07180177632760866,
          0.12608513922864095,
          0.19291860243408931,
          0.19241478479365887,
          0.12490505478663765,
          0.07080927443833042,
          0.07253613797880054,
          0.12784321104557464,
          0.19560454810452146,
          0.19510700580018514,
          0.12665910303898126,
          0.0714446193625902,
          0.07247178397136277,
          0.1283978422366151,
          0.19699206302017822,
          0.19648733494357984,
          0.1272133781896041,
          0.07147114638619412,
          0.07336154523500164,
          0.13040175708533397,
          0.1999405675714225,
          0.19944246775814692,
          0.1292137068142335,
          0.0722561211736886,
          0.07315458290931409,
          0.13072153567557837,
          0.20107343860715213,
          0.20056785702618288,
          0.12953294913571567,
          0.07214613867846709,
          0.07420449120724039,
          0.1329755935468398,
          0.20428820626174038,
          0.20378960106415325,
          0.13178389217511732,
          0.07308574153388203,
          0.07384981813173347,
          0.13305564363987366,
          0.20516225679824796,
          0.20465587416824402,
          0.13186317396962943,
          0.07283388630870957,
          0.0750643848174615,
          0.13556384941763233,
          0.20864673780708312,
          0.20814767446752055,
          0.13436876503490577,
          0.07393287059148317,
          0.07455714182364255,
          0.13539962756982374,
          0.20925808132854912,
          0.20875094604945,
          0.13420349776893323,
          0.07353403147341218,
          0.07594065044816577,
          0.13816571438200306,
          0.21301549358046482,
          0.2125160149387961,
          0.13696749389578886,
          0.07479691357876499,
          0.07527621334734794,
          0.13775298337644662,
          0.21336050871822,
          0.21285266550876128,
          0.13655340134697982,
          0.07424622357707347,
          0.07683272806732114,
          0.14078043393831316,
          0.21739385719986504,
          0.21689400210781612,
          0.13957930476383035,
          0.07567729099021457,
          0.07600669911353529,
          0.14011523876405402,
          0.21746916526931984,
          0.2169606554999058,
          0.13891239846358847,
          0.07497011912127002,
          0.07774007317594153,
          0.14340730489043002,
          0.2217812596155623,
          0.2212810634139465,
          0.14220347685590676,
          0.0765734395128722,
          0.07674827328595928,
          0.14248595113393736,
          0.22158370448507936,
          0.22107456647865642,
          0.1412800336436031,
          0.0757053824693075,
          0.07866215754214612,
          0.14604567158742318,
          0.22617717483320968,
          0.22567666965242783,
          0.14483933825543022,
          0.07748481184559194,
          0.07750061746101505,
          0.14486470524784964,
          0.22570380463312992,
          0.2784966663623015,
          0.27933034748925584,
          0.2801641388092908,
          0.28099803934149536,
          0.2818320481164401,
          0.28266616417601176,
          0.22982916665769887,
          0.14725111142136146,
          0.0782634211485558,
          0.07841087725387565,
          0.14748626227674433,
          0.2300803310928664,
          0.22957968895901365,
          0.14628071957808986,
          0.07726977979798912,
          0.08015324966434835,
          0.15086358939605227,
          0.23447058747558427,
          0.23395951221717778,
          0.14964480358006452,
          0.07903638153065544,
          0.07935112133882861,
          0.15014366385341274,
          0.23449159391809896,
          0.2339866423909599,
          0.1489224069039091,
          0.07816746458318843,
          0.08091079372572345,
          0.153255001040557,
          0.23860379068071758,
          0.23809205922710916,
          0.1520333727760759,
          0.07978843138666547,
          0.080274346483988,
          0.1527988128178012,
          0.23890733196877592,
          0.23839456266160028,
          0.15155172964766928,
          0.07902950728796947,
          0.08164053096074646,
          0.1556485354229855,
          0.24275406046754922,
          0.24224126391345727,
          0.15442494131807466,
          0.0805230760973024,
          0.08118829836640697,
          0.1554663453081505,
          0.2433489263993024,
          0.24283567786911253,
          0.15421847262747818,
          0.07994409816958471,
          0.0824155995181692,
          0.15807325496403685,
          0.2469322326167782,
          0.2464187062781335,
          0.15684967252707685,
          0.08131094533855206,
          0.08216525411499873,
          0.15817963594486864,
          0.2478315447303987,
          0.24731791938711095,
          0.15693136462019122,
          0.08092264654475119,
          0.08324192343238782,
          0.16052938198443845,
          0.25113715120338814,
          0.2506229742917545,
          0.1593060520885256,
          0.08215050762761131,
          0.08320299428008604,
          0.16093637032419195,
          0.25235300079716605,
          0.2518390913452007,
          0.15968805368531774,
          0.08196286188445287,
          0.08411799239776989,
          0.16301549693212927,
          0.25536749502096623,
          0.25485274036467753,
          0.16179263860567056,
          0.08304019527413538,
          0.08429927427878595,
          0.16373435419995233,
          0.2569112440809139,
          0.2563971343049072,
          0.16248631066394034,
          0.08306242731535127,
          0.0850422689889389,
          0.16553024860425242,
          0.25962202120797406,
          0.25910675576668646,
          0.16430806062083617,
          0.08397841508426385,
          0.0854518409935733,
          0.16657150888539862,
          0.2615043508807596,
          0.260990116474023,
          0.16532402482507208,
          0.08421901818610038,
          0.0860131990844023,
          0.16807235156880507,
          0.26389956017325167,
          0.263383845512861,
          0.16685101395802437,
          0.0849635592536673,
          0.08665844854273812,
          0.16944586677511408,
          0.266130516083852,
          0.26561622538071245,
          0.1681991991407571,
          0.08543031848739947,
          0.08702922130696548,
          0.17064058346391947,
          0.26819901082533615,
          0.26768290355361635,
          0.1694202589327824,
          0.08599401516790478,
          0.08791687197822194,
          0.17235556660016155,
          0.2707880453852806,
          0.27027375999778797,
          0.17110994527369042,
          0.0866940350036615,
          0.08808877535925992,
          0.17323378218118873,
          0.27251933608229023,
          0.27200288824877006,
          0.17201461744808688,
          0.08706817401826501,
          0.08922491887843065,
          0.17529884848958543,
          0.2754753479453492,
          0.2749177449272208,
          0.1739084419025006,
          0.08764360585951754,
          0.08883430038660484,
          0.1757115249387833,
          0.2768220057391823,
          0.27630355755895847,
          0.1744871366994867,
          0.08781040760597886,
          0.09021295001697384,
          0.1781260420996772,
          0.28014674592777444,
          0.27958475416947043,
          0.17672210185241732,
          0.08860036416366678,
          0.08958573828683776,
          0.17820617611779463,
          0.28115037726512176,
          0.2806299126086611,
          0.17697640381765437,
          0.08855760477318256,
          0.09120610404762372,
          0.1809667363505729,
          0.2848397235510851,
          0.28427702562874446,
          0.17956162647888613,
          0.08959305448990602,
          0.09037167934475143,
          0.1807283949688619,
          0.2855066590714171,
          0.2849842903469766,
          0.17949357780678168,
          0.08933977493827944,
          0.09223339135583994,
          0.18383186274095828,
          0.28955666322751994,
          0.2889933287889684,
          0.1824258080045646,
          0.09062049600347818,
          0.09119123145304686,
          0.18327704335278477,
          0.2898895929048895,
          0.28936542571816254,
          0.1820375009996447,
          0.09015600785347958,
          0.0932936843880471,
          0.18672029657767594,
          0.2942964127782614,
          0.29373250606073564,
          0.18531350315207243,
          0.09168152038160463,
          0.09204349680280716,
          0.1858510339576041,
          0.29429798799473467,
          0.2937721215844944,
          0.1846070675713849,
          0.09100538699157794,
          0.09438587083243948,
          0.18963097281625468,
          0.299057887668609,
          0.29849346792998444,
          0.18822362969829518,
          0.09277497541603157,
          0.09292757533047777,
          0.18844932835345954,
          0.29873071714112437,
          0.2982032447883926,
          0.1872012215652825,
          0.09188699317456933,
          0.0955088565511811,
          0.1925628828478796,
          0.30384006652773704,
          0.30314944014008754,
          0.19074280208492445,
          0.09289056310035262,
          0.09293601860917182,
          0.19080921642488832,
          0.30321909119705376,
          0.30268995655833175,
          0.18955482278612276,
          0.09188128297597953,
          0.09567981898386727,
          0.19511125964407885,
          0.30851822928094974,
          0.30775386887158723,
          0.19311177115582867,
          0.09287183671802247,
          0.09333546750696535,
          0.19378119226858787,
          0.3084543742634458,
          0.3079247807618112,
          0.1925242205990808,
          0.09226991121016619,
          0.09571913914967439,
          0.1975115864240675,
          0.31314494412543753,
          0.3123932347931239,
          0.1956300382035046,
          0.09352668874371967,
          0.09496274071493328,
          0.1976945970371618,
          0.3145519610941045,
          0.314023379549053,
          0.19644116169977321,
          0.09390053012845948,
          0.09641172931109815,
          0.2000571567852764,
          0.3178053537232535,
          0.3170660043297805,
          0.1982919152224232,
          0.09484116749002916,
          0.09775654109335939,
          0.20249485541508053,
          0.32146278552887253,
          0.32093651432247855,
          0.20125032684117916,
          0.09671033644312255,
          0.09774370357851218,
          0.20274249997617105,
          0.32249799735343004,
          0.39964835393653875,
          0.40061285235313937,
          0.4015777922023503,
          0.4025431703096853,
          0.4035089835296024,
          0.4044752287451928,
          0.3271199176487849,
          0.2052232546544535,
          0.09883002069793947,
          0.09979883137148073,
          0.20662498761485984,
          0.3285872932453998,
          0.3281487677833001,
          0.20569404555453616,
          0.09964573619785033,
          0.1026611459859967,
          0.21009558499604708,
          0.3327638871053031,
          0.33183323728079867,
          0.20787378951200117,
          0.10068173423650337,
          0.10435130613761005,
          0.21323382193579357,
          0.33745401876853004,
          0.3373240815473992,
          0.2134286917976111,
          0.10735950824557233,
          0.10821417918494224,
          0.2147196781393328,
          0.3386868152460245,
          0.3378127663290318,
          0.21282131541519775,
          0.10757118494342228,
          0.11381303835722721,
          0.22234760152736127,
          0.34788892544134203
         ],
         "y": [
          0.014327261399042236,
          0.010706605542122589,
          0.00708594968520293,
          0.0034652938282832683,
          -0.00015536202863638895,
          -0.0037760178855560465,
          -0.0015131079749812716,
          0.0057282037388580575,
          0.012969515452697382,
          0.020210827166536695,
          0.027452138880376047,
          0.03469345059421533,
          0.03243054068364056,
          0.021568573112881576,
          0.010706605542122587,
          -0.0001553620286363917,
          -0.01101732959939538,
          -0.021879297170154372,
          -0.019616387259579586,
          -0.0051337638319009235,
          0.009348859595777708,
          0.02383148302345634,
          0.038314106451135005,
          0.05279672987881365,
          0.05053381996823886,
          0.032430540683640555,
          0.014327261399042229,
          -0.003776017885556052,
          -0.021879297170154362,
          -0.03998257645475267,
          -0.037719666544177875,
          -0.01599573140265992,
          0.0057282037388580575,
          0.027452138880376,
          0.04917607402189399,
          0.07090000916341194,
          0.06863709925283716,
          0.04329250825439954,
          0.0179479172559619,
          -0.007396673742475706,
          -0.03274126474091335,
          -0.05808585573935097,
          -0.055822945828776185,
          -0.0268576989734189,
          0.0021075478819384,
          0.03107279473729568,
          0.06003804159265299,
          0.08900328844801027,
          0.08674037853743549,
          0.05415447582515854,
          0.02156857311288159,
          -0.011017329599395352,
          -0.04360323231167231,
          -0.07618913502394926,
          -0.07392622511337447,
          -0.03771966654417786,
          -0.0015131079749812436,
          0.03469345059421533,
          0.07090000916341195,
          0.10710656773260857,
          0.10484365782203377,
          0.0650164433959175,
          0.025189228969801216,
          -0.01463798545631504,
          -0.054465199882431314,
          -0.09429241430854758,
          -0.09202950439797279,
          -0.048581634114936864,
          -0.00513376383190092,
          0.038314106451134984,
          0.08176197673417092,
          0.12520984701720686,
          0.12294693710663206,
          0.07587841096667643,
          0.02880988482672081,
          -0.01825864131323477,
          -0.06532716745319041,
          -0.11239569359314602,
          -0.11013278368257125,
          -0.05944360168569595,
          -0.008754419688820653,
          0.0419347623080546,
          0.09262394430492989,
          0.1433131263018052,
          0.14105021639123042,
          0.08674037853743544,
          0.03243054068364048,
          -0.02187929717015443,
          -0.07618913502394939,
          -0.13049897287774434,
          -0.12823606296716958,
          -0.07030556925645495,
          -0.012375075545740336,
          0.04555541816497424,
          0.10348591187568885,
          0.16141640558640347,
          0.15915349567582868,
          0.09760234610819442,
          0.03605119654056014,
          -0.025499953027074106,
          -0.08705110259470837,
          -0.14860225216234266,
          -0.14633934225176784,
          -0.08116753682721392,
          -0.01599573140265999,
          0.04917607402189391,
          0.11434787944644786,
          0.17951968487100178,
          0.17725677496042702,
          0.10846431367895341,
          0.039671852397479807,
          -0.02912060888399375,
          -0.09791307016546733,
          -0.16670553144694095,
          -0.16444262153636616,
          -0.09202950439797289,
          -0.019616387259579635,
          0.05279672987881358,
          0.12520984701720686,
          0.1976229641556001,
          0.19536005424502528,
          0.11932628124971238,
          0.04329250825439945,
          -0.03274126474091344,
          -0.10877503773622635,
          -0.1848088107315393,
          -0.18254590082096447,
          -0.10289147196873191,
          -0.02323704311649933,
          0.05641738573573321,
          0.1360718145879658,
          0.21572624344019836,
          0.2134633335296236,
          0.13018824882047136,
          0.04691316411131912,
          -0.036361920597833074,
          -0.11963700530698529,
          -0.20291209001613753,
          -0.20064918010556276,
          -0.11375343953949088,
          -0.02685769897341899,
          0.06003804159265282,
          0.14693378215872469,
          0.2338295227247966,
          0.2315666128142218,
          0.14105021639123025,
          0.05053381996823872,
          -0.03998257645475278,
          -0.13049897287774428,
          -0.22101536930073587,
          -0.21875245939016108,
          -0.12461540711024983,
          -0.030478354830338623,
          0.06365869744957256,
          0.15779574972948376,
          0.251932802009395,
          0.2496698920988202,
          0.1519121839619893,
          0.05415447582515842,
          -0.0436032323116724,
          -0.1413609404485033,
          -0.2391186485853342,
          -0.23685573867475934,
          -0.13547737468100884,
          -0.03409901068725829,
          0.0672793533064922,
          0.16865771730024276,
          0.2700360812939933,
          0.2677731713834185,
          0.16277415153274832,
          0.05777513168207809,
          -0.04722388816859204,
          -0.15222290801926225,
          -0.25722192786993253,
          -0.2549590179593577,
          -0.14633934225176784,
          -0.03771966654417796,
          0.07090000916341184,
          0.17951968487100173,
          0.2881393605785916,
          0.28587645066801676,
          0.17363611910350726,
          0.06139578753899772,
          -0.05084454402551172,
          -0.16308487559002127,
          -0.2753252071545308,
          -0.2730622972439559,
          -0.15720130982252675,
          -0.04134032240109745,
          0.07452066502033172,
          0.19038165244176097,
          0.3062426398631902,
          0.3039797299526154,
          0.18449808667426645,
          0.06501644339591754,
          -0.054465199882431314,
          -0.17394684316078027,
          -0.2934284864391292,
          -0.2911655765285544,
          -0.16806327739328586,
          -0.04496097825801723,
          0.07814132087725127,
          0.20124362001251989,
          0.3243459191477885,
          0.3220830092372137,
          0.19536005424502545,
          0.06863709925283716,
          -0.058085855739350996,
          -0.18480881073153924,
          -0.3115317657237275,
          -0.30926885581315267,
          -0.1789252449640448,
          -0.048581634114936885,
          0.08176197673417093,
          0.21210558758327885,
          0.3424491984323867,
          0.340186288521812,
          0.20622202181578442,
          0.07225775510975684,
          -0.06170651159627067,
          -0.19567077830229826,
          -0.3296350450083258,
          -0.32737213509775104,
          -0.1897872125348038,
          -0.05220228997185654,
          0.08538263259109063,
          0.22296755515403788,
          0.3605524777169851,
          0.3582895678064103,
          0.2170839893865434,
          0.0758784109666765,
          -0.06532716745319031,
          -0.20653274587305726,
          -0.3477383242929241,
          -0.3454754143823493,
          -0.20064918010556274,
          -0.055822945828776165,
          0.08900328844801034,
          0.23382952272479693,
          0.37865575700158355,
          0.37639284709101,
          0.22794595695730593,
          0.07949906682360178,
          -0.06894782331010225,
          -0.2173947134438064,
          -0.3658416035775105,
          -0.36357869366693574,
          -0.21151114767631196,
          -0.059443601685688185,
          0.09262394430493548,
          0.24469149029555928,
          0.3967590362861831,
          0.3944961263756083,
          0.23880792452806493,
          0.08311972268052151,
          -0.07256847916702179,
          -0.22825668101456514,
          -0.3839448828621086,
          -0.38168197295153383,
          -0.2223731152470707,
          -0.06306425754260768,
          0.09624460016185528,
          0.25555345786631833,
          0.41486231557078135,
          0.41259940566020664,
          0.24966989209882398,
          0.08674037853744132,
          -0.07618913502394122,
          -0.23911864858532383,
          -0.4020481621467065,
          -0.39978525223613165,
          -0.23323508281782937,
          -0.06668491339952712,
          0.09986525601877508,
          0.26641542543707736,
          0.4329655948553798,
          0.4307026849448049,
          0.2605318596695831,
          0.09036103439436112,
          -0.07980979088086063,
          -0.24998061615608258,
          -0.42015144143130445,
          -0.4178885315207297,
          -0.2440970503885881,
          -0.07030556925644647,
          0.10348591187569495,
          0.27727739300783655,
          0.45106887413997815,
          0.4488059642294034,
          0.27139382724034217,
          0.09398169025128095,
          -0.08343044673778013,
          -0.2608425837268414,
          -0.4382547207159026,
          -0.43599181080532773,
          -0.25495901795934695,
          -0.0739262251133661,
          0.10710656773261466,
          0.2881393605785955,
          0.46917215342457635,
          0.46690924351400165,
          0.28225579481110114,
          0.09760234610820073,
          -0.0870511025946996,
          -0.27170455129759996,
          -0.45635800000050053,
          -0.45409509008992566,
          -0.2658209855301056,
          -0.07754688097028546,
          0.1107272235895345,
          0.29900132814935465,
          0.48727543270917467,
          0.48501252279859997,
          0.2931177623818602,
          0.10122300196512059,
          -0.09067175845161903,
          -0.2825665188683587,
          -0.47446127928509846,
          -0.4721983693745236,
          -0.27668295310086416,
          -0.08116753682720483,
          0.11434787944645443,
          0.3098632957201138,
          0.5053787119937732,
          0.5031158020831985,
          0.30397972995261946,
          0.10484365782204047,
          -0.0942924143085384,
          -0.29342848643911734,
          -0.4925645585696964,
          -0.49030164865912157,
          -0.28754492067162296,
          -0.08478819268412424,
          0.11796853530337426,
          0.3207252632908729,
          0.5234819912783716,
          0.652467856181133,
          0.6560885120380525,
          0.6597091678949722,
          0.6633298237518919,
          0.6669504796088115,
          0.6705711354657311,
          0.5415852705629698,
          0.3315872308616319,
          0.121589191160294,
          -0.08840884854104376,
          -0.29840688824238165,
          -0.5084049279437196,
          -0.5061420180331447,
          -0.2925233224748872,
          -0.07890462691662968,
          0.13471406864162777,
          0.34833276419988524,
          0.5619514597581428,
          0.5596885498475679,
          0.34244919843239086,
          0.1252098470172137,
          -0.09202950439796335,
          -0.30926885581314056,
          -0.5265082072283177,
          -0.5242452973177428,
          -0.3033852900456461,
          -0.08252528277354924,
          0.13833472449854747,
          0.35919473177064437,
          0.5800547390427412,
          0.5777918291321663,
          0.35331116600315,
          0.12883050287413353,
          -0.09565016025488275,
          -0.3201308233838992,
          -0.5446114865129157,
          -0.5423485766023409,
          -0.3142472576164047,
          -0.08614593863046861,
          0.14195538035546737,
          0.37005669934140345,
          0.5981580183273396,
          0.5958951084167649,
          0.3641731335739091,
          0.13245115873105345,
          -0.09927081611180215,
          -0.33099279095465783,
          -0.5627147657975136,
          -0.5604518558869388,
          -0.3251092251871634,
          -0.08976659448738804,
          0.14557603621238724,
          0.3809186669121626,
          0.6162612976119379,
          0.6139983877013632,
          0.37503510114466815,
          0.1360718145879733,
          -0.1028914719687216,
          -0.3418547585254166,
          -0.5808180450821115,
          -0.5785551351715369,
          -0.3359711927579221,
          -0.09338725034430752,
          0.149196692069307,
          0.3917806344829216,
          0.6343645768965362,
          0.6321016669859616,
          0.3858970687154272,
          0.13969247044489302,
          -0.10651212782564108,
          -0.35271672609617527,
          -0.5989213243667096,
          -0.5966584144561348,
          -0.3468331603286809,
          -0.09700790620122701,
          0.15281734792622667,
          0.4026426020536806,
          0.6524678561811345,
          0.6502049462705597,
          0.3967590362861862,
          0.14331312630181275,
          -0.11013278368256056,
          -0.363578693666934,
          -0.6170246036513075,
          -0.6147616937407326,
          -0.3576951278994396,
          -0.1006285620581464,
          0.15643800378314662,
          0.4135045696244397,
          0.6705711354657329,
          0.6683082255551581,
          0.40762100385694544,
          0.14693378215873262,
          -0.11375343953947994,
          -0.37444066123769276,
          -0.6351278829359054,
          -0.6328649730253306,
          -0.3685570954701983,
          -0.10424921791506589,
          0.16005865964006638,
          0.42436653719519885,
          0.6886744147503312,
          0.6864115048397564,
          0.4184829714277044,
          0.15055443801565235,
          -0.11737409539639954,
          -0.3853026288084516,
          -0.6532311622205036,
          -0.6509682523099287,
          -0.37941906304095707,
          -0.10786987377198534,
          0.16367931549698617,
          0.435228504765958,
          0.7067776940349297,
          0.7045147841243549,
          0.4293449389984636,
          0.1541750938725723,
          -0.12099475125331884,
          -0.39616459637921014,
          -0.6713344415051014,
          -0.6690715315945267,
          -0.3902810306117157,
          -0.11149052962890474,
          0.167299971353906,
          0.44609047233671695,
          0.7248809733195278,
          0.7226180634089532,
          0.4402069065692227,
          0.157795749729492,
          -0.12461540711023836,
          -0.4070265639499689,
          -0.6894377207896994,
          -0.6871748108791247,
          -0.4011429981824745,
          -0.11511118548582429,
          0.17092062721082574,
          0.45695243990747597,
          0.742984252604126,
          0.7407213426935515,
          0.4510688741399816,
          0.1614164055864118,
          -0.12823606296715778,
          -0.4178885315207276,
          -0.7075410000742974,
          -0.7052780901637226,
          -0.4120049657532332,
          -0.11873184134274364,
          0.17454128306774563,
          0.4678144074782351,
          0.7610875318887246,
          0.7588246219781497,
          0.46193084171074067,
          0.16503706144333155,
          -0.13185671882407743,
          -0.42875049909148655,
          -0.7256442793588956,
          -0.7233813694483208,
          -0.4228669333239921,
          -0.12235249719966323,
          0.17816193892466542,
          0.47867637504899424,
          0.779190811173323,
          0.7769279012627482,
          0.47279280928149997,
          0.1686577173002515,
          -0.13547737468099671,
          -0.43961246666224507,
          -0.7437475586434934,
          -0.7414846487329186,
          -0.4337289008947506,
          -0.1259731530565825,
          0.18178259478158543,
          0.48953834261975354,
          0.7972940904579217,
          0.7950311805473469,
          0.48365477685225916,
          0.17227837315717148,
          -0.13909803053791606,
          -0.45047443423300376,
          -0.7618508379280914,
          -0.7595879280175167,
          -0.44459086846550944,
          -0.12959380891350197,
          0.18540325063850513,
          0.5004003101905125,
          0.8153973697425199,
          0.8131344598319451,
          0.49451674442301813,
          0.17589902901409118,
          -0.14271868639483554,
          -0.4613364018037625,
          -0.7799541172126895,
          -0.7776912073021147,
          -0.45545283603626807,
          -0.13321446477042143,
          0.18902390649542497,
          0.5112622777612715,
          0.8335006490271182,
          0.8312377391165434,
          0.5053787119937772,
          0.17951968487101091,
          -0.14633934225175502,
          -0.4721983693745213,
          -0.7980573964972876,
          -0.7957944865867128,
          -0.4663148036070269,
          -0.13683512062734096,
          0.1926445623523447,
          0.5221242453320306,
          0.8516039283117165,
          0.8493410184011416,
          0.5162406795645362,
          0.18314034072793078,
          -0.14995999810867447,
          -0.48306033694528,
          -0.8161606757818856,
          -0.8138977658713106,
          -0.47717677117778545,
          -0.14045577648426033,
          0.19626521820926462,
          0.5329862129027898,
          0.869707207596315,
          0.8674442976857403,
          0.5271026471352953,
          0.18676099658485065,
          -0.1535806539655939,
          -0.4939223045160387,
          -0.8342639550664834,
          -0.8320010451559087,
          -0.48803873874854425,
          -0.1440764323411798,
          0.1998858740661844,
          0.5438481804735489,
          0.8878104868809134,
          0.8855475769703385,
          0.5379646147060545,
          0.19038165244177047,
          -0.1572013098225133,
          -0.5047842720867974,
          -0.8523672343510814,
          -0.8501043244405064,
          -0.4989007063193027,
          -0.14769708819809912,
          0.2035065299231044,
          0.5547101480443082,
          0.9059137661655119,
          0.9036508562549371,
          0.5488265822768139,
          0.1940023082986905,
          -0.16082196567943252,
          -0.5156462396575557,
          -0.8704705136356792,
          -0.8682076037251042,
          -0.5097626738900615,
          -0.15131774405501847,
          0.2071271857800242,
          0.5655721156150672,
          0.9240170454501099,
          0.9217541355395352,
          0.5596885498475728,
          0.1976229641556102,
          -0.1644426215363522,
          -0.5265082072283147,
          -0.8885737929202774,
          -0.8863108830097026,
          -0.5206246414608202,
          -0.15493839991193803,
          0.210747841636944,
          0.5764340831858262,
          0.9421203247347084,
          1.1729371356133345,
          1.176557791470254,
          1.180178447327174,
          1.1837991031840938,
          1.1874197590410134,
          1.191040414897933,
          0.9602236040193067,
          0.5872960507565853,
          0.21436849749386383,
          -0.15855905576885743,
          -0.5314866090315788,
          -0.9044141622943004,
          -0.9021512523837256,
          -0.5256030432640845,
          -0.14905483414444334,
          0.22749337497519748,
          0.6040415840948385,
          0.9805897932144798,
          0.978326883303905,
          0.5981580183273443,
          0.2179891533507835,
          -0.16217971162577693,
          -0.5423485766023377,
          -0.9225174415788986,
          -0.9202545316683238,
          -0.5364650108348437,
          -0.1526754900013636,
          0.2311140308321162,
          0.6149035516655963,
          0.9986930724990764,
          0.9964301625885017,
          0.6090199858981021,
          0.22160980920770249,
          -0.16580036748269691,
          -0.5532105441730965,
          -0.940620720863496,
          -0.9383578109529213,
          -0.5473269784056021,
          -0.15629614585828286,
          0.2347346866890362,
          0.6257655192363555,
          1.0167963517836747,
          1.0145334418730998,
          0.6198819534688611,
          0.2252304650646222,
          -0.16942102333961653,
          -0.5640725117438554,
          -0.9587240001480943,
          -0.9564610902375196,
          -0.5581889459763609,
          -0.15991680171520253,
          0.23835534254595575,
          0.6366274868071143,
          1.034899631068273,
          1.0326367211576981,
          0.63074392103962,
          0.22885112092154183,
          -0.17304167919653607,
          -0.5749344793146142,
          -0.9768272794326924,
          -0.9745643695221173,
          -0.5690509135471198,
          -0.16353745757212193,
          0.24197599840287562,
          0.6474894543778735,
          1.0530029103528713,
          1.0507400004422967,
          0.641605888610379,
          0.23247177677846168,
          -0.1766623350534555,
          -0.5857964468853729,
          -0.9949305587172902,
          -0.9926676488067155,
          -0.5799128811178784,
          -0.16715811342904133,
          0.24559665425979546,
          0.6583514219486325,
          1.0711061896374696,
          1.0688432797268947,
          0.6524678561811381,
          0.2360924326353815,
          -0.1802829909103749,
          -0.5966584144561315,
          -1.0130338380018882,
          -1.0107709280913133,
          -0.590774848688637,
          -0.17077876928596072,
          0.24921731011671536,
          0.6692133895193918,
          1.089209468922068,
          1.086946559011493,
          0.6633298237518973,
          0.23971308849230136,
          -0.18390364676729432,
          -0.6075203820268902,
          -1.031137117286486,
          -1.0288742073759112,
          -0.6016368162593959,
          -0.17439942514288032,
          0.2528379659736349,
          0.6800753570901504,
          1.107312748206666,
          1.1050498382960912,
          0.674191791322656,
          0.24333374434922092,
          -0.18752430262421396,
          -0.6183823495976492,
          -1.0492403965710844,
          -1.0469774866605095,
          -0.6124987838301545,
          -0.17802008099979968,
          0.256458621830555,
          0.69093732466091,
          1.1254160274912648,
          1.1231531175806901,
          0.6850537588934156,
          0.2469544002061411,
          -0.19114495848113314,
          -0.6292443171684077,
          -1.0673436758556822,
          -1.0650807659451074,
          -0.6233607514009132,
          -0.18164073685671903,
          0.2600792776874748,
          0.701799292231669,
          1.143519306775863,
          1.1412563968652882,
          0.6959157264641745,
          0.25057505606306085,
          -0.19476561433805256,
          -0.6401062847391663,
          -1.0854469551402801,
          -1.083184045229707,
          -0.6342227189716763,
          -0.18526139271364533,
          0.2636999335443852,
          0.7126612598024159,
          1.1616225860604468,
          1.1593596761498721,
          0.7067776940349216,
          0.25419571191997126,
          -0.19838627019497887,
          -0.6509682523099293,
          -1.1035502344248795,
          -1.1012873245143049,
          -0.6450846865424349,
          -0.1888820485705649,
          0.2673205894013048,
          0.7235232273731749,
          1.1797258653450446,
          1.17746295543447,
          0.7176396616056805,
          0.2578163677768908,
          -0.20200692605189846,
          -0.6618302198806881,
          -1.1216535137094776,
          -1.119390603798903,
          -0.6559466541131938,
          -0.1925027044274846,
          0.2709412452582242,
          0.7343851949439334,
          1.1978291446296427,
          1.1955662347190679,
          0.728501629176439,
          0.26143702363381016,
          -0.20562758190881822,
          -0.672692187451447,
          -1.1397567929940757,
          -1.137493883083501,
          -0.6668086216839526,
          -0.19612336028440425,
          0.2745619011151438,
          0.7452471625146921,
          1.2159324239142406,
          1.2136695140036657,
          0.7393635967471979,
          0.26505767949072984,
          -0.20924823776573787,
          -0.683554155022206,
          -1.1578600722786738,
          -1.155597162368099,
          -0.6776705892547116,
          -0.19974401614132387,
          0.2781825569720635,
          0.7561091300854512,
          1.2340357031988387,
          1.2317727932882638,
          0.7502255643179566,
          0.2686783353476494,
          -0.21286889362265757,
          -0.6944161225929648,
          -1.175963351563272,
          -1.1737004416526973,
          -0.6885325568254704,
          -0.20336467199824362,
          0.28180321282898285,
          0.7669710976562097,
          1.2521389824834368,
          1.249876072572862,
          0.7610875318887154,
          0.2722989912045689,
          -0.2164895494795773,
          -0.7052780901637238,
          -1.1940666308478702,
          -1.1918037209372954,
          -0.6993945243962291,
          -0.20698532785516274,
          0.28542386868590325,
          0.7778330652269697,
          1.2702422617680358,
          1.2679793518574611,
          0.7719494994594752,
          0.27591964706148925,
          -0.2201102053364964,
          -0.7161400577344823,
          -1.2121699101324683,
          -1.2099070002218937,
          -0.7102564919669883,
          -0.21060598371208294,
          0.2890445245428221,
          0.7886950327977275,
          1.288345541052633,
          1.286082631142058,
          0.7828114670302332,
          0.27954030291840815,
          -0.22373086119341634,
          -0.7270020253052413,
          -1.2302731894170662,
          -1.228010279506491,
          -0.721118459537747,
          -0.2142266395690025,
          0.2926651803997417,
          0.7995570003684861,
          1.3064488203372304,
          1.304185910426656,
          0.7936734346009917,
          0.2831609587753277,
          -0.22735151705033602,
          -0.7378639928760002,
          -1.248376468701664,
          -1.2461135587914516,
          -0.7319804271094474,
          -0.2178472954274432,
          0.2962858362545606,
          0.8104189679365648,
          1.3245520996185691,
          1.3222891897079943,
          0.8045354021690704,
          0.2867816146301466,
          -0.23097217290877672,
          -0.7487259604477006,
          -1.2664797479866245,
          -1.5923387751090265,
          -1.5959594309659457,
          -1.5995800868228653,
          -1.6032007426797852,
          -1.6068213985367048,
          -1.6104420543936244,
          -1.284583027273519,
          -0.7595879280244306,
          -0.23459282877534232,
          0.2904022704737456,
          0.815397369722834,
          1.3403924689719224,
          1.3381295590610178,
          0.8095138039544826,
          0.2808980488479473,
          -0.24771770625858763,
          -0.776333461365123,
          -1.3049492164716585,
          -1.3026863065579992,
          -0.7704498955896099,
          -0.2382134846212203,
          0.2940229263471689,
          0.8262593373155585,
          1.3584957482839481,
          1.3562328383737214,
          0.8203757715489696,
          0.28451870472421736,
          -0.2513383621005344,
          -0.7871954289252865,
          -1.3230524957500385,
          -1.3207895858399072,
          -0.7813118631589452,
          -0.24183414047798307,
          0.2976435822029786,
          0.8371213048839409,
          1.3765990275649027
         ]
        },
        {
         "line": {
          "width": 3
         },
         "mode": "lines",
         "name": "Efficient Frontier (bounded)",
         "type": "scatter",
         "x": [
          0.05752079730215189,
          0.057731162390000416,
          0.057802316451492364,
          0.05842809900240402,
          0.05856862731489264,
          0.059594538748762464,
          0.05980109595527091,
          0.06120364366464808,
          0.06147169025544127,
          0.06322162288718713,
          0.06354586518239104,
          0.06561076022009306,
          0.06598557353093211,
          0.06833213567814685,
          0.06875191270169814,
          0.07134774228750025,
          0.07180714267805315,
          0.07462191733140978,
          0.07511602114422153,
          0.07812215701335529,
          0.078646539523366,
          0.08181945331113112,
          0.082370203222834,
          0.08568830210334633,
          0.08626200341083111,
          0.08970651006524161,
          0.0903002034296631,
          0.09385489562259554,
          0.09446603040212458,
          0.09811694843435591,
          0.09874333250372128,
          0.10247848730990558,
          0.10311823883995724,
          0.10692733890870247,
          0.10757884226221084,
          0.11145304798148811,
          0.11211491460554386,
          0.11604662276924559,
          0.11671765721196245,
          0.1207003150842657,
          0.12137948585571509,
          0.1254119374211851,
          0.12609384727913997,
          0.13019666543078912,
          0.13085506375460682,
          0.13504952901579786,
          0.13565820193521952,
          0.13996344109091924,
          0.14049896244414187,
          0.14493219225956677,
          0.14537358699906747,
          0.1499503311795184,
          0.15027878027045416,
          0.15501306153050734,
          0.15521164407249335,
          0.160116153544247,
          0.16016962185539557,
          0.16515045179603527,
          0.1652558681653372,
          0.17015212706595062,
          0.1704288920837196,
          0.17517286209687827,
          0.1756322820759879,
          0.1802110638636405,
          0.1808634172907419,
          0.1852653073730567,
          0.18611995829969735,
          0.1903343146852315,
          0.19139981190536096,
          0.19541693690895187,
          0.19670110084558348,
          0.20051213870627474,
          0.2020221376652858,
          0.20561898492056463,
          0.20736140213735382,
          0.21073662900519147,
          0.21271752170993677,
          0.21586430298381099,
          0.21808925453812694,
          0.22100130871648643,
          0.22347547472620977,
          0.2261470102823337,
          0.22887515946415884,
          0.23130082731885612,
          0.23428737779042605,
          0.23646222918393112,
          0.2397112807537725,
          0.24163072982632905,
          0.24514609278110971,
          0.24680588326790412,
          0.2505911040871272,
          0.25198727961632267,
          0.2560456639857366,
          0.2571745415369349,
          0.26150917498382054,
          0.26236732112537803,
          0.2669810875550375,
          0.2675652971291444,
          0.27246089550603975,
          0.2727681724736375,
          0.277948131859824,
          0.2779756720559191,
          0.28318754077249064,
          0.28344236519142557,
          0.2884035417537285,
          0.288943196360086,
          0.2936250940571141,
          0.29445169656811493,
          0.2988708074911714,
          0.2999934951245687,
          0.3041447820376813,
          0.30557637038935437,
          0.3094455727120067,
          0.31119811162934946,
          0.314771824757723,
          0.31685665014494835,
          0.3201222672847198,
          0.3225500493234302,
          0.3254957073782798,
          0.32827649537254444,
          0.3308910246468154,
          0.334034288700542,
          0.3363071661768673,
          0.3398218359071969,
          0.34174873904863523,
          0.34563764234970495,
          0.34722147780553403,
          0.35148030524746504,
          0.3527239520065187,
          0.3573485072904373,
          0.35825479152447637,
          0.36324101071687964,
          0.36381270269591526,
          0.36915665182764984,
          0.3693964635687217,
          0.3750943359058425,
          0.37516470195108087,
          0.38105303251221245,
          0.38176037652273836,
          0.3870317711285797,
          0.3892111839573335,
          0.39302963712315825,
          0.3974690363790283,
          0.3990457680134716,
          0.4050793500042002,
          0.4065611771302856,
          0.41122345410278993,
          0.4169018181511087,
          0.4182805930411104,
          0.4284801088757169
         ],
         "y": [
          0.016590171309617038,
          -0.006038927796130835,
          0.03921927041536493,
          -0.028668026901878727,
          0.06184836952111279,
          -0.051297126007626606,
          0.08447746862686067,
          -0.07392622511337449,
          0.10710656773260857,
          -0.09655532421912236,
          0.12973566683835644,
          -0.11918442332487025,
          0.15236476594410434,
          -0.1418135224306183,
          0.17499386504985223,
          -0.16444262153636618,
          0.1976229641556001,
          -0.18707172064211408,
          0.22025206326134797,
          -0.20970081974786192,
          0.2428811623670959,
          -0.23232991885360987,
          0.26551026147284373,
          -0.25495901795935766,
          0.28813936057859146,
          -0.27758811706510556,
          0.31076845968433947,
          -0.30021721617085345,
          0.3333975587900874,
          -0.3228463152766014,
          0.3560266578958352,
          -0.34547541438234924,
          0.3786557570015835,
          -0.3681045134880972,
          0.4012848561073313,
          -0.39073361259384515,
          0.4239139552130791,
          -0.413362711699593,
          0.44654305431882707,
          -0.4359918108053409,
          0.4691721534245751,
          -0.45862090991107557,
          0.4918012525303229,
          -0.4812500090168232,
          0.5144303516360708,
          -0.5038791081225708,
          0.5370594507418186,
          -0.5265082072283181,
          0.5596885498475666,
          -0.5491373063340658,
          0.5823176489533143,
          -0.5717664054398132,
          0.6049467480590622,
          -0.5943955045455606,
          0.6275758471648103,
          -0.6170246036513082,
          0.6502049462705582,
          0.6728340453763059,
          -0.6396537027570557,
          0.6954631444820537,
          -0.6622828018628034,
          0.7180922435878015,
          -0.6849119009685508,
          0.7407213426935496,
          -0.7075410000742983,
          0.7633504417992976,
          -0.7301700991800457,
          0.7859795409050454,
          -0.7527991982857934,
          0.808608640010793,
          -0.775428297391541,
          0.831237739116541,
          -0.7980573964972885,
          0.8538668382222888,
          -0.8206864956030361,
          0.876495937328037,
          -0.8433155947087834,
          0.8991250364337847,
          -0.8659446938145311,
          0.9217541355395326,
          -0.8885737929202786,
          0.9443832346452804,
          -0.9112028920260262,
          0.9670123337510286,
          -0.9338319911317737,
          0.9896414328567765,
          -0.9564610902375212,
          1.0122705319625245,
          -0.9790901893432685,
          1.0348996310682723,
          -1.0017192884490165,
          1.0575287301740202,
          -1.0243483875547637,
          1.080157829279768,
          -1.0469774866605113,
          1.102786928385516,
          -1.0696065857662587,
          1.1254160274912641,
          -1.092235684872006,
          1.1480451265970117,
          -1.114864783977754,
          1.1706742257027598,
          1.1933033248085076,
          -1.1374938830835013,
          1.2159324239142555,
          -1.1601229821892487,
          1.2385615230200013,
          -1.1827520812949956,
          1.2611906221257492,
          -1.2053811804007433,
          1.2838197212314968,
          -1.228010279506491,
          1.3064488203372446,
          -1.2506393786122385,
          1.3290779194429925,
          -1.273268477717986,
          1.3517070185487408,
          -1.2958975768237335,
          1.3743361176544882,
          -1.3185266759294811,
          1.3969652167602367,
          -1.3411557750352288,
          1.4195943158659845,
          -1.363784874140976,
          1.442223414971716,
          -1.3864139732467236,
          1.4648525140774635,
          -1.4090430723524712,
          1.487481613183211,
          -1.4316721714582188,
          1.5101107122889583,
          -1.4543012705639664,
          1.5327398113947057,
          -1.476930369669714,
          1.5553689105004533,
          -1.4995594687754616,
          1.577998009606202,
          -1.5221885678812093,
          1.6006271087119484,
          -1.5448176669869564,
          1.6232562078176958,
          -1.5674467660927043,
          1.6458853069198214,
          -1.5900758651984515,
          -1.612704964304199,
          1.6685144060026023,
          -1.635334063413243,
          1.6911435051391914,
          -1.6579631625155082,
          1.713772604240504
         ]
        },
        {
         "line": {
          "dash": "dash",
          "width": 2
         },
         "mode": "lines",
         "name": "CML (Sharpe 4.22)",
         "type": "scatter",
         "x": [
          0,
          0.0022608246950728784,
          0.004521649390145757,
          0.006782474085218635,
          0.009043298780291514,
          0.011304123475364393,
          0.01356494817043727,
          0.015825772865510148,
          0.018086597560583027,
          0.020347422255655907,
          0.022608246950728786,
          0.02486907164580166,
          0.02712989634087454,
          0.02939072103594742,
          0.031651545731020296,
          0.03391237042609318,
          0.036173195121166055,
          0.03843401981623893,
          0.04069484451131181,
          0.04295566920638469,
          0.04521649390145757,
          0.04747731859653045,
          0.04973814329160332,
          0.051998967986676206,
          0.05425979268174908,
          0.05652061737682196,
          0.05878144207189484,
          0.061042266766967716,
          0.06330309146204059,
          0.06556391615711347,
          0.06782474085218636,
          0.07008556554725923,
          0.07234639024233211,
          0.07460721493740499,
          0.07686803963247786,
          0.07912886432755074,
          0.08138968902262363,
          0.0836505137176965,
          0.08591133841276938,
          0.08817216310784226,
          0.09043298780291514,
          0.09269381249798801,
          0.0949546371930609,
          0.09721546188813378,
          0.09947628658320665,
          0.10173711127827953,
          0.10399793597335241,
          0.10625876066842528,
          0.10851958536349816,
          0.11078041005857105,
          0.11304123475364392,
          0.1153020594487168,
          0.11756288414378968,
          0.11982370883886255,
          0.12208453353393543,
          0.12434535822900832,
          0.12660618292408118,
          0.12886700761915407,
          0.13112783231422695,
          0.13338865700929983,
          0.13564948170437272,
          0.13791030639944557,
          0.14017113109451845,
          0.14243195578959134,
          0.14469278048466422,
          0.1469536051797371,
          0.14921442987480998,
          0.15147525456988287,
          0.15373607926495572,
          0.1559969039600286,
          0.1582577286551015,
          0.16051855335017437,
          0.16277937804524725,
          0.16504020274032014,
          0.167301027435393,
          0.16956185213046587,
          0.17182267682553876,
          0.17408350152061164,
          0.17634432621568452,
          0.1786051509107574,
          0.1808659756058303,
          0.18312680030090314,
          0.18538762499597602,
          0.1876484496910489,
          0.1899092743861218,
          0.19217009908119467,
          0.19443092377626756,
          0.1966917484713404,
          0.1989525731664133,
          0.20121339786148618,
          0.20347422255655906,
          0.20573504725163194,
          0.20799587194670482,
          0.21025669664177768,
          0.21251752133685056,
          0.21477834603192344,
          0.21703917072699633,
          0.2192999954220692,
          0.2215608201171421,
          0.22382164481221498,
          0.22608246950728783,
          0.2283432942023607,
          0.2306041188974336,
          0.23286494359250648,
          0.23512576828757936,
          0.23738659298265224,
          0.2396474176777251,
          0.24190824237279798,
          0.24416906706787087,
          0.24642989176294375,
          0.24869071645801663,
          0.2509515411530895,
          0.25321236584816237,
          0.25547319054323525,
          0.25773401523830813,
          0.259994839933381,
          0.2622556646284539,
          0.2645164893235268,
          0.26677731401859966,
          0.26903813871367255,
          0.27129896340874543,
          0.2735597881038183,
          0.27582061279889114,
          0.278081437493964,
          0.2803422621890369,
          0.2826030868841098,
          0.28486391157918267,
          0.28712473627425555,
          0.28938556096932844,
          0.2916463856644013,
          0.2939072103594742,
          0.2961680350545471,
          0.29842885974961997,
          0.30068968444469285,
          0.30295050913976573,
          0.30521133383483856,
          0.30747215852991144,
          0.3097329832249843,
          0.3119938079200572,
          0.3142546326151301,
          0.316515457310203,
          0.31877628200527586,
          0.32103710670034874,
          0.3232979313954216,
          0.3255587560904945,
          0.3278195807855674,
          0.33008040548064027,
          0.33234123017571315,
          0.334602054870786,
          0.33686287956585886,
          0.33912370426093175,
          0.34138452895600463,
          0.3436453536510775,
          0.3459061783461504,
          0.3481670030412233,
          0.35042782773629616,
          0.35268865243136904,
          0.3549494771264419,
          0.3572103018215148,
          0.3594711265165877,
          0.3617319512116606,
          0.3639927759067334,
          0.3662536006018063,
          0.36851442529687917,
          0.37077524999195205,
          0.37303607468702493,
          0.3752968993820978,
          0.3775577240771707,
          0.3798185487722436,
          0.38207937346731646,
          0.38434019816238935,
          0.38660102285746223,
          0.3888618475525351,
          0.39112267224760794,
          0.3933834969426808,
          0.3956443216377537,
          0.3979051463328266,
          0.40016597102789947,
          0.40242679572297235,
          0.40468762041804524,
          0.4069484451131181,
          0.409209269808191,
          0.4114700945032639,
          0.41373091919833677,
          0.41599174389340965,
          0.41825256858848253,
          0.42051339328355536,
          0.42277421797862824,
          0.4250350426737011,
          0.427295867368774,
          0.4295566920638469,
          0.4318175167589198,
          0.43407834145399266,
          0.43633916614906554,
          0.4385999908441384,
          0.4408608155392113,
          0.4431216402342842,
          0.44538246492935707,
          0.44764328962442995,
          0.4499041143195028
         ],
         "y": [
          0,
          0.009546266912169435,
          0.01909253382433887,
          0.0286388007365083,
          0.03818506764867774,
          0.047731334560847175,
          0.0572776014730166,
          0.06682386838518603,
          0.07637013529735548,
          0.08591640220952491,
          0.09546266912169435,
          0.10500893603386377,
          0.1145552029460332,
          0.12410146985820264,
          0.13364773677037206,
          0.1431940036825415,
          0.15274027059471096,
          0.16228653750688038,
          0.17183280441904983,
          0.18137907133121925,
          0.1909253382433887,
          0.20047160515555812,
          0.21001787206772754,
          0.219564138979897,
          0.2291104058920664,
          0.23865667280423583,
          0.24820293971640528,
          0.2577492066285747,
          0.2672954735407441,
          0.2768417404529136,
          0.286388007365083,
          0.29593427427725244,
          0.3054805411894219,
          0.31502680810159134,
          0.32457307501376076,
          0.3341193419259302,
          0.34366560883809966,
          0.353211875750269,
          0.3627581426624385,
          0.3723044095746079,
          0.3818506764867774,
          0.39139694339894676,
          0.40094321031111624,
          0.4104894772232857,
          0.4200357441354551,
          0.42958201104762456,
          0.439128277959794,
          0.4486745448719634,
          0.4582208117841328,
          0.4677670786963023,
          0.47731334560847166,
          0.48685961252064114,
          0.49640587943281056,
          0.50595214634498,
          0.5154984132571494,
          0.5250446801693189,
          0.5345909470814882,
          0.5441372139936578,
          0.5536834809058272,
          0.5632297478179966,
          0.572776014730166,
          0.5823222816423355,
          0.5918685485545049,
          0.6014148154666743,
          0.6109610823788438,
          0.6205073492910133,
          0.6300536162031827,
          0.6395998831153521,
          0.6491461500275215,
          0.6586924169396909,
          0.6682386838518604,
          0.6777849507640298,
          0.6873312176761993,
          0.6968774845883687,
          0.706423751500538,
          0.7159700184127076,
          0.725516285324877,
          0.7350625522370464,
          0.7446088191492158,
          0.7541550860613854,
          0.7637013529735548,
          0.7732476198857241,
          0.7827938867978935,
          0.792340153710063,
          0.8018864206222325,
          0.8114326875344019,
          0.8209789544465714,
          0.8305252213587407,
          0.8400714882709102,
          0.8496177551830796,
          0.8591640220952491,
          0.8687102890074185,
          0.878256555919588,
          0.8878028228317573,
          0.8973490897439268,
          0.9068953566560962,
          0.9164416235682656,
          0.9259878904804352,
          0.9355341573926046,
          0.945080424304774,
          0.9546266912169433,
          0.9641729581291129,
          0.9737192250412823,
          0.9832654919534517,
          0.9928117588656211,
          1.0023580257777907,
          1.01190429268996,
          1.0214505596021295,
          1.0309968265142988,
          1.0405430934264683,
          1.0500893603386379,
          1.0596356272508072,
          1.0691818941629765,
          1.078728161075146,
          1.0882744279873156,
          1.0978206948994849,
          1.1073669618116544,
          1.116913228723824,
          1.1264594956359932,
          1.1360057625481628,
          1.145552029460332,
          1.1550982963725016,
          1.164644563284671,
          1.1741908301968402,
          1.1837370971090098,
          1.1932833640211793,
          1.2028296309333486,
          1.2123758978455181,
          1.2219221647576877,
          1.231468431669857,
          1.2410146985820265,
          1.2505609654941958,
          1.2601072324063654,
          1.2696534993185349,
          1.2791997662307042,
          1.2887460331428735,
          1.298292300055043,
          1.3078385669672123,
          1.3173848338793819,
          1.3269311007915514,
          1.3364773677037207,
          1.3460236346158903,
          1.3555699015280596,
          1.365116168440229,
          1.3746624353523986,
          1.384208702264568,
          1.3937549691767375,
          1.403301236088907,
          1.412847503001076,
          1.4223937699132456,
          1.4319400368254152,
          1.4414863037375845,
          1.451032570649754,
          1.4605788375619233,
          1.4701251044740928,
          1.4796713713862624,
          1.4892176382984317,
          1.4987639052106012,
          1.5083101721227707,
          1.51785643903494,
          1.5274027059471096,
          1.536948972859279,
          1.5464952397714482,
          1.5560415066836177,
          1.565587773595787,
          1.5751340405079566,
          1.584680307420126,
          1.5942265743322954,
          1.603772841244465,
          1.6133191081566345,
          1.6228653750688038,
          1.6324116419809733,
          1.6419579088931429,
          1.651504175805312,
          1.6610504427174815,
          1.6705967096296508,
          1.6801429765418203,
          1.6896892434539899,
          1.6992355103661592,
          1.7087817772783287,
          1.7183280441904982,
          1.7278743111026675,
          1.737420578014837,
          1.7469668449270066,
          1.756513111839176,
          1.7660593787513454,
          1.7756056456635145,
          1.785151912575684,
          1.7946981794878536,
          1.804244446400023,
          1.8137907133121924,
          1.823336980224362,
          1.8328832471365313,
          1.8424295140487008,
          1.8519757809608703,
          1.8615220478730397,
          1.8710683147852092,
          1.8806145816973785,
          1.890160848609548,
          1.8997071155217173
         ]
        },
        {
         "marker": {
          "size": 14,
          "symbol": "star"
         },
         "mode": "markers+text",
         "name": "Tangent",
         "text": [
          "Tangent"
         ],
         "textposition": "top center",
         "type": "scatter",
         "x": [
          0.3201222672847198
         ],
         "y": [
          1.3517070185487408
         ]
        },
        {
         "marker": {
          "size": 12,
          "symbol": "diamond"
         },
         "mode": "markers+text",
         "name": "MDP/HJB",
         "text": [
          "MDP/HJB"
         ],
         "textposition": "bottom center",
         "type": "scatter",
         "x": [
          0.10991768975996921
         ],
         "y": [
          0.3832701681029793
         ]
        },
        {
         "hovertemplate": "%{text}<br>σ=%{x:.2f}, μ=%{y:.2f}<extra></extra>",
         "marker": {
          "size": 9
         },
         "mode": "markers",
         "name": "Assets",
         "text": [
          "XAUUSD",
          "XAGUSD",
          "ZW1!",
          "AOT",
          "BRN1!",
          "S501!"
         ],
         "type": "scatter",
         "x": [
          0.07726999436198904,
          0.12134113621686564,
          0.1388687272755481,
          0.30264225245887005,
          0.19218672162591854,
          0.1444677078661596
         ],
         "y": [
          -0.03267223404478338,
          0.08848167576977577,
          -0.17928838947818276,
          0.953858587503038,
          -0.2185560859617133,
          0.273587865527976
         ]
        }
       ],
       "layout": {
        "legend": {
         "orientation": "h",
         "x": 0,
         "y": 1.06
        },
        "margin": {
         "b": 60,
         "l": 60,
         "r": 40,
         "t": 70
        },
        "template": {
         "data": {
          "bar": [
           {
            "error_x": {
             "color": "#2a3f5f"
            },
            "error_y": {
             "color": "#2a3f5f"
            },
            "marker": {
             "line": {
              "color": "white",
              "width": 0.5
             },
             "pattern": {
              "fillmode": "overlay",
              "size": 10,
              "solidity": 0.2
             }
            },
            "type": "bar"
           }
          ],
          "barpolar": [
           {
            "marker": {
             "line": {
              "color": "white",
              "width": 0.5
             },
             "pattern": {
              "fillmode": "overlay",
              "size": 10,
              "solidity": 0.2
             }
            },
            "type": "barpolar"
           }
          ],
          "carpet": [
           {
            "aaxis": {
             "endlinecolor": "#2a3f5f",
             "gridcolor": "#C8D4E3",
             "linecolor": "#C8D4E3",
             "minorgridcolor": "#C8D4E3",
             "startlinecolor": "#2a3f5f"
            },
            "baxis": {
             "endlinecolor": "#2a3f5f",
             "gridcolor": "#C8D4E3",
             "linecolor": "#C8D4E3",
             "minorgridcolor": "#C8D4E3",
             "startlinecolor": "#2a3f5f"
            },
            "type": "carpet"
           }
          ],
          "choropleth": [
           {
            "colorbar": {
             "outlinewidth": 0,
             "ticks": ""
            },
            "type": "choropleth"
           }
          ],
          "contour": [
           {
            "colorbar": {
             "outlinewidth": 0,
             "ticks": ""
            },
            "colorscale": [
             [
              0,
              "#0d0887"
             ],
             [
              0.1111111111111111,
              "#46039f"
             ],
             [
              0.2222222222222222,
              "#7201a8"
             ],
             [
              0.3333333333333333,
              "#9c179e"
             ],
             [
              0.4444444444444444,
              "#bd3786"
             ],
             [
              0.5555555555555556,
              "#d8576b"
             ],
             [
              0.6666666666666666,
              "#ed7953"
             ],
             [
              0.7777777777777778,
              "#fb9f3a"
             ],
             [
              0.8888888888888888,
              "#fdca26"
             ],
             [
              1,
              "#f0f921"
             ]
            ],
            "type": "contour"
           }
          ],
          "contourcarpet": [
           {
            "colorbar": {
             "outlinewidth": 0,
             "ticks": ""
            },
            "type": "contourcarpet"
           }
          ],
          "heatmap": [
           {
            "colorbar": {
             "outlinewidth": 0,
             "ticks": ""
            },
            "colorscale": [
             [
              0,
              "#0d0887"
             ],
             [
              0.1111111111111111,
              "#46039f"
             ],
             [
              0.2222222222222222,
              "#7201a8"
             ],
             [
              0.3333333333333333,
              "#9c179e"
             ],
             [
              0.4444444444444444,
              "#bd3786"
             ],
             [
              0.5555555555555556,
              "#d8576b"
             ],
             [
              0.6666666666666666,
              "#ed7953"
             ],
             [
              0.7777777777777778,
              "#fb9f3a"
             ],
             [
              0.8888888888888888,
              "#fdca26"
             ],
             [
              1,
              "#f0f921"
             ]
            ],
            "type": "heatmap"
           }
          ],
          "heatmapgl": [
           {
            "colorbar": {
             "outlinewidth": 0,
             "ticks": ""
            },
            "colorscale": [
             [
              0,
              "#0d0887"
             ],
             [
              0.1111111111111111,
              "#46039f"
             ],
             [
              0.2222222222222222,
              "#7201a8"
             ],
             [
              0.3333333333333333,
              "#9c179e"
             ],
             [
              0.4444444444444444,
              "#bd3786"
             ],
             [
              0.5555555555555556,
              "#d8576b"
             ],
             [
              0.6666666666666666,
              "#ed7953"
             ],
             [
              0.7777777777777778,
              "#fb9f3a"
             ],
             [
              0.8888888888888888,
              "#fdca26"
             ],
             [
              1,
              "#f0f921"
             ]
            ],
            "type": "heatmapgl"
           }
          ],
          "histogram": [
           {
            "marker": {
             "pattern": {
              "fillmode": "overlay",
              "size": 10,
              "solidity": 0.2
             }
            },
            "type": "histogram"
           }
          ],
          "histogram2d": [
           {
            "colorbar": {
             "outlinewidth": 0,
             "ticks": ""
            },
            "colorscale": [
             [
              0,
              "#0d0887"
             ],
             [
              0.1111111111111111,
              "#46039f"
             ],
             [
              0.2222222222222222,
              "#7201a8"
             ],
             [
              0.3333333333333333,
              "#9c179e"
             ],
             [
              0.4444444444444444,
              "#bd3786"
             ],
             [
              0.5555555555555556,
              "#d8576b"
             ],
             [
              0.6666666666666666,
              "#ed7953"
             ],
             [
              0.7777777777777778,
              "#fb9f3a"
             ],
             [
              0.8888888888888888,
              "#fdca26"
             ],
             [
              1,
              "#f0f921"
             ]
            ],
            "type": "histogram2d"
           }
          ],
          "histogram2dcontour": [
           {
            "colorbar": {
             "outlinewidth": 0,
             "ticks": ""
            },
            "colorscale": [
             [
              0,
              "#0d0887"
             ],
             [
              0.1111111111111111,
              "#46039f"
             ],
             [
              0.2222222222222222,
              "#7201a8"
             ],
             [
              0.3333333333333333,
              "#9c179e"
             ],
             [
              0.4444444444444444,
              "#bd3786"
             ],
             [
              0.5555555555555556,
              "#d8576b"
             ],
             [
              0.6666666666666666,
              "#ed7953"
             ],
             [
              0.7777777777777778,
              "#fb9f3a"
             ],
             [
              0.8888888888888888,
              "#fdca26"
             ],
             [
              1,
              "#f0f921"
             ]
            ],
            "type": "histogram2dcontour"
           }
          ],
          "mesh3d": [
           {
            "colorbar": {
             "outlinewidth": 0,
             "ticks": ""
            },
            "type": "mesh3d"
           }
          ],
          "parcoords": [
           {
            "line": {
             "colorbar": {
              "outlinewidth": 0,
              "ticks": ""
             }
            },
            "type": "parcoords"
           }
          ],
          "pie": [
           {
            "automargin": true,
            "type": "pie"
           }
          ],
          "scatter": [
           {
            "fillpattern": {
             "fillmode": "overlay",
             "size": 10,
             "solidity": 0.2
            },
            "type": "scatter"
           }
          ],
          "scatter3d": [
           {
            "line": {
             "colorbar": {
              "outlinewidth": 0,
              "ticks": ""
             }
            },
            "marker": {
             "colorbar": {
              "outlinewidth": 0,
              "ticks": ""
             }
            },
            "type": "scatter3d"
           }
          ],
          "scattercarpet": [
           {
            "marker": {
             "colorbar": {
              "outlinewidth": 0,
              "ticks": ""
             }
            },
            "type": "scattercarpet"
           }
          ],
          "scattergeo": [
           {
            "marker": {
             "colorbar": {
              "outlinewidth": 0,
              "ticks": ""
             }
            },
            "type": "scattergeo"
           }
          ],
          "scattergl": [
           {
            "marker": {
             "colorbar": {
              "outlinewidth": 0,
              "ticks": ""
             }
            },
            "type": "scattergl"
           }
          ],
          "scattermapbox": [
           {
            "marker": {
             "colorbar": {
              "outlinewidth": 0,
              "ticks": ""
             }
            },
            "type": "scattermapbox"
           }
          ],
          "scatterpolar": [
           {
            "marker": {
             "colorbar": {
              "outlinewidth": 0,
              "ticks": ""
             }
            },
            "type": "scatterpolar"
           }
          ],
          "scatterpolargl": [
           {
            "marker": {
             "colorbar": {
              "outlinewidth": 0,
              "ticks": ""
             }
            },
            "type": "scatterpolargl"
           }
          ],
          "scatterternary": [
           {
            "marker": {
             "colorbar": {
              "outlinewidth": 0,
              "ticks": ""
             }
            },
            "type": "scatterternary"
           }
          ],
          "surface": [
           {
            "colorbar": {
             "outlinewidth": 0,
             "ticks": ""
            },
            "colorscale": [
             [
              0,
              "#0d0887"
             ],
             [
              0.1111111111111111,
              "#46039f"
             ],
             [
              0.2222222222222222,
              "#7201a8"
             ],
             [
              0.3333333333333333,
              "#9c179e"
             ],
             [
              0.4444444444444444,
              "#bd3786"
             ],
             [
              0.5555555555555556,
              "#d8576b"
             ],
             [
              0.6666666666666666,
              "#ed7953"
             ],
             [
              0.7777777777777778,
              "#fb9f3a"
             ],
             [
              0.8888888888888888,
              "#fdca26"
             ],
             [
              1,
              "#f0f921"
             ]
            ],
            "type": "surface"
           }
          ],
          "table": [
           {
            "cells": {
             "fill": {
              "color": "#EBF0F8"
             },
             "line": {
              "color": "white"
             }
            },
            "header": {
             "fill": {
              "color": "#C8D4E3"
             },
             "line": {
              "color": "white"
             }
            },
            "type": "table"
           }
          ]
         },
         "layout": {
          "annotationdefaults": {
           "arrowcolor": "#2a3f5f",
           "arrowhead": 0,
           "arrowwidth": 1
          },
          "autotypenumbers": "strict",
          "coloraxis": {
           "colorbar": {
            "outlinewidth": 0,
            "ticks": ""
           }
          },
          "colorscale": {
           "diverging": [
            [
             0,
             "#8e0152"
            ],
            [
             0.1,
             "#c51b7d"
            ],
            [
             0.2,
             "#de77ae"
            ],
            [
             0.3,
             "#f1b6da"
            ],
            [
             0.4,
             "#fde0ef"
            ],
            [
             0.5,
             "#f7f7f7"
            ],
            [
             0.6,
             "#e6f5d0"
            ],
            [
             0.7,
             "#b8e186"
            ],
            [
             0.8,
             "#7fbc41"
            ],
            [
             0.9,
             "#4d9221"
            ],
            [
             1,
             "#276419"
            ]
           ],
           "sequential": [
            [
             0,
             "#0d0887"
            ],
            [
             0.1111111111111111,
             "#46039f"
            ],
            [
             0.2222222222222222,
             "#7201a8"
            ],
            [
             0.3333333333333333,
             "#9c179e"
            ],
            [
             0.4444444444444444,
             "#bd3786"
            ],
            [
             0.5555555555555556,
             "#d8576b"
            ],
            [
             0.6666666666666666,
             "#ed7953"
            ],
            [
             0.7777777777777778,
             "#fb9f3a"
            ],
            [
             0.8888888888888888,
             "#fdca26"
            ],
            [
             1,
             "#f0f921"
            ]
           ],
           "sequentialminus": [
            [
             0,
             "#0d0887"
            ],
            [
             0.1111111111111111,
             "#46039f"
            ],
            [
             0.2222222222222222,
             "#7201a8"
            ],
            [
             0.3333333333333333,
             "#9c179e"
            ],
            [
             0.4444444444444444,
             "#bd3786"
            ],
            [
             0.5555555555555556,
             "#d8576b"
            ],
            [
             0.6666666666666666,
             "#ed7953"
            ],
            [
             0.7777777777777778,
             "#fb9f3a"
            ],
            [
             0.8888888888888888,
             "#fdca26"
            ],
            [
             1,
             "#f0f921"
            ]
           ]
          },
          "colorway": [
           "#636efa",
           "#EF553B",
           "#00cc96",
           "#ab63fa",
           "#FFA15A",
           "#19d3f3",
           "#FF6692",
           "#B6E880",
           "#FF97FF",
           "#FECB52"
          ],
          "font": {
           "color": "#2a3f5f"
          },
          "geo": {
           "bgcolor": "white",
           "lakecolor": "white",
           "landcolor": "white",
           "showlakes": true,
           "showland": true,
           "subunitcolor": "#C8D4E3"
          },
          "hoverlabel": {
           "align": "left"
          },
          "hovermode": "closest",
          "mapbox": {
           "style": "light"
          },
          "paper_bgcolor": "white",
          "plot_bgcolor": "white",
          "polar": {
           "angularaxis": {
            "gridcolor": "#EBF0F8",
            "linecolor": "#EBF0F8",
            "ticks": ""
           },
           "bgcolor": "white",
           "radialaxis": {
            "gridcolor": "#EBF0F8",
            "linecolor": "#EBF0F8",
            "ticks": ""
           }
          },
          "scene": {
           "xaxis": {
            "backgroundcolor": "white",
            "gridcolor": "#DFE8F3",
            "gridwidth": 2,
            "linecolor": "#EBF0F8",
            "showbackground": true,
            "ticks": "",
            "zerolinecolor": "#EBF0F8"
           },
           "yaxis": {
            "backgroundcolor": "white",
            "gridcolor": "#DFE8F3",
            "gridwidth": 2,
            "linecolor": "#EBF0F8",
            "showbackground": true,
            "ticks": "",
            "zerolinecolor": "#EBF0F8"
           },
           "zaxis": {
            "backgroundcolor": "white",
            "gridcolor": "#DFE8F3",
            "gridwidth": 2,
            "linecolor": "#EBF0F8",
            "showbackground": true,
            "ticks": "",
            "zerolinecolor": "#EBF0F8"
           }
          },
          "shapedefaults": {
           "line": {
            "color": "#2a3f5f"
           }
          },
          "ternary": {
           "aaxis": {
            "gridcolor": "#DFE8F3",
            "linecolor": "#A2B1C6",
            "ticks": ""
           },
           "baxis": {
            "gridcolor": "#DFE8F3",
            "linecolor": "#A2B1C6",
            "ticks": ""
           },
           "bgcolor": "white",
           "caxis": {
            "gridcolor": "#DFE8F3",
            "linecolor": "#A2B1C6",
            "ticks": ""
           }
          },
          "title": {
           "x": 0.05
          },
          "xaxis": {
           "automargin": true,
           "gridcolor": "#EBF0F8",
           "linecolor": "#EBF0F8",
           "ticks": "",
           "title": {
            "standoff": 15
           },
           "zerolinecolor": "#EBF0F8",
           "zerolinewidth": 2
          },
          "yaxis": {
           "automargin": true,
           "gridcolor": "#EBF0F8",
           "linecolor": "#EBF0F8",
           "ticks": "",
           "title": {
            "standoff": 15
           },
           "zerolinecolor": "#EBF0F8",
           "zerolinewidth": 2
          }
         }
        },
        "title": {
         "text": "MPT vs MDP — Deterministic Feasible Region & Frontier"
        },
        "xaxis": {
         "title": {
          "text": "Volatility σ (annualized)"
         }
        },
        "yaxis": {
         "title": {
          "text": "Mean Return μ (annualized)"
         }
        }
       }
      }
     },
     "metadata": {},
     "output_type": "display_data"
    }
   ],
   "source": [
    "if __name__ == \"__main__\":\n",
    "    tickers = [\"XAUUSD\", \"XAGUSD\", \"ZW1!\", \"AOT\", \"BRN1!\", \"S501!\"]\n",
    "    model = LSTMRSITradingModel(\n",
    "        tickers=tickers,\n",
    "        start_date=\"2025-01-01\",\n",
    "        end_date=\"2025-08-11\",\n",
    "        sequence_length=38,\n",
    "        hidden_layer_size=492,\n",
    "        learning_rate=0.0021,\n",
    "        epochs=3000,\n",
    "        lstm_layers=1,\n",
    "        dropout=0.0,\n",
    "        tx_cost_bps=10.0,\n",
    "        long_threshold=0.0,\n",
    "        short_threshold=0.0,\n",
    "        train_frac=0.7,\n",
    "        seed=123,\n",
    "        interval=Interval.in_4_hour,\n",
    "        n_bars=300,\n",
    "    )\n",
    "\n",
    "    model.fetch_data()\n",
    "\n",
    "    an = PortfolioAnalytics(rf_per_period=0.0, ann_factor=1560.0)   # Adjust ann_factor depend of timeframe data u use like if 1 day timeframe annual is 252\n",
    "\n",
    "    px, R = an.build_prices_and_returns(model.data, col=\"close\", kind=\"simple\")\n",
    "\n",
    "   \n",
    "    st = an.stats(R)\n",
    "    w_tan = an.tangent_weights(st[\"mu\"], st[\"cov\"], long_only_fallback=True)\n",
    "    eq_tan = an.equity_from_static_weights(R, w_tan, initial_value=model.initial_balance)\n",
    "\n",
    "    \n",
    "    dyn = an.hjb_dynamic(R,lam=0.94,gamma_mode=\"implied_equal\",leverage_cap=1.0,long_only=True,initial_value=model.initial_balance,)\n",
    "    W_dyn = dyn[\"weights\"]\n",
    "    eq_dyn = dyn[\"equity\"]\n",
    "\n",
    "    \n",
    "    print(\"Tangent weights:\", dict(zip(R.columns, w_tan)))\n",
    "    print(\"Final equity (tangent):\", float(eq_tan.iloc[-1]))\n",
    "    print(\"Final equity (dynamic):\", float(eq_dyn.iloc[-1]))\n",
    "\n",
    "    print(\"[before tuning]\", model.current_params())\n",
    "    try:\n",
    "        study = model.tune_hyperparameters(asset=\"XAUUSD\", n_trials=10, val_frac=0.2, risk_aversion=4)  #Optuna Tune Parameters   Revise n_trials what you want \n",
    "    except Exception as e:\n",
    "        print(\"Tuning failed:\", e)\n",
    "\n",
    "    print(\"[after tuning]\", model.current_params())\n",
    "    model.run(tune_each_asset=True, n_trials_each=10, val_frac=0.2, risk_aversion=4) #after get params Numerical Method Revise n_trials what you want \n",
    "    an.plot_mpt_mdp_deterministic(R=R,eq_tan=eq_tan,eq_dyn=eq_dyn,sign_policy=None,per_asset_upper=1.0,n_frontier=150)"
   ]
  },
  {
   "cell_type": "code",
   "execution_count": null,
   "id": "27e9c29f",
   "metadata": {},
   "outputs": [],
   "source": []
  },
  {
   "cell_type": "code",
   "execution_count": null,
   "id": "1d286048",
   "metadata": {},
   "outputs": [],
   "source": []
  },
  {
   "cell_type": "code",
   "execution_count": 11,
   "id": "96476763",
   "metadata": {},
   "outputs": [
    {
     "name": "stdout",
     "output_type": "stream",
     "text": [
      "Tangent weights: {'XAUUSD': np.float64(0.0), 'XAGUSD': np.float64(0.337440855573462), 'ZW1!': np.float64(0.0), 'AOT': np.float64(0.2931207495162222), 'BRN1!': np.float64(0.0), 'S501!': np.float64(0.36943839491031594)}\n",
      "Final equity (tangent): 1182886.2018608358\n",
      "Final equity (dynamic): 1169349.6188215152\n"
     ]
    }
   ],
   "source": [
    "print(\"Tangent weights:\", dict(zip(R.columns, w_tan)))\n",
    "print(\"Final equity (tangent):\", float(eq_tan.iloc[-1]))\n",
    "print(\"Final equity (dynamic):\", float(eq_dyn.iloc[-1]))"
   ]
  },
  {
   "cell_type": "code",
   "execution_count": null,
   "id": "800b475f",
   "metadata": {},
   "outputs": [],
   "source": []
  },
  {
   "cell_type": "code",
   "execution_count": null,
   "id": "87f2d987",
   "metadata": {},
   "outputs": [],
   "source": []
  },
  {
   "cell_type": "code",
   "execution_count": null,
   "id": "ff5b3253",
   "metadata": {},
   "outputs": [],
   "source": []
  },
  {
   "cell_type": "code",
   "execution_count": null,
   "id": "544620ba",
   "metadata": {},
   "outputs": [],
   "source": []
  },
  {
   "cell_type": "code",
   "execution_count": null,
   "id": "5d7a183d",
   "metadata": {},
   "outputs": [],
   "source": []
  },
  {
   "cell_type": "code",
   "execution_count": null,
   "id": "21e92140",
   "metadata": {},
   "outputs": [],
   "source": []
  },
  {
   "cell_type": "code",
   "execution_count": null,
   "id": "327b4b25",
   "metadata": {},
   "outputs": [],
   "source": []
  },
  {
   "cell_type": "code",
   "execution_count": null,
   "id": "ab88318e",
   "metadata": {},
   "outputs": [],
   "source": []
  },
  {
   "cell_type": "code",
   "execution_count": null,
   "id": "94ba49d0",
   "metadata": {},
   "outputs": [],
   "source": []
  },
  {
   "cell_type": "code",
   "execution_count": null,
   "id": "c5179431",
   "metadata": {},
   "outputs": [],
   "source": []
  },
  {
   "cell_type": "code",
   "execution_count": null,
   "id": "85441fa4",
   "metadata": {},
   "outputs": [],
   "source": []
  },
  {
   "cell_type": "code",
   "execution_count": null,
   "id": "c392b605",
   "metadata": {},
   "outputs": [],
   "source": []
  },
  {
   "cell_type": "code",
   "execution_count": null,
   "id": "9b4abb62",
   "metadata": {},
   "outputs": [],
   "source": []
  },
  {
   "cell_type": "code",
   "execution_count": null,
   "id": "72ead032",
   "metadata": {},
   "outputs": [],
   "source": []
  }
 ],
 "metadata": {
  "kernelspec": {
   "display_name": "Python 3",
   "language": "python",
   "name": "python3"
  },
  "language_info": {
   "codemirror_mode": {
    "name": "ipython",
    "version": 3
   },
   "file_extension": ".py",
   "mimetype": "text/x-python",
   "name": "python",
   "nbconvert_exporter": "python",
   "pygments_lexer": "ipython3",
   "version": "3.12.4"
  }
 },
 "nbformat": 4,
 "nbformat_minor": 5
}
